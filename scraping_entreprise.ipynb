{
 "cells": [
  {
   "cell_type": "code",
   "execution_count": 1,
   "metadata": {},
   "outputs": [],
   "source": [
    "import urllib\n",
    "import requests as req\n",
    "import pandas as pd\n",
    "import re\n",
    "from bs4 import BeautifulSoup"
   ]
  },
  {
   "cell_type": "code",
   "execution_count": 2,
   "metadata": {},
   "outputs": [],
   "source": [
    "req = req.get('https://www.entreprises.gouv.fr/fr/faq?page=0')\n",
    "\n",
    "html = req.text\n",
    "soup= BeautifulSoup(html,'html.parser')"
   ]
  },
  {
   "cell_type": "markdown",
   "metadata": {},
   "source": [
    "## QUESTIONS"
   ]
  },
  {
   "cell_type": "code",
   "execution_count": 3,
   "metadata": {},
   "outputs": [],
   "source": [
    "#la partie qui m'interesse:\n",
    "#<div class=\"views-row\">"
   ]
  },
  {
   "cell_type": "code",
   "execution_count": 4,
   "metadata": {},
   "outputs": [
    {
     "data": {
      "text/plain": [
       "['\\n\\nJe suis une PME. Suis-je éligible au plafonnement de l’Indice des Loyers Commerciaux (ILC) ?Dans le cadre des mesures mises en place pour soutenir le pouvoir d’achat des français, le Gouvernement a fait voter une mesure visant à limiter, pour toutes les PME, la variation de l’Indice des Loyers Commerciaux (ILC) à 3,5% sur une période d’un an.\\nSi vous avez des questions sur votre éligibilité à ce dispositif et sur sa mise en œuvre, la Direction générale des Entreprises met à votre disposition une FAQ spécifique.\\nTélécharger la FAQ\\nTélécharger le tableau d\\'aide au calcul\\n\\n\\n\\nQuelle est la différence entre un laboratoire accrédité et un laboratoire notifié ?\\nUn organisme (ou laboratoire) accrédité est un organisme qui a obtenu un certificat d\\'accréditation qui atteste de sa compétence pour une activité d\\'évaluation donnée. En France, c\\'est le COFRAC qui délivre ces certificats. L\\'accréditation offre des garanties sur l\\'organisme car ses compétences et ses méthodes de travail sont surveillées régulièrement par un tiers indépendant, le COFRAC. L\\'accréditation est en général volontaire mais peut être dans certains cas une exigence réglementaire.\\nUn organisme (ou laboratoire) notifié est un organisme qui est désigné, à sa demande, par les pouvoirs publics d\\'un Etat membre auprès de la Commission européenne pour réaliser des procédures d\\'évaluation de la conformité de produits. Cette notification permet à l\\'organisme concerné d\\'effectuer des évaluations de conformité à la réglementation européenne, en général à des directives dites «\\xa0nouvelle approche\\xa0». Les produits évalués par un organisme notifié peuvent être mis sur le marché dans toute l\\'Union européenne.\\nLes pouvoirs publics français imposent généralement aux organismes qu\\'ils notifient à la Commission européenne d\\'être accrédités pour l\\'activité considérée. C\\'est la façon de vérifier qu\\'ils remplissent bien les conditions pour être notifiés.\\nLa liste des organismes notifiés par les Etats membres est disponible sur le site \" NANDO \" de la Commission européenne.\\nVoir aussi les Directives « Nouvelle approche » prévoyant un marquage CE.\\n\\n\\n\\n\\nMon produit relève de plusieurs directives européennes prévoyant le marquage CE. Que dois-je faire ?Lorsqu\\'un produit relève de plusieurs directives européennes imposant le marquage CE, il doit être conforme à toutes les exigences de sécurité prévues par les directives concernées.\\nCe produit ne portera qu\\'un seul marquage CE.\\nPar exemple, les appareils électriques relèvent, dans la majorité des cas, d\\'au moins deux directives européennes applicables :\\nla directive 2014/35/EU relative au matériel électrique destiné à être employé dans certaines limites de tension, dite directive basse tension ;\\nla directive\\xa02014/30/EU concernant la compatibilité électromagnétique (CEM).\\nCes matériels électriques ne portent qu\\'un seul marquage CE et doivent être conformes aux exigences de ces deux directives.\\nDe même, un jouet radiocommandé\\xa0devra respecter au moins :\\nla directive 2009/48/CE relative à la sécurité des jouets ;\\nla directive 2014/53/EU (R&TTE) relative aux\\xa0équipements terminaux de télécommunication.\\n\\n\\n\\nEn plus du marquage CE, puis-je apposer d\\'autres logos sur mon produit ?D\\'autres marquages peuvent être apposés à côté du marquage CE à la condition d\\'être lisibles, facilement identifiables et de ne pas créer de confusion avec le marquage CE.\\nLe marquage CE est une obligation réglementaire qui s\\'applique aux produits qui relèvent de directives européennes d\\'harmonisation le prévoyant expressément. Il matérialise l\\'engagement du fabricant à respecter les exigences essentielles de sécurité prévues par ces directives. Il permet la libre circulation du produit au sein de l\\'Union européenne. \\nPlus de renseignements sur le marquage CE\\nPar ailleurs, certaines réglementations européennes horizontales imposent d\\'autres marquages obligatoires, comme le symbole de la « poubelle barrée » rendu obligatoire par la directive européenne DEEE (déchets d\\'équipements électriques et électroniques) qui prévoit la gestion et le traitement de ces déchets.\\nD\\'autres logos, non imposés par la réglementation, peuvent être apposés. Ils relèvent alors d\\'une démarche volontaire d\\'information des consommateurs, tel le marquage « Made in/Fabriqué en » qui indique le pays d\\'origine des produits. Les indications apposées doivent fournir une information loyale au consommateur afin de ne pas contrevenir au code de la consommation, en particulier à ses articles L.121-1 (pratiques commerciales trompeuses) et L.213-1 (tromperie sur les qualités substantielles ou sur l\\'aptitude à l\\'emploi).\\n\\n\\n\\nJe suis fabricant de produits de construction. Sont-ils soumis au marquage CE ?\\nLe réglement Produits de construction prévoit que les produits sont soumis au marquage « CE » au fur et à mesure de l’élaboration des spécifications techniques les concernant.\\nPour savoir si votre produit est soumis au marquage « CE », vous pouvez consulter le site internet consacré au Règlement\\xa0produits de construction (rpcnet.org), mis en place par les ministères chargés de l’équipement et de l’industrie.\\n\\n\\n\\n\\nLibre circulation des produits : mes produits doivent-ils être conformes aux normes ou à la réglementation ?\\nIls doivent être conformes à la réglementation, qui s’impose dans tous les cas.\\nLa norme est un document de référence énonçant des solutions possibles permettant de respecter la réglementation. Elaborée de façon consensuelle par les acteurs concernés, elle émane d’un organisme de normalisation surveillé par l’Etat (en France\\xa0: AFNOR et 25 bureaux de normalisation sectoriels). Elle est d’application volontaire, sauf exceptions explicitement prévues par la réglementation. Elle se distingue des textes élaborés par les pouvoirs publics qui sont, eux, d’application obligatoire.\\nDans tous les cas, la réglementation prime sur la norme et la norme doit respecter la réglementation. La norme ne peut ni définir, ni contredire, ni contraindre la réglementation. Une norme qui ne s’accorde plus avec la réglementation du fait de l’évolution de celle-ci est automatiquement inapplicable et périmée.\\nDes normes peuvent, dans certains cas, être référencées dans la réglementation. En particulier, la norme peut être reconnue comme un mode de preuve privilégié. Un produit qui y est conforme est présumé satisfaire à la réglementation si les textes qui instituent celle-ci le prévoient.\\nPour plus d’informations sur la normalisation, vous pouvez consulter les pages consacrées à la normalisation.\\n\\n\\xa0\\n\\n\\n\\nLe produit que je souhaite commercialiser en France ne relève d\\'aucune réglementation spécifique. Quelles sont mes principales obligations ?\\nLorsque votre produit n’est pas soumis à une réglementation spécifique, il relève de l’obligation générale de sécurité définie à l’article L.221-1 du code de la consommation.\\nCelui-ci prévoit que « les produits et services doivent, dans des conditions normales d’utilisation ou dans d’autres conditions raisonnablement prévisibles par le professionnel, présenter la sécurité à laquelle on peut légitimement s’attendre et ne pas porter atteinte à la santé des personnes. »\\nEn tant que fabricant ou responsable de la première mise sur le marché français, il vous appartient d’identifier les risques inhérents à l’utilisation du produit et de rechercher les moyens à mettre en œuvre pour les prévenir.\\nLa présomption de conformité à cette obligation peut s’établir sur la base de normes ou de protocoles d’essais établis par un laboratoire ou par vous-même.\\nLa présence d’indications relatives à l’utilisation et d’avertissements informant du bon usage de ce produit est un élément de sécurité, mais elle n’exonère pas de vérifier sa conformité à l’article L. 221-1.\\n\\n\\n\\n\\nMon produit est soumis au marquage CE. Quels sont les pays dans lequel ce marquage assure sa libre circulation ?\\nLe marquage « CE » assure la libre circulation de votre produit dans l’Espace Economique Européen (EEE) qui est constitué des 27 Etats membres de l’Union européenne et de trois des quatre membres de l’Association Européenne de Libre Échange (AELE)\\xa0: Islande, Liechtenstein,\\xa0Norvège (sauf la Suisse).\\n\\n\\n\\n\\nPuis-je indiquer « Made in France » sur mon produit ?\\nLe marquage d\\'indication d\\'origine des produits est une démarche volontaire et facultative, sauf pour certains produits agricoles et alimentaires. Toutefois, il ne doit pas induire le consommateur en erreur et respecter les critères de détermination de l\\'origine fixés par le Code des douanes de l’Union européenne.\\nLa DGDDI propose un accompagnement personnalisé (l’Information sur le Made in France - IMF), à toute personne souhaitant savoir si elle peut ou non apposer la mention «\\xa0Fabriqué en France\\xa0» sur un produit. Il s’agit d’un service gratuit et non obligatoire. \\nVoir le marquage d\\'origine des produits.\\n\\n\\n\\n\\nLe produit que je souhaite commercialiser en France est-il soumis au marquage CE ?\\nL\\'obligation de marquage CE n\\'existe que pour les produits couverts par une ou plusieurs directives européennes qui prévoient un tel marquage (voir marquage « CE »).\\nLes autres produits non couverts par de telles directives ne sont pas soumis au marquage CE et ne doivent pas comporter ce marquage sous peine d\\'infraction.\\n\\n\\n\\n',\n",
       " \"\\nJe suis une PME. Suis-je éligible au plafonnement de l’Indice des Loyers Commerciaux (ILC) ?Dans le cadre des mesures mises en place pour soutenir le pouvoir d’achat des français, le Gouvernement a fait voter une mesure visant à limiter, pour toutes les PME, la variation de l’Indice des Loyers Commerciaux (ILC) à 3,5% sur une période d’un an.\\nSi vous avez des questions sur votre éligibilité à ce dispositif et sur sa mise en œuvre, la Direction générale des Entreprises met à votre disposition une FAQ spécifique.\\nTélécharger la FAQ\\nTélécharger le tableau d'aide au calcul\\n\\n\",\n",
       " '\\nQuelle est la différence entre un laboratoire accrédité et un laboratoire notifié ?\\nUn organisme (ou laboratoire) accrédité est un organisme qui a obtenu un certificat d\\'accréditation qui atteste de sa compétence pour une activité d\\'évaluation donnée. En France, c\\'est le COFRAC qui délivre ces certificats. L\\'accréditation offre des garanties sur l\\'organisme car ses compétences et ses méthodes de travail sont surveillées régulièrement par un tiers indépendant, le COFRAC. L\\'accréditation est en général volontaire mais peut être dans certains cas une exigence réglementaire.\\nUn organisme (ou laboratoire) notifié est un organisme qui est désigné, à sa demande, par les pouvoirs publics d\\'un Etat membre auprès de la Commission européenne pour réaliser des procédures d\\'évaluation de la conformité de produits. Cette notification permet à l\\'organisme concerné d\\'effectuer des évaluations de conformité à la réglementation européenne, en général à des directives dites «\\xa0nouvelle approche\\xa0». Les produits évalués par un organisme notifié peuvent être mis sur le marché dans toute l\\'Union européenne.\\nLes pouvoirs publics français imposent généralement aux organismes qu\\'ils notifient à la Commission européenne d\\'être accrédités pour l\\'activité considérée. C\\'est la façon de vérifier qu\\'ils remplissent bien les conditions pour être notifiés.\\nLa liste des organismes notifiés par les Etats membres est disponible sur le site \" NANDO \" de la Commission européenne.\\nVoir aussi les Directives « Nouvelle approche » prévoyant un marquage CE.\\n\\n\\n',\n",
       " \"\\nMon produit relève de plusieurs directives européennes prévoyant le marquage CE. Que dois-je faire ?Lorsqu'un produit relève de plusieurs directives européennes imposant le marquage CE, il doit être conforme à toutes les exigences de sécurité prévues par les directives concernées.\\nCe produit ne portera qu'un seul marquage CE.\\nPar exemple, les appareils électriques relèvent, dans la majorité des cas, d'au moins deux directives européennes applicables :\\nla directive 2014/35/EU relative au matériel électrique destiné à être employé dans certaines limites de tension, dite directive basse tension ;\\nla directive\\xa02014/30/EU concernant la compatibilité électromagnétique (CEM).\\nCes matériels électriques ne portent qu'un seul marquage CE et doivent être conformes aux exigences de ces deux directives.\\nDe même, un jouet radiocommandé\\xa0devra respecter au moins :\\nla directive 2009/48/CE relative à la sécurité des jouets ;\\nla directive 2014/53/EU (R&TTE) relative aux\\xa0équipements terminaux de télécommunication.\\n\\n\",\n",
       " \"\\nEn plus du marquage CE, puis-je apposer d'autres logos sur mon produit ?D'autres marquages peuvent être apposés à côté du marquage CE à la condition d'être lisibles, facilement identifiables et de ne pas créer de confusion avec le marquage CE.\\nLe marquage CE est une obligation réglementaire qui s'applique aux produits qui relèvent de directives européennes d'harmonisation le prévoyant expressément. Il matérialise l'engagement du fabricant à respecter les exigences essentielles de sécurité prévues par ces directives. Il permet la libre circulation du produit au sein de l'Union européenne. \\nPlus de renseignements sur le marquage CE\\nPar ailleurs, certaines réglementations européennes horizontales imposent d'autres marquages obligatoires, comme le symbole de la « poubelle barrée » rendu obligatoire par la directive européenne DEEE (déchets d'équipements électriques et électroniques) qui prévoit la gestion et le traitement de ces déchets.\\nD'autres logos, non imposés par la réglementation, peuvent être apposés. Ils relèvent alors d'une démarche volontaire d'information des consommateurs, tel le marquage « Made in/Fabriqué en » qui indique le pays d'origine des produits. Les indications apposées doivent fournir une information loyale au consommateur afin de ne pas contrevenir au code de la consommation, en particulier à ses articles L.121-1 (pratiques commerciales trompeuses) et L.213-1 (tromperie sur les qualités substantielles ou sur l'aptitude à l'emploi).\\n\\n\",\n",
       " '\\nJe suis fabricant de produits de construction. Sont-ils soumis au marquage CE ?\\nLe réglement Produits de construction prévoit que les produits sont soumis au marquage « CE » au fur et à mesure de l’élaboration des spécifications techniques les concernant.\\nPour savoir si votre produit est soumis au marquage « CE », vous pouvez consulter le site internet consacré au Règlement\\xa0produits de construction (rpcnet.org), mis en place par les ministères chargés de l’équipement et de l’industrie.\\n\\n\\n',\n",
       " '\\nLibre circulation des produits : mes produits doivent-ils être conformes aux normes ou à la réglementation ?\\nIls doivent être conformes à la réglementation, qui s’impose dans tous les cas.\\nLa norme est un document de référence énonçant des solutions possibles permettant de respecter la réglementation. Elaborée de façon consensuelle par les acteurs concernés, elle émane d’un organisme de normalisation surveillé par l’Etat (en France\\xa0: AFNOR et 25 bureaux de normalisation sectoriels). Elle est d’application volontaire, sauf exceptions explicitement prévues par la réglementation. Elle se distingue des textes élaborés par les pouvoirs publics qui sont, eux, d’application obligatoire.\\nDans tous les cas, la réglementation prime sur la norme et la norme doit respecter la réglementation. La norme ne peut ni définir, ni contredire, ni contraindre la réglementation. Une norme qui ne s’accorde plus avec la réglementation du fait de l’évolution de celle-ci est automatiquement inapplicable et périmée.\\nDes normes peuvent, dans certains cas, être référencées dans la réglementation. En particulier, la norme peut être reconnue comme un mode de preuve privilégié. Un produit qui y est conforme est présumé satisfaire à la réglementation si les textes qui instituent celle-ci le prévoient.\\nPour plus d’informations sur la normalisation, vous pouvez consulter les pages consacrées à la normalisation.\\n\\n\\xa0\\n\\n',\n",
       " \"\\nLe produit que je souhaite commercialiser en France ne relève d'aucune réglementation spécifique. Quelles sont mes principales obligations ?\\nLorsque votre produit n’est pas soumis à une réglementation spécifique, il relève de l’obligation générale de sécurité définie à l’article L.221-1 du code de la consommation.\\nCelui-ci prévoit que « les produits et services doivent, dans des conditions normales d’utilisation ou dans d’autres conditions raisonnablement prévisibles par le professionnel, présenter la sécurité à laquelle on peut légitimement s’attendre et ne pas porter atteinte à la santé des personnes. »\\nEn tant que fabricant ou responsable de la première mise sur le marché français, il vous appartient d’identifier les risques inhérents à l’utilisation du produit et de rechercher les moyens à mettre en œuvre pour les prévenir.\\nLa présomption de conformité à cette obligation peut s’établir sur la base de normes ou de protocoles d’essais établis par un laboratoire ou par vous-même.\\nLa présence d’indications relatives à l’utilisation et d’avertissements informant du bon usage de ce produit est un élément de sécurité, mais elle n’exonère pas de vérifier sa conformité à l’article L. 221-1.\\n\\n\\n\",\n",
       " '\\nMon produit est soumis au marquage CE. Quels sont les pays dans lequel ce marquage assure sa libre circulation ?\\nLe marquage « CE » assure la libre circulation de votre produit dans l’Espace Economique Européen (EEE) qui est constitué des 27 Etats membres de l’Union européenne et de trois des quatre membres de l’Association Européenne de Libre Échange (AELE)\\xa0: Islande, Liechtenstein,\\xa0Norvège (sauf la Suisse).\\n\\n\\n',\n",
       " \"\\nPuis-je indiquer « Made in France » sur mon produit ?\\nLe marquage d'indication d'origine des produits est une démarche volontaire et facultative, sauf pour certains produits agricoles et alimentaires. Toutefois, il ne doit pas induire le consommateur en erreur et respecter les critères de détermination de l'origine fixés par le Code des douanes de l’Union européenne.\\nLa DGDDI propose un accompagnement personnalisé (l’Information sur le Made in France - IMF), à toute personne souhaitant savoir si elle peut ou non apposer la mention «\\xa0Fabriqué en France\\xa0» sur un produit. Il s’agit d’un service gratuit et non obligatoire. \\nVoir le marquage d'origine des produits.\\n\\n\\n\",\n",
       " \"\\nLe produit que je souhaite commercialiser en France est-il soumis au marquage CE ?\\nL'obligation de marquage CE n'existe que pour les produits couverts par une ou plusieurs directives européennes qui prévoient un tel marquage (voir marquage « CE »).\\nLes autres produits non couverts par de telles directives ne sont pas soumis au marquage CE et ne doivent pas comporter ce marquage sous peine d'infraction.\\n\\n\\n\"]"
      ]
     },
     "execution_count": 4,
     "metadata": {},
     "output_type": "execute_result"
    }
   ],
   "source": [
    "#ON RÉCUPÈRE LES QUESTIONS AVEC LES RÉPONSES\n",
    "noms = soup.findAll('div',{'class':'views-row'})\n",
    "questions = [noms.get_text() for noms in noms]\n",
    "questions"
   ]
  },
  {
   "cell_type": "code",
   "execution_count": 5,
   "metadata": {},
   "outputs": [
    {
     "data": {
      "text/plain": [
       "['Je suis une PME. Suis-je éligible au plafonnement de l’Indice des Loyers Commerciaux (ILC) ?Dans le cadre des mesures mises en place pour soutenir le pouvoir d’achat des français, le Gouvernement a fait voter une mesure visant à limiter, pour toutes les PME, la variation de l’Indice des Loyers Commerciaux (ILC) à 3,5% sur une période d’un an.\\nSi vous avez des questions sur votre éligibilité à ce dispositif et sur sa mise en œuvre, la Direction générale des Entreprises met à votre disposition une FAQ spécifique.\\nTélécharger la FAQ\\nTélécharger le tableau d\\'aide au calcul\\n\\n\\n\\nQuelle est la différence entre un laboratoire accrédité et un laboratoire notifié ?\\nUn organisme (ou laboratoire) accrédité est un organisme qui a obtenu un certificat d\\'accréditation qui atteste de sa compétence pour une activité d\\'évaluation donnée. En France, c\\'est le COFRAC qui délivre ces certificats. L\\'accréditation offre des garanties sur l\\'organisme car ses compétences et ses méthodes de travail sont surveillées régulièrement par un tiers indépendant, le COFRAC. L\\'accréditation est en général volontaire mais peut être dans certains cas une exigence réglementaire.\\nUn organisme (ou laboratoire) notifié est un organisme qui est désigné, à sa demande, par les pouvoirs publics d\\'un Etat membre auprès de la Commission européenne pour réaliser des procédures d\\'évaluation de la conformité de produits. Cette notification permet à l\\'organisme concerné d\\'effectuer des évaluations de conformité à la réglementation européenne, en général à des directives dites «\\xa0nouvelle approche\\xa0». Les produits évalués par un organisme notifié peuvent être mis sur le marché dans toute l\\'Union européenne.\\nLes pouvoirs publics français imposent généralement aux organismes qu\\'ils notifient à la Commission européenne d\\'être accrédités pour l\\'activité considérée. C\\'est la façon de vérifier qu\\'ils remplissent bien les conditions pour être notifiés.\\nLa liste des organismes notifiés par les Etats membres est disponible sur le site \" NANDO \" de la Commission européenne.\\nVoir aussi les Directives « Nouvelle approche » prévoyant un marquage CE.\\n\\n\\n\\n\\nMon produit relève de plusieurs directives européennes prévoyant le marquage CE. Que dois-je faire ?Lorsqu\\'un produit relève de plusieurs directives européennes imposant le marquage CE, il doit être conforme à toutes les exigences de sécurité prévues par les directives concernées.\\nCe produit ne portera qu\\'un seul marquage CE.\\nPar exemple, les appareils électriques relèvent, dans la majorité des cas, d\\'au moins deux directives européennes applicables :\\nla directive 2014/35/EU relative au matériel électrique destiné à être employé dans certaines limites de tension, dite directive basse tension ;\\nla directive\\xa02014/30/EU concernant la compatibilité électromagnétique (CEM).\\nCes matériels électriques ne portent qu\\'un seul marquage CE et doivent être conformes aux exigences de ces deux directives.\\nDe même, un jouet radiocommandé\\xa0devra respecter au moins :\\nla directive 2009/48/CE relative à la sécurité des jouets ;\\nla directive 2014/53/EU (R&TTE) relative aux\\xa0équipements terminaux de télécommunication.\\n\\n\\n\\nEn plus du marquage CE, puis-je apposer d\\'autres logos sur mon produit ?D\\'autres marquages peuvent être apposés à côté du marquage CE à la condition d\\'être lisibles, facilement identifiables et de ne pas créer de confusion avec le marquage CE.\\nLe marquage CE est une obligation réglementaire qui s\\'applique aux produits qui relèvent de directives européennes d\\'harmonisation le prévoyant expressément. Il matérialise l\\'engagement du fabricant à respecter les exigences essentielles de sécurité prévues par ces directives. Il permet la libre circulation du produit au sein de l\\'Union européenne. \\nPlus de renseignements sur le marquage CE\\nPar ailleurs, certaines réglementations européennes horizontales imposent d\\'autres marquages obligatoires, comme le symbole de la « poubelle barrée » rendu obligatoire par la directive européenne DEEE (déchets d\\'équipements électriques et électroniques) qui prévoit la gestion et le traitement de ces déchets.\\nD\\'autres logos, non imposés par la réglementation, peuvent être apposés. Ils relèvent alors d\\'une démarche volontaire d\\'information des consommateurs, tel le marquage « Made in/Fabriqué en » qui indique le pays d\\'origine des produits. Les indications apposées doivent fournir une information loyale au consommateur afin de ne pas contrevenir au code de la consommation, en particulier à ses articles L.121-1 (pratiques commerciales trompeuses) et L.213-1 (tromperie sur les qualités substantielles ou sur l\\'aptitude à l\\'emploi).\\n\\n\\n\\nJe suis fabricant de produits de construction. Sont-ils soumis au marquage CE ?\\nLe réglement Produits de construction prévoit que les produits sont soumis au marquage « CE » au fur et à mesure de l’élaboration des spécifications techniques les concernant.\\nPour savoir si votre produit est soumis au marquage « CE », vous pouvez consulter le site internet consacré au Règlement\\xa0produits de construction (rpcnet.org), mis en place par les ministères chargés de l’équipement et de l’industrie.\\n\\n\\n\\n\\nLibre circulation des produits : mes produits doivent-ils être conformes aux normes ou à la réglementation ?\\nIls doivent être conformes à la réglementation, qui s’impose dans tous les cas.\\nLa norme est un document de référence énonçant des solutions possibles permettant de respecter la réglementation. Elaborée de façon consensuelle par les acteurs concernés, elle émane d’un organisme de normalisation surveillé par l’Etat (en France\\xa0: AFNOR et 25 bureaux de normalisation sectoriels). Elle est d’application volontaire, sauf exceptions explicitement prévues par la réglementation. Elle se distingue des textes élaborés par les pouvoirs publics qui sont, eux, d’application obligatoire.\\nDans tous les cas, la réglementation prime sur la norme et la norme doit respecter la réglementation. La norme ne peut ni définir, ni contredire, ni contraindre la réglementation. Une norme qui ne s’accorde plus avec la réglementation du fait de l’évolution de celle-ci est automatiquement inapplicable et périmée.\\nDes normes peuvent, dans certains cas, être référencées dans la réglementation. En particulier, la norme peut être reconnue comme un mode de preuve privilégié. Un produit qui y est conforme est présumé satisfaire à la réglementation si les textes qui instituent celle-ci le prévoient.\\nPour plus d’informations sur la normalisation, vous pouvez consulter les pages consacrées à la normalisation.\\n\\n\\xa0\\n\\n\\n\\nLe produit que je souhaite commercialiser en France ne relève d\\'aucune réglementation spécifique. Quelles sont mes principales obligations ?\\nLorsque votre produit n’est pas soumis à une réglementation spécifique, il relève de l’obligation générale de sécurité définie à l’article L.221-1 du code de la consommation.\\nCelui-ci prévoit que « les produits et services doivent, dans des conditions normales d’utilisation ou dans d’autres conditions raisonnablement prévisibles par le professionnel, présenter la sécurité à laquelle on peut légitimement s’attendre et ne pas porter atteinte à la santé des personnes. »\\nEn tant que fabricant ou responsable de la première mise sur le marché français, il vous appartient d’identifier les risques inhérents à l’utilisation du produit et de rechercher les moyens à mettre en œuvre pour les prévenir.\\nLa présomption de conformité à cette obligation peut s’établir sur la base de normes ou de protocoles d’essais établis par un laboratoire ou par vous-même.\\nLa présence d’indications relatives à l’utilisation et d’avertissements informant du bon usage de ce produit est un élément de sécurité, mais elle n’exonère pas de vérifier sa conformité à l’article L. 221-1.\\n\\n\\n\\n\\nMon produit est soumis au marquage CE. Quels sont les pays dans lequel ce marquage assure sa libre circulation ?\\nLe marquage « CE » assure la libre circulation de votre produit dans l’Espace Economique Européen (EEE) qui est constitué des 27 Etats membres de l’Union européenne et de trois des quatre membres de l’Association Européenne de Libre Échange (AELE)\\xa0: Islande, Liechtenstein,\\xa0Norvège (sauf la Suisse).\\n\\n\\n\\n\\nPuis-je indiquer « Made in France » sur mon produit ?\\nLe marquage d\\'indication d\\'origine des produits est une démarche volontaire et facultative, sauf pour certains produits agricoles et alimentaires. Toutefois, il ne doit pas induire le consommateur en erreur et respecter les critères de détermination de l\\'origine fixés par le Code des douanes de l’Union européenne.\\nLa DGDDI propose un accompagnement personnalisé (l’Information sur le Made in France - IMF), à toute personne souhaitant savoir si elle peut ou non apposer la mention «\\xa0Fabriqué en France\\xa0» sur un produit. Il s’agit d’un service gratuit et non obligatoire. \\nVoir le marquage d\\'origine des produits.\\n\\n\\n\\n\\nLe produit que je souhaite commercialiser en France est-il soumis au marquage CE ?\\nL\\'obligation de marquage CE n\\'existe que pour les produits couverts par une ou plusieurs directives européennes qui prévoient un tel marquage (voir marquage « CE »).\\nLes autres produits non couverts par de telles directives ne sont pas soumis au marquage CE et ne doivent pas comporter ce marquage sous peine d\\'infraction.',\n",
       " \"Je suis une PME. Suis-je éligible au plafonnement de l’Indice des Loyers Commerciaux (ILC) ?Dans le cadre des mesures mises en place pour soutenir le pouvoir d’achat des français, le Gouvernement a fait voter une mesure visant à limiter, pour toutes les PME, la variation de l’Indice des Loyers Commerciaux (ILC) à 3,5% sur une période d’un an.\\nSi vous avez des questions sur votre éligibilité à ce dispositif et sur sa mise en œuvre, la Direction générale des Entreprises met à votre disposition une FAQ spécifique.\\nTélécharger la FAQ\\nTélécharger le tableau d'aide au calcul\",\n",
       " 'Quelle est la différence entre un laboratoire accrédité et un laboratoire notifié ?\\nUn organisme (ou laboratoire) accrédité est un organisme qui a obtenu un certificat d\\'accréditation qui atteste de sa compétence pour une activité d\\'évaluation donnée. En France, c\\'est le COFRAC qui délivre ces certificats. L\\'accréditation offre des garanties sur l\\'organisme car ses compétences et ses méthodes de travail sont surveillées régulièrement par un tiers indépendant, le COFRAC. L\\'accréditation est en général volontaire mais peut être dans certains cas une exigence réglementaire.\\nUn organisme (ou laboratoire) notifié est un organisme qui est désigné, à sa demande, par les pouvoirs publics d\\'un Etat membre auprès de la Commission européenne pour réaliser des procédures d\\'évaluation de la conformité de produits. Cette notification permet à l\\'organisme concerné d\\'effectuer des évaluations de conformité à la réglementation européenne, en général à des directives dites «\\xa0nouvelle approche\\xa0». Les produits évalués par un organisme notifié peuvent être mis sur le marché dans toute l\\'Union européenne.\\nLes pouvoirs publics français imposent généralement aux organismes qu\\'ils notifient à la Commission européenne d\\'être accrédités pour l\\'activité considérée. C\\'est la façon de vérifier qu\\'ils remplissent bien les conditions pour être notifiés.\\nLa liste des organismes notifiés par les Etats membres est disponible sur le site \" NANDO \" de la Commission européenne.\\nVoir aussi les Directives « Nouvelle approche » prévoyant un marquage CE.',\n",
       " \"Mon produit relève de plusieurs directives européennes prévoyant le marquage CE. Que dois-je faire ?Lorsqu'un produit relève de plusieurs directives européennes imposant le marquage CE, il doit être conforme à toutes les exigences de sécurité prévues par les directives concernées.\\nCe produit ne portera qu'un seul marquage CE.\\nPar exemple, les appareils électriques relèvent, dans la majorité des cas, d'au moins deux directives européennes applicables :\\nla directive 2014/35/EU relative au matériel électrique destiné à être employé dans certaines limites de tension, dite directive basse tension ;\\nla directive\\xa02014/30/EU concernant la compatibilité électromagnétique (CEM).\\nCes matériels électriques ne portent qu'un seul marquage CE et doivent être conformes aux exigences de ces deux directives.\\nDe même, un jouet radiocommandé\\xa0devra respecter au moins :\\nla directive 2009/48/CE relative à la sécurité des jouets ;\\nla directive 2014/53/EU (R&TTE) relative aux\\xa0équipements terminaux de télécommunication.\",\n",
       " \"En plus du marquage CE, puis-je apposer d'autres logos sur mon produit ?D'autres marquages peuvent être apposés à côté du marquage CE à la condition d'être lisibles, facilement identifiables et de ne pas créer de confusion avec le marquage CE.\\nLe marquage CE est une obligation réglementaire qui s'applique aux produits qui relèvent de directives européennes d'harmonisation le prévoyant expressément. Il matérialise l'engagement du fabricant à respecter les exigences essentielles de sécurité prévues par ces directives. Il permet la libre circulation du produit au sein de l'Union européenne. \\nPlus de renseignements sur le marquage CE\\nPar ailleurs, certaines réglementations européennes horizontales imposent d'autres marquages obligatoires, comme le symbole de la « poubelle barrée » rendu obligatoire par la directive européenne DEEE (déchets d'équipements électriques et électroniques) qui prévoit la gestion et le traitement de ces déchets.\\nD'autres logos, non imposés par la réglementation, peuvent être apposés. Ils relèvent alors d'une démarche volontaire d'information des consommateurs, tel le marquage « Made in/Fabriqué en » qui indique le pays d'origine des produits. Les indications apposées doivent fournir une information loyale au consommateur afin de ne pas contrevenir au code de la consommation, en particulier à ses articles L.121-1 (pratiques commerciales trompeuses) et L.213-1 (tromperie sur les qualités substantielles ou sur l'aptitude à l'emploi).\",\n",
       " 'Je suis fabricant de produits de construction. Sont-ils soumis au marquage CE ?\\nLe réglement Produits de construction prévoit que les produits sont soumis au marquage « CE » au fur et à mesure de l’élaboration des spécifications techniques les concernant.\\nPour savoir si votre produit est soumis au marquage « CE », vous pouvez consulter le site internet consacré au Règlement\\xa0produits de construction (rpcnet.org), mis en place par les ministères chargés de l’équipement et de l’industrie.',\n",
       " 'Libre circulation des produits : mes produits doivent-ils être conformes aux normes ou à la réglementation ?\\nIls doivent être conformes à la réglementation, qui s’impose dans tous les cas.\\nLa norme est un document de référence énonçant des solutions possibles permettant de respecter la réglementation. Elaborée de façon consensuelle par les acteurs concernés, elle émane d’un organisme de normalisation surveillé par l’Etat (en France\\xa0: AFNOR et 25 bureaux de normalisation sectoriels). Elle est d’application volontaire, sauf exceptions explicitement prévues par la réglementation. Elle se distingue des textes élaborés par les pouvoirs publics qui sont, eux, d’application obligatoire.\\nDans tous les cas, la réglementation prime sur la norme et la norme doit respecter la réglementation. La norme ne peut ni définir, ni contredire, ni contraindre la réglementation. Une norme qui ne s’accorde plus avec la réglementation du fait de l’évolution de celle-ci est automatiquement inapplicable et périmée.\\nDes normes peuvent, dans certains cas, être référencées dans la réglementation. En particulier, la norme peut être reconnue comme un mode de preuve privilégié. Un produit qui y est conforme est présumé satisfaire à la réglementation si les textes qui instituent celle-ci le prévoient.\\nPour plus d’informations sur la normalisation, vous pouvez consulter les pages consacrées à la normalisation.\\n\\n\\xa0',\n",
       " \"Le produit que je souhaite commercialiser en France ne relève d'aucune réglementation spécifique. Quelles sont mes principales obligations ?\\nLorsque votre produit n’est pas soumis à une réglementation spécifique, il relève de l’obligation générale de sécurité définie à l’article L.221-1 du code de la consommation.\\nCelui-ci prévoit que « les produits et services doivent, dans des conditions normales d’utilisation ou dans d’autres conditions raisonnablement prévisibles par le professionnel, présenter la sécurité à laquelle on peut légitimement s’attendre et ne pas porter atteinte à la santé des personnes. »\\nEn tant que fabricant ou responsable de la première mise sur le marché français, il vous appartient d’identifier les risques inhérents à l’utilisation du produit et de rechercher les moyens à mettre en œuvre pour les prévenir.\\nLa présomption de conformité à cette obligation peut s’établir sur la base de normes ou de protocoles d’essais établis par un laboratoire ou par vous-même.\\nLa présence d’indications relatives à l’utilisation et d’avertissements informant du bon usage de ce produit est un élément de sécurité, mais elle n’exonère pas de vérifier sa conformité à l’article L. 221-1.\",\n",
       " 'Mon produit est soumis au marquage CE. Quels sont les pays dans lequel ce marquage assure sa libre circulation ?\\nLe marquage « CE » assure la libre circulation de votre produit dans l’Espace Economique Européen (EEE) qui est constitué des 27 Etats membres de l’Union européenne et de trois des quatre membres de l’Association Européenne de Libre Échange (AELE)\\xa0: Islande, Liechtenstein,\\xa0Norvège (sauf la Suisse).',\n",
       " \"Puis-je indiquer « Made in France » sur mon produit ?\\nLe marquage d'indication d'origine des produits est une démarche volontaire et facultative, sauf pour certains produits agricoles et alimentaires. Toutefois, il ne doit pas induire le consommateur en erreur et respecter les critères de détermination de l'origine fixés par le Code des douanes de l’Union européenne.\\nLa DGDDI propose un accompagnement personnalisé (l’Information sur le Made in France - IMF), à toute personne souhaitant savoir si elle peut ou non apposer la mention «\\xa0Fabriqué en France\\xa0» sur un produit. Il s’agit d’un service gratuit et non obligatoire. \\nVoir le marquage d'origine des produits.\",\n",
       " \"Le produit que je souhaite commercialiser en France est-il soumis au marquage CE ?\\nL'obligation de marquage CE n'existe que pour les produits couverts par une ou plusieurs directives européennes qui prévoient un tel marquage (voir marquage « CE »).\\nLes autres produits non couverts par de telles directives ne sont pas soumis au marquage CE et ne doivent pas comporter ce marquage sous peine d'infraction.\"]"
      ]
     },
     "execution_count": 5,
     "metadata": {},
     "output_type": "execute_result"
    }
   ],
   "source": [
    "#ON ENLÈVE LE \"\\n\"\n",
    "for i in range(len(questions)):\n",
    "    questions[i] = questions[i].strip(' \\n')\n",
    "questions"
   ]
  },
  {
   "cell_type": "code",
   "execution_count": 6,
   "metadata": {},
   "outputs": [
    {
     "data": {
      "text/plain": [
       "['Je suis une PME. Suis-je éligible au plafonnement de l’Indice des Loyers Commerciaux (ILC) ?',\n",
       " 'Je suis une PME. Suis-je éligible au plafonnement de l’Indice des Loyers Commerciaux (ILC) ?',\n",
       " 'Quelle est la différence entre un laboratoire accrédité et un laboratoire notifié ?',\n",
       " 'Mon produit relève de plusieurs directives européennes prévoyant le marquage CE. Que dois-je faire ?',\n",
       " \"En plus du marquage CE, puis-je apposer d'autres logos sur mon produit ?\",\n",
       " 'Je suis fabricant de produits de construction. Sont-ils soumis au marquage CE ?',\n",
       " 'Libre circulation des produits : mes produits doivent-ils être conformes aux normes ou à la réglementation ?',\n",
       " \"Le produit que je souhaite commercialiser en France ne relève d'aucune réglementation spécifique. Quelles sont mes principales obligations ?\",\n",
       " 'Mon produit est soumis au marquage CE. Quels sont les pays dans lequel ce marquage assure sa libre circulation ?',\n",
       " 'Puis-je indiquer « Made in France » sur mon produit ?',\n",
       " 'Le produit que je souhaite commercialiser en France est-il soumis au marquage CE ?']"
      ]
     },
     "execution_count": 6,
     "metadata": {},
     "output_type": "execute_result"
    }
   ],
   "source": [
    "#ON ENLÈVE TOUT CE QUI EST APRÈS LES QUESTIONS\n",
    "for i in range(len(questions)):\n",
    "    index = questions[i].find('?') + 1 \n",
    "    questions[i] = questions[i][:index]\n",
    "questions"
   ]
  },
  {
   "cell_type": "code",
   "execution_count": 7,
   "metadata": {},
   "outputs": [
    {
     "data": {
      "text/plain": [
       "11"
      ]
     },
     "execution_count": 7,
     "metadata": {},
     "output_type": "execute_result"
    }
   ],
   "source": [
    "#Vérifions le nombre de questions\n",
    "len(questions)"
   ]
  },
  {
   "cell_type": "code",
   "execution_count": 8,
   "metadata": {},
   "outputs": [
    {
     "data": {
      "text/plain": [
       "['Je suis une PME. Suis-je éligible au plafonnement de l’Indice des Loyers Commerciaux (ILC) ?',\n",
       " 'Quelle est la différence entre un laboratoire accrédité et un laboratoire notifié ?',\n",
       " 'Mon produit relève de plusieurs directives européennes prévoyant le marquage CE. Que dois-je faire ?',\n",
       " \"En plus du marquage CE, puis-je apposer d'autres logos sur mon produit ?\",\n",
       " 'Je suis fabricant de produits de construction. Sont-ils soumis au marquage CE ?',\n",
       " 'Libre circulation des produits : mes produits doivent-ils être conformes aux normes ou à la réglementation ?',\n",
       " \"Le produit que je souhaite commercialiser en France ne relève d'aucune réglementation spécifique. Quelles sont mes principales obligations ?\",\n",
       " 'Mon produit est soumis au marquage CE. Quels sont les pays dans lequel ce marquage assure sa libre circulation ?',\n",
       " 'Puis-je indiquer « Made in France » sur mon produit ?',\n",
       " 'Le produit que je souhaite commercialiser en France est-il soumis au marquage CE ?']"
      ]
     },
     "execution_count": 8,
     "metadata": {},
     "output_type": "execute_result"
    }
   ],
   "source": [
    "#Il y a une question en double, enlevons la \n",
    "questions = questions[1:]\n",
    "questions"
   ]
  },
  {
   "cell_type": "markdown",
   "metadata": {},
   "source": [
    "## RÉPONSES"
   ]
  },
  {
   "cell_type": "code",
   "execution_count": 9,
   "metadata": {},
   "outputs": [],
   "source": [
    "#la partie qui m'interesse:\n",
    "#<div class=\"field-content\""
   ]
  },
  {
   "cell_type": "code",
   "execution_count": 10,
   "metadata": {},
   "outputs": [
    {
     "data": {
      "text/plain": [
       "[\"Dans le cadre des mesures mises en place pour soutenir le pouvoir d’achat des français, le Gouvernement a fait voter une mesure visant à limiter, pour toutes les PME, la variation de l’Indice des Loyers Commerciaux (ILC) à 3,5% sur une période d’un an.\\nSi vous avez des questions sur votre éligibilité à ce dispositif et sur sa mise en œuvre, la Direction générale des Entreprises met à votre disposition une FAQ spécifique.\\nTélécharger la FAQ\\nTélécharger le tableau d'aide au calcul\\n\",\n",
       " '\\nUn organisme (ou laboratoire) accrédité est un organisme qui a obtenu un certificat d\\'accréditation qui atteste de sa compétence pour une activité d\\'évaluation donnée. En France, c\\'est le COFRAC qui délivre ces certificats. L\\'accréditation offre des garanties sur l\\'organisme car ses compétences et ses méthodes de travail sont surveillées régulièrement par un tiers indépendant, le COFRAC. L\\'accréditation est en général volontaire mais peut être dans certains cas une exigence réglementaire.\\nUn organisme (ou laboratoire) notifié est un organisme qui est désigné, à sa demande, par les pouvoirs publics d\\'un Etat membre auprès de la Commission européenne pour réaliser des procédures d\\'évaluation de la conformité de produits. Cette notification permet à l\\'organisme concerné d\\'effectuer des évaluations de conformité à la réglementation européenne, en général à des directives dites «\\xa0nouvelle approche\\xa0». Les produits évalués par un organisme notifié peuvent être mis sur le marché dans toute l\\'Union européenne.\\nLes pouvoirs publics français imposent généralement aux organismes qu\\'ils notifient à la Commission européenne d\\'être accrédités pour l\\'activité considérée. C\\'est la façon de vérifier qu\\'ils remplissent bien les conditions pour être notifiés.\\nLa liste des organismes notifiés par les Etats membres est disponible sur le site \" NANDO \" de la Commission européenne.\\nVoir aussi les Directives « Nouvelle approche » prévoyant un marquage CE.\\n\\n',\n",
       " \"Lorsqu'un produit relève de plusieurs directives européennes imposant le marquage CE, il doit être conforme à toutes les exigences de sécurité prévues par les directives concernées.\\nCe produit ne portera qu'un seul marquage CE.\\nPar exemple, les appareils électriques relèvent, dans la majorité des cas, d'au moins deux directives européennes applicables :\\nla directive 2014/35/EU relative au matériel électrique destiné à être employé dans certaines limites de tension, dite directive basse tension ;\\nla directive\\xa02014/30/EU concernant la compatibilité électromagnétique (CEM).\\nCes matériels électriques ne portent qu'un seul marquage CE et doivent être conformes aux exigences de ces deux directives.\\nDe même, un jouet radiocommandé\\xa0devra respecter au moins :\\nla directive 2009/48/CE relative à la sécurité des jouets ;\\nla directive 2014/53/EU (R&TTE) relative aux\\xa0équipements terminaux de télécommunication.\\n\",\n",
       " \"D'autres marquages peuvent être apposés à côté du marquage CE à la condition d'être lisibles, facilement identifiables et de ne pas créer de confusion avec le marquage CE.\\nLe marquage CE est une obligation réglementaire qui s'applique aux produits qui relèvent de directives européennes d'harmonisation le prévoyant expressément. Il matérialise l'engagement du fabricant à respecter les exigences essentielles de sécurité prévues par ces directives. Il permet la libre circulation du produit au sein de l'Union européenne. \\nPlus de renseignements sur le marquage CE\\nPar ailleurs, certaines réglementations européennes horizontales imposent d'autres marquages obligatoires, comme le symbole de la « poubelle barrée » rendu obligatoire par la directive européenne DEEE (déchets d'équipements électriques et électroniques) qui prévoit la gestion et le traitement de ces déchets.\\nD'autres logos, non imposés par la réglementation, peuvent être apposés. Ils relèvent alors d'une démarche volontaire d'information des consommateurs, tel le marquage « Made in/Fabriqué en » qui indique le pays d'origine des produits. Les indications apposées doivent fournir une information loyale au consommateur afin de ne pas contrevenir au code de la consommation, en particulier à ses articles L.121-1 (pratiques commerciales trompeuses) et L.213-1 (tromperie sur les qualités substantielles ou sur l'aptitude à l'emploi).\\n\",\n",
       " '\\nLe réglement Produits de construction prévoit que les produits sont soumis au marquage « CE » au fur et à mesure de l’élaboration des spécifications techniques les concernant.\\nPour savoir si votre produit est soumis au marquage « CE », vous pouvez consulter le site internet consacré au Règlement\\xa0produits de construction (rpcnet.org), mis en place par les ministères chargés de l’équipement et de l’industrie.\\n\\n',\n",
       " '\\nIls doivent être conformes à la réglementation, qui s’impose dans tous les cas.\\nLa norme est un document de référence énonçant des solutions possibles permettant de respecter la réglementation. Elaborée de façon consensuelle par les acteurs concernés, elle émane d’un organisme de normalisation surveillé par l’Etat (en France\\xa0: AFNOR et 25 bureaux de normalisation sectoriels). Elle est d’application volontaire, sauf exceptions explicitement prévues par la réglementation. Elle se distingue des textes élaborés par les pouvoirs publics qui sont, eux, d’application obligatoire.\\nDans tous les cas, la réglementation prime sur la norme et la norme doit respecter la réglementation. La norme ne peut ni définir, ni contredire, ni contraindre la réglementation. Une norme qui ne s’accorde plus avec la réglementation du fait de l’évolution de celle-ci est automatiquement inapplicable et périmée.\\nDes normes peuvent, dans certains cas, être référencées dans la réglementation. En particulier, la norme peut être reconnue comme un mode de preuve privilégié. Un produit qui y est conforme est présumé satisfaire à la réglementation si les textes qui instituent celle-ci le prévoient.\\nPour plus d’informations sur la normalisation, vous pouvez consulter les pages consacrées à la normalisation.\\n\\n\\xa0\\n',\n",
       " '\\nLorsque votre produit n’est pas soumis à une réglementation spécifique, il relève de l’obligation générale de sécurité définie à l’article L.221-1 du code de la consommation.\\nCelui-ci prévoit que « les produits et services doivent, dans des conditions normales d’utilisation ou dans d’autres conditions raisonnablement prévisibles par le professionnel, présenter la sécurité à laquelle on peut légitimement s’attendre et ne pas porter atteinte à la santé des personnes. »\\nEn tant que fabricant ou responsable de la première mise sur le marché français, il vous appartient d’identifier les risques inhérents à l’utilisation du produit et de rechercher les moyens à mettre en œuvre pour les prévenir.\\nLa présomption de conformité à cette obligation peut s’établir sur la base de normes ou de protocoles d’essais établis par un laboratoire ou par vous-même.\\nLa présence d’indications relatives à l’utilisation et d’avertissements informant du bon usage de ce produit est un élément de sécurité, mais elle n’exonère pas de vérifier sa conformité à l’article L. 221-1.\\n\\n',\n",
       " '\\nLe marquage « CE » assure la libre circulation de votre produit dans l’Espace Economique Européen (EEE) qui est constitué des 27 Etats membres de l’Union européenne et de trois des quatre membres de l’Association Européenne de Libre Échange (AELE)\\xa0: Islande, Liechtenstein,\\xa0Norvège (sauf la Suisse).\\n\\n',\n",
       " \"\\nLe marquage d'indication d'origine des produits est une démarche volontaire et facultative, sauf pour certains produits agricoles et alimentaires. Toutefois, il ne doit pas induire le consommateur en erreur et respecter les critères de détermination de l'origine fixés par le Code des douanes de l’Union européenne.\\nLa DGDDI propose un accompagnement personnalisé (l’Information sur le Made in France - IMF), à toute personne souhaitant savoir si elle peut ou non apposer la mention «\\xa0Fabriqué en France\\xa0» sur un produit. Il s’agit d’un service gratuit et non obligatoire. \\nVoir le marquage d'origine des produits.\\n\\n\",\n",
       " \"\\nL'obligation de marquage CE n'existe que pour les produits couverts par une ou plusieurs directives européennes qui prévoient un tel marquage (voir marquage « CE »).\\nLes autres produits non couverts par de telles directives ne sont pas soumis au marquage CE et ne doivent pas comporter ce marquage sous peine d'infraction.\\n\\n\"]"
      ]
     },
     "execution_count": 10,
     "metadata": {},
     "output_type": "execute_result"
    }
   ],
   "source": [
    "#ON CHERCHE LES RÉPONSES\n",
    "rep = soup.findAll('div',{'class':'field-content'})\n",
    "réponses = [rep.get_text() for rep in rep]\n",
    "réponses"
   ]
  },
  {
   "cell_type": "code",
   "execution_count": 11,
   "metadata": {},
   "outputs": [
    {
     "data": {
      "text/plain": [
       "[\"Dans le cadre des mesures mises en place pour soutenir le pouvoir d’achat des français, le Gouvernement a fait voter une mesure visant à limiter, pour toutes les PME, la variation de l’Indice des Loyers Commerciaux (ILC) à 3,5% sur une période d’un an.\\nSi vous avez des questions sur votre éligibilité à ce dispositif et sur sa mise en œuvre, la Direction générale des Entreprises met à votre disposition une FAQ spécifique.\\nTélécharger la FAQ\\nTélécharger le tableau d'aide au calcul\",\n",
       " 'Un organisme (ou laboratoire) accrédité est un organisme qui a obtenu un certificat d\\'accréditation qui atteste de sa compétence pour une activité d\\'évaluation donnée. En France, c\\'est le COFRAC qui délivre ces certificats. L\\'accréditation offre des garanties sur l\\'organisme car ses compétences et ses méthodes de travail sont surveillées régulièrement par un tiers indépendant, le COFRAC. L\\'accréditation est en général volontaire mais peut être dans certains cas une exigence réglementaire.\\nUn organisme (ou laboratoire) notifié est un organisme qui est désigné, à sa demande, par les pouvoirs publics d\\'un Etat membre auprès de la Commission européenne pour réaliser des procédures d\\'évaluation de la conformité de produits. Cette notification permet à l\\'organisme concerné d\\'effectuer des évaluations de conformité à la réglementation européenne, en général à des directives dites «\\xa0nouvelle approche\\xa0». Les produits évalués par un organisme notifié peuvent être mis sur le marché dans toute l\\'Union européenne.\\nLes pouvoirs publics français imposent généralement aux organismes qu\\'ils notifient à la Commission européenne d\\'être accrédités pour l\\'activité considérée. C\\'est la façon de vérifier qu\\'ils remplissent bien les conditions pour être notifiés.\\nLa liste des organismes notifiés par les Etats membres est disponible sur le site \" NANDO \" de la Commission européenne.\\nVoir aussi les Directives « Nouvelle approche » prévoyant un marquage CE.',\n",
       " \"Lorsqu'un produit relève de plusieurs directives européennes imposant le marquage CE, il doit être conforme à toutes les exigences de sécurité prévues par les directives concernées.\\nCe produit ne portera qu'un seul marquage CE.\\nPar exemple, les appareils électriques relèvent, dans la majorité des cas, d'au moins deux directives européennes applicables :\\nla directive 2014/35/EU relative au matériel électrique destiné à être employé dans certaines limites de tension, dite directive basse tension ;\\nla directive\\xa02014/30/EU concernant la compatibilité électromagnétique (CEM).\\nCes matériels électriques ne portent qu'un seul marquage CE et doivent être conformes aux exigences de ces deux directives.\\nDe même, un jouet radiocommandé\\xa0devra respecter au moins :\\nla directive 2009/48/CE relative à la sécurité des jouets ;\\nla directive 2014/53/EU (R&TTE) relative aux\\xa0équipements terminaux de télécommunication.\",\n",
       " \"D'autres marquages peuvent être apposés à côté du marquage CE à la condition d'être lisibles, facilement identifiables et de ne pas créer de confusion avec le marquage CE.\\nLe marquage CE est une obligation réglementaire qui s'applique aux produits qui relèvent de directives européennes d'harmonisation le prévoyant expressément. Il matérialise l'engagement du fabricant à respecter les exigences essentielles de sécurité prévues par ces directives. Il permet la libre circulation du produit au sein de l'Union européenne. \\nPlus de renseignements sur le marquage CE\\nPar ailleurs, certaines réglementations européennes horizontales imposent d'autres marquages obligatoires, comme le symbole de la « poubelle barrée » rendu obligatoire par la directive européenne DEEE (déchets d'équipements électriques et électroniques) qui prévoit la gestion et le traitement de ces déchets.\\nD'autres logos, non imposés par la réglementation, peuvent être apposés. Ils relèvent alors d'une démarche volontaire d'information des consommateurs, tel le marquage « Made in/Fabriqué en » qui indique le pays d'origine des produits. Les indications apposées doivent fournir une information loyale au consommateur afin de ne pas contrevenir au code de la consommation, en particulier à ses articles L.121-1 (pratiques commerciales trompeuses) et L.213-1 (tromperie sur les qualités substantielles ou sur l'aptitude à l'emploi).\",\n",
       " 'Le réglement Produits de construction prévoit que les produits sont soumis au marquage « CE » au fur et à mesure de l’élaboration des spécifications techniques les concernant.\\nPour savoir si votre produit est soumis au marquage « CE », vous pouvez consulter le site internet consacré au Règlement\\xa0produits de construction (rpcnet.org), mis en place par les ministères chargés de l’équipement et de l’industrie.',\n",
       " 'Ils doivent être conformes à la réglementation, qui s’impose dans tous les cas.\\nLa norme est un document de référence énonçant des solutions possibles permettant de respecter la réglementation. Elaborée de façon consensuelle par les acteurs concernés, elle émane d’un organisme de normalisation surveillé par l’Etat (en France\\xa0: AFNOR et 25 bureaux de normalisation sectoriels). Elle est d’application volontaire, sauf exceptions explicitement prévues par la réglementation. Elle se distingue des textes élaborés par les pouvoirs publics qui sont, eux, d’application obligatoire.\\nDans tous les cas, la réglementation prime sur la norme et la norme doit respecter la réglementation. La norme ne peut ni définir, ni contredire, ni contraindre la réglementation. Une norme qui ne s’accorde plus avec la réglementation du fait de l’évolution de celle-ci est automatiquement inapplicable et périmée.\\nDes normes peuvent, dans certains cas, être référencées dans la réglementation. En particulier, la norme peut être reconnue comme un mode de preuve privilégié. Un produit qui y est conforme est présumé satisfaire à la réglementation si les textes qui instituent celle-ci le prévoient.\\nPour plus d’informations sur la normalisation, vous pouvez consulter les pages consacrées à la normalisation.\\n\\n\\xa0',\n",
       " 'Lorsque votre produit n’est pas soumis à une réglementation spécifique, il relève de l’obligation générale de sécurité définie à l’article L.221-1 du code de la consommation.\\nCelui-ci prévoit que « les produits et services doivent, dans des conditions normales d’utilisation ou dans d’autres conditions raisonnablement prévisibles par le professionnel, présenter la sécurité à laquelle on peut légitimement s’attendre et ne pas porter atteinte à la santé des personnes. »\\nEn tant que fabricant ou responsable de la première mise sur le marché français, il vous appartient d’identifier les risques inhérents à l’utilisation du produit et de rechercher les moyens à mettre en œuvre pour les prévenir.\\nLa présomption de conformité à cette obligation peut s’établir sur la base de normes ou de protocoles d’essais établis par un laboratoire ou par vous-même.\\nLa présence d’indications relatives à l’utilisation et d’avertissements informant du bon usage de ce produit est un élément de sécurité, mais elle n’exonère pas de vérifier sa conformité à l’article L. 221-1.',\n",
       " 'Le marquage « CE » assure la libre circulation de votre produit dans l’Espace Economique Européen (EEE) qui est constitué des 27 Etats membres de l’Union européenne et de trois des quatre membres de l’Association Européenne de Libre Échange (AELE)\\xa0: Islande, Liechtenstein,\\xa0Norvège (sauf la Suisse).',\n",
       " \"Le marquage d'indication d'origine des produits est une démarche volontaire et facultative, sauf pour certains produits agricoles et alimentaires. Toutefois, il ne doit pas induire le consommateur en erreur et respecter les critères de détermination de l'origine fixés par le Code des douanes de l’Union européenne.\\nLa DGDDI propose un accompagnement personnalisé (l’Information sur le Made in France - IMF), à toute personne souhaitant savoir si elle peut ou non apposer la mention «\\xa0Fabriqué en France\\xa0» sur un produit. Il s’agit d’un service gratuit et non obligatoire. \\nVoir le marquage d'origine des produits.\",\n",
       " \"L'obligation de marquage CE n'existe que pour les produits couverts par une ou plusieurs directives européennes qui prévoient un tel marquage (voir marquage « CE »).\\nLes autres produits non couverts par de telles directives ne sont pas soumis au marquage CE et ne doivent pas comporter ce marquage sous peine d'infraction.\"]"
      ]
     },
     "execution_count": 11,
     "metadata": {},
     "output_type": "execute_result"
    }
   ],
   "source": [
    "#ON ENLÈVE LE \"\\n\"\n",
    "for i in range(len(réponses)):\n",
    "    réponses[i] = réponses[i].strip(' \\n')\n",
    "réponses"
   ]
  },
  {
   "cell_type": "code",
   "execution_count": 12,
   "metadata": {},
   "outputs": [
    {
     "data": {
      "text/plain": [
       "10"
      ]
     },
     "execution_count": 12,
     "metadata": {},
     "output_type": "execute_result"
    }
   ],
   "source": [
    "len(réponses)"
   ]
  },
  {
   "cell_type": "markdown",
   "metadata": {},
   "source": [
    "## DATAFRAME"
   ]
  },
  {
   "cell_type": "code",
   "execution_count": 24,
   "metadata": {},
   "outputs": [
    {
     "data": {
      "text/html": [
       "<div>\n",
       "<style scoped>\n",
       "    .dataframe tbody tr th:only-of-type {\n",
       "        vertical-align: middle;\n",
       "    }\n",
       "\n",
       "    .dataframe tbody tr th {\n",
       "        vertical-align: top;\n",
       "    }\n",
       "\n",
       "    .dataframe thead th {\n",
       "        text-align: right;\n",
       "    }\n",
       "</style>\n",
       "<table border=\"1\" class=\"dataframe\">\n",
       "  <thead>\n",
       "    <tr style=\"text-align: right;\">\n",
       "      <th></th>\n",
       "      <th>Question</th>\n",
       "      <th>Réponse</th>\n",
       "      <th>URL</th>\n",
       "    </tr>\n",
       "  </thead>\n",
       "  <tbody>\n",
       "    <tr>\n",
       "      <th>0</th>\n",
       "      <td>Où trouver des études sur le marché de l'embal...</td>\n",
       "      <td>Vous pouvez trouver des informations relatives...</td>\n",
       "      <td>https://www.entreprises.gouv.fr/fr/faq?page=0</td>\n",
       "    </tr>\n",
       "    <tr>\n",
       "      <th>1</th>\n",
       "      <td>Où trouver des statistiques sur la création de...</td>\n",
       "      <td>La DGE n’est pas en mesure de répondre sur un ...</td>\n",
       "      <td>https://www.entreprises.gouv.fr/fr/faq?page=0</td>\n",
       "    </tr>\n",
       "    <tr>\n",
       "      <th>2</th>\n",
       "      <td>Est-il possible de diffuser les études économi...</td>\n",
       "      <td>Vous pouvez tout à fait relayer les informatio...</td>\n",
       "      <td>https://www.entreprises.gouv.fr/fr/faq?page=0</td>\n",
       "    </tr>\n",
       "    <tr>\n",
       "      <th>3</th>\n",
       "      <td>Où trouver les chiffres concernant la création...</td>\n",
       "      <td>Nous vous invitons à vous adresser à l'Institu...</td>\n",
       "      <td>https://www.entreprises.gouv.fr/fr/faq?page=0</td>\n",
       "    </tr>\n",
       "    <tr>\n",
       "      <th>4</th>\n",
       "      <td>Je suis micro-entrepreneur, suis-je assujetti ...</td>\n",
       "      <td>Les micro-entrepreneurs, qu'ils possèdent un l...</td>\n",
       "      <td>https://www.entreprises.gouv.fr/fr/faq?page=0</td>\n",
       "    </tr>\n",
       "    <tr>\n",
       "      <th>5</th>\n",
       "      <td>Où envoyer la déclaration de la retenue à la s...</td>\n",
       "      <td>Cette question ne relève pas de la compétence ...</td>\n",
       "      <td>https://www.entreprises.gouv.fr/fr/faq?page=0</td>\n",
       "    </tr>\n",
       "    <tr>\n",
       "      <th>6</th>\n",
       "      <td></td>\n",
       "      <td>Les micro-entrepreneurs exerçant une activité ...</td>\n",
       "      <td>https://www.entreprises.gouv.fr/fr/faq?page=0</td>\n",
       "    </tr>\n",
       "  </tbody>\n",
       "</table>\n",
       "</div>"
      ],
      "text/plain": [
       "                                            Question  \\\n",
       "0  Où trouver des études sur le marché de l'embal...   \n",
       "1  Où trouver des statistiques sur la création de...   \n",
       "2  Est-il possible de diffuser les études économi...   \n",
       "3  Où trouver les chiffres concernant la création...   \n",
       "4  Je suis micro-entrepreneur, suis-je assujetti ...   \n",
       "5  Où envoyer la déclaration de la retenue à la s...   \n",
       "6                                                      \n",
       "\n",
       "                                             Réponse  \\\n",
       "0  Vous pouvez trouver des informations relatives...   \n",
       "1  La DGE n’est pas en mesure de répondre sur un ...   \n",
       "2  Vous pouvez tout à fait relayer les informatio...   \n",
       "3  Nous vous invitons à vous adresser à l'Institu...   \n",
       "4  Les micro-entrepreneurs, qu'ils possèdent un l...   \n",
       "5  Cette question ne relève pas de la compétence ...   \n",
       "6  Les micro-entrepreneurs exerçant une activité ...   \n",
       "\n",
       "                                             URL  \n",
       "0  https://www.entreprises.gouv.fr/fr/faq?page=0  \n",
       "1  https://www.entreprises.gouv.fr/fr/faq?page=0  \n",
       "2  https://www.entreprises.gouv.fr/fr/faq?page=0  \n",
       "3  https://www.entreprises.gouv.fr/fr/faq?page=0  \n",
       "4  https://www.entreprises.gouv.fr/fr/faq?page=0  \n",
       "5  https://www.entreprises.gouv.fr/fr/faq?page=0  \n",
       "6  https://www.entreprises.gouv.fr/fr/faq?page=0  "
      ]
     },
     "execution_count": 24,
     "metadata": {},
     "output_type": "execute_result"
    }
   ],
   "source": [
    "df1 = pd.DataFrame({'Question': questions, 'Réponse': réponses, 'URL': 'https://www.entreprises.gouv.fr/fr/faq?page=0'})\n",
    "\n",
    "# Affichage du DataFrame\n",
    "df1"
   ]
  },
  {
   "cell_type": "markdown",
   "metadata": {},
   "source": [
    "### _____________________________________________________________________________________________________________"
   ]
  },
  {
   "cell_type": "markdown",
   "metadata": {},
   "source": [
    "### J'optimise mon code pour les autres pages de questions afin de gagner du temps:"
   ]
  },
  {
   "cell_type": "markdown",
   "metadata": {},
   "source": [
    "# 2e page de question"
   ]
  },
  {
   "cell_type": "code",
   "execution_count": 14,
   "metadata": {},
   "outputs": [],
   "source": [
    "import requests as req #je re-import requests afin d'eviter des problèmes\n",
    "req = req.get('https://www.entreprises.gouv.fr/fr/faq?page=1')"
   ]
  },
  {
   "cell_type": "markdown",
   "metadata": {},
   "source": [
    "## QUESTIONS"
   ]
  },
  {
   "cell_type": "code",
   "execution_count": 15,
   "metadata": {},
   "outputs": [
    {
     "name": "stdout",
     "output_type": "stream",
     "text": [
      "10\n"
     ]
    },
    {
     "data": {
      "text/plain": [
       "['A l’occasion d’un séjour dans un pays tiers (en dehors de l’Union européenne), j’ai acheté « sur place » un produit et souhaite le ramener avec moi en France. Ce produit est-il soumis à la réglementation européenne ?',\n",
       " \"Le marquage CE s'applique-t-il aux produits qui entrent sur le territoire de l'Union européenne (UE) pour être exportés hors UE et qui en sont pas destinés à être mis sur le marché dans l'UE ?\",\n",
       " 'Libre circulation des produits : quelles sont les modalités de transition pour l’entrée en application des huit directives « alignées » le 20 avril 2016 ?',\n",
       " \"Dans quels cas est-il nécessaire d'avoir une carte de guide-conférencier ?\",\n",
       " \"L'accès aux handicapés à une piscine, dans une résidence de tourisme est-il une obligation ?\",\n",
       " 'Une piscine dans une résidence de tourisme est-elle un ERP ?',\n",
       " 'Je souhaite créer mon agence de voyage pour proposer des services à mes clients. Une garantie financière est-elle obligatoire ?',\n",
       " 'Quelles sont les démarches pour devenir guide-conférencier en France ?',\n",
       " \"Qu'est-ce qu'une boîte CIDEX ?\",\n",
       " \"Quels doivent être les horaires d'ouvertures des bureaux de poste ?\"]"
      ]
     },
     "execution_count": 15,
     "metadata": {},
     "output_type": "execute_result"
    }
   ],
   "source": [
    "html = req.text\n",
    "soup= BeautifulSoup(html,'html.parser')\n",
    "\n",
    "#ON CHERCHE LES QUESTIONS\n",
    "noms = soup.findAll('div',{'class':'views-row'})\n",
    "questions = [noms.get_text() for noms in noms]\n",
    "\n",
    "#ON ENLÈVE LE \"\\n\"\n",
    "for i in range(len(questions)):\n",
    "    questions[i] = questions[i].strip(' \\n')\n",
    "\n",
    "#ON ENLÈVE TOUT CE QUI EST APRÈS LES QUESTIONS\n",
    "for i in range(len(questions)):\n",
    "    index = questions[i].find('?') + 1 \n",
    "    questions[i] = questions[i][:index]\n",
    "\n",
    "#ON ENLÈVE L'ERREUR CAR LA PREMIÈRE QUESTION EST EN DOUBLE\n",
    "questions = questions[1:]\n",
    "\n",
    "#JE VÉRIFIE BIEN QUE J'AI 10 QUESTIONS PAR PAGE\n",
    "print(len(questions))\n",
    "questions\n"
   ]
  },
  {
   "cell_type": "markdown",
   "metadata": {},
   "source": [
    "## RÉPONSES"
   ]
  },
  {
   "cell_type": "code",
   "execution_count": 16,
   "metadata": {},
   "outputs": [
    {
     "name": "stdout",
     "output_type": "stream",
     "text": [
      "10\n"
     ]
    },
    {
     "data": {
      "text/plain": [
       "['La législation d’harmonisation de l’Union s’applique lors de la mise sur le marché d’un produit et de toute opération ultérieure de mise à disposition jusqu’à l’utilisateur final. Or, «\\xa0l’importation personnelle\\xa0» de produits n’est pas considérée comme une opération de mise sur le marché\\xa0; les produits ramenés sur le territoire de l’Union dans ce cadre particulier ne sont donc pas soumis à la législation d’harmonisation européenne.\\nCette notion doit toutefois être appréciée de manière très restrictive\\xa0: elle concerne uniquement le cas de l’achat ponctuel d’un produit par un consommateur (un particulier) qui se trouve physiquement dans le pays où est effectuée la vente. Si, compte tenu de ses caractéristiques techniques (notamment dimensions et poids), le produit en question ne peut être ramené sur le territoire de l’Union dans les bagages personnels du consommateur ou dans le cadre de son déménagement, le recours exceptionnel à un container (bateau…) peut être admis. Le consommateur devra pouvoir justifier aux autorités douanières le caractère personnel de l’importation.\\nSont notamment exclus\\xa0de la notion d’importation personnelle :\\nLes achats effectués à des fins autres que l’utilisation strictement personnelle (achat en vue d’une revente au sein de l’Union européenne\\xa0par exemple) ;\\nLes achats effectués dans le cadre de la vente à distance ou du commerce électronique dès lors que le catalogue ou le site internet destine son offre à des consommateurs de l’Union européenne (par exemple, en proposant le paiement en euros).\\nA toutes fins utiles, des informations complémentaires relatives aux formalités douanières sont disponibles\\xa0:\\npour les franchises en valeur applicable aux voyageurs, un guide décrit les formalités douanières à accomplir en fonction des marchandises achetées dans un pays tiers.\\xa0\\npour les franchises douanières en cas de déménagement, des informations sont disponibles sur le site internet de la douane.',\n",
       " \"Pour pouvoir être mis sur le marché de l’Union européenne, les produits doivent faire l’objet d’une évaluation de la conformité avec les exigences essentielles de ou des directives sectorielles dont ils relèvent. Ces directives d’harmonisation fixent les exigences essentielles pour la conception d’un produit et les procédures d’évaluation de la conformité du produit à ces exigences. \\xa0Lorsque le marquage CE est requis, il permet aux entreprises d’attester de la conformité de leurs produits aux exigences des directives applicables en vue de leur libre circulation sur l’ensemble du territoire de l’Union européenne.\\nDans le cas d’une importation de matériels non-conformes à la réglementation européenne et qui sont destinés à être revendus en dehors du territoire de l’Union européenne, les marchandises peuvent être placées sous le régime de l'entrepôt douanier.\\nCe régime permet, en effet, de stocker les marchandises tierces en suspension\\xa0:\\nde droits et taxes\\xa0;\\nde mesures de politique commerciale\\xa0;\\ndes mesures liées aux réglementations particulières,\\xa0comme le marquage CE.\\nLeur application est reportée au moment de la mise en libre pratique des marchandises en sortie d'entrepôt en vue de leur versement sur le marché communautaire.\\nEn conséquence, si l'objectif est de réexporter ces marchandises, celles-ci n'ont pas à respecter les réglementations techniques pendant leur séjour sous l'entrepôt.\",\n",
       " \"Huit directives européennes sont entrées en application depuis le du 20 avril 2016.\\nDIRECTIVES\\nAnciennes références\\n2014/28/UE\\nExplosifs à usage civil\\n93/15/CEE\\n2014/29/UE\\nRécipients à pression simples\\n2009/105/CE\\n2014/30/UE\\nCompatibilité électromagnétique\\n2004/108/CE\\n2014/31/UE\\nInstruments de pesage à fonctionnement non automatique\\n2009/23/CE\\n2014/32/UE\\nInstruments de mesure\\n2004/22/CE\\n2014/33/UE\\nAscenseurs\\n95/16/CE\\n2014/34/UE\\nAppareils et systèmes de protection destinés à être utilisés en atmosphères explosibles (ATEX)\\n94/9/CE\\n2014/35/UE\\nMatériel électrique «\\xa0basse tension\\xa0»\\n2006/95/CE\\nCes directives résultent d’un exercice d’alignement sur le nouveau cadre législatif commun en matière de commercialisation des produits dans l’Union européenne fixé par la décision n° 768/2008/CE du Parlement et du Conseil. L’objectif de cet alignement est d’assurer une harmonisation des obligations des opérateurs économiques ainsi que de celles des autorités de surveillance du marché.\\nL’alignement de ces directives sur la décision n° 768/2008/CE n’a pas entraîné de modification sur les exigences essentielles et sur les procédures d'évaluation de la conformité. Aussi, aucune de ces directives ne prévoit de période transitoire pour la mise en œuvre des nouvelles dispositions.\\nCet exercice a néanmoins permis de préciser certaines exigences des directives existantes, notamment en matière d’obligations des opérateurs économiques (fabricants, importateurs et distributeurs) concernant la traçabilité des produits mais également en matière d’exigences linguistiques applicables aux instructions et informations destinées aux consommateurs et utilisateurs finaux.\\nDe manière générale, il est rappelé que les produits doivent être conformes à la législation d’harmonisation de l’Union européenne applicable au moment de leur mise sur le marché, c’est-à-dire au moment de leur première commercialisation dans l’Union européenne.\\nAinsi, les produits déjà mis sur le marché n’auront pas besoin d’être modifiés à compter du 20 avril 2016. En revanche, les produits mis sur le marché à compter du 20 avril 2016 devront être conformes aux nouvelles directives (notamment aux exigences liées à la traçabilité telles que l’apposition de l’adresse du fabricant sur le produit, ou encore celles relatives aux déclarations de conformité).\\nAttention\\xa0: Même si un modèle ou un type de produits a été mis sur le marché avant l’entrée en vigueur des nouvelles directives, toute unité du même produit ou de même type mis sur le marché après la date d’entrée en application des nouvelles exigences devra être conforme à ces dernières.\\nEnfin, compte tenu de l’absence de période de transition pour l’application des directives «\\xa0alignées\\xa0», certains Etats membres ont proposé une solution pragmatique pour la mise à jour des déclarations de conformité (actualisation des références réglementaires). Selon cette proposition, les déclarations de conformité peuvent indiquer la conformité aux deux directives concernées (actuelle et future), en précisant bien les dates d’application de chacune, cela pendant une période d’adaptation documentaire autour du 20 avril 2016.\\nCes modalités sont reprises dans le Guide bleu relatif à la mise en œuvre de la réglementation de l’Union européenne sur les produits, qui a été publié en 2016.\",\n",
       " \"La détention de carte professionnelle de guide-conférencier est nécessaire dans le dans le cadre d’une prestation commerciale avec un opérateur de voyage. Les articles L.221-1 et R.221-1 du code du tourisme imposent en effet aux opérateurs de voyage d’avoir recours aux services de personnes qualifiées, titulaires d’une carte professionnelle pour la conduite de visites commentées dans les musées et monuments historiques.\\nBon à savoir :\\nUn guide conférencier qui exerce son activité en qualité de travailleur indépendant n’a pas d’obligation de détenir la carte professionnelle de guide-conférencier.\\nUne agence de voyages, un office de tourisme ou encore un syndicat d'initiative n’ont recours à un guide-conférencier, détenteur de la carte professionnelle de guide-conférencier que pour des visites commentées dans les musées de France (musées et monuments historiques).\",\n",
       " \"La mise en accessibilité pour les personnes handicapées, prévue par l'ordonnance du 26 septembre 2014, fixe un délai dans le cadre d'un agenda d'accessibilité programmée.\\nConcernant une piscine dans un ensemble de 4 lotissements, mi-résidence touristique, mi-résidence principale, la détermination de son statut juridique précis doit résulter d'un examen du dossier par la commission communale pour l'accessibilité.\\nPour de plus amples informations, consulter le site de la délégation ministérielle à l'accessibilité.\",\n",
       " \"Les résidences de tourisme sont des établissements recevant du public (ERP) dits de type O et la piscine au sein d'une résidence est soumise au règlement sécurité des ERP.\",\n",
       " \"Cette question concerne toute activité consistant à organiser ou vendre des services dont vous n'êtes pas producteur, relatifs à des voyages et séjours, incluant la réservation d’hébergements, des transports, des prestations de restauration, des visites touristiques, etc.\\nDans ces circonstances, une immatriculation auprès d’Atout France est indispensable.\\xa0\\nIl est également nécessaire de souscrire une assurance de responsabilité civile professionnelle et de prendre une garantie financière afin de garantir les fonds déposés par les clients.\\nA noter : l'immatriculation est nécessaire même si vous ne proposez pas de prestations de transport qui pourraient nécessité d'éventuels rapatriements.\\nPour plus d'informations, consulter le site d’Atout France et le code du tourisme.\",\n",
       " 'Toutes les informations relatives au métier de guide conférencier sont disponibles sur cette page.',\n",
       " 'CIDEX (Courrier Individuel à Distribution Exceptionnelle)\\n\\n\\n\\n\\n\\n\\nEn tant que prestataire du service universel postal et, conformément à l’article L.1 du code des postes et des communications électroniques, La Poste est tenue d’assurer un service de distribution tous les jours ouvrables, sauf circonstances exceptionnelles. Le service de distribution est effectué dans des installations appropriées au domicile de chaque personne physique ou morale.\\nLa Poste peut par ailleurs proposer aux communes un service postal de distribution du courrier complémentaire, dans des boites aux lettres individuelles regroupées sur un axe de communication (CIDEX), qui peut concerner un quartier, un lotissement ou un ensemble d’habitations. L’implantation de ces boites CIDEX ne peut être imposée par La Poste mais doit être réalisée au cas par cas, en concertation avec les habitants concernés et les élus, au moyen de la conclusion de conventions définissant les conditions d’installation et de fonctionnement de ces boîtes.',\n",
       " \"Conformément à la loi n° 90-568 du 2 juillet 1990 modifiée relative à l’organisation du service public de la poste et à France Télécom, «\\xa0Le contrat pluriannuel de la présence postale territoriale […] précise également les conditions, en termes notamment d'horaires d'ouverture et d'offre de base de services postaux et financiers, de qualité, d'information, d'amélioration et d'engagements de service auprès des usagers, que doivent remplir les points de contact en fonction de leurs caractéristiques et dans le respect des principes du développement durable. Les conditions relatives aux horaires d'ouverture des points de contact prévoient l'adaptation de ces horaires aux modes de vie de la population desservie\\xa0».\\nLe contrat de présence postale territoriale 2020 - 2022 passé entre l’Etat, La Poste et l’association la plus représentative des maires, prévoit des règles précises en matière d'évolution des horaires d'ouverture des points de contact dans les zones prioritaires.\\nC’est ainsi que toute évolution de l'amplitude horaire d'ouverture d'un bureau de poste doit faire l'objet d'un rapport formalisé par La Poste et remis au maire de la commune concernée qui dispose d'un délai de deux mois, qui peut être porté à trois à la demande du maire, pour transmettre ses observations. La modification de l’amplitude horaire d’ouverture d’un bureau de poste doit être proportionnée à l’évolution de l’activité constatée depuis la dernière modification d’amplitude horaire hebdomadaire du bureau. Une seule évolution de l’amplitude horaire d’un bureau de poste est possible pendant la durée du contrat de présence postale en cours.\\nLa réduction des horaires d'ouverture d'un bureau de poste ne peut conduire à une amplitude inférieure à 12 heures par semaine.\\nToute modification des horaires d'un bureau de poste n’impactant pas l’amplitude hebdomadaire, doit faire l’objet, à l’issue d’un dialogue, d’une information écrite du maire au moins deux mois avant la modification effective.\\nPar ailleurs, le contrat fixe également des mesures d’information pour tous les points de contact.\\nLes jours et horaires d’ouverture de chaque point de contact sont affichés sur place et sont également disponibles sur le site internet de La Poste. En cas de modification d’horaire d’ouverture, La Poste ou le partenaire informe les usagers des nouveaux horaires par voie de presse locale et d'affichage sur site au moins deux mois avant la date d’entrée en vigueur.\\nLes mesures estivales qui visent à prendre en compte l’évolution de la fréquentation de certains bureaux de poste durant l’été, peuvent se traduire soit par une adaptation des horaires d’ouverture (à la hausse ou à la baisse), soit par une fermeture qui ne peut excéder trois semaines. Dans ce dernier cas, l’offre de services postaux disponibles à proximité est communiquée au maire. Ces mesures sont notifiées au maire au plus tard deux mois avant leur mise en œuvre et communiquées aux usagers par voie d’affichage.\"]"
      ]
     },
     "execution_count": 16,
     "metadata": {},
     "output_type": "execute_result"
    }
   ],
   "source": [
    "#ON CHERCHE LES RÉPONSES\n",
    "rep = soup.findAll('div',{'class':'field-content'})\n",
    "réponses = [rep.get_text() for rep in rep]\n",
    "\n",
    "#ON ENLÈVE LE \"\\n\"\n",
    "for i in range(len(réponses)):\n",
    "    réponses[i] = réponses[i].strip(' \\n')\n",
    "\n",
    "#JE VÉRIFIE BIEN QUE J'AI 10 QUESTIONS PAR PAGE\n",
    "print(len(réponses))\n",
    "réponses\n"
   ]
  },
  {
   "cell_type": "markdown",
   "metadata": {},
   "source": [
    "## DATAFRAME"
   ]
  },
  {
   "cell_type": "code",
   "execution_count": 23,
   "metadata": {},
   "outputs": [
    {
     "data": {
      "text/html": [
       "<div>\n",
       "<style scoped>\n",
       "    .dataframe tbody tr th:only-of-type {\n",
       "        vertical-align: middle;\n",
       "    }\n",
       "\n",
       "    .dataframe tbody tr th {\n",
       "        vertical-align: top;\n",
       "    }\n",
       "\n",
       "    .dataframe thead th {\n",
       "        text-align: right;\n",
       "    }\n",
       "</style>\n",
       "<table border=\"1\" class=\"dataframe\">\n",
       "  <thead>\n",
       "    <tr style=\"text-align: right;\">\n",
       "      <th></th>\n",
       "      <th>Question</th>\n",
       "      <th>Réponse</th>\n",
       "      <th>URL</th>\n",
       "    </tr>\n",
       "  </thead>\n",
       "  <tbody>\n",
       "    <tr>\n",
       "      <th>0</th>\n",
       "      <td>Où trouver des études sur le marché de l'embal...</td>\n",
       "      <td>Vous pouvez trouver des informations relatives...</td>\n",
       "      <td>https://www.entreprises.gouv.fr/fr/faq?page=1</td>\n",
       "    </tr>\n",
       "    <tr>\n",
       "      <th>1</th>\n",
       "      <td>Où trouver des statistiques sur la création de...</td>\n",
       "      <td>La DGE n’est pas en mesure de répondre sur un ...</td>\n",
       "      <td>https://www.entreprises.gouv.fr/fr/faq?page=1</td>\n",
       "    </tr>\n",
       "    <tr>\n",
       "      <th>2</th>\n",
       "      <td>Est-il possible de diffuser les études économi...</td>\n",
       "      <td>Vous pouvez tout à fait relayer les informatio...</td>\n",
       "      <td>https://www.entreprises.gouv.fr/fr/faq?page=1</td>\n",
       "    </tr>\n",
       "    <tr>\n",
       "      <th>3</th>\n",
       "      <td>Où trouver les chiffres concernant la création...</td>\n",
       "      <td>Nous vous invitons à vous adresser à l'Institu...</td>\n",
       "      <td>https://www.entreprises.gouv.fr/fr/faq?page=1</td>\n",
       "    </tr>\n",
       "    <tr>\n",
       "      <th>4</th>\n",
       "      <td>Je suis micro-entrepreneur, suis-je assujetti ...</td>\n",
       "      <td>Les micro-entrepreneurs, qu'ils possèdent un l...</td>\n",
       "      <td>https://www.entreprises.gouv.fr/fr/faq?page=1</td>\n",
       "    </tr>\n",
       "    <tr>\n",
       "      <th>5</th>\n",
       "      <td>Où envoyer la déclaration de la retenue à la s...</td>\n",
       "      <td>Cette question ne relève pas de la compétence ...</td>\n",
       "      <td>https://www.entreprises.gouv.fr/fr/faq?page=1</td>\n",
       "    </tr>\n",
       "    <tr>\n",
       "      <th>6</th>\n",
       "      <td></td>\n",
       "      <td>Les micro-entrepreneurs exerçant une activité ...</td>\n",
       "      <td>https://www.entreprises.gouv.fr/fr/faq?page=1</td>\n",
       "    </tr>\n",
       "  </tbody>\n",
       "</table>\n",
       "</div>"
      ],
      "text/plain": [
       "                                            Question  \\\n",
       "0  Où trouver des études sur le marché de l'embal...   \n",
       "1  Où trouver des statistiques sur la création de...   \n",
       "2  Est-il possible de diffuser les études économi...   \n",
       "3  Où trouver les chiffres concernant la création...   \n",
       "4  Je suis micro-entrepreneur, suis-je assujetti ...   \n",
       "5  Où envoyer la déclaration de la retenue à la s...   \n",
       "6                                                      \n",
       "\n",
       "                                             Réponse  \\\n",
       "0  Vous pouvez trouver des informations relatives...   \n",
       "1  La DGE n’est pas en mesure de répondre sur un ...   \n",
       "2  Vous pouvez tout à fait relayer les informatio...   \n",
       "3  Nous vous invitons à vous adresser à l'Institu...   \n",
       "4  Les micro-entrepreneurs, qu'ils possèdent un l...   \n",
       "5  Cette question ne relève pas de la compétence ...   \n",
       "6  Les micro-entrepreneurs exerçant une activité ...   \n",
       "\n",
       "                                             URL  \n",
       "0  https://www.entreprises.gouv.fr/fr/faq?page=1  \n",
       "1  https://www.entreprises.gouv.fr/fr/faq?page=1  \n",
       "2  https://www.entreprises.gouv.fr/fr/faq?page=1  \n",
       "3  https://www.entreprises.gouv.fr/fr/faq?page=1  \n",
       "4  https://www.entreprises.gouv.fr/fr/faq?page=1  \n",
       "5  https://www.entreprises.gouv.fr/fr/faq?page=1  \n",
       "6  https://www.entreprises.gouv.fr/fr/faq?page=1  "
      ]
     },
     "execution_count": 23,
     "metadata": {},
     "output_type": "execute_result"
    }
   ],
   "source": [
    "df2 = pd.DataFrame({'Question': questions, 'Réponse': réponses, 'URL': 'https://www.entreprises.gouv.fr/fr/faq?page=1'})\n",
    "\n",
    "# Affichage du DataFrame\n",
    "df2"
   ]
  },
  {
   "cell_type": "markdown",
   "metadata": {},
   "source": [
    "### _____________________________________________________________________________________________________________"
   ]
  },
  {
   "cell_type": "markdown",
   "metadata": {},
   "source": [
    "# 3e page de question"
   ]
  },
  {
   "cell_type": "code",
   "execution_count": 18,
   "metadata": {},
   "outputs": [],
   "source": [
    "import requests as req #je re-import requests afin d'eviter des problèmes\n",
    "req = req.get('https://www.entreprises.gouv.fr/fr/faq?page=2')"
   ]
  },
  {
   "cell_type": "code",
   "execution_count": 28,
   "metadata": {},
   "outputs": [
    {
     "data": {
      "text/plain": [
       "([\"Où trouver des études sur le marché de l'emballage en France ?\",\n",
       "  'Où trouver des statistiques sur la création de startups en France ?',\n",
       "  'Est-il possible de diffuser les études économiques de la DGE ?',\n",
       "  'Où trouver les chiffres concernant la création de startups en France pour une période donnée ?',\n",
       "  'Je suis micro-entrepreneur, suis-je assujetti à la CFE (Cotisation Foncière des Entreprises) ?',\n",
       "  'Où envoyer la déclaration de la retenue à la source (formulaire n°2494 - CERFA n° 10325*19) ?',\n",
       "  \"Le guichet unique électronique des formalités d’entreprises ou la Chambre de métiers et de l'artisanat (CMA) me réclame de l’argent pour une inscription au registre national des entreprises en tant qu’entreprise du secteur des métiers et de l’artisanat. Est-ce normal ?\"],\n",
       " 7)"
      ]
     },
     "execution_count": 28,
     "metadata": {},
     "output_type": "execute_result"
    }
   ],
   "source": [
    "html = req.text\n",
    "soup= BeautifulSoup(html,'html.parser')\n",
    "\n",
    "#ON CHERCHE LES QUESTIONS\n",
    "noms = soup.findAll('div',{'class':'views-row'})\n",
    "questions = [noms.get_text() for noms in noms]\n",
    "\n",
    "#ON ENLÈVE LE \"\\n\"\n",
    "for i in range(len(questions)):\n",
    "    questions[i] = questions[i].strip(' \\n')\n",
    "\n",
    "#ON ENLÈVE TOUT CE QUI EST APRÈS LES QUESTIONS\n",
    "for i in range(len(questions)):\n",
    "    index = questions[i].find('?') + 1 \n",
    "    questions[i] = questions[i][:index]\n",
    "\n",
    "#ON ENLÈVE L'ERREUR CAR LA PREMIÈRE QUESTION EST EN DOUBLE\n",
    "questions = questions[1:]\n",
    "\n",
    "# Remove the last question\n",
    "questions = questions[:-1]\n",
    "\n",
    "# Add a new question\n",
    "questions.append(\"Le guichet unique électronique des formalités d’entreprises ou la Chambre de métiers et de l'artisanat (CMA) me réclame de l’argent pour une inscription au registre national des entreprises en tant qu’entreprise du secteur des métiers et de l’artisanat. Est-ce normal ?\")\n",
    "questions, len(questions)"
   ]
  },
  {
   "cell_type": "code",
   "execution_count": 29,
   "metadata": {},
   "outputs": [
    {
     "name": "stdout",
     "output_type": "stream",
     "text": [
      "7\n"
     ]
    },
    {
     "data": {
      "text/plain": [
       "[\"Vous pouvez trouver des informations relatives au marché de l'emballage en France sur le site de l'Insee. Vous y trouverez des études en lien avec la valorisation des déchets, des informations sur la plasturgie, le papier, le carton...\",\n",
       " \"La DGE n’est pas en mesure de répondre sur un niveau de détail aussi fin. Pour accéder à ce type d'information, nous vous invitons à vous adresser à l'INSEE.\",\n",
       " 'Vous pouvez tout à fait relayer les informations diffusées dans les études économiques de la DGE\\xa0sur votre intranet.\\nNous vous demandons, néanmoins, de faire des liens vers les pages où sont disponibles les documents sur le site internet de la DGE.',\n",
       " \"Nous vous invitons à vous adresser à l'Institut national de la statistique et des études économiques  (INSEE), compétente dans le domaine : contacter l'INSEE.\",\n",
       " \"Les micro-entrepreneurs, qu'ils possèdent un local ou non, doivent payer la cotisation foncière des entreprises (CFE) dans les mêmes conditions que tout \\xa0entrepreneur.\\nVous n’êtes pas redevables de la CFE au titre de l’année de création de votre entreprise. Cependant, dès l'année suivante, vous y êtes assujettis.\\nAinsi, vous êtes redevable de la CFE dans la commune où vous disposez de terrains ou de locaux. Cela concerne les biens dont vous êtes propriétaire, locataire ou les biens que vous utilisez à titre gratuit.\\nEn l'absence de local, vous resterez redevable d'une cotisation minimum déterminée en fonction de votre chiffre d'affaires.\\nDepuis le 1er janvier 2019, \\xa0vous \\xa0êtes exonéré de CFE si votre\\xa0 chiffre d'affaires annuel ne dépasse pas 5 000 €.\\nLe taux de la CFE est déterminé par le conseil communal ou par l'Etablissement public de coopération intercommunale (EPCI) du lieu où vous disposez des biens. Son montant dépend donc de ce taux. Vous pouvez vous rapprocher de la Mairie ou du Service des Impôts des entreprises pour en prendre connaissance.\",\n",
       " 'Cette question ne\\xa0relève pas de la compétence de la Direction générale des Entreprises (DGE). Nous\\xa0vous invitons à prendre contact avec la Direction des Grandes Entreprises (DGE), placée sous l’autorité de la Direction Générale des Finances Publiques\\xa0:http://www.economie.gouv.fr/dgfip',\n",
       " \"Les\\xa0micro-entrepreneurs exerçant une activité artisanale doivent être immatriculés au registre national des entreprises (RNE) en tant qu’entreprise du secteur des métiers et de l’artisanat (ex-répertoire des métiers) depuis le 1er janvier 2023. C'est obligatoire, qu'il s'agisse d'une activité principale ou d'une activité secondaire. \\nL’immatriculation est gratuite. De ce fait, le guichet unique, la Chambre de métiers et de l'artisanat (CMA) ou toute autre entité ne peut réclamer de l'argent pour cet acte lors de votre inscription.\\nEn effet, le V de l’article L. 123-54 du Code de commerce prévoit que les micro-entrepreneurs sont dispensés du paiement des frais d’immatriculation.\\nSi vous avez déjà réglé une somme relative à l'immatriculation de votre micro-entreprise, vous\\xa0pouvez en demander le remboursement auprès de la CMA. En cas de refus, vous pouvez nous écrire.\"]"
      ]
     },
     "execution_count": 29,
     "metadata": {},
     "output_type": "execute_result"
    }
   ],
   "source": [
    "#ON CHERCHE LES RÉPONSES\n",
    "rep = soup.findAll('div',{'class':'field-content'})\n",
    "réponses = [rep.get_text() for rep in rep]\n",
    "\n",
    "#ON ENLÈVE LE \"\\n\"\n",
    "for i in range(len(réponses)):\n",
    "    réponses[i] = réponses[i].strip(' \\n')\n",
    "\n",
    "\n",
    "#JE VÉRIFIE BIEN QUE J'AI 10 QUESTIONS PAR PAGE\n",
    "print(len(réponses))\n",
    "réponses"
   ]
  },
  {
   "cell_type": "code",
   "execution_count": 30,
   "metadata": {},
   "outputs": [
    {
     "data": {
      "text/html": [
       "<div>\n",
       "<style scoped>\n",
       "    .dataframe tbody tr th:only-of-type {\n",
       "        vertical-align: middle;\n",
       "    }\n",
       "\n",
       "    .dataframe tbody tr th {\n",
       "        vertical-align: top;\n",
       "    }\n",
       "\n",
       "    .dataframe thead th {\n",
       "        text-align: right;\n",
       "    }\n",
       "</style>\n",
       "<table border=\"1\" class=\"dataframe\">\n",
       "  <thead>\n",
       "    <tr style=\"text-align: right;\">\n",
       "      <th></th>\n",
       "      <th>Question</th>\n",
       "      <th>Réponse</th>\n",
       "      <th>URL</th>\n",
       "    </tr>\n",
       "  </thead>\n",
       "  <tbody>\n",
       "    <tr>\n",
       "      <th>0</th>\n",
       "      <td>Où trouver des études sur le marché de l'embal...</td>\n",
       "      <td>Vous pouvez trouver des informations relatives...</td>\n",
       "      <td>https://www.entreprises.gouv.fr/fr/faq?page=2</td>\n",
       "    </tr>\n",
       "    <tr>\n",
       "      <th>1</th>\n",
       "      <td>Où trouver des statistiques sur la création de...</td>\n",
       "      <td>La DGE n’est pas en mesure de répondre sur un ...</td>\n",
       "      <td>https://www.entreprises.gouv.fr/fr/faq?page=2</td>\n",
       "    </tr>\n",
       "    <tr>\n",
       "      <th>2</th>\n",
       "      <td>Est-il possible de diffuser les études économi...</td>\n",
       "      <td>Vous pouvez tout à fait relayer les informatio...</td>\n",
       "      <td>https://www.entreprises.gouv.fr/fr/faq?page=2</td>\n",
       "    </tr>\n",
       "    <tr>\n",
       "      <th>3</th>\n",
       "      <td>Où trouver les chiffres concernant la création...</td>\n",
       "      <td>Nous vous invitons à vous adresser à l'Institu...</td>\n",
       "      <td>https://www.entreprises.gouv.fr/fr/faq?page=2</td>\n",
       "    </tr>\n",
       "    <tr>\n",
       "      <th>4</th>\n",
       "      <td>Je suis micro-entrepreneur, suis-je assujetti ...</td>\n",
       "      <td>Les micro-entrepreneurs, qu'ils possèdent un l...</td>\n",
       "      <td>https://www.entreprises.gouv.fr/fr/faq?page=2</td>\n",
       "    </tr>\n",
       "    <tr>\n",
       "      <th>5</th>\n",
       "      <td>Où envoyer la déclaration de la retenue à la s...</td>\n",
       "      <td>Cette question ne relève pas de la compétence ...</td>\n",
       "      <td>https://www.entreprises.gouv.fr/fr/faq?page=2</td>\n",
       "    </tr>\n",
       "    <tr>\n",
       "      <th>6</th>\n",
       "      <td>Le guichet unique électronique des formalités ...</td>\n",
       "      <td>Les micro-entrepreneurs exerçant une activité ...</td>\n",
       "      <td>https://www.entreprises.gouv.fr/fr/faq?page=2</td>\n",
       "    </tr>\n",
       "  </tbody>\n",
       "</table>\n",
       "</div>"
      ],
      "text/plain": [
       "                                            Question  \\\n",
       "0  Où trouver des études sur le marché de l'embal...   \n",
       "1  Où trouver des statistiques sur la création de...   \n",
       "2  Est-il possible de diffuser les études économi...   \n",
       "3  Où trouver les chiffres concernant la création...   \n",
       "4  Je suis micro-entrepreneur, suis-je assujetti ...   \n",
       "5  Où envoyer la déclaration de la retenue à la s...   \n",
       "6  Le guichet unique électronique des formalités ...   \n",
       "\n",
       "                                             Réponse  \\\n",
       "0  Vous pouvez trouver des informations relatives...   \n",
       "1  La DGE n’est pas en mesure de répondre sur un ...   \n",
       "2  Vous pouvez tout à fait relayer les informatio...   \n",
       "3  Nous vous invitons à vous adresser à l'Institu...   \n",
       "4  Les micro-entrepreneurs, qu'ils possèdent un l...   \n",
       "5  Cette question ne relève pas de la compétence ...   \n",
       "6  Les micro-entrepreneurs exerçant une activité ...   \n",
       "\n",
       "                                             URL  \n",
       "0  https://www.entreprises.gouv.fr/fr/faq?page=2  \n",
       "1  https://www.entreprises.gouv.fr/fr/faq?page=2  \n",
       "2  https://www.entreprises.gouv.fr/fr/faq?page=2  \n",
       "3  https://www.entreprises.gouv.fr/fr/faq?page=2  \n",
       "4  https://www.entreprises.gouv.fr/fr/faq?page=2  \n",
       "5  https://www.entreprises.gouv.fr/fr/faq?page=2  \n",
       "6  https://www.entreprises.gouv.fr/fr/faq?page=2  "
      ]
     },
     "execution_count": 30,
     "metadata": {},
     "output_type": "execute_result"
    }
   ],
   "source": [
    "df3 = pd.DataFrame({'Question': questions, 'Réponse': réponses, 'URL': 'https://www.entreprises.gouv.fr/fr/faq?page=2'})\n",
    "\n",
    "# Affichage du DataFrame\n",
    "df3"
   ]
  },
  {
   "cell_type": "code",
   "execution_count": 31,
   "metadata": {},
   "outputs": [
    {
     "data": {
      "text/html": [
       "<div>\n",
       "<style scoped>\n",
       "    .dataframe tbody tr th:only-of-type {\n",
       "        vertical-align: middle;\n",
       "    }\n",
       "\n",
       "    .dataframe tbody tr th {\n",
       "        vertical-align: top;\n",
       "    }\n",
       "\n",
       "    .dataframe thead th {\n",
       "        text-align: right;\n",
       "    }\n",
       "</style>\n",
       "<table border=\"1\" class=\"dataframe\">\n",
       "  <thead>\n",
       "    <tr style=\"text-align: right;\">\n",
       "      <th></th>\n",
       "      <th>Question</th>\n",
       "      <th>Réponse</th>\n",
       "      <th>URL</th>\n",
       "    </tr>\n",
       "  </thead>\n",
       "  <tbody>\n",
       "    <tr>\n",
       "      <th>0</th>\n",
       "      <td>Où trouver des études sur le marché de l'embal...</td>\n",
       "      <td>Vous pouvez trouver des informations relatives...</td>\n",
       "      <td>https://www.entreprises.gouv.fr/fr/faq?page=0</td>\n",
       "    </tr>\n",
       "    <tr>\n",
       "      <th>1</th>\n",
       "      <td>Où trouver des statistiques sur la création de...</td>\n",
       "      <td>La DGE n’est pas en mesure de répondre sur un ...</td>\n",
       "      <td>https://www.entreprises.gouv.fr/fr/faq?page=0</td>\n",
       "    </tr>\n",
       "    <tr>\n",
       "      <th>2</th>\n",
       "      <td>Est-il possible de diffuser les études économi...</td>\n",
       "      <td>Vous pouvez tout à fait relayer les informatio...</td>\n",
       "      <td>https://www.entreprises.gouv.fr/fr/faq?page=0</td>\n",
       "    </tr>\n",
       "    <tr>\n",
       "      <th>3</th>\n",
       "      <td>Où trouver les chiffres concernant la création...</td>\n",
       "      <td>Nous vous invitons à vous adresser à l'Institu...</td>\n",
       "      <td>https://www.entreprises.gouv.fr/fr/faq?page=0</td>\n",
       "    </tr>\n",
       "    <tr>\n",
       "      <th>4</th>\n",
       "      <td>Je suis micro-entrepreneur, suis-je assujetti ...</td>\n",
       "      <td>Les micro-entrepreneurs, qu'ils possèdent un l...</td>\n",
       "      <td>https://www.entreprises.gouv.fr/fr/faq?page=0</td>\n",
       "    </tr>\n",
       "    <tr>\n",
       "      <th>5</th>\n",
       "      <td>Où envoyer la déclaration de la retenue à la s...</td>\n",
       "      <td>Cette question ne relève pas de la compétence ...</td>\n",
       "      <td>https://www.entreprises.gouv.fr/fr/faq?page=0</td>\n",
       "    </tr>\n",
       "    <tr>\n",
       "      <th>6</th>\n",
       "      <td></td>\n",
       "      <td>Les micro-entrepreneurs exerçant une activité ...</td>\n",
       "      <td>https://www.entreprises.gouv.fr/fr/faq?page=0</td>\n",
       "    </tr>\n",
       "    <tr>\n",
       "      <th>7</th>\n",
       "      <td>Où trouver des études sur le marché de l'embal...</td>\n",
       "      <td>Vous pouvez trouver des informations relatives...</td>\n",
       "      <td>https://www.entreprises.gouv.fr/fr/faq?page=1</td>\n",
       "    </tr>\n",
       "    <tr>\n",
       "      <th>8</th>\n",
       "      <td>Où trouver des statistiques sur la création de...</td>\n",
       "      <td>La DGE n’est pas en mesure de répondre sur un ...</td>\n",
       "      <td>https://www.entreprises.gouv.fr/fr/faq?page=1</td>\n",
       "    </tr>\n",
       "    <tr>\n",
       "      <th>9</th>\n",
       "      <td>Est-il possible de diffuser les études économi...</td>\n",
       "      <td>Vous pouvez tout à fait relayer les informatio...</td>\n",
       "      <td>https://www.entreprises.gouv.fr/fr/faq?page=1</td>\n",
       "    </tr>\n",
       "    <tr>\n",
       "      <th>10</th>\n",
       "      <td>Où trouver les chiffres concernant la création...</td>\n",
       "      <td>Nous vous invitons à vous adresser à l'Institu...</td>\n",
       "      <td>https://www.entreprises.gouv.fr/fr/faq?page=1</td>\n",
       "    </tr>\n",
       "    <tr>\n",
       "      <th>11</th>\n",
       "      <td>Je suis micro-entrepreneur, suis-je assujetti ...</td>\n",
       "      <td>Les micro-entrepreneurs, qu'ils possèdent un l...</td>\n",
       "      <td>https://www.entreprises.gouv.fr/fr/faq?page=1</td>\n",
       "    </tr>\n",
       "    <tr>\n",
       "      <th>12</th>\n",
       "      <td>Où envoyer la déclaration de la retenue à la s...</td>\n",
       "      <td>Cette question ne relève pas de la compétence ...</td>\n",
       "      <td>https://www.entreprises.gouv.fr/fr/faq?page=1</td>\n",
       "    </tr>\n",
       "    <tr>\n",
       "      <th>13</th>\n",
       "      <td></td>\n",
       "      <td>Les micro-entrepreneurs exerçant une activité ...</td>\n",
       "      <td>https://www.entreprises.gouv.fr/fr/faq?page=1</td>\n",
       "    </tr>\n",
       "    <tr>\n",
       "      <th>14</th>\n",
       "      <td>Où trouver des études sur le marché de l'embal...</td>\n",
       "      <td>Vous pouvez trouver des informations relatives...</td>\n",
       "      <td>https://www.entreprises.gouv.fr/fr/faq?page=2</td>\n",
       "    </tr>\n",
       "    <tr>\n",
       "      <th>15</th>\n",
       "      <td>Où trouver des statistiques sur la création de...</td>\n",
       "      <td>La DGE n’est pas en mesure de répondre sur un ...</td>\n",
       "      <td>https://www.entreprises.gouv.fr/fr/faq?page=2</td>\n",
       "    </tr>\n",
       "    <tr>\n",
       "      <th>16</th>\n",
       "      <td>Est-il possible de diffuser les études économi...</td>\n",
       "      <td>Vous pouvez tout à fait relayer les informatio...</td>\n",
       "      <td>https://www.entreprises.gouv.fr/fr/faq?page=2</td>\n",
       "    </tr>\n",
       "    <tr>\n",
       "      <th>17</th>\n",
       "      <td>Où trouver les chiffres concernant la création...</td>\n",
       "      <td>Nous vous invitons à vous adresser à l'Institu...</td>\n",
       "      <td>https://www.entreprises.gouv.fr/fr/faq?page=2</td>\n",
       "    </tr>\n",
       "    <tr>\n",
       "      <th>18</th>\n",
       "      <td>Je suis micro-entrepreneur, suis-je assujetti ...</td>\n",
       "      <td>Les micro-entrepreneurs, qu'ils possèdent un l...</td>\n",
       "      <td>https://www.entreprises.gouv.fr/fr/faq?page=2</td>\n",
       "    </tr>\n",
       "    <tr>\n",
       "      <th>19</th>\n",
       "      <td>Où envoyer la déclaration de la retenue à la s...</td>\n",
       "      <td>Cette question ne relève pas de la compétence ...</td>\n",
       "      <td>https://www.entreprises.gouv.fr/fr/faq?page=2</td>\n",
       "    </tr>\n",
       "    <tr>\n",
       "      <th>20</th>\n",
       "      <td>Le guichet unique électronique des formalités ...</td>\n",
       "      <td>Les micro-entrepreneurs exerçant une activité ...</td>\n",
       "      <td>https://www.entreprises.gouv.fr/fr/faq?page=2</td>\n",
       "    </tr>\n",
       "  </tbody>\n",
       "</table>\n",
       "</div>"
      ],
      "text/plain": [
       "                                             Question  \\\n",
       "0   Où trouver des études sur le marché de l'embal...   \n",
       "1   Où trouver des statistiques sur la création de...   \n",
       "2   Est-il possible de diffuser les études économi...   \n",
       "3   Où trouver les chiffres concernant la création...   \n",
       "4   Je suis micro-entrepreneur, suis-je assujetti ...   \n",
       "5   Où envoyer la déclaration de la retenue à la s...   \n",
       "6                                                       \n",
       "7   Où trouver des études sur le marché de l'embal...   \n",
       "8   Où trouver des statistiques sur la création de...   \n",
       "9   Est-il possible de diffuser les études économi...   \n",
       "10  Où trouver les chiffres concernant la création...   \n",
       "11  Je suis micro-entrepreneur, suis-je assujetti ...   \n",
       "12  Où envoyer la déclaration de la retenue à la s...   \n",
       "13                                                      \n",
       "14  Où trouver des études sur le marché de l'embal...   \n",
       "15  Où trouver des statistiques sur la création de...   \n",
       "16  Est-il possible de diffuser les études économi...   \n",
       "17  Où trouver les chiffres concernant la création...   \n",
       "18  Je suis micro-entrepreneur, suis-je assujetti ...   \n",
       "19  Où envoyer la déclaration de la retenue à la s...   \n",
       "20  Le guichet unique électronique des formalités ...   \n",
       "\n",
       "                                              Réponse  \\\n",
       "0   Vous pouvez trouver des informations relatives...   \n",
       "1   La DGE n’est pas en mesure de répondre sur un ...   \n",
       "2   Vous pouvez tout à fait relayer les informatio...   \n",
       "3   Nous vous invitons à vous adresser à l'Institu...   \n",
       "4   Les micro-entrepreneurs, qu'ils possèdent un l...   \n",
       "5   Cette question ne relève pas de la compétence ...   \n",
       "6   Les micro-entrepreneurs exerçant une activité ...   \n",
       "7   Vous pouvez trouver des informations relatives...   \n",
       "8   La DGE n’est pas en mesure de répondre sur un ...   \n",
       "9   Vous pouvez tout à fait relayer les informatio...   \n",
       "10  Nous vous invitons à vous adresser à l'Institu...   \n",
       "11  Les micro-entrepreneurs, qu'ils possèdent un l...   \n",
       "12  Cette question ne relève pas de la compétence ...   \n",
       "13  Les micro-entrepreneurs exerçant une activité ...   \n",
       "14  Vous pouvez trouver des informations relatives...   \n",
       "15  La DGE n’est pas en mesure de répondre sur un ...   \n",
       "16  Vous pouvez tout à fait relayer les informatio...   \n",
       "17  Nous vous invitons à vous adresser à l'Institu...   \n",
       "18  Les micro-entrepreneurs, qu'ils possèdent un l...   \n",
       "19  Cette question ne relève pas de la compétence ...   \n",
       "20  Les micro-entrepreneurs exerçant une activité ...   \n",
       "\n",
       "                                              URL  \n",
       "0   https://www.entreprises.gouv.fr/fr/faq?page=0  \n",
       "1   https://www.entreprises.gouv.fr/fr/faq?page=0  \n",
       "2   https://www.entreprises.gouv.fr/fr/faq?page=0  \n",
       "3   https://www.entreprises.gouv.fr/fr/faq?page=0  \n",
       "4   https://www.entreprises.gouv.fr/fr/faq?page=0  \n",
       "5   https://www.entreprises.gouv.fr/fr/faq?page=0  \n",
       "6   https://www.entreprises.gouv.fr/fr/faq?page=0  \n",
       "7   https://www.entreprises.gouv.fr/fr/faq?page=1  \n",
       "8   https://www.entreprises.gouv.fr/fr/faq?page=1  \n",
       "9   https://www.entreprises.gouv.fr/fr/faq?page=1  \n",
       "10  https://www.entreprises.gouv.fr/fr/faq?page=1  \n",
       "11  https://www.entreprises.gouv.fr/fr/faq?page=1  \n",
       "12  https://www.entreprises.gouv.fr/fr/faq?page=1  \n",
       "13  https://www.entreprises.gouv.fr/fr/faq?page=1  \n",
       "14  https://www.entreprises.gouv.fr/fr/faq?page=2  \n",
       "15  https://www.entreprises.gouv.fr/fr/faq?page=2  \n",
       "16  https://www.entreprises.gouv.fr/fr/faq?page=2  \n",
       "17  https://www.entreprises.gouv.fr/fr/faq?page=2  \n",
       "18  https://www.entreprises.gouv.fr/fr/faq?page=2  \n",
       "19  https://www.entreprises.gouv.fr/fr/faq?page=2  \n",
       "20  https://www.entreprises.gouv.fr/fr/faq?page=2  "
      ]
     },
     "execution_count": 31,
     "metadata": {},
     "output_type": "execute_result"
    }
   ],
   "source": [
    "#concaténation des dataframes\n",
    "df = pd.concat([df1, df2, df3], ignore_index=True)\n",
    "df"
   ]
  },
  {
   "cell_type": "code",
   "execution_count": 32,
   "metadata": {},
   "outputs": [],
   "source": [
    "#exportation du dataframe en csv\n",
    "df.to_csv('faq_entreprises_gouv.csv', index=False)"
   ]
  }
 ],
 "metadata": {
  "kernelspec": {
   "display_name": "base",
   "language": "python",
   "name": "python3"
  },
  "language_info": {
   "codemirror_mode": {
    "name": "ipython",
    "version": 3
   },
   "file_extension": ".py",
   "mimetype": "text/x-python",
   "name": "python",
   "nbconvert_exporter": "python",
   "pygments_lexer": "ipython3",
   "version": "3.12.1"
  }
 },
 "nbformat": 4,
 "nbformat_minor": 2
}
