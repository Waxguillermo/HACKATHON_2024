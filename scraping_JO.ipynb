{
 "cells": [
  {
   "cell_type": "code",
   "execution_count": 1,
   "metadata": {},
   "outputs": [],
   "source": [
    "import urllib\n",
    "import requests as req\n",
    "import pandas as pd\n",
    "import re\n",
    "from bs4 import BeautifulSoup"
   ]
  },
  {
   "cell_type": "code",
   "execution_count": 2,
   "metadata": {},
   "outputs": [],
   "source": [
    "req = req.get('https://anticiperlesjeux.gouv.fr/faq')\n",
    "\n",
    "html = req.text\n",
    "soup= BeautifulSoup(html,'html.parser')"
   ]
  },
  {
   "cell_type": "markdown",
   "metadata": {},
   "source": [
    "## QUESTIONS"
   ]
  },
  {
   "cell_type": "code",
   "execution_count": 3,
   "metadata": {},
   "outputs": [
    {
     "data": {
      "text/plain": [
       "['\\n        Thématique\\n      ',\n",
       " '\\n            Puis-je accéder à mon parking durant les Jeux ?\\n\\n\\n\\n      ',\n",
       " '\\n            Quelles sont les livraisons autorisées dans les périmètres rouges et bleus ?\\n\\n\\n\\n      ',\n",
       " '\\n            Quand seront activées les voies olympiques ?\\n\\n\\n\\n      ',\n",
       " '\\n            Je suis PMR, comment puis-je me déplacer avec mon véhicule ?\\n\\n\\n\\n      ',\n",
       " \"\\n            Quels ponts resteront traversants le jour de la cérémonie d'ouverture ?\\n\\n\\n\\n      \",\n",
       " \"\\n            Quels seront les ponts fermés pour la cérémonie d'ouverture ?\\n\\n\\n\\n      \",\n",
       " \"\\n            Quels seront les impacts sur les déplacements pour la cérémonie d'ouverture des Jeux Olympiques du 26 juillet 2024 ?\\n\\n\\n\\n      \",\n",
       " '\\n            Où faire une demande de laissez-passer sous forme de QR pour accéder à un périmètre rouge ?\\n\\n\\n\\n      ',\n",
       " '\\n            Quelles seront les gares parisiennes impactées pendant les Jeux ?\\n\\n\\n\\n      ',\n",
       " '\\n            Les aéroports parisiens seront-ils impactés ?\\n\\n\\n\\n      ']"
      ]
     },
     "execution_count": 3,
     "metadata": {},
     "output_type": "execute_result"
    }
   ],
   "source": [
    "noms = soup.findAll('button',{'class':'fr-accordion__btn'})\n",
    "question = [noms.get_text() for noms in noms]\n",
    "question"
   ]
  },
  {
   "cell_type": "code",
   "execution_count": 4,
   "metadata": {},
   "outputs": [
    {
     "data": {
      "text/plain": [
       "['Thématique',\n",
       " 'Puis-je accéder à mon parking durant les Jeux ?',\n",
       " 'Quelles sont les livraisons autorisées dans les périmètres rouges et bleus ?',\n",
       " 'Quand seront activées les voies olympiques ?',\n",
       " 'Je suis PMR, comment puis-je me déplacer avec mon véhicule ?',\n",
       " \"Quels ponts resteront traversants le jour de la cérémonie d'ouverture ?\",\n",
       " \"Quels seront les ponts fermés pour la cérémonie d'ouverture ?\",\n",
       " \"Quels seront les impacts sur les déplacements pour la cérémonie d'ouverture des Jeux Olympiques du 26 juillet 2024 ?\",\n",
       " 'Où faire une demande de laissez-passer sous forme de QR pour accéder à un périmètre rouge ?',\n",
       " 'Quelles seront les gares parisiennes impactées pendant les Jeux ?',\n",
       " 'Les aéroports parisiens seront-ils impactés ?']"
      ]
     },
     "execution_count": 4,
     "metadata": {},
     "output_type": "execute_result"
    }
   ],
   "source": [
    "for i in range(len(question)):\n",
    "    question[i] = question[i].strip(' \\n')\n",
    "question"
   ]
  },
  {
   "cell_type": "code",
   "execution_count": 5,
   "metadata": {},
   "outputs": [
    {
     "data": {
      "text/plain": [
       "['Puis-je accéder à mon parking durant les Jeux ?',\n",
       " 'Quelles sont les livraisons autorisées dans les périmètres rouges et bleus ?',\n",
       " 'Quand seront activées les voies olympiques ?',\n",
       " 'Je suis PMR, comment puis-je me déplacer avec mon véhicule ?',\n",
       " \"Quels ponts resteront traversants le jour de la cérémonie d'ouverture ?\",\n",
       " \"Quels seront les ponts fermés pour la cérémonie d'ouverture ?\",\n",
       " \"Quels seront les impacts sur les déplacements pour la cérémonie d'ouverture des Jeux Olympiques du 26 juillet 2024 ?\",\n",
       " 'Où faire une demande de laissez-passer sous forme de QR pour accéder à un périmètre rouge ?',\n",
       " 'Quelles seront les gares parisiennes impactées pendant les Jeux ?',\n",
       " 'Les aéroports parisiens seront-ils impactés ?']"
      ]
     },
     "execution_count": 5,
     "metadata": {},
     "output_type": "execute_result"
    }
   ],
   "source": [
    "questions = question[1:]\n",
    "questions"
   ]
  },
  {
   "cell_type": "markdown",
   "metadata": {},
   "source": [
    "## RÉPONSES"
   ]
  },
  {
   "cell_type": "code",
   "execution_count": 6,
   "metadata": {},
   "outputs": [
    {
     "data": {
      "text/plain": [
       "[\"\\n\\n\\n        Thématique\\n      \\n\\n\\n\\n\\n\\n        Thématique\\n              \\n\\n\\n\\n\\n\\n\\n\\n      Cérémonie d'ouverture Jeux Olympiques\\n          \\n\\n\\n\\n\\n\\n\\n      Déplacements du personnel, logistique et livraison\\n          \\n\\n\\n\\n\\n\\n\\n      Les Jeux\\n          \\n\\n\\n\\n\\n\\n\\n      Mobilité active\\n          \\n\\n\\n\\n\\n\\n\\n      Périmètres de sécurité\\n          \\n\\n\\n\\n\\n\\n\\n      Soins médicaux\\n          \\n\\n\\n\\n\\n\\n\\n      Stationnement\\n          \\n\\n\\n\\n\\n\\n\\n      Transport en commun\\n          \\n\\n\\n\\n\\n\\n\\n      Transport fluvial\\n          \\n\\n\\n\\n\\n\\n\\n      Transport sur route\\n          \\n\\n\\n\\n\\n\\n\\n\\n\\n\",\n",
       " \"\\n\\n\\n            Puis-je accéder à mon parking durant les Jeux ?\\n\\n\\n\\n      \\n\\n\\nSi votre parking se situe dans un périmètre rouge, vous devrez vous munir d'un laissez-passer sous forme de QR code. Pour l’obtenir, vous devrez vous enregistrer sur la plateforme de la préfecture de Police (disponible en mai).\\xa0S'il s'agit d'un parking collectif, vous devrez vous munir des justificatifs suivants : pièce d'identité, justificatif de domicile et justificatif de localisation du garage.\\xa0S'il s'agit d'un parking privé, vous devrez vous munir des justificatifs suivants : pièce d'identité, carte grise du véhicule, justificatif de domicile et justificatif de localisation du garage.\\xa0S'il s'agit d'un abonnement résidentiel dans la zone concerné, vous devrez vous munir des justificatifs suivants : pièce d'identité, carte grise du véhicule, justificatif de domicile et justificatif de l'abonnement résidentiel.\\xa0Pour savoir si vous êtes concerné, consultez notre carte interactive : indiquez l'adresse de départ, l'adresse d'arrivée, le jour et l'heure de vos déplacements :\\xa0Je consulte la carte\\n\\n\",\n",
       " \"\\n\\n\\n            Quelles sont les livraisons autorisées dans les périmètres rouges et bleus ?\\n\\n\\n\\n      \\n\\n\\nLes livraisons autorisées dans les périmètres rouges et bleus sont les suivantes :Catégorie de livreursAccès au périmètre bleuAccès au périmètre rougeJustificatifs nécessaires pour le laissez-passer numérique en zone rougeVéhicules assurant le portage de repas pour personne vulnérable (préparés ou issu de la restauration) et de courses alimentaires et domestiquesOuiOuiTitre d’identité et carte professionnelle ou attestation employeur justifiant la missionVéhicules assurant le portage de repas (préparés ou issus de la restauration) et de courses alimentaires et domestiquesOuiNonNon concernéVéhicules de livraisons nécessaires pour le réapprovisionnement d’établissements d’activité professionnelle (commerciaux, médicaux, etc.)OuiOui selon créneaux autorisésAttestation employeur + certification d’immatriculation + titre d’identité + justificatif de livraisonVéhicules de transport de fonds ou de valeursOuiOui selon créneaux autoriséspour équipage : titre d’identité + attestation employeur + justificatif de missionVéhicules de transport de matières dangereuses (hors première nécessité)NonNonNon concernéVéhicules de transport de matières dangereuses de première nécessité (02, CO2, Azote liquide, acétylène…) à livrer sur site ou à évacuer du site sans urgenceOuiOui selon créneaux autorisésTitre d’identité, justificatif employeur et justificatif lieu de livraisonVéhicules de transport de matières dangereuses de première nécessité (02, CO2, Azote liquide, acétylène…) à livrer sur site ou à évacuer du site en urgenceOuiOuiAucun justificatif nécessaire (accès possible sans laissez-passer)Véhicules pour l’approvisionnement des marchésOuiOui selon créneaux autorisésTitre d’identité et carte professionnelleVéhicules pour le transport d’œuvres d’art pour muséesOuiOui au cas par cas selon créneaux autorisésTitre d’identité des équipiers, attestation employeur, attestation musée et justificatif du lieu de déménagementVéhicules de livraison chantier entités publiquesOuiNon, sauf travaux dûment autorisés durant la période, en application de la doctrineJustificatif d’identité des équipes, justificatif adresse du chantier, copie carte grise véhiculeVéhicules de livraison chantier particuliersOuiNon, sauf travaux dûment autorisés durant la période en application de la doctrineDépose uniquement des personnels et matériaux - justificatif d’identité des équipes, justificatif adresse du chantier, copie carte grise du véhiculeLivreurs à pied, à vélo, en trottinettes ou à vélos cargoOuiOuiAucun justificatif nécessaire (accès possible sans laissez-passer) mais contrôle par les forces de l'ordre aux entrées du périmètre\\n\\n\",\n",
       " \"\\n\\n\\n            Quand seront activées les voies olympiques ?\\n\\n\\n\\n      \\n\\n\\nLes voies olympiques seront activées sur les différents axes routiers à partir du 15 juillet de la façon suivante :\\xa0A1 entre Roissy Charles de Gaulle et la Porte de la Chapelle jusqu'au 11 septembre\\xa0A4 entre Collégien et la porte de Bercy jusqu'au 13 août puis du 30 août au 8 septembre\\xa0A12 entre Rocquencourt et Montigny le Bretonneux jusqu'au 13 août puis du 27 août au 8 septembre\\xa0A13 entre la porte Maillot et Rocquencourt jusqu'au 13 août puis du 27 août au 8 septembre\\xa0Le boulevard périphérique, de la Porte de Vanves à la Porte de Bercy, en passant par le nord jusqu'au 13 août puis du 22 août au 11 septembre\\xa0Le boulevard circulaire (La Défense) jusqu'au 13 août puis du 22 août au 11 septembre\\xa0Certains axes parisiens\\xa0En savoir plus sur les voies olympiques : cliquez ici.\\n\\n\",\n",
       " \"\\n\\n\\n            Je suis PMR, comment puis-je me déplacer avec mon véhicule ?\\n\\n\\n\\n      \\n\\n\\nLes personnes à mobilité réduite peuvent circuler et stationner dans les différents périmètres de sécurité.\\xa0Dans les périmètres rouges, vous devrez vous enregistrer sur la plateforme de la préfecture de Police (disponible en mai) pour obtenir un laissez-passer, en fournissant les justificatifs suivants : titre d'identité + carte grise du véhicule + justification de la mission + CM ou carte européenne handicap.\\xa0Dans les périmètres bleus, vous n’aurez pas à vous enregistrer sur la plateforme, simplement à présenter votre CM ou carte européenne handicap en cas de contrôle par les forces de l’ordre.\\xa0À noter : la cérémonie d'ouverture des Jeux Olympiques aura lieu le vendredi 26 juillet, les routes et les transports en commun seront très impactés en amont et le Jour J. Les premières informations concernant cet événement sont disponibles sur notre site internet : cliquez ici.Les épreuves sur route et leurs préparations auront aussi de forts impacts sur vos déplacements routiers. Ce sera notamment le cas les week-ends des : 27/07, 03/08 et 10/08 avec les épreuves de cyclisme et le marathon, retrouvez toutes les informations sur notre carte des impacts et sur la page consacréeRecevez toutes les informations mises à jour en vous inscrivant à nos alertes infos : je m'inscris.\\n\\n\",\n",
       " \"\\n\\n\\n            Quels ponts resteront traversants le jour de la cérémonie d'ouverture ?\\n\\n\\n\\n      \\n\\n\\nLe jour de la cérémonie d'ouverture des Jeux Olympiques, vendredi 26 juillet 2024, 3 ponts parisiens seront traversant, les autres ne seront pas praticables :\\xa0Pont de Sully\\xa0Pont de Notre-Dame\\xa0Pont des Invalides\\xa0Passerelle en piéton Sédar Senghor\\xa0De nouvelles informations seront très prochainement publiées sur notre site internet, pour rester informé, inscrivez-vous à nos alertes infos : cliquez ici.\\n\\n\",\n",
       " \"\\n\\n\\n            Quels seront les ponts fermés pour la cérémonie d'ouverture ?\\n\\n\\n\\n      \\n\\n\\nDans le cadre du montage de cérémonie d'ouverture, les ponts de la Seine à Paris seront progressivement fermés à la circulation :\\xa0à compter du 1er juillet : Pont d'Iéna (pour moitié) et Pont du Carrousel ;\\xa0à compter du 8 juillet : Pont de l'Alma, Pont de la Tournelle et Pont au Change ;\\xa0à compter du 15 juillet : Pont-Royal, Pont d'Arcole et Pont de la Concorde.\\xa07 pont supplémentaires seront fermés plusieurs jours avant la cérémonie d'ouverture du 26 juillet :\\xa0Pont d'Austerlitz\\xa0Pont Saint-Louis\\xa0Pont Neuf\\xa0Ponts des Arts\\xa0Pont Alexandre III\\xa0Le jour J, vous aurez 4 possibilités de passer d'une rive à l'autre :\\xa0Pont de Sully\\xa0Pont de Notre-Dame\\xa0Pont des Invalides\\xa0Passerelle en piéton Sédar Senghor\\xa0Tous les autres ponts ne seront pas traversants. De nouvelles informations seront très prochainement publiées sur la page consacrée, pour rester informé, inscrivez-vous à nos alertes infos : https://anticiperlesjeux.gouv.fr/inscriptions-alertes-infos\\n\\n\",\n",
       " \"\\n\\n\\n            Quels seront les impacts sur les déplacements pour la cérémonie d'ouverture des Jeux Olympiques du 26 juillet 2024 ?\\n\\n\\n\\n      \\n\\n\\nVendredi 26 juillet 2024 de 19h30 à 23h, se tiendra la cérémonie d'ouverture des Jeux Olympiques de Paris 2024.\\xa0Cet événement se déroulera sur la Seine entre le Pont d'Austerlitz et le Pont d'Iéna.\\xa0De forts impacts sur vos déplacements sur les routes et dans les transports en commun sont à prévoir plusieurs jours avant l'événement et le Jour J. Retrouvez ici les premières informations pour anticiper dès maintenant, tous les détails seront communiqués très prochainement.\\n\\n\",\n",
       " \"\\n\\n\\n            Où faire une demande de laissez-passer sous forme de QR pour accéder à un périmètre rouge ?\\n\\n\\n\\n      \\n\\n\\nSeules les personnes autorisées à accéder à un périmètre rouge pourront obtenir un laissez-passer sous forme de QR code.\\xa0Pour savoir si vous êtes concerné, consultez dans un premier temps le tableau des personnes autorisées établit par la Préfecture de Police de Paris, cliquez ici.\\xa0Si vous faites partie des personnes autorisées, vous pourrez faire une demande de laissez-passer sur la plateforme numérique disponible en mai, en fournissant les justificatifs précisés dans le même tableau.A noter : concernant la cérémonie d'ouverture, le périmètre spécifique et ses modalités d'accès seront communiqués très prochainement sur la page consacrée.\\n\\n\",\n",
       " '\\n\\n\\n            Quelles seront les gares parisiennes impactées pendant les Jeux ?\\n\\n\\n\\n      \\n\\n\\nDurant toutes la période des Jeux Olympiques et Jeux Paralympiques, les accès aux gares parisiennes seront impactés par de fortes affluences attendues dans les transports en commun et des restrictions de circulation sur la route liées aux périmètres de sécurité.Par ailleurs, la gare de Lyon sera très impactée, étant à proximité du site olympique de Paris Bercy où se tiendront les épreuves de gymnastique artistique, trampoline, le basketball et pendant les jeux paralympiques du basket fauteuil et dans le périmètre temporaire de la cérémonie d\\'ouverture le 26 juillet.Pour se rendre dans une gare parisienne en transports en commun, pensez à consulter en amont l\\'application Ile-de-France Mobilités à partir de fin avril pour trouver l\\'itinéraire le plus adapté depuis votre point de départ. Si vous souhaitez vous y rendre en voiture, nous vous recommandons dans le mesure du possible, d\\'éviter le jour de la cérémonie d\\'ouverture le 26 juillet.Pour les autres périodes, nous vous invitons à consulter la carte interactive sur l’onglet \"routes\", pour visualiser l’ensemble des dates et des heures d\\'activation des périmètres. L\\'accès sera interdit 2h30 avant le début de la première compétition et sera levé 1h après la dernière compétition.Si vous devez voyager le jour où un périmètre rouge est activé, l\\'accès en voiture sera interdit sauf en taxi, autorisé à pénétrer dans la zone.\\xa0Il est également à noter que la cérémonie d\\'ouverture des Jeux Olympiques aura lieu le 26 juillet, les routes et les transports en commun seront très impactés en amont et le Jour J. Toutes les informations concernant cet événement seront prochainement disponibles sur notre site internet, restez informé en vous inscrivant à nos alertes infos : cliquez ici.\\n\\n',\n",
       " \"\\n\\n\\n            Les aéroports parisiens seront-ils impactés ?\\n\\n\\n\\n      \\n\\n\\nDurant toutes la période des Jeux Olympiques et Jeux Paralympiques, les aéroports parisiens seront très impactés et particulièrement les journées du 26 juillet (cérémonie d'ouverture) et les 10, 11, 12 août (départs massifs fin des Jeux Olympiques).\\xa0Vous pourrez accéder à l'aéroport Roissy-CDG depuis Paris en transports en commun par le RER B. Cependant, ce dernier desservant les sites olympiques de Saint Denis, nous vous recommandons de consulter en amont l'application Ile-de-France Mobilités fin avril pour trouver l'itinéraire le plus adapté depuis votre point de départ.\\xa0En voiture, les voies olympiques pourront avoir un impact sur votre parcours. A noter que les voies réservées seront activées à partir du 15 juillet, elles représentent une seule voie, les deux autres sont autorisées à tous les véhicules. Les taxis sont, quant à eux, autorisés à emprunter les voies olympiques.\\xa0Pour rejoindre directement Orly en transports en commun depuis Paris, la ligne 14 prolongée sera mise en service en juin 2024, le RER B dessert également cet aéroport. Pour Orly, aucune voie réservée n'est mise en place.\\xa0En voiture comme en transports en commun, nous vous conseillons vivement de prendre une marge supplémentaire afin d'arriver sereinement à destination.Pour tout ce qui concerne plus directement les opérations aéroportuaires, le Groupe ADP se prépare pour cette période exceptionnelle, avec l'ensemble de la communauté aéroportuaire, en renforçant ses dispositifs, à commencer par l'accueil et l'orientation de tous les publics. Vous pouvez consulter le site d'Aéroport de Paris pour plus de précisions, cliquez ici.Restez informé grâce à nos alertes infos : je m'inscris.\\xa0\\n\\n\"]"
      ]
     },
     "execution_count": 6,
     "metadata": {},
     "output_type": "execute_result"
    }
   ],
   "source": [
    "#ON FAIT LES RÉPONSES\n",
    "rep = soup.findAll('section')\n",
    "réponse = [rep.get_text() for rep in rep]\n",
    "réponse"
   ]
  },
  {
   "cell_type": "code",
   "execution_count": 7,
   "metadata": {},
   "outputs": [
    {
     "data": {
      "text/plain": [
       "[\"Thématique\\n      \\n\\n\\n\\n\\n\\n        Thématique\\n              \\n\\n\\n\\n\\n\\n\\n\\n      Cérémonie d'ouverture Jeux Olympiques\\n          \\n\\n\\n\\n\\n\\n\\n      Déplacements du personnel, logistique et livraison\\n          \\n\\n\\n\\n\\n\\n\\n      Les Jeux\\n          \\n\\n\\n\\n\\n\\n\\n      Mobilité active\\n          \\n\\n\\n\\n\\n\\n\\n      Périmètres de sécurité\\n          \\n\\n\\n\\n\\n\\n\\n      Soins médicaux\\n          \\n\\n\\n\\n\\n\\n\\n      Stationnement\\n          \\n\\n\\n\\n\\n\\n\\n      Transport en commun\\n          \\n\\n\\n\\n\\n\\n\\n      Transport fluvial\\n          \\n\\n\\n\\n\\n\\n\\n      Transport sur route\",\n",
       " \"Puis-je accéder à mon parking durant les Jeux ?\\n\\n\\n\\n      \\n\\n\\nSi votre parking se situe dans un périmètre rouge, vous devrez vous munir d'un laissez-passer sous forme de QR code. Pour l’obtenir, vous devrez vous enregistrer sur la plateforme de la préfecture de Police (disponible en mai).\\xa0S'il s'agit d'un parking collectif, vous devrez vous munir des justificatifs suivants : pièce d'identité, justificatif de domicile et justificatif de localisation du garage.\\xa0S'il s'agit d'un parking privé, vous devrez vous munir des justificatifs suivants : pièce d'identité, carte grise du véhicule, justificatif de domicile et justificatif de localisation du garage.\\xa0S'il s'agit d'un abonnement résidentiel dans la zone concerné, vous devrez vous munir des justificatifs suivants : pièce d'identité, carte grise du véhicule, justificatif de domicile et justificatif de l'abonnement résidentiel.\\xa0Pour savoir si vous êtes concerné, consultez notre carte interactive : indiquez l'adresse de départ, l'adresse d'arrivée, le jour et l'heure de vos déplacements :\\xa0Je consulte la carte\",\n",
       " \"Quelles sont les livraisons autorisées dans les périmètres rouges et bleus ?\\n\\n\\n\\n      \\n\\n\\nLes livraisons autorisées dans les périmètres rouges et bleus sont les suivantes :Catégorie de livreursAccès au périmètre bleuAccès au périmètre rougeJustificatifs nécessaires pour le laissez-passer numérique en zone rougeVéhicules assurant le portage de repas pour personne vulnérable (préparés ou issu de la restauration) et de courses alimentaires et domestiquesOuiOuiTitre d’identité et carte professionnelle ou attestation employeur justifiant la missionVéhicules assurant le portage de repas (préparés ou issus de la restauration) et de courses alimentaires et domestiquesOuiNonNon concernéVéhicules de livraisons nécessaires pour le réapprovisionnement d’établissements d’activité professionnelle (commerciaux, médicaux, etc.)OuiOui selon créneaux autorisésAttestation employeur + certification d’immatriculation + titre d’identité + justificatif de livraisonVéhicules de transport de fonds ou de valeursOuiOui selon créneaux autoriséspour équipage : titre d’identité + attestation employeur + justificatif de missionVéhicules de transport de matières dangereuses (hors première nécessité)NonNonNon concernéVéhicules de transport de matières dangereuses de première nécessité (02, CO2, Azote liquide, acétylène…) à livrer sur site ou à évacuer du site sans urgenceOuiOui selon créneaux autorisésTitre d’identité, justificatif employeur et justificatif lieu de livraisonVéhicules de transport de matières dangereuses de première nécessité (02, CO2, Azote liquide, acétylène…) à livrer sur site ou à évacuer du site en urgenceOuiOuiAucun justificatif nécessaire (accès possible sans laissez-passer)Véhicules pour l’approvisionnement des marchésOuiOui selon créneaux autorisésTitre d’identité et carte professionnelleVéhicules pour le transport d’œuvres d’art pour muséesOuiOui au cas par cas selon créneaux autorisésTitre d’identité des équipiers, attestation employeur, attestation musée et justificatif du lieu de déménagementVéhicules de livraison chantier entités publiquesOuiNon, sauf travaux dûment autorisés durant la période, en application de la doctrineJustificatif d’identité des équipes, justificatif adresse du chantier, copie carte grise véhiculeVéhicules de livraison chantier particuliersOuiNon, sauf travaux dûment autorisés durant la période en application de la doctrineDépose uniquement des personnels et matériaux - justificatif d’identité des équipes, justificatif adresse du chantier, copie carte grise du véhiculeLivreurs à pied, à vélo, en trottinettes ou à vélos cargoOuiOuiAucun justificatif nécessaire (accès possible sans laissez-passer) mais contrôle par les forces de l'ordre aux entrées du périmètre\",\n",
       " \"Quand seront activées les voies olympiques ?\\n\\n\\n\\n      \\n\\n\\nLes voies olympiques seront activées sur les différents axes routiers à partir du 15 juillet de la façon suivante :\\xa0A1 entre Roissy Charles de Gaulle et la Porte de la Chapelle jusqu'au 11 septembre\\xa0A4 entre Collégien et la porte de Bercy jusqu'au 13 août puis du 30 août au 8 septembre\\xa0A12 entre Rocquencourt et Montigny le Bretonneux jusqu'au 13 août puis du 27 août au 8 septembre\\xa0A13 entre la porte Maillot et Rocquencourt jusqu'au 13 août puis du 27 août au 8 septembre\\xa0Le boulevard périphérique, de la Porte de Vanves à la Porte de Bercy, en passant par le nord jusqu'au 13 août puis du 22 août au 11 septembre\\xa0Le boulevard circulaire (La Défense) jusqu'au 13 août puis du 22 août au 11 septembre\\xa0Certains axes parisiens\\xa0En savoir plus sur les voies olympiques : cliquez ici.\",\n",
       " \"Je suis PMR, comment puis-je me déplacer avec mon véhicule ?\\n\\n\\n\\n      \\n\\n\\nLes personnes à mobilité réduite peuvent circuler et stationner dans les différents périmètres de sécurité.\\xa0Dans les périmètres rouges, vous devrez vous enregistrer sur la plateforme de la préfecture de Police (disponible en mai) pour obtenir un laissez-passer, en fournissant les justificatifs suivants : titre d'identité + carte grise du véhicule + justification de la mission + CM ou carte européenne handicap.\\xa0Dans les périmètres bleus, vous n’aurez pas à vous enregistrer sur la plateforme, simplement à présenter votre CM ou carte européenne handicap en cas de contrôle par les forces de l’ordre.\\xa0À noter : la cérémonie d'ouverture des Jeux Olympiques aura lieu le vendredi 26 juillet, les routes et les transports en commun seront très impactés en amont et le Jour J. Les premières informations concernant cet événement sont disponibles sur notre site internet : cliquez ici.Les épreuves sur route et leurs préparations auront aussi de forts impacts sur vos déplacements routiers. Ce sera notamment le cas les week-ends des : 27/07, 03/08 et 10/08 avec les épreuves de cyclisme et le marathon, retrouvez toutes les informations sur notre carte des impacts et sur la page consacréeRecevez toutes les informations mises à jour en vous inscrivant à nos alertes infos : je m'inscris.\",\n",
       " \"Quels ponts resteront traversants le jour de la cérémonie d'ouverture ?\\n\\n\\n\\n      \\n\\n\\nLe jour de la cérémonie d'ouverture des Jeux Olympiques, vendredi 26 juillet 2024, 3 ponts parisiens seront traversant, les autres ne seront pas praticables :\\xa0Pont de Sully\\xa0Pont de Notre-Dame\\xa0Pont des Invalides\\xa0Passerelle en piéton Sédar Senghor\\xa0De nouvelles informations seront très prochainement publiées sur notre site internet, pour rester informé, inscrivez-vous à nos alertes infos : cliquez ici.\",\n",
       " \"Quels seront les ponts fermés pour la cérémonie d'ouverture ?\\n\\n\\n\\n      \\n\\n\\nDans le cadre du montage de cérémonie d'ouverture, les ponts de la Seine à Paris seront progressivement fermés à la circulation :\\xa0à compter du 1er juillet : Pont d'Iéna (pour moitié) et Pont du Carrousel ;\\xa0à compter du 8 juillet : Pont de l'Alma, Pont de la Tournelle et Pont au Change ;\\xa0à compter du 15 juillet : Pont-Royal, Pont d'Arcole et Pont de la Concorde.\\xa07 pont supplémentaires seront fermés plusieurs jours avant la cérémonie d'ouverture du 26 juillet :\\xa0Pont d'Austerlitz\\xa0Pont Saint-Louis\\xa0Pont Neuf\\xa0Ponts des Arts\\xa0Pont Alexandre III\\xa0Le jour J, vous aurez 4 possibilités de passer d'une rive à l'autre :\\xa0Pont de Sully\\xa0Pont de Notre-Dame\\xa0Pont des Invalides\\xa0Passerelle en piéton Sédar Senghor\\xa0Tous les autres ponts ne seront pas traversants. De nouvelles informations seront très prochainement publiées sur la page consacrée, pour rester informé, inscrivez-vous à nos alertes infos : https://anticiperlesjeux.gouv.fr/inscriptions-alertes-infos\",\n",
       " \"Quels seront les impacts sur les déplacements pour la cérémonie d'ouverture des Jeux Olympiques du 26 juillet 2024 ?\\n\\n\\n\\n      \\n\\n\\nVendredi 26 juillet 2024 de 19h30 à 23h, se tiendra la cérémonie d'ouverture des Jeux Olympiques de Paris 2024.\\xa0Cet événement se déroulera sur la Seine entre le Pont d'Austerlitz et le Pont d'Iéna.\\xa0De forts impacts sur vos déplacements sur les routes et dans les transports en commun sont à prévoir plusieurs jours avant l'événement et le Jour J. Retrouvez ici les premières informations pour anticiper dès maintenant, tous les détails seront communiqués très prochainement.\",\n",
       " \"Où faire une demande de laissez-passer sous forme de QR pour accéder à un périmètre rouge ?\\n\\n\\n\\n      \\n\\n\\nSeules les personnes autorisées à accéder à un périmètre rouge pourront obtenir un laissez-passer sous forme de QR code.\\xa0Pour savoir si vous êtes concerné, consultez dans un premier temps le tableau des personnes autorisées établit par la Préfecture de Police de Paris, cliquez ici.\\xa0Si vous faites partie des personnes autorisées, vous pourrez faire une demande de laissez-passer sur la plateforme numérique disponible en mai, en fournissant les justificatifs précisés dans le même tableau.A noter : concernant la cérémonie d'ouverture, le périmètre spécifique et ses modalités d'accès seront communiqués très prochainement sur la page consacrée.\",\n",
       " 'Quelles seront les gares parisiennes impactées pendant les Jeux ?\\n\\n\\n\\n      \\n\\n\\nDurant toutes la période des Jeux Olympiques et Jeux Paralympiques, les accès aux gares parisiennes seront impactés par de fortes affluences attendues dans les transports en commun et des restrictions de circulation sur la route liées aux périmètres de sécurité.Par ailleurs, la gare de Lyon sera très impactée, étant à proximité du site olympique de Paris Bercy où se tiendront les épreuves de gymnastique artistique, trampoline, le basketball et pendant les jeux paralympiques du basket fauteuil et dans le périmètre temporaire de la cérémonie d\\'ouverture le 26 juillet.Pour se rendre dans une gare parisienne en transports en commun, pensez à consulter en amont l\\'application Ile-de-France Mobilités à partir de fin avril pour trouver l\\'itinéraire le plus adapté depuis votre point de départ. Si vous souhaitez vous y rendre en voiture, nous vous recommandons dans le mesure du possible, d\\'éviter le jour de la cérémonie d\\'ouverture le 26 juillet.Pour les autres périodes, nous vous invitons à consulter la carte interactive sur l’onglet \"routes\", pour visualiser l’ensemble des dates et des heures d\\'activation des périmètres. L\\'accès sera interdit 2h30 avant le début de la première compétition et sera levé 1h après la dernière compétition.Si vous devez voyager le jour où un périmètre rouge est activé, l\\'accès en voiture sera interdit sauf en taxi, autorisé à pénétrer dans la zone.\\xa0Il est également à noter que la cérémonie d\\'ouverture des Jeux Olympiques aura lieu le 26 juillet, les routes et les transports en commun seront très impactés en amont et le Jour J. Toutes les informations concernant cet événement seront prochainement disponibles sur notre site internet, restez informé en vous inscrivant à nos alertes infos : cliquez ici.',\n",
       " \"Les aéroports parisiens seront-ils impactés ?\\n\\n\\n\\n      \\n\\n\\nDurant toutes la période des Jeux Olympiques et Jeux Paralympiques, les aéroports parisiens seront très impactés et particulièrement les journées du 26 juillet (cérémonie d'ouverture) et les 10, 11, 12 août (départs massifs fin des Jeux Olympiques).\\xa0Vous pourrez accéder à l'aéroport Roissy-CDG depuis Paris en transports en commun par le RER B. Cependant, ce dernier desservant les sites olympiques de Saint Denis, nous vous recommandons de consulter en amont l'application Ile-de-France Mobilités fin avril pour trouver l'itinéraire le plus adapté depuis votre point de départ.\\xa0En voiture, les voies olympiques pourront avoir un impact sur votre parcours. A noter que les voies réservées seront activées à partir du 15 juillet, elles représentent une seule voie, les deux autres sont autorisées à tous les véhicules. Les taxis sont, quant à eux, autorisés à emprunter les voies olympiques.\\xa0Pour rejoindre directement Orly en transports en commun depuis Paris, la ligne 14 prolongée sera mise en service en juin 2024, le RER B dessert également cet aéroport. Pour Orly, aucune voie réservée n'est mise en place.\\xa0En voiture comme en transports en commun, nous vous conseillons vivement de prendre une marge supplémentaire afin d'arriver sereinement à destination.Pour tout ce qui concerne plus directement les opérations aéroportuaires, le Groupe ADP se prépare pour cette période exceptionnelle, avec l'ensemble de la communauté aéroportuaire, en renforçant ses dispositifs, à commencer par l'accueil et l'orientation de tous les publics. Vous pouvez consulter le site d'Aéroport de Paris pour plus de précisions, cliquez ici.Restez informé grâce à nos alertes infos : je m'inscris.\\xa0\"]"
      ]
     },
     "execution_count": 7,
     "metadata": {},
     "output_type": "execute_result"
    }
   ],
   "source": [
    "#ON ENLÈVE LE \"\\n\"\n",
    "for i in range(len(réponse)):\n",
    "    réponse[i] = réponse[i].strip(' \\n')\n",
    "réponse"
   ]
  },
  {
   "cell_type": "code",
   "execution_count": 8,
   "metadata": {},
   "outputs": [
    {
     "data": {
      "text/plain": [
       "[\"Puis-je accéder à mon parking durant les Jeux ?\\n\\n\\n\\n      \\n\\n\\nSi votre parking se situe dans un périmètre rouge, vous devrez vous munir d'un laissez-passer sous forme de QR code. Pour l’obtenir, vous devrez vous enregistrer sur la plateforme de la préfecture de Police (disponible en mai).\\xa0S'il s'agit d'un parking collectif, vous devrez vous munir des justificatifs suivants : pièce d'identité, justificatif de domicile et justificatif de localisation du garage.\\xa0S'il s'agit d'un parking privé, vous devrez vous munir des justificatifs suivants : pièce d'identité, carte grise du véhicule, justificatif de domicile et justificatif de localisation du garage.\\xa0S'il s'agit d'un abonnement résidentiel dans la zone concerné, vous devrez vous munir des justificatifs suivants : pièce d'identité, carte grise du véhicule, justificatif de domicile et justificatif de l'abonnement résidentiel.\\xa0Pour savoir si vous êtes concerné, consultez notre carte interactive : indiquez l'adresse de départ, l'adresse d'arrivée, le jour et l'heure de vos déplacements :\\xa0Je consulte la carte\",\n",
       " \"Quelles sont les livraisons autorisées dans les périmètres rouges et bleus ?\\n\\n\\n\\n      \\n\\n\\nLes livraisons autorisées dans les périmètres rouges et bleus sont les suivantes :Catégorie de livreursAccès au périmètre bleuAccès au périmètre rougeJustificatifs nécessaires pour le laissez-passer numérique en zone rougeVéhicules assurant le portage de repas pour personne vulnérable (préparés ou issu de la restauration) et de courses alimentaires et domestiquesOuiOuiTitre d’identité et carte professionnelle ou attestation employeur justifiant la missionVéhicules assurant le portage de repas (préparés ou issus de la restauration) et de courses alimentaires et domestiquesOuiNonNon concernéVéhicules de livraisons nécessaires pour le réapprovisionnement d’établissements d’activité professionnelle (commerciaux, médicaux, etc.)OuiOui selon créneaux autorisésAttestation employeur + certification d’immatriculation + titre d’identité + justificatif de livraisonVéhicules de transport de fonds ou de valeursOuiOui selon créneaux autoriséspour équipage : titre d’identité + attestation employeur + justificatif de missionVéhicules de transport de matières dangereuses (hors première nécessité)NonNonNon concernéVéhicules de transport de matières dangereuses de première nécessité (02, CO2, Azote liquide, acétylène…) à livrer sur site ou à évacuer du site sans urgenceOuiOui selon créneaux autorisésTitre d’identité, justificatif employeur et justificatif lieu de livraisonVéhicules de transport de matières dangereuses de première nécessité (02, CO2, Azote liquide, acétylène…) à livrer sur site ou à évacuer du site en urgenceOuiOuiAucun justificatif nécessaire (accès possible sans laissez-passer)Véhicules pour l’approvisionnement des marchésOuiOui selon créneaux autorisésTitre d’identité et carte professionnelleVéhicules pour le transport d’œuvres d’art pour muséesOuiOui au cas par cas selon créneaux autorisésTitre d’identité des équipiers, attestation employeur, attestation musée et justificatif du lieu de déménagementVéhicules de livraison chantier entités publiquesOuiNon, sauf travaux dûment autorisés durant la période, en application de la doctrineJustificatif d’identité des équipes, justificatif adresse du chantier, copie carte grise véhiculeVéhicules de livraison chantier particuliersOuiNon, sauf travaux dûment autorisés durant la période en application de la doctrineDépose uniquement des personnels et matériaux - justificatif d’identité des équipes, justificatif adresse du chantier, copie carte grise du véhiculeLivreurs à pied, à vélo, en trottinettes ou à vélos cargoOuiOuiAucun justificatif nécessaire (accès possible sans laissez-passer) mais contrôle par les forces de l'ordre aux entrées du périmètre\",\n",
       " \"Quand seront activées les voies olympiques ?\\n\\n\\n\\n      \\n\\n\\nLes voies olympiques seront activées sur les différents axes routiers à partir du 15 juillet de la façon suivante :\\xa0A1 entre Roissy Charles de Gaulle et la Porte de la Chapelle jusqu'au 11 septembre\\xa0A4 entre Collégien et la porte de Bercy jusqu'au 13 août puis du 30 août au 8 septembre\\xa0A12 entre Rocquencourt et Montigny le Bretonneux jusqu'au 13 août puis du 27 août au 8 septembre\\xa0A13 entre la porte Maillot et Rocquencourt jusqu'au 13 août puis du 27 août au 8 septembre\\xa0Le boulevard périphérique, de la Porte de Vanves à la Porte de Bercy, en passant par le nord jusqu'au 13 août puis du 22 août au 11 septembre\\xa0Le boulevard circulaire (La Défense) jusqu'au 13 août puis du 22 août au 11 septembre\\xa0Certains axes parisiens\\xa0En savoir plus sur les voies olympiques : cliquez ici.\",\n",
       " \"Je suis PMR, comment puis-je me déplacer avec mon véhicule ?\\n\\n\\n\\n      \\n\\n\\nLes personnes à mobilité réduite peuvent circuler et stationner dans les différents périmètres de sécurité.\\xa0Dans les périmètres rouges, vous devrez vous enregistrer sur la plateforme de la préfecture de Police (disponible en mai) pour obtenir un laissez-passer, en fournissant les justificatifs suivants : titre d'identité + carte grise du véhicule + justification de la mission + CM ou carte européenne handicap.\\xa0Dans les périmètres bleus, vous n’aurez pas à vous enregistrer sur la plateforme, simplement à présenter votre CM ou carte européenne handicap en cas de contrôle par les forces de l’ordre.\\xa0À noter : la cérémonie d'ouverture des Jeux Olympiques aura lieu le vendredi 26 juillet, les routes et les transports en commun seront très impactés en amont et le Jour J. Les premières informations concernant cet événement sont disponibles sur notre site internet : cliquez ici.Les épreuves sur route et leurs préparations auront aussi de forts impacts sur vos déplacements routiers. Ce sera notamment le cas les week-ends des : 27/07, 03/08 et 10/08 avec les épreuves de cyclisme et le marathon, retrouvez toutes les informations sur notre carte des impacts et sur la page consacréeRecevez toutes les informations mises à jour en vous inscrivant à nos alertes infos : je m'inscris.\",\n",
       " \"Quels ponts resteront traversants le jour de la cérémonie d'ouverture ?\\n\\n\\n\\n      \\n\\n\\nLe jour de la cérémonie d'ouverture des Jeux Olympiques, vendredi 26 juillet 2024, 3 ponts parisiens seront traversant, les autres ne seront pas praticables :\\xa0Pont de Sully\\xa0Pont de Notre-Dame\\xa0Pont des Invalides\\xa0Passerelle en piéton Sédar Senghor\\xa0De nouvelles informations seront très prochainement publiées sur notre site internet, pour rester informé, inscrivez-vous à nos alertes infos : cliquez ici.\",\n",
       " \"Quels seront les ponts fermés pour la cérémonie d'ouverture ?\\n\\n\\n\\n      \\n\\n\\nDans le cadre du montage de cérémonie d'ouverture, les ponts de la Seine à Paris seront progressivement fermés à la circulation :\\xa0à compter du 1er juillet : Pont d'Iéna (pour moitié) et Pont du Carrousel ;\\xa0à compter du 8 juillet : Pont de l'Alma, Pont de la Tournelle et Pont au Change ;\\xa0à compter du 15 juillet : Pont-Royal, Pont d'Arcole et Pont de la Concorde.\\xa07 pont supplémentaires seront fermés plusieurs jours avant la cérémonie d'ouverture du 26 juillet :\\xa0Pont d'Austerlitz\\xa0Pont Saint-Louis\\xa0Pont Neuf\\xa0Ponts des Arts\\xa0Pont Alexandre III\\xa0Le jour J, vous aurez 4 possibilités de passer d'une rive à l'autre :\\xa0Pont de Sully\\xa0Pont de Notre-Dame\\xa0Pont des Invalides\\xa0Passerelle en piéton Sédar Senghor\\xa0Tous les autres ponts ne seront pas traversants. De nouvelles informations seront très prochainement publiées sur la page consacrée, pour rester informé, inscrivez-vous à nos alertes infos : https://anticiperlesjeux.gouv.fr/inscriptions-alertes-infos\",\n",
       " \"Quels seront les impacts sur les déplacements pour la cérémonie d'ouverture des Jeux Olympiques du 26 juillet 2024 ?\\n\\n\\n\\n      \\n\\n\\nVendredi 26 juillet 2024 de 19h30 à 23h, se tiendra la cérémonie d'ouverture des Jeux Olympiques de Paris 2024.\\xa0Cet événement se déroulera sur la Seine entre le Pont d'Austerlitz et le Pont d'Iéna.\\xa0De forts impacts sur vos déplacements sur les routes et dans les transports en commun sont à prévoir plusieurs jours avant l'événement et le Jour J. Retrouvez ici les premières informations pour anticiper dès maintenant, tous les détails seront communiqués très prochainement.\",\n",
       " \"Où faire une demande de laissez-passer sous forme de QR pour accéder à un périmètre rouge ?\\n\\n\\n\\n      \\n\\n\\nSeules les personnes autorisées à accéder à un périmètre rouge pourront obtenir un laissez-passer sous forme de QR code.\\xa0Pour savoir si vous êtes concerné, consultez dans un premier temps le tableau des personnes autorisées établit par la Préfecture de Police de Paris, cliquez ici.\\xa0Si vous faites partie des personnes autorisées, vous pourrez faire une demande de laissez-passer sur la plateforme numérique disponible en mai, en fournissant les justificatifs précisés dans le même tableau.A noter : concernant la cérémonie d'ouverture, le périmètre spécifique et ses modalités d'accès seront communiqués très prochainement sur la page consacrée.\",\n",
       " 'Quelles seront les gares parisiennes impactées pendant les Jeux ?\\n\\n\\n\\n      \\n\\n\\nDurant toutes la période des Jeux Olympiques et Jeux Paralympiques, les accès aux gares parisiennes seront impactés par de fortes affluences attendues dans les transports en commun et des restrictions de circulation sur la route liées aux périmètres de sécurité.Par ailleurs, la gare de Lyon sera très impactée, étant à proximité du site olympique de Paris Bercy où se tiendront les épreuves de gymnastique artistique, trampoline, le basketball et pendant les jeux paralympiques du basket fauteuil et dans le périmètre temporaire de la cérémonie d\\'ouverture le 26 juillet.Pour se rendre dans une gare parisienne en transports en commun, pensez à consulter en amont l\\'application Ile-de-France Mobilités à partir de fin avril pour trouver l\\'itinéraire le plus adapté depuis votre point de départ. Si vous souhaitez vous y rendre en voiture, nous vous recommandons dans le mesure du possible, d\\'éviter le jour de la cérémonie d\\'ouverture le 26 juillet.Pour les autres périodes, nous vous invitons à consulter la carte interactive sur l’onglet \"routes\", pour visualiser l’ensemble des dates et des heures d\\'activation des périmètres. L\\'accès sera interdit 2h30 avant le début de la première compétition et sera levé 1h après la dernière compétition.Si vous devez voyager le jour où un périmètre rouge est activé, l\\'accès en voiture sera interdit sauf en taxi, autorisé à pénétrer dans la zone.\\xa0Il est également à noter que la cérémonie d\\'ouverture des Jeux Olympiques aura lieu le 26 juillet, les routes et les transports en commun seront très impactés en amont et le Jour J. Toutes les informations concernant cet événement seront prochainement disponibles sur notre site internet, restez informé en vous inscrivant à nos alertes infos : cliquez ici.',\n",
       " \"Les aéroports parisiens seront-ils impactés ?\\n\\n\\n\\n      \\n\\n\\nDurant toutes la période des Jeux Olympiques et Jeux Paralympiques, les aéroports parisiens seront très impactés et particulièrement les journées du 26 juillet (cérémonie d'ouverture) et les 10, 11, 12 août (départs massifs fin des Jeux Olympiques).\\xa0Vous pourrez accéder à l'aéroport Roissy-CDG depuis Paris en transports en commun par le RER B. Cependant, ce dernier desservant les sites olympiques de Saint Denis, nous vous recommandons de consulter en amont l'application Ile-de-France Mobilités fin avril pour trouver l'itinéraire le plus adapté depuis votre point de départ.\\xa0En voiture, les voies olympiques pourront avoir un impact sur votre parcours. A noter que les voies réservées seront activées à partir du 15 juillet, elles représentent une seule voie, les deux autres sont autorisées à tous les véhicules. Les taxis sont, quant à eux, autorisés à emprunter les voies olympiques.\\xa0Pour rejoindre directement Orly en transports en commun depuis Paris, la ligne 14 prolongée sera mise en service en juin 2024, le RER B dessert également cet aéroport. Pour Orly, aucune voie réservée n'est mise en place.\\xa0En voiture comme en transports en commun, nous vous conseillons vivement de prendre une marge supplémentaire afin d'arriver sereinement à destination.Pour tout ce qui concerne plus directement les opérations aéroportuaires, le Groupe ADP se prépare pour cette période exceptionnelle, avec l'ensemble de la communauté aéroportuaire, en renforçant ses dispositifs, à commencer par l'accueil et l'orientation de tous les publics. Vous pouvez consulter le site d'Aéroport de Paris pour plus de précisions, cliquez ici.Restez informé grâce à nos alertes infos : je m'inscris.\\xa0\"]"
      ]
     },
     "execution_count": 8,
     "metadata": {},
     "output_type": "execute_result"
    }
   ],
   "source": [
    "#ON ENLÈVE LA PREMIÈRE LIGNE\n",
    "réponse = réponse[1:]\n",
    "réponse"
   ]
  },
  {
   "cell_type": "code",
   "execution_count": 9,
   "metadata": {},
   "outputs": [
    {
     "data": {
      "text/plain": [
       "[\"Si votre parking se situe dans un périmètre rouge, vous devrez vous munir d'un laissez-passer sous forme de QR code. Pour l’obtenir, vous devrez vous enregistrer sur la plateforme de la préfecture de Police (disponible en mai).\\xa0S'il s'agit d'un parking collectif, vous devrez vous munir des justificatifs suivants : pièce d'identité, justificatif de domicile et justificatif de localisation du garage.\\xa0S'il s'agit d'un parking privé, vous devrez vous munir des justificatifs suivants : pièce d'identité, carte grise du véhicule, justificatif de domicile et justificatif de localisation du garage.\\xa0S'il s'agit d'un abonnement résidentiel dans la zone concerné, vous devrez vous munir des justificatifs suivants : pièce d'identité, carte grise du véhicule, justificatif de domicile et justificatif de l'abonnement résidentiel.\\xa0Pour savoir si vous êtes concerné, consultez notre carte interactive : indiquez l'adresse de départ, l'adresse d'arrivée, le jour et l'heure de vos déplacements :\\xa0Je consulte la carte\",\n",
       " \"Les livraisons autorisées dans les périmètres rouges et bleus sont les suivantes :Catégorie de livreursAccès au périmètre bleuAccès au périmètre rougeJustificatifs nécessaires pour le laissez-passer numérique en zone rougeVéhicules assurant le portage de repas pour personne vulnérable (préparés ou issu de la restauration) et de courses alimentaires et domestiquesOuiOuiTitre d’identité et carte professionnelle ou attestation employeur justifiant la missionVéhicules assurant le portage de repas (préparés ou issus de la restauration) et de courses alimentaires et domestiquesOuiNonNon concernéVéhicules de livraisons nécessaires pour le réapprovisionnement d’établissements d’activité professionnelle (commerciaux, médicaux, etc.)OuiOui selon créneaux autorisésAttestation employeur + certification d’immatriculation + titre d’identité + justificatif de livraisonVéhicules de transport de fonds ou de valeursOuiOui selon créneaux autoriséspour équipage : titre d’identité + attestation employeur + justificatif de missionVéhicules de transport de matières dangereuses (hors première nécessité)NonNonNon concernéVéhicules de transport de matières dangereuses de première nécessité (02, CO2, Azote liquide, acétylène…) à livrer sur site ou à évacuer du site sans urgenceOuiOui selon créneaux autorisésTitre d’identité, justificatif employeur et justificatif lieu de livraisonVéhicules de transport de matières dangereuses de première nécessité (02, CO2, Azote liquide, acétylène…) à livrer sur site ou à évacuer du site en urgenceOuiOuiAucun justificatif nécessaire (accès possible sans laissez-passer)Véhicules pour l’approvisionnement des marchésOuiOui selon créneaux autorisésTitre d’identité et carte professionnelleVéhicules pour le transport d’œuvres d’art pour muséesOuiOui au cas par cas selon créneaux autorisésTitre d’identité des équipiers, attestation employeur, attestation musée et justificatif du lieu de déménagementVéhicules de livraison chantier entités publiquesOuiNon, sauf travaux dûment autorisés durant la période, en application de la doctrineJustificatif d’identité des équipes, justificatif adresse du chantier, copie carte grise véhiculeVéhicules de livraison chantier particuliersOuiNon, sauf travaux dûment autorisés durant la période en application de la doctrineDépose uniquement des personnels et matériaux - justificatif d’identité des équipes, justificatif adresse du chantier, copie carte grise du véhiculeLivreurs à pied, à vélo, en trottinettes ou à vélos cargoOuiOuiAucun justificatif nécessaire (accès possible sans laissez-passer) mais contrôle par les forces de l'ordre aux entrées du périmètre\",\n",
       " \"Les voies olympiques seront activées sur les différents axes routiers à partir du 15 juillet de la façon suivante :\\xa0A1 entre Roissy Charles de Gaulle et la Porte de la Chapelle jusqu'au 11 septembre\\xa0A4 entre Collégien et la porte de Bercy jusqu'au 13 août puis du 30 août au 8 septembre\\xa0A12 entre Rocquencourt et Montigny le Bretonneux jusqu'au 13 août puis du 27 août au 8 septembre\\xa0A13 entre la porte Maillot et Rocquencourt jusqu'au 13 août puis du 27 août au 8 septembre\\xa0Le boulevard périphérique, de la Porte de Vanves à la Porte de Bercy, en passant par le nord jusqu'au 13 août puis du 22 août au 11 septembre\\xa0Le boulevard circulaire (La Défense) jusqu'au 13 août puis du 22 août au 11 septembre\\xa0Certains axes parisiens\\xa0En savoir plus sur les voies olympiques : cliquez ici.\",\n",
       " \"Les personnes à mobilité réduite peuvent circuler et stationner dans les différents périmètres de sécurité.\\xa0Dans les périmètres rouges, vous devrez vous enregistrer sur la plateforme de la préfecture de Police (disponible en mai) pour obtenir un laissez-passer, en fournissant les justificatifs suivants : titre d'identité + carte grise du véhicule + justification de la mission + CM ou carte européenne handicap.\\xa0Dans les périmètres bleus, vous n’aurez pas à vous enregistrer sur la plateforme, simplement à présenter votre CM ou carte européenne handicap en cas de contrôle par les forces de l’ordre.\\xa0À noter : la cérémonie d'ouverture des Jeux Olympiques aura lieu le vendredi 26 juillet, les routes et les transports en commun seront très impactés en amont et le Jour J. Les premières informations concernant cet événement sont disponibles sur notre site internet : cliquez ici.Les épreuves sur route et leurs préparations auront aussi de forts impacts sur vos déplacements routiers. Ce sera notamment le cas les week-ends des : 27/07, 03/08 et 10/08 avec les épreuves de cyclisme et le marathon, retrouvez toutes les informations sur notre carte des impacts et sur la page consacréeRecevez toutes les informations mises à jour en vous inscrivant à nos alertes infos : je m'inscris.\",\n",
       " \"Le jour de la cérémonie d'ouverture des Jeux Olympiques, vendredi 26 juillet 2024, 3 ponts parisiens seront traversant, les autres ne seront pas praticables :\\xa0Pont de Sully\\xa0Pont de Notre-Dame\\xa0Pont des Invalides\\xa0Passerelle en piéton Sédar Senghor\\xa0De nouvelles informations seront très prochainement publiées sur notre site internet, pour rester informé, inscrivez-vous à nos alertes infos : cliquez ici.\",\n",
       " \"Dans le cadre du montage de cérémonie d'ouverture, les ponts de la Seine à Paris seront progressivement fermés à la circulation :\\xa0à compter du 1er juillet : Pont d'Iéna (pour moitié) et Pont du Carrousel ;\\xa0à compter du 8 juillet : Pont de l'Alma, Pont de la Tournelle et Pont au Change ;\\xa0à compter du 15 juillet : Pont-Royal, Pont d'Arcole et Pont de la Concorde.\\xa07 pont supplémentaires seront fermés plusieurs jours avant la cérémonie d'ouverture du 26 juillet :\\xa0Pont d'Austerlitz\\xa0Pont Saint-Louis\\xa0Pont Neuf\\xa0Ponts des Arts\\xa0Pont Alexandre III\\xa0Le jour J, vous aurez 4 possibilités de passer d'une rive à l'autre :\\xa0Pont de Sully\\xa0Pont de Notre-Dame\\xa0Pont des Invalides\\xa0Passerelle en piéton Sédar Senghor\\xa0Tous les autres ponts ne seront pas traversants. De nouvelles informations seront très prochainement publiées sur la page consacrée, pour rester informé, inscrivez-vous à nos alertes infos : https://anticiperlesjeux.gouv.fr/inscriptions-alertes-infos\",\n",
       " \"Vendredi 26 juillet 2024 de 19h30 à 23h, se tiendra la cérémonie d'ouverture des Jeux Olympiques de Paris 2024.\\xa0Cet événement se déroulera sur la Seine entre le Pont d'Austerlitz et le Pont d'Iéna.\\xa0De forts impacts sur vos déplacements sur les routes et dans les transports en commun sont à prévoir plusieurs jours avant l'événement et le Jour J. Retrouvez ici les premières informations pour anticiper dès maintenant, tous les détails seront communiqués très prochainement.\",\n",
       " \"Seules les personnes autorisées à accéder à un périmètre rouge pourront obtenir un laissez-passer sous forme de QR code.\\xa0Pour savoir si vous êtes concerné, consultez dans un premier temps le tableau des personnes autorisées établit par la Préfecture de Police de Paris, cliquez ici.\\xa0Si vous faites partie des personnes autorisées, vous pourrez faire une demande de laissez-passer sur la plateforme numérique disponible en mai, en fournissant les justificatifs précisés dans le même tableau.A noter : concernant la cérémonie d'ouverture, le périmètre spécifique et ses modalités d'accès seront communiqués très prochainement sur la page consacrée.\",\n",
       " 'Durant toutes la période des Jeux Olympiques et Jeux Paralympiques, les accès aux gares parisiennes seront impactés par de fortes affluences attendues dans les transports en commun et des restrictions de circulation sur la route liées aux périmètres de sécurité.Par ailleurs, la gare de Lyon sera très impactée, étant à proximité du site olympique de Paris Bercy où se tiendront les épreuves de gymnastique artistique, trampoline, le basketball et pendant les jeux paralympiques du basket fauteuil et dans le périmètre temporaire de la cérémonie d\\'ouverture le 26 juillet.Pour se rendre dans une gare parisienne en transports en commun, pensez à consulter en amont l\\'application Ile-de-France Mobilités à partir de fin avril pour trouver l\\'itinéraire le plus adapté depuis votre point de départ. Si vous souhaitez vous y rendre en voiture, nous vous recommandons dans le mesure du possible, d\\'éviter le jour de la cérémonie d\\'ouverture le 26 juillet.Pour les autres périodes, nous vous invitons à consulter la carte interactive sur l’onglet \"routes\", pour visualiser l’ensemble des dates et des heures d\\'activation des périmètres. L\\'accès sera interdit 2h30 avant le début de la première compétition et sera levé 1h après la dernière compétition.Si vous devez voyager le jour où un périmètre rouge est activé, l\\'accès en voiture sera interdit sauf en taxi, autorisé à pénétrer dans la zone.\\xa0Il est également à noter que la cérémonie d\\'ouverture des Jeux Olympiques aura lieu le 26 juillet, les routes et les transports en commun seront très impactés en amont et le Jour J. Toutes les informations concernant cet événement seront prochainement disponibles sur notre site internet, restez informé en vous inscrivant à nos alertes infos : cliquez ici.',\n",
       " \"Durant toutes la période des Jeux Olympiques et Jeux Paralympiques, les aéroports parisiens seront très impactés et particulièrement les journées du 26 juillet (cérémonie d'ouverture) et les 10, 11, 12 août (départs massifs fin des Jeux Olympiques).\\xa0Vous pourrez accéder à l'aéroport Roissy-CDG depuis Paris en transports en commun par le RER B. Cependant, ce dernier desservant les sites olympiques de Saint Denis, nous vous recommandons de consulter en amont l'application Ile-de-France Mobilités fin avril pour trouver l'itinéraire le plus adapté depuis votre point de départ.\\xa0En voiture, les voies olympiques pourront avoir un impact sur votre parcours. A noter que les voies réservées seront activées à partir du 15 juillet, elles représentent une seule voie, les deux autres sont autorisées à tous les véhicules. Les taxis sont, quant à eux, autorisés à emprunter les voies olympiques.\\xa0Pour rejoindre directement Orly en transports en commun depuis Paris, la ligne 14 prolongée sera mise en service en juin 2024, le RER B dessert également cet aéroport. Pour Orly, aucune voie réservée n'est mise en place.\\xa0En voiture comme en transports en commun, nous vous conseillons vivement de prendre une marge supplémentaire afin d'arriver sereinement à destination.Pour tout ce qui concerne plus directement les opérations aéroportuaires, le Groupe ADP se prépare pour cette période exceptionnelle, avec l'ensemble de la communauté aéroportuaire, en renforçant ses dispositifs, à commencer par l'accueil et l'orientation de tous les publics. Vous pouvez consulter le site d'Aéroport de Paris pour plus de précisions, cliquez ici.Restez informé grâce à nos alertes infos : je m'inscris.\"]"
      ]
     },
     "execution_count": 9,
     "metadata": {},
     "output_type": "execute_result"
    }
   ],
   "source": [
    "#ON GARDE UNIQUEMENT LA RÉPONSE\n",
    "réponses = [element.split('?')[1].strip() for element in réponse]\n",
    "réponses"
   ]
  },
  {
   "cell_type": "markdown",
   "metadata": {},
   "source": [
    "## DATAFRAME"
   ]
  },
  {
   "cell_type": "code",
   "execution_count": 10,
   "metadata": {},
   "outputs": [
    {
     "data": {
      "text/html": [
       "<div>\n",
       "<style scoped>\n",
       "    .dataframe tbody tr th:only-of-type {\n",
       "        vertical-align: middle;\n",
       "    }\n",
       "\n",
       "    .dataframe tbody tr th {\n",
       "        vertical-align: top;\n",
       "    }\n",
       "\n",
       "    .dataframe thead th {\n",
       "        text-align: right;\n",
       "    }\n",
       "</style>\n",
       "<table border=\"1\" class=\"dataframe\">\n",
       "  <thead>\n",
       "    <tr style=\"text-align: right;\">\n",
       "      <th></th>\n",
       "      <th>Question</th>\n",
       "      <th>Réponse</th>\n",
       "      <th>URL</th>\n",
       "    </tr>\n",
       "  </thead>\n",
       "  <tbody>\n",
       "    <tr>\n",
       "      <th>0</th>\n",
       "      <td>Puis-je accéder à mon parking durant les Jeux ?</td>\n",
       "      <td>Si votre parking se situe dans un périmètre ro...</td>\n",
       "      <td>https://anticiperlesjeux.gouv.fr/faq</td>\n",
       "    </tr>\n",
       "    <tr>\n",
       "      <th>1</th>\n",
       "      <td>Quelles sont les livraisons autorisées dans le...</td>\n",
       "      <td>Les livraisons autorisées dans les périmètres ...</td>\n",
       "      <td>https://anticiperlesjeux.gouv.fr/faq</td>\n",
       "    </tr>\n",
       "    <tr>\n",
       "      <th>2</th>\n",
       "      <td>Quand seront activées les voies olympiques ?</td>\n",
       "      <td>Les voies olympiques seront activées sur les d...</td>\n",
       "      <td>https://anticiperlesjeux.gouv.fr/faq</td>\n",
       "    </tr>\n",
       "    <tr>\n",
       "      <th>3</th>\n",
       "      <td>Je suis PMR, comment puis-je me déplacer avec ...</td>\n",
       "      <td>Les personnes à mobilité réduite peuvent circu...</td>\n",
       "      <td>https://anticiperlesjeux.gouv.fr/faq</td>\n",
       "    </tr>\n",
       "    <tr>\n",
       "      <th>4</th>\n",
       "      <td>Quels ponts resteront traversants le jour de l...</td>\n",
       "      <td>Le jour de la cérémonie d'ouverture des Jeux O...</td>\n",
       "      <td>https://anticiperlesjeux.gouv.fr/faq</td>\n",
       "    </tr>\n",
       "    <tr>\n",
       "      <th>5</th>\n",
       "      <td>Quels seront les ponts fermés pour la cérémoni...</td>\n",
       "      <td>Dans le cadre du montage de cérémonie d'ouvert...</td>\n",
       "      <td>https://anticiperlesjeux.gouv.fr/faq</td>\n",
       "    </tr>\n",
       "    <tr>\n",
       "      <th>6</th>\n",
       "      <td>Quels seront les impacts sur les déplacements ...</td>\n",
       "      <td>Vendredi 26 juillet 2024 de 19h30 à 23h, se ti...</td>\n",
       "      <td>https://anticiperlesjeux.gouv.fr/faq</td>\n",
       "    </tr>\n",
       "    <tr>\n",
       "      <th>7</th>\n",
       "      <td>Où faire une demande de laissez-passer sous fo...</td>\n",
       "      <td>Seules les personnes autorisées à accéder à un...</td>\n",
       "      <td>https://anticiperlesjeux.gouv.fr/faq</td>\n",
       "    </tr>\n",
       "    <tr>\n",
       "      <th>8</th>\n",
       "      <td>Quelles seront les gares parisiennes impactées...</td>\n",
       "      <td>Durant toutes la période des Jeux Olympiques e...</td>\n",
       "      <td>https://anticiperlesjeux.gouv.fr/faq</td>\n",
       "    </tr>\n",
       "    <tr>\n",
       "      <th>9</th>\n",
       "      <td>Les aéroports parisiens seront-ils impactés ?</td>\n",
       "      <td>Durant toutes la période des Jeux Olympiques e...</td>\n",
       "      <td>https://anticiperlesjeux.gouv.fr/faq</td>\n",
       "    </tr>\n",
       "  </tbody>\n",
       "</table>\n",
       "</div>"
      ],
      "text/plain": [
       "                                            Question  \\\n",
       "0    Puis-je accéder à mon parking durant les Jeux ?   \n",
       "1  Quelles sont les livraisons autorisées dans le...   \n",
       "2       Quand seront activées les voies olympiques ?   \n",
       "3  Je suis PMR, comment puis-je me déplacer avec ...   \n",
       "4  Quels ponts resteront traversants le jour de l...   \n",
       "5  Quels seront les ponts fermés pour la cérémoni...   \n",
       "6  Quels seront les impacts sur les déplacements ...   \n",
       "7  Où faire une demande de laissez-passer sous fo...   \n",
       "8  Quelles seront les gares parisiennes impactées...   \n",
       "9      Les aéroports parisiens seront-ils impactés ?   \n",
       "\n",
       "                                             Réponse  \\\n",
       "0  Si votre parking se situe dans un périmètre ro...   \n",
       "1  Les livraisons autorisées dans les périmètres ...   \n",
       "2  Les voies olympiques seront activées sur les d...   \n",
       "3  Les personnes à mobilité réduite peuvent circu...   \n",
       "4  Le jour de la cérémonie d'ouverture des Jeux O...   \n",
       "5  Dans le cadre du montage de cérémonie d'ouvert...   \n",
       "6  Vendredi 26 juillet 2024 de 19h30 à 23h, se ti...   \n",
       "7  Seules les personnes autorisées à accéder à un...   \n",
       "8  Durant toutes la période des Jeux Olympiques e...   \n",
       "9  Durant toutes la période des Jeux Olympiques e...   \n",
       "\n",
       "                                    URL  \n",
       "0  https://anticiperlesjeux.gouv.fr/faq  \n",
       "1  https://anticiperlesjeux.gouv.fr/faq  \n",
       "2  https://anticiperlesjeux.gouv.fr/faq  \n",
       "3  https://anticiperlesjeux.gouv.fr/faq  \n",
       "4  https://anticiperlesjeux.gouv.fr/faq  \n",
       "5  https://anticiperlesjeux.gouv.fr/faq  \n",
       "6  https://anticiperlesjeux.gouv.fr/faq  \n",
       "7  https://anticiperlesjeux.gouv.fr/faq  \n",
       "8  https://anticiperlesjeux.gouv.fr/faq  \n",
       "9  https://anticiperlesjeux.gouv.fr/faq  "
      ]
     },
     "execution_count": 10,
     "metadata": {},
     "output_type": "execute_result"
    }
   ],
   "source": [
    "df1 = pd.DataFrame({'Question': questions, 'Réponse': réponses, 'URL': 'https://anticiperlesjeux.gouv.fr/faq'})\n",
    "\n",
    "# Affichage du DataFrame\n",
    "df1"
   ]
  },
  {
   "cell_type": "markdown",
   "metadata": {},
   "source": [
    "### _____________________________________________________________________________________________________________"
   ]
  },
  {
   "cell_type": "markdown",
   "metadata": {},
   "source": [
    "### J'optimise mon code pour les autres pages de questions pour gagner du temps:"
   ]
  },
  {
   "cell_type": "markdown",
   "metadata": {},
   "source": [
    "# 2e page de question"
   ]
  },
  {
   "cell_type": "code",
   "execution_count": 11,
   "metadata": {},
   "outputs": [],
   "source": [
    "import requests as req\n",
    "req = req.get('https://anticiperlesjeux.gouv.fr/faq?page=1')"
   ]
  },
  {
   "cell_type": "markdown",
   "metadata": {},
   "source": [
    "## QUESTIONS"
   ]
  },
  {
   "cell_type": "code",
   "execution_count": 12,
   "metadata": {},
   "outputs": [
    {
     "data": {
      "text/plain": [
       "['Je suis médecin, comment mes patients pourront-ils se rendre à mon cabinet ?',\n",
       " \"Je dois procéder à des soins médicaux auprès de mes patients à domicile, comment m'y rendre ?\",\n",
       " 'Quels seront les impacts des Jeux sur les tarifs des transports en commun en Ile-de-France ?',\n",
       " \"Je dois livrer des médicaments pendant les Jeux, comment m'organiser ?\",\n",
       " \"J'ai des consultations médicales dans le cadre de ma grossesse, comment puis-je m'y rendre ?\",\n",
       " \"Mon accouchement est prévu cet été en Ile-de-France, comment puis-je m'organiser ?\",\n",
       " 'Je suis un personnel de santé, comment accéder à un hôpital en Ile-de-France pendant les Jeux ?',\n",
       " 'Je suis un patient, comment accéder à un hôpital en Ile-de-France pendant les Jeux ?',\n",
       " 'En tant que piéton ou cycliste, comment se déplacer dans les périmètres de sécurisation des compétitions ?',\n",
       " 'En tant que résident dans un périmètre de sécurisation des compétitions, comment accéder à son habitation à pied / à vélo ?']"
      ]
     },
     "execution_count": 12,
     "metadata": {},
     "output_type": "execute_result"
    }
   ],
   "source": [
    "html = req.text\n",
    "soup= BeautifulSoup(html,'html.parser')\n",
    "\n",
    "#ON FAIT LES QUESTIONS\n",
    "noms = soup.findAll('button',{'class':'fr-accordion__btn'})\n",
    "question = [noms.get_text() for noms in noms]\n",
    "\n",
    "#ON ENLÈVE LE \"\\n\"\n",
    "for i in range(len(question)):\n",
    "    question[i] = question[i].strip(' \\n')\n",
    "\n",
    "#ON ENLÈVE LA PREMIÈRE LIGNE\n",
    "questions = question[1:]\n",
    "questions"
   ]
  },
  {
   "cell_type": "markdown",
   "metadata": {},
   "source": [
    "## RÉPONSES"
   ]
  },
  {
   "cell_type": "code",
   "execution_count": 13,
   "metadata": {},
   "outputs": [
    {
     "data": {
      "text/plain": [
       "[\"Pour savoir si votre cabinet est impacté par les jeux, consultez notre carte interactive en indiquant l'adresse exacte, les jours et heures des consultations :\\xa0consulter la carte interactiveSi votre cabinet est situé à proximité d'un site olympique, l'accès routier peut être impacté par un périmètre de sécurité rouge, l'accès en véhicule motorisé sera interdit. S'il se situe en périmètre bleu, l'accès en véhicule motorisé sera interdit au transit.\\xa0Il sera possible dans tous les cas de se rendre à votre cabinet à pied, en vélo ou en transports en commun. Pour les transports en commun, il est conseillé de consulter la carte interactive pour favoriser les stations/gares, lignes les moins fréquentées pour un déplacement plus serein.\\xa0Si certains patients ne peuvent venir qu'en voiture, il sera possible de se faire déposer en taxi ou ambulance dans le périmètre rouge (consulter le tableau des autorisation, cliquer ici). Sinon, l'accès en voiture ne pourra s'effectuer qu'à la frontière du périmètre et les derniers mètres devront s'effectuer à pied.\",\n",
       " \"Les déplacements à pied et à vélo seront possibles pendant les Jeux indépendamment des périmètres de sécurité.\\xa0Les déplacements en véhicule motorisé seront impactés pour accéder aux lieux d'intervention si ces derniers sont situés dans des périmètres de sécurité.\\xa0Si l'adresse concernée se situe dans un périmètre rouge, il conviendra d'effectuer une demande d'autorisation sur la plateforme numérique de la Préfecture de police (disponible au printemps) en se munissant d'un titre d'identité et d'une carte professionnelle, ou de l'attestation employeur justifiant de la mission, afin de disposer d'un laissez-passer numérique qui sera demandé pour l'accès à la zone rouge.\\xa0Pour se rendre dans une zone bleue, seul un justificatif sera demandé attestant de la raison de votre déplacement (carte professionnelle par exemple).\\xa0Pour savoir si vous êtes concerné, consultez notre carte interactive : indiquez l'adresse de départ, l'adresse d'arrivée, le jour et l'heure de vos déplacements :consulter la carte interactive\",\n",
       " 'Du 20 juillet au 8 septembre 2024, les tarifs des transports en commun augmenteront temporairement en Île-de-France.\\xa0Vous avez un abonnement',\n",
       " \"Si l'établissement se situe dans un périmètre rouge, interdit à la circulation motorisée, vous devrez faire une demande de laissez-passer. Pour l’obtenir, vous devrez vous enregistrer sur la plateforme de la préfecture de Police (disponible au printemps) en fournissant les justificatifs suivants : attestation de l’employeur, certificat d’immatriculation, titre d’identité et justificatif de livraison.\\xa0Pour savoir si vous êtes concerné, consultez notre carte interactive : indiquez l'adresse de départ, l'adresse d'arrivée, le jour et l'heure de vos déplacements :\\xa0Consulter la carte interactiveNous vous conseillons d'adapter la gestion de vos livraisons :\\xa0Travailler en amont avec son client sur la priorisation de ses livraisons,\\xa0Réaménager les horaires de livraison auprès des destinataires,\\xa0Augmenter les volumes de livraisons. Une rubrique a spécifiquement été dédiée aux professionnels, pensez à la consulter pour y retrouverez tous les conseils : cliquez ici.\",\n",
       " \"Consultez dans un premier temps notre carte interactive pour savoir si vos points de départ et d'arrivée sont concernés par les périmètres de sécurité et/ou les voies olympiques : indiquez l'adresse concernée, le jour et l'heure de vos déplacements :\\xa0Consulter la carte interactiveSi vous devez vous déplacer dans les périmètres de sécurité, consultez le tableau des personnes autorisées à y circuler : cliquez ici.\\xa0\\xa0Si votre point de départ et/ou d'arrivée se situe dans un périmètre rouge, vous pourrez faire une demande d'autorisation sur la plateforme numérique de la préfecture de police (disponible au printemps) afin de disposer d'un laissez-passer pour accéder à la zone. Si votre lieu de consultation est dans un périmètre bleu, vous pourrez circuler en présentant simplement un justificatif de rendez-vous, sans passer par la plateforme de la préfecture de Police.\",\n",
       " \"Les restrictions de circulation concernent les périmètres de sécurité aux abords des sites de compétition et les voies olympiques. Consultez notre carte interactive des impacts sur la route en indiquant l'adresse concernée (domicile/hôpital), les jours et horaires de vos déplacements afin de savoir si vous êtes concernés par ces restrictions :Accéder à la carte interactiveSi vous devez vous déplacer dans les périmètres de sécurité, consultez le tableau des personnes autorisées à y circuler : cliquez ici.Sachez que le jour J, vous pouvez toujours faire appel à un taxi ou une ambulance qui sont autorisés à circuler sur les voies olympiques, si votre trajet est concerné.\\xa0N'hésitez pas à vous rapprocher de votre hôpital pour les prévenir de la situation et demander des recommandations sur les trajets préconisés, si vous pouvez bénéficier d'une prise en charge spéciale le jour J.\",\n",
       " \"Les restrictions de circulation concernent les périmètres de sécurité aux abords des sites de compétition et les voies olympiques.\\xa0Consultez notre carte interactive des impacts sur la route en indiquant l'adresse souhaitée, les jours et horaires de vos déplacements afin de savoir si vous êtes concernés par ces restrictions :\\xa0Accéder à la carte interactiveSi vous devez vous déplacer dans les périmètres de sécurité, consultez le tableau des personnes autorisées à y circuler : cliquez ici.Si l'adresse concernée se situe dans un périmètre rouge, vous pourrez faire une demande d'autorisation sur la plateforme numérique de la préfecture de police (disponible au printemps) afin de disposer d'un laissez-passer numérique qui vous sera demandé pour l'accès à la zone rouge.\",\n",
       " \"Consultez dans un premier temps notre carte interactive pour savoir si vos points de départ et d'arrivée sont concernés par les périmètres de sécurité ou les voies olympiques : indiquez l'adresse souhaitée, le jour et l'heure de vos déplacements :\\xa0Accéder à la carte interactiveSi l’hôpital se situe dans une zone rouge : il faudra vous inscrire sur la plateforme numérique qui sera mise en ligne par la préfecture de police au printemps 2024 en fournissant les justificatifs nécessaires afin de disposer d'un laissez-passer numérique qui vous sera demandé pour l'accès à la zone rouge.\\xa0Consultez le tableau des personnes autorisées à accéder aux périmètres de sécurité : cliquez ici.\\xa0Si l’hôpital se situe dans une zone bleue \\xa0: l’accès sera autorisé à tout conducteur en mesure de justifier un besoin d’accès, sur un point de passage. Le dispositif donnera lieu à des contrôles réalisés par les forces de l’ordre.\\xa0Pour vous rendre à l'hôpital, si vous devez emprunter un itinéraire impacté par les voies olympiques :\\xa0en véhicule personnel, vous devrez emprunter les voies non réservées aux accrédités,\\xa0les véhicules d'urgence seront autorisés à circuler sur les voies olympiques.\",\n",
       " \"Les périmètres de sécurisation rouges (interdiction à la circulation) et bleus (circulation motorisée réglementée) sont accessibles pour les piétons, vélos, trottinettes sans justificatif.Les restrictions sont principalement liées aux véhicules motorisés, afin de réduire les flux de passage. Les modalités d'accès à ces périmètres seront précisées prochainement par la préfecture de Police de Paris (plateforme d'enregistrement à venir).Retrouvez des informations détaillées, par jour et par heure, sur les prévisions de circulation.Accédez à la carte interactiveQu’en est-il des déplacements en vélo-cargo\",\n",
       " 'Si vous résidez dans les périmètres rouges (interdiction de la circulation motorisée) et bleus (circulation motorisée réglementée), il est tout à fait possible de se déplacer à pied ou à vélo, trottinette, skateboard, sans justificatif.Retrouvez des informations détaillées, par jour et par heure, sur les prévisions de circulation.Accédez à la carte interactive']"
      ]
     },
     "execution_count": 13,
     "metadata": {},
     "output_type": "execute_result"
    }
   ],
   "source": [
    "#ON FAIT LES RÉPONSES\n",
    "rep = soup.findAll('section')\n",
    "réponse = [rep.get_text() for rep in rep]\n",
    "\n",
    "#ON ENLÈVE LE \"\\n\"\n",
    "for i in range(len(réponse)):\n",
    "    réponse[i] = réponse[i].strip(' \\n')\n",
    "\n",
    "#ON ENLÈVE LA PREMIÈRE LIGNE\n",
    "réponse = réponse[1:]\n",
    "\n",
    "#ON GARDE UNIQUEMENT LA RÉPONSE\n",
    "réponses = [element.split('?')[1].strip() for element in réponse]\n",
    "réponses"
   ]
  },
  {
   "cell_type": "markdown",
   "metadata": {},
   "source": [
    "## DATAFRAME"
   ]
  },
  {
   "cell_type": "code",
   "execution_count": 14,
   "metadata": {},
   "outputs": [
    {
     "data": {
      "text/html": [
       "<div>\n",
       "<style scoped>\n",
       "    .dataframe tbody tr th:only-of-type {\n",
       "        vertical-align: middle;\n",
       "    }\n",
       "\n",
       "    .dataframe tbody tr th {\n",
       "        vertical-align: top;\n",
       "    }\n",
       "\n",
       "    .dataframe thead th {\n",
       "        text-align: right;\n",
       "    }\n",
       "</style>\n",
       "<table border=\"1\" class=\"dataframe\">\n",
       "  <thead>\n",
       "    <tr style=\"text-align: right;\">\n",
       "      <th></th>\n",
       "      <th>Question</th>\n",
       "      <th>Réponse</th>\n",
       "      <th>URL</th>\n",
       "    </tr>\n",
       "  </thead>\n",
       "  <tbody>\n",
       "    <tr>\n",
       "      <th>0</th>\n",
       "      <td>Je suis médecin, comment mes patients pourront...</td>\n",
       "      <td>Pour savoir si votre cabinet est impacté par l...</td>\n",
       "      <td>https://anticiperlesjeux.gouv.fr/faq?page=1</td>\n",
       "    </tr>\n",
       "    <tr>\n",
       "      <th>1</th>\n",
       "      <td>Je dois procéder à des soins médicaux auprès d...</td>\n",
       "      <td>Les déplacements à pied et à vélo seront possi...</td>\n",
       "      <td>https://anticiperlesjeux.gouv.fr/faq?page=1</td>\n",
       "    </tr>\n",
       "    <tr>\n",
       "      <th>2</th>\n",
       "      <td>Quels seront les impacts des Jeux sur les tari...</td>\n",
       "      <td>Du 20 juillet au 8 septembre 2024, les tarifs ...</td>\n",
       "      <td>https://anticiperlesjeux.gouv.fr/faq?page=1</td>\n",
       "    </tr>\n",
       "    <tr>\n",
       "      <th>3</th>\n",
       "      <td>Je dois livrer des médicaments pendant les Jeu...</td>\n",
       "      <td>Si l'établissement se situe dans un périmètre ...</td>\n",
       "      <td>https://anticiperlesjeux.gouv.fr/faq?page=1</td>\n",
       "    </tr>\n",
       "    <tr>\n",
       "      <th>4</th>\n",
       "      <td>J'ai des consultations médicales dans le cadre...</td>\n",
       "      <td>Consultez dans un premier temps notre carte in...</td>\n",
       "      <td>https://anticiperlesjeux.gouv.fr/faq?page=1</td>\n",
       "    </tr>\n",
       "    <tr>\n",
       "      <th>5</th>\n",
       "      <td>Mon accouchement est prévu cet été en Ile-de-F...</td>\n",
       "      <td>Les restrictions de circulation concernent les...</td>\n",
       "      <td>https://anticiperlesjeux.gouv.fr/faq?page=1</td>\n",
       "    </tr>\n",
       "    <tr>\n",
       "      <th>6</th>\n",
       "      <td>Je suis un personnel de santé, comment accéder...</td>\n",
       "      <td>Les restrictions de circulation concernent les...</td>\n",
       "      <td>https://anticiperlesjeux.gouv.fr/faq?page=1</td>\n",
       "    </tr>\n",
       "    <tr>\n",
       "      <th>7</th>\n",
       "      <td>Je suis un patient, comment accéder à un hôpit...</td>\n",
       "      <td>Consultez dans un premier temps notre carte in...</td>\n",
       "      <td>https://anticiperlesjeux.gouv.fr/faq?page=1</td>\n",
       "    </tr>\n",
       "    <tr>\n",
       "      <th>8</th>\n",
       "      <td>En tant que piéton ou cycliste, comment se dép...</td>\n",
       "      <td>Les périmètres de sécurisation rouges (interdi...</td>\n",
       "      <td>https://anticiperlesjeux.gouv.fr/faq?page=1</td>\n",
       "    </tr>\n",
       "    <tr>\n",
       "      <th>9</th>\n",
       "      <td>En tant que résident dans un périmètre de sécu...</td>\n",
       "      <td>Si vous résidez dans les périmètres rouges (in...</td>\n",
       "      <td>https://anticiperlesjeux.gouv.fr/faq?page=1</td>\n",
       "    </tr>\n",
       "  </tbody>\n",
       "</table>\n",
       "</div>"
      ],
      "text/plain": [
       "                                            Question  \\\n",
       "0  Je suis médecin, comment mes patients pourront...   \n",
       "1  Je dois procéder à des soins médicaux auprès d...   \n",
       "2  Quels seront les impacts des Jeux sur les tari...   \n",
       "3  Je dois livrer des médicaments pendant les Jeu...   \n",
       "4  J'ai des consultations médicales dans le cadre...   \n",
       "5  Mon accouchement est prévu cet été en Ile-de-F...   \n",
       "6  Je suis un personnel de santé, comment accéder...   \n",
       "7  Je suis un patient, comment accéder à un hôpit...   \n",
       "8  En tant que piéton ou cycliste, comment se dép...   \n",
       "9  En tant que résident dans un périmètre de sécu...   \n",
       "\n",
       "                                             Réponse  \\\n",
       "0  Pour savoir si votre cabinet est impacté par l...   \n",
       "1  Les déplacements à pied et à vélo seront possi...   \n",
       "2  Du 20 juillet au 8 septembre 2024, les tarifs ...   \n",
       "3  Si l'établissement se situe dans un périmètre ...   \n",
       "4  Consultez dans un premier temps notre carte in...   \n",
       "5  Les restrictions de circulation concernent les...   \n",
       "6  Les restrictions de circulation concernent les...   \n",
       "7  Consultez dans un premier temps notre carte in...   \n",
       "8  Les périmètres de sécurisation rouges (interdi...   \n",
       "9  Si vous résidez dans les périmètres rouges (in...   \n",
       "\n",
       "                                           URL  \n",
       "0  https://anticiperlesjeux.gouv.fr/faq?page=1  \n",
       "1  https://anticiperlesjeux.gouv.fr/faq?page=1  \n",
       "2  https://anticiperlesjeux.gouv.fr/faq?page=1  \n",
       "3  https://anticiperlesjeux.gouv.fr/faq?page=1  \n",
       "4  https://anticiperlesjeux.gouv.fr/faq?page=1  \n",
       "5  https://anticiperlesjeux.gouv.fr/faq?page=1  \n",
       "6  https://anticiperlesjeux.gouv.fr/faq?page=1  \n",
       "7  https://anticiperlesjeux.gouv.fr/faq?page=1  \n",
       "8  https://anticiperlesjeux.gouv.fr/faq?page=1  \n",
       "9  https://anticiperlesjeux.gouv.fr/faq?page=1  "
      ]
     },
     "execution_count": 14,
     "metadata": {},
     "output_type": "execute_result"
    }
   ],
   "source": [
    "df2 = pd.DataFrame({'Question': questions, 'Réponse': réponses,'URL': 'https://anticiperlesjeux.gouv.fr/faq?page=1'})\n",
    "\n",
    "# Affichage du DataFrame\n",
    "df2"
   ]
  },
  {
   "cell_type": "markdown",
   "metadata": {},
   "source": [
    "### _____________________________________________________________________________________________________________"
   ]
  },
  {
   "cell_type": "markdown",
   "metadata": {},
   "source": [
    "# 3e page de question"
   ]
  },
  {
   "cell_type": "code",
   "execution_count": 15,
   "metadata": {},
   "outputs": [],
   "source": [
    "import requests as req #Pour éviter de devoir tout relancer, je re-import req\n",
    "req = req.get('https://anticiperlesjeux.gouv.fr/faq?page=2')"
   ]
  },
  {
   "cell_type": "markdown",
   "metadata": {},
   "source": [
    "## QUESTIONS"
   ]
  },
  {
   "cell_type": "code",
   "execution_count": 16,
   "metadata": {},
   "outputs": [
    {
     "data": {
      "text/plain": [
       "['Pour un déménagement avec son propre véhicule, comment s’organiser ?',\n",
       " 'En tant que piéton ou cycliste, comment se déplacer dans les périmètres de sécurisation des compétitions ?',\n",
       " 'En tant que professionnel dont le parking se trouve dans un périmètre de sécurité de site de compétition, comment y accéder ?',\n",
       " 'En tant que titulaire d’un abonnement de stationnement dans un parking public, quelles sont les restrictions de stationnement ?',\n",
       " 'En tant que titulaire d’un abonnement de stationnement à tarif préférentiel « résident », quelles sont les restrictions de stationnement ?',\n",
       " 'Les taxis sont-ils autorisés à circuler dans les périmètres de sécurité ?',\n",
       " 'En tant que titulaire d’une carte de stationnement destinée aux personnes à mobilité réduire, quelles sont les restrictions de stationnement ?',\n",
       " 'Y aura-t-il des places de stationnement supplémentaires dans les périmètres rouges pour les spectateurs des Jeux ?',\n",
       " 'Quels peuvent être les impacts pour les entreprises PME/TPE pendant les Jeux ?',\n",
       " 'Comment sera-t-il possible d’accéder aux sites de compétitions ?']"
      ]
     },
     "execution_count": 16,
     "metadata": {},
     "output_type": "execute_result"
    }
   ],
   "source": [
    "html = req.text\n",
    "soup= BeautifulSoup(html,'html.parser')\n",
    "\n",
    "#ON FAIT LES QUESTIONS\n",
    "noms = soup.findAll('button',{'class':'fr-accordion__btn'})\n",
    "question = [noms.get_text() for noms in noms]\n",
    "\n",
    "#ON ENLÈVE LE \"\\n\"\n",
    "for i in range(len(question)):\n",
    "    question[i] = question[i].strip(' \\n')\n",
    "\n",
    "#ON ENLÈVE LA PREMIÈRE LIGNE\n",
    "questions = question[1:]\n",
    "questions"
   ]
  },
  {
   "cell_type": "markdown",
   "metadata": {},
   "source": [
    "## RÉPONSES"
   ]
  },
  {
   "cell_type": "code",
   "execution_count": 17,
   "metadata": {},
   "outputs": [
    {
     "data": {
      "text/plain": [
       "['\"Pendant les Jeux Olympiques et Jeux Paralympiques, les routes seront plus fréquentées que d’habitude. Il est donc conseillé dans la mesure du possible de diminuer ses déplacements, de décaler ses horaires.\\xa0Dans la mesure du possible, nous vous invitons à organiser votre déménagement avant le 24 juillet, après le 8 septembre ou entre les deux olympiades, soit entre le 12 août et le 27 août 2024.Si cela n’est pas possible, nous vous invitons à consulter les prévisions de circulation pendant les Jeux afin de privilégier les heures et les jours avec moins de trafic.Retrouvez des informations détaillées, par jour et par heure, sur les prévisions de circulation.Accédez à la carte interactiveSi vous résidez dans un périmètre rouge (interdiction à la circulation), les camions de déménagement doivent préalablement être autorisés à se déplacer dans ce périmètre rouge via un enregistrement sur la plateforme dédiée (prochainement ouverture). Les modalités d\\'accès à ces périmètres seront précisées prochainement par la préfecture de Police de Paris.En savoir plus pour déménager à Paris',\n",
       " \"Les périmètres de sécurisation rouges (interdiction à la circulation) et bleus (circulation motorisée réglementée) sont accessibles pour les piétons, vélos, trottinettes sans justificatif.Les restrictions sont principalement liées aux véhicules motorisés, afin de réduire les flux de passage. Les modalités d'accès à ces périmètres seront précisées prochainement par la préfecture de Police de Paris (plateforme d'enregistrement à venir).Retrouvez des informations détaillées, par jour et par heure, sur les prévisions de circulation.Accédez à la carte interactiveQu’en est-il des déplacements en vélo-cargo\",\n",
       " \"Dans le périmètre rouge, les stationnements sont autorisés sur présentation d’un justificatif, avec un accès restreint à certains horaires (accès ou sortie d’un site olympique pour une épreuve). Des points d’entrée sont spécifiquement prévus dans le périmètre pour le contrôle.\\xa0Dans le périmètre bleu, les stationnements sont autorisés sur présentation d’un justificatif.Les modalités d'accès à ces périmètres seront précisées prochainement par la préfecture de Police de Paris (plateforme d'enregistrement à venir).Lors des parcours et courses sur route, les parkings privatifs situés sur le parcours, et donc dans le périmètre rouge, ne seront pas accessibles lors du passage des courses.Plus d’informations seront bientôt communiquées.Retrouvez des informations détaillées, par jour et par heure, sur les prévisions de circulation.Accédez à la carte interactive\",\n",
       " \"Dans certains périmètres organisateur et SILT (Sécurité intérieure et lutte contre le terrorisme), des parkings publics situés en dessous ou en bordure immédiate de sites de compétition seront partiellement ou totalement fermés pendant toute la durée des Jeux, et possiblement pendant le montage et le démontage des Jeux. Nous vous invitons à vous rapprocher de votre concessionnaire de parking.Dans le périmètre rouge, les stationnements sont autorisés sur présentation d’un justificatif après un enregistrement préalable sur la plateforme dédiée (prochainement ouverte), avec un accès restreint à certains horaires (accès ou sortie d’un site olympique pour une épreuve). Des points d’entrée sont spécifiquement prévus dans le périmètre pour le contrôle.\\xa0Plus d’informations seront bientôt communiquées.Dans le périmètre bleu, les stationnements sont autorisés sur présentation d’un justificatif.Les modalités d'accès à ces périmètres seront précisées prochainement par la préfecture de Police de Paris.Retrouvez des informations détaillées, par jour et par heure, sur les prévisions de circulation.Accédez à la carte interactive\",\n",
       " \"Dans certains périmètres organisateur et SILT (Sécurité intérieure et lutte contre le terrorisme), des parkings publics situés en dessous ou en bordure immédiate de sites de compétition seront partiellement ou totalement fermés pendant toute la durée des Jeux, et possiblement pendant le montage et le démontage des Jeux. Nous vous invitons à vous rapprocher de votre concessionnaire de parking.Attention, si ce parking privatif se situe sur le parcours d’une course sur route, celui-ci ne sera pas accessible pendant le passage de cette dernière.Dans le périmètre rouge, les stationnements sont autorisés sur présentation d’un justificatif après un enregistrement préalable sur la plateforme dédiée (prochainement ouverte), avec un accès restreint à certains horaires (accès ou sortie d’un site olympique pour une épreuve). Des points d’entrée sont spécifiquement prévus dans le périmètre pour le contrôle.\\xa0Plus d’informations seront bientôt communiquées.Dans le périmètre bleu, les stationnements sont autorisés sur présentation d’un justificatif.Les modalités d'accès à ces périmètres seront précisées prochainement par la préfecture de Police de Paris.Retrouvez des informations détaillées, par jour et par heure, sur les prévisions de circulation.Accédez à la carte interactive\",\n",
       " \"Les taxis et VTC sont autorisés à circuler dans les périmètres bleus et rouges uniquement pour prendre en charge ou déposer un passager muni d'un justificatif (particuliers et professionnels ou spectateurs des Jeux).\\xa0En revanche, ils ne sont pas autorisés à les traverser si leur point de départ ou d’arrivée n’est pas situé dans ces zones.Accédez à la carte interactive\",\n",
       " \"Dans le périmètre rouge, les stationnements sont autorisés sur présentation d’un justificatif après un enregistrement préalable sur la plateforme dédiée (prochainement ouverte), avec un accès restreint à certains horaires (accès ou sortie d’un site olympique pour une épreuve). Des points d’entrée sont spécifiquement prévus dans le périmètre pour le contrôle.\\xa0Plus d’informations seront bientôt communiquées.Dans le périmètre bleu, les stationnements sont autorisés sur présentation d’un justificatif.Les modalités d'accès à ces périmètres seront précisées prochainement par la préfecture de Police de Paris.Retrouvez des informations détaillées, par jour et par heure, sur les prévisions de circulation.Accédez à la carte interactive\",\n",
       " 'Des places de stationnement pour véhicules destinés aux personnes à mobilité réduite sont créées au plus proche des sites de compétitions avec des entrées dédiées.Plus d’informations seront bientôt disponibles.',\n",
       " \"Les pouvoirs publics et les collectivités s’efforcent au maximum de limiter les contraintes sur l’activité des PME/TPE. Durant l’été 2024, certaines routes seront impactées par des restrictions de circulation avec les voies olympiques (dédiées aux véhicules accrédités) et les périmètres de sécurité autour des sites de compétition. Les déplacements liés à l’activité professionnelle risquent donc d’être affectés.Pour tout déplacement dans les périmètres rouges (interdiction de la circulation motorisée) et bleus (circulation motorisée réglementée), des modalités d'accès à ces périmètres seront précisées prochainement par la préfecture de Police de Paris.Retrouvez des informations détaillées, par jour et par heure, sur les prévisions de circulation.Accédez à la carte interactivePour anticiper au mieux les déplacements des employés, nous vous invitons à consulter la page dédiée pour découvrir nos conseils.\",\n",
       " 'En tant que spectateur des Jeux Olympiques et Jeux Paralympiques, vous êtes autorisés à circuler dans tous les périmètres de sécurité sur présentation de votre billet pour les compétitions.Pour vous rendre aux sites, vous pouvez utiliser les transports en commun d’Île-de-France Mobilités, mais aussi les mobilités douces comme la marche et le vélo.Des navettes seront disponibles, notamment à destination des personnes à mobilité réduite, pour desservir des zones de dépose / reprise prévues autour de chaque site olympique et paralympique.Il est également possible de venir en taxi.Pour planifier son itinéraire, nous vous invitons à consulter les prévisions de circulation pendant les Jeux afin de privilégier les heures et les jours avec moins de trafic.Retrouvez des informations détaillées, par jour et par heure, sur les prévisions de circulation.Accédez à la carte interactive']"
      ]
     },
     "execution_count": 17,
     "metadata": {},
     "output_type": "execute_result"
    }
   ],
   "source": [
    "#ON FAIT LES RÉPONSES\n",
    "rep = soup.findAll('section')\n",
    "réponse = [rep.get_text() for rep in rep]\n",
    "\n",
    "#ON ENLÈVE LE \"\\n\"\n",
    "for i in range(len(réponse)):\n",
    "    réponse[i] = réponse[i].strip(' \\n')\n",
    "\n",
    "#ON ENLÈVE LA PREMIÈRE LIGNE\n",
    "réponse = réponse[1:]\n",
    "\n",
    "#ON GARDE UNIQUEMENT LA RÉPONSE\n",
    "réponses = [element.split('?')[1].strip() for element in réponse]\n",
    "réponses"
   ]
  },
  {
   "cell_type": "markdown",
   "metadata": {},
   "source": [
    "## DATAFRAME"
   ]
  },
  {
   "cell_type": "code",
   "execution_count": 18,
   "metadata": {},
   "outputs": [
    {
     "data": {
      "text/html": [
       "<div>\n",
       "<style scoped>\n",
       "    .dataframe tbody tr th:only-of-type {\n",
       "        vertical-align: middle;\n",
       "    }\n",
       "\n",
       "    .dataframe tbody tr th {\n",
       "        vertical-align: top;\n",
       "    }\n",
       "\n",
       "    .dataframe thead th {\n",
       "        text-align: right;\n",
       "    }\n",
       "</style>\n",
       "<table border=\"1\" class=\"dataframe\">\n",
       "  <thead>\n",
       "    <tr style=\"text-align: right;\">\n",
       "      <th></th>\n",
       "      <th>Question</th>\n",
       "      <th>Réponse</th>\n",
       "      <th>URL</th>\n",
       "    </tr>\n",
       "  </thead>\n",
       "  <tbody>\n",
       "    <tr>\n",
       "      <th>0</th>\n",
       "      <td>Pour un déménagement avec son propre véhicule,...</td>\n",
       "      <td>\"Pendant les Jeux Olympiques et Jeux Paralympi...</td>\n",
       "      <td>https://anticiperlesjeux.gouv.fr/faq?page=2</td>\n",
       "    </tr>\n",
       "    <tr>\n",
       "      <th>1</th>\n",
       "      <td>En tant que piéton ou cycliste, comment se dép...</td>\n",
       "      <td>Les périmètres de sécurisation rouges (interdi...</td>\n",
       "      <td>https://anticiperlesjeux.gouv.fr/faq?page=2</td>\n",
       "    </tr>\n",
       "    <tr>\n",
       "      <th>2</th>\n",
       "      <td>En tant que professionnel dont le parking se t...</td>\n",
       "      <td>Dans le périmètre rouge, les stationnements so...</td>\n",
       "      <td>https://anticiperlesjeux.gouv.fr/faq?page=2</td>\n",
       "    </tr>\n",
       "    <tr>\n",
       "      <th>3</th>\n",
       "      <td>En tant que titulaire d’un abonnement de stati...</td>\n",
       "      <td>Dans certains périmètres organisateur et SILT ...</td>\n",
       "      <td>https://anticiperlesjeux.gouv.fr/faq?page=2</td>\n",
       "    </tr>\n",
       "    <tr>\n",
       "      <th>4</th>\n",
       "      <td>En tant que titulaire d’un abonnement de stati...</td>\n",
       "      <td>Dans certains périmètres organisateur et SILT ...</td>\n",
       "      <td>https://anticiperlesjeux.gouv.fr/faq?page=2</td>\n",
       "    </tr>\n",
       "    <tr>\n",
       "      <th>5</th>\n",
       "      <td>Les taxis sont-ils autorisés à circuler dans l...</td>\n",
       "      <td>Les taxis et VTC sont autorisés à circuler dan...</td>\n",
       "      <td>https://anticiperlesjeux.gouv.fr/faq?page=2</td>\n",
       "    </tr>\n",
       "    <tr>\n",
       "      <th>6</th>\n",
       "      <td>En tant que titulaire d’une carte de stationne...</td>\n",
       "      <td>Dans le périmètre rouge, les stationnements so...</td>\n",
       "      <td>https://anticiperlesjeux.gouv.fr/faq?page=2</td>\n",
       "    </tr>\n",
       "    <tr>\n",
       "      <th>7</th>\n",
       "      <td>Y aura-t-il des places de stationnement supplé...</td>\n",
       "      <td>Des places de stationnement pour véhicules des...</td>\n",
       "      <td>https://anticiperlesjeux.gouv.fr/faq?page=2</td>\n",
       "    </tr>\n",
       "    <tr>\n",
       "      <th>8</th>\n",
       "      <td>Quels peuvent être les impacts pour les entrep...</td>\n",
       "      <td>Les pouvoirs publics et les collectivités s’ef...</td>\n",
       "      <td>https://anticiperlesjeux.gouv.fr/faq?page=2</td>\n",
       "    </tr>\n",
       "    <tr>\n",
       "      <th>9</th>\n",
       "      <td>Comment sera-t-il possible d’accéder aux sites...</td>\n",
       "      <td>En tant que spectateur des Jeux Olympiques et ...</td>\n",
       "      <td>https://anticiperlesjeux.gouv.fr/faq?page=2</td>\n",
       "    </tr>\n",
       "  </tbody>\n",
       "</table>\n",
       "</div>"
      ],
      "text/plain": [
       "                                            Question  \\\n",
       "0  Pour un déménagement avec son propre véhicule,...   \n",
       "1  En tant que piéton ou cycliste, comment se dép...   \n",
       "2  En tant que professionnel dont le parking se t...   \n",
       "3  En tant que titulaire d’un abonnement de stati...   \n",
       "4  En tant que titulaire d’un abonnement de stati...   \n",
       "5  Les taxis sont-ils autorisés à circuler dans l...   \n",
       "6  En tant que titulaire d’une carte de stationne...   \n",
       "7  Y aura-t-il des places de stationnement supplé...   \n",
       "8  Quels peuvent être les impacts pour les entrep...   \n",
       "9  Comment sera-t-il possible d’accéder aux sites...   \n",
       "\n",
       "                                             Réponse  \\\n",
       "0  \"Pendant les Jeux Olympiques et Jeux Paralympi...   \n",
       "1  Les périmètres de sécurisation rouges (interdi...   \n",
       "2  Dans le périmètre rouge, les stationnements so...   \n",
       "3  Dans certains périmètres organisateur et SILT ...   \n",
       "4  Dans certains périmètres organisateur et SILT ...   \n",
       "5  Les taxis et VTC sont autorisés à circuler dan...   \n",
       "6  Dans le périmètre rouge, les stationnements so...   \n",
       "7  Des places de stationnement pour véhicules des...   \n",
       "8  Les pouvoirs publics et les collectivités s’ef...   \n",
       "9  En tant que spectateur des Jeux Olympiques et ...   \n",
       "\n",
       "                                           URL  \n",
       "0  https://anticiperlesjeux.gouv.fr/faq?page=2  \n",
       "1  https://anticiperlesjeux.gouv.fr/faq?page=2  \n",
       "2  https://anticiperlesjeux.gouv.fr/faq?page=2  \n",
       "3  https://anticiperlesjeux.gouv.fr/faq?page=2  \n",
       "4  https://anticiperlesjeux.gouv.fr/faq?page=2  \n",
       "5  https://anticiperlesjeux.gouv.fr/faq?page=2  \n",
       "6  https://anticiperlesjeux.gouv.fr/faq?page=2  \n",
       "7  https://anticiperlesjeux.gouv.fr/faq?page=2  \n",
       "8  https://anticiperlesjeux.gouv.fr/faq?page=2  \n",
       "9  https://anticiperlesjeux.gouv.fr/faq?page=2  "
      ]
     },
     "execution_count": 18,
     "metadata": {},
     "output_type": "execute_result"
    }
   ],
   "source": [
    "df3 = pd.DataFrame({'Question': questions, 'Réponse': réponses, 'URL': 'https://anticiperlesjeux.gouv.fr/faq?page=2'})\n",
    "\n",
    "# Affichage du DataFrame\n",
    "df3"
   ]
  },
  {
   "cell_type": "markdown",
   "metadata": {},
   "source": [
    "### _____________________________________________________________________________________________________________"
   ]
  },
  {
   "cell_type": "markdown",
   "metadata": {},
   "source": [
    "# 4e page de question"
   ]
  },
  {
   "cell_type": "code",
   "execution_count": 19,
   "metadata": {},
   "outputs": [],
   "source": [
    "import requests as req #Pour éviter de devoir tout relancer, je re-import req\n",
    "req = req.get('https://anticiperlesjeux.gouv.fr/faq?page=3')"
   ]
  },
  {
   "cell_type": "markdown",
   "metadata": {},
   "source": [
    "## QUESTIONS"
   ]
  },
  {
   "cell_type": "code",
   "execution_count": 20,
   "metadata": {},
   "outputs": [
    {
     "data": {
      "text/plain": [
       "['Quels peuvent être les impacts pour les entreprises PME/TPE pendant les Jeux ?',\n",
       " 'Comment sera-t-il possible d’accéder aux sites de compétitions ?',\n",
       " 'Y aura-t-il des places de stationnement supplémentaires dans les périmètres rouges pour les spectateurs des Jeux ?',\n",
       " 'Quels sont les restrictions d’accès aux périmètres de sécurisation pour les spectateurs des Jeux munis d’un billet ?',\n",
       " 'Quelles sont les restrictions sur les routes qui peuvent impacter les livraisons ?',\n",
       " 'Qui pourra circuler sur les voies olympiques pendant les Jeux ?',\n",
       " 'Comment les changements sur les routes affecteront-ils le transport de marchandises/fret ?',\n",
       " 'Comment préparer au mieux les livraisons prévues pendant les Jeux ?',\n",
       " 'En tant que particulier, sera-t-il possible de recevoir des colis ou des livraisons pendant les Jeux ?',\n",
       " 'Comment accompagner les employés dans leurs déplacements pendant les Jeux ?']"
      ]
     },
     "execution_count": 20,
     "metadata": {},
     "output_type": "execute_result"
    }
   ],
   "source": [
    "html = req.text\n",
    "soup= BeautifulSoup(html,'html.parser')\n",
    "\n",
    "#ON FAIT LES QUESTIONS\n",
    "noms = soup.findAll('button',{'class':'fr-accordion__btn'})\n",
    "question = [noms.get_text() for noms in noms]\n",
    "\n",
    "#ON ENLÈVE LE \"\\n\"\n",
    "for i in range(len(question)):\n",
    "    question[i] = question[i].strip(' \\n')\n",
    "\n",
    "#ON ENLÈVE LA PREMIÈRE LIGNE\n",
    "questions = question[1:]\n",
    "questions"
   ]
  },
  {
   "cell_type": "markdown",
   "metadata": {},
   "source": [
    "## RÉPONSES"
   ]
  },
  {
   "cell_type": "code",
   "execution_count": 21,
   "metadata": {},
   "outputs": [
    {
     "data": {
      "text/plain": [
       "[\"Les pouvoirs publics et les collectivités s’efforcent au maximum de limiter les contraintes sur l’activité des PME/TPE. Durant l’été 2024, certaines routes seront impactées par des restrictions de circulation avec les voies olympiques (dédiées aux véhicules accrédités) et les périmètres de sécurité autour des sites de compétition. Les déplacements liés à l’activité professionnelle risquent donc d’être affectés.Pour tout déplacement dans les périmètres rouges (interdiction de la circulation motorisée) et bleus (circulation motorisée réglementée), des modalités d'accès à ces périmètres seront précisées prochainement par la préfecture de Police de Paris.Retrouvez des informations détaillées, par jour et par heure, sur les prévisions de circulation.Accédez à la carte interactivePour anticiper au mieux les déplacements des employés, nous vous invitons à consulter la page dédiée pour découvrir nos conseils.\",\n",
       " 'En tant que spectateur des Jeux Olympiques et Jeux Paralympiques, vous êtes autorisés à circuler dans tous les périmètres de sécurité sur présentation de votre billet pour les compétitions.Pour vous rendre aux sites, vous pouvez utiliser les transports en commun d’Île-de-France Mobilités, mais aussi les mobilités douces comme la marche et le vélo.Des navettes seront disponibles, notamment à destination des personnes à mobilité réduite, pour desservir des zones de dépose / reprise prévues autour de chaque site olympique et paralympique.Il est également possible de venir en taxi.Pour planifier son itinéraire, nous vous invitons à consulter les prévisions de circulation pendant les Jeux afin de privilégier les heures et les jours avec moins de trafic.Retrouvez des informations détaillées, par jour et par heure, sur les prévisions de circulation.Accédez à la carte interactive',\n",
       " 'Des places de stationnement pour véhicules destinés aux personnes à mobilité réduite sont créées au plus proche des sites de compétitions avec des entrées dédiées.Plus d’informations seront bientôt disponibles.',\n",
       " 'En tant que spectateur des Jeux Olympiques et Jeux Paralympiques, vous êtes autorisés à circuler dans tous les périmètres de sécurité sur présentation de votre billet pour les compétitions.A pied ou à vélo, il n’est pas nécessaire d’avoir un justificatif pour circuler dans les périmètres de sécurité rouge et bleu.Avec un véhicule motorisé, vous êtes autorisés à circuler dans les périmètres rouges et bleus sur présentation de votre billet, en prenant en compte un accès restreint pour certains horaires (accès ou sortie d’un site olympique pour une épreuve). Des points d’entrée sont spécifiquement prévus dans le périmètre pour le contrôle.Des zones de dépose / reprise seront prévues autour de chaque site olympique et paralympique.Plus d’informations seront bientôt communiquées.Retrouvez des informations détaillées, par jour et par heure, sur les prévisions de circulation.Accédez à la carte interactive',\n",
       " \"L’activation des périmètres rouges (interdiction de la circulation motorisée) et bleus (circulation motorisée réglementée) seront mis en place 2h30 avant la première épreuve de la journée et jusqu'à 1h après la dernière épreuve de la journée. Pour les livraisons qui doivent intervenir pendant la période, un justificatif sera exigé. Les modalités d'accès à ces périmètres seront précisées prochainement par la préfecture de Police de Paris.Les contraintes de circulation seront progressives à partir du mois de mars 2024, date de démarrage du montage pour certains sites. Ces contraintes se prolongeront jusqu’à la fin du mois d’octobre 2024.Retrouvez des informations détaillées, par jour et par heure, sur les prévisions de circulation.Accédez à la carte interactive\",\n",
       " \"Les voies olympiques seront réservées à la circulation pour :les véhicules des personnes accréditées par le comité d'organisation des jeux Olympiques et Paralympiques de 2024 ;les taxis ;les véhicules de transport en commun ;les véhicules destinés à favoriser le transport des personnes à mobilité réduite ;et les véhicules de secours et de sécurité.Il sera interdit de circuler sur ces voies pour tous les autres véhicules. Tout véhicule circulant sur une voie olympique sans avoir reçu une autorisation préalable est passible de 135 euros d’amende et de poursuites judiciaires.Lire l'ordonnance du 20 mars 2019 : cliquez ici.Lire le décret du 16 février 2022 : cliquez ici.Ces voies feront l’objet d’une signalétique particulière.\",\n",
       " 'Durant l’été 2024, certaines routes seront impactées par des restrictions de circulation, notamment avec les voies olympiques (dédiées aux véhicules accrédités) et les périmètres de sécurité autour des sites de compétition. Les transports de marchandises/fret risquent donc d’être affectés.Pour tout déplacement dans les périmètres rouges (interdiction de la circulation motorisée) et bleus (circulation motorisée réglementée), des justificatifs et un enregistrement sur la plateforme dédiée (ouverture au printemps 2024) seront demandés.Retrouvez des informations détaillées, par jour et par heure, sur les prévisions de circulation.Accédez à la carte interactivePour anticiper au mieux les déplacements, nous vous invitons à consulter la page dédiée pour découvrir nos conseils.',\n",
       " \"Afin de préparer au mieux la gestion et la livraison des marchandises et matériels pendant les Jeux, il est recommandé de :Anticiper avec les clients et les fournisseurs le volume et la fréquence des livraisons pour l'été 2024 pour prioriser au mieux.\\xa0Diminuer vos trajets pendant la durée des JeuxPlanifier et stocker les livraisons de produits non périssables avant le début des JeuxLivrer / Se faire livrer des volumes plus conséquents et moins souventConsulter les entreprises voisines ou les partenaires pour mutualiser la gestion des stocks et limiter le nombre de livraisonsDécaler vos horaires de livraison\\xa0Réaménager les heures d’approvisionnement ou de livraison des marchandises pendant les heures creuses en tenant compte des plans de circulation dans la zone concernéeSe faire livrer la nuitInformer les clients et/ou les fournisseurs des restrictions dans la zone de livraison concernée (circulation, stationnement, déchargement)Faire évoluer vos moyens de transport et de livraisonPour les livraisons peu volumineuses, envisager un moyen de transport alternatif qui sera moins impacté par les Jeux (livraisons à pied ou en vélo cargo). Découvrez l'annuaire de cyclologistique de ColisActiv'Pour les livraisons plus importantes : envisager des livraisons par la Seine dans les plages horaires définies par la préfecture de Région.\\xa0Modifier vos itinéraires\\xa0Consultez régulièrement les cartes de prévisions de circulation pendant les Jeux\\xa0Utiliser un logiciel d’optimisation d’itinéraire intégrant les restrictions de circulation. Un outil en cours de conception intégrera l’ensemble des arrêtés de restrictions de circulation dans les systèmes de navigation GPS et vous permettra de faciliter vos livraisons pendant les Jeux.\",\n",
       " 'Dans la mesure du possible, nous vous invitons à anticiper vos commandes de colis pour que ces derniers soient livrés avant le 24 juillet, après le 8 septembre ou entre les deux olympiades, soit entre le 12 et le 27 août 2024.Si cela n’est pas possible, nous vous invitions à :Consulter les prévisions de circulation pendant les Jeux afin de privilégier des livraisons à des heures et des jours avec moins de trafic,\\xa0Privilégier des livraisons à vélo ou à pied.\\xa0Privilégier un point relais en dehors des périmètres de sécurisation (zones rouges et bleues).\\xa0Retrouvez des informations détaillées, par jour et par heure, sur les prévisions et restrictions de circulation.Accédez à la carte interactive',\n",
       " 'Afin d’accompagner au mieux les employés dans leurs déplacements pendant les Jeux, il est recommandé de :Favoriser la prise de congés et/ou de RTT pendant les Jeux\\xa0Les encourager à télétravailler si leur activité le permetEt si ce n’est pas possible :\\xa0Les informer des impacts de transport en commun et des restrictions de circulation, difficultés de stationnement, aux abords du lieu de travailAdapter leurs horaires de travailLeur proposer d’autres lieux de travailLes aider à prévoir leurs déplacementsLes encourager à modifier leur itinéraireLes inciter à changer de mode de transport en favorisant la marche, le vélo, voire le covoiturage suivant la distance à parcourir.Si des employés doivent se rendre sur le site de leur activité en véhicule motorisé, il faudra que ces personnes disposent d’un justificatif et d’un enregistrement sur la plateforme dédiée (ouverte au printemps 2024) par leur employeur.Retrouvez tous les conseils pour accompagner au mieux les employés dans leurs déplacements pendant les Jeux sur la page dédiée.']"
      ]
     },
     "execution_count": 21,
     "metadata": {},
     "output_type": "execute_result"
    }
   ],
   "source": [
    "#ON FAIT LES RÉPONSES\n",
    "rep = soup.findAll('section')\n",
    "réponse = [rep.get_text() for rep in rep]\n",
    "\n",
    "#ON ENLÈVE LE \"\\n\"\n",
    "for i in range(len(réponse)):\n",
    "    réponse[i] = réponse[i].strip(' \\n')\n",
    "\n",
    "#ON ENLÈVE LA PREMIÈRE LIGNE\n",
    "réponse = réponse[1:]\n",
    "\n",
    "#ON GARDE UNIQUEMENT LA RÉPONSE\n",
    "réponses = [element.split('?')[1].strip() for element in réponse]\n",
    "réponses"
   ]
  },
  {
   "cell_type": "markdown",
   "metadata": {},
   "source": [
    "## DATAFRAME"
   ]
  },
  {
   "cell_type": "code",
   "execution_count": 22,
   "metadata": {},
   "outputs": [
    {
     "data": {
      "text/html": [
       "<div>\n",
       "<style scoped>\n",
       "    .dataframe tbody tr th:only-of-type {\n",
       "        vertical-align: middle;\n",
       "    }\n",
       "\n",
       "    .dataframe tbody tr th {\n",
       "        vertical-align: top;\n",
       "    }\n",
       "\n",
       "    .dataframe thead th {\n",
       "        text-align: right;\n",
       "    }\n",
       "</style>\n",
       "<table border=\"1\" class=\"dataframe\">\n",
       "  <thead>\n",
       "    <tr style=\"text-align: right;\">\n",
       "      <th></th>\n",
       "      <th>Question</th>\n",
       "      <th>Réponse</th>\n",
       "      <th>URL</th>\n",
       "    </tr>\n",
       "  </thead>\n",
       "  <tbody>\n",
       "    <tr>\n",
       "      <th>0</th>\n",
       "      <td>Quels peuvent être les impacts pour les entrep...</td>\n",
       "      <td>Les pouvoirs publics et les collectivités s’ef...</td>\n",
       "      <td>https://anticiperlesjeux.gouv.fr/faq?page=3</td>\n",
       "    </tr>\n",
       "    <tr>\n",
       "      <th>1</th>\n",
       "      <td>Comment sera-t-il possible d’accéder aux sites...</td>\n",
       "      <td>En tant que spectateur des Jeux Olympiques et ...</td>\n",
       "      <td>https://anticiperlesjeux.gouv.fr/faq?page=3</td>\n",
       "    </tr>\n",
       "    <tr>\n",
       "      <th>2</th>\n",
       "      <td>Y aura-t-il des places de stationnement supplé...</td>\n",
       "      <td>Des places de stationnement pour véhicules des...</td>\n",
       "      <td>https://anticiperlesjeux.gouv.fr/faq?page=3</td>\n",
       "    </tr>\n",
       "    <tr>\n",
       "      <th>3</th>\n",
       "      <td>Quels sont les restrictions d’accès aux périmè...</td>\n",
       "      <td>En tant que spectateur des Jeux Olympiques et ...</td>\n",
       "      <td>https://anticiperlesjeux.gouv.fr/faq?page=3</td>\n",
       "    </tr>\n",
       "    <tr>\n",
       "      <th>4</th>\n",
       "      <td>Quelles sont les restrictions sur les routes q...</td>\n",
       "      <td>L’activation des périmètres rouges (interdicti...</td>\n",
       "      <td>https://anticiperlesjeux.gouv.fr/faq?page=3</td>\n",
       "    </tr>\n",
       "    <tr>\n",
       "      <th>5</th>\n",
       "      <td>Qui pourra circuler sur les voies olympiques p...</td>\n",
       "      <td>Les voies olympiques seront réservées à la cir...</td>\n",
       "      <td>https://anticiperlesjeux.gouv.fr/faq?page=3</td>\n",
       "    </tr>\n",
       "    <tr>\n",
       "      <th>6</th>\n",
       "      <td>Comment les changements sur les routes affecte...</td>\n",
       "      <td>Durant l’été 2024, certaines routes seront imp...</td>\n",
       "      <td>https://anticiperlesjeux.gouv.fr/faq?page=3</td>\n",
       "    </tr>\n",
       "    <tr>\n",
       "      <th>7</th>\n",
       "      <td>Comment préparer au mieux les livraisons prévu...</td>\n",
       "      <td>Afin de préparer au mieux la gestion et la liv...</td>\n",
       "      <td>https://anticiperlesjeux.gouv.fr/faq?page=3</td>\n",
       "    </tr>\n",
       "    <tr>\n",
       "      <th>8</th>\n",
       "      <td>En tant que particulier, sera-t-il possible de...</td>\n",
       "      <td>Dans la mesure du possible, nous vous invitons...</td>\n",
       "      <td>https://anticiperlesjeux.gouv.fr/faq?page=3</td>\n",
       "    </tr>\n",
       "    <tr>\n",
       "      <th>9</th>\n",
       "      <td>Comment accompagner les employés dans leurs dé...</td>\n",
       "      <td>Afin d’accompagner au mieux les employés dans ...</td>\n",
       "      <td>https://anticiperlesjeux.gouv.fr/faq?page=3</td>\n",
       "    </tr>\n",
       "  </tbody>\n",
       "</table>\n",
       "</div>"
      ],
      "text/plain": [
       "                                            Question  \\\n",
       "0  Quels peuvent être les impacts pour les entrep...   \n",
       "1  Comment sera-t-il possible d’accéder aux sites...   \n",
       "2  Y aura-t-il des places de stationnement supplé...   \n",
       "3  Quels sont les restrictions d’accès aux périmè...   \n",
       "4  Quelles sont les restrictions sur les routes q...   \n",
       "5  Qui pourra circuler sur les voies olympiques p...   \n",
       "6  Comment les changements sur les routes affecte...   \n",
       "7  Comment préparer au mieux les livraisons prévu...   \n",
       "8  En tant que particulier, sera-t-il possible de...   \n",
       "9  Comment accompagner les employés dans leurs dé...   \n",
       "\n",
       "                                             Réponse  \\\n",
       "0  Les pouvoirs publics et les collectivités s’ef...   \n",
       "1  En tant que spectateur des Jeux Olympiques et ...   \n",
       "2  Des places de stationnement pour véhicules des...   \n",
       "3  En tant que spectateur des Jeux Olympiques et ...   \n",
       "4  L’activation des périmètres rouges (interdicti...   \n",
       "5  Les voies olympiques seront réservées à la cir...   \n",
       "6  Durant l’été 2024, certaines routes seront imp...   \n",
       "7  Afin de préparer au mieux la gestion et la liv...   \n",
       "8  Dans la mesure du possible, nous vous invitons...   \n",
       "9  Afin d’accompagner au mieux les employés dans ...   \n",
       "\n",
       "                                           URL  \n",
       "0  https://anticiperlesjeux.gouv.fr/faq?page=3  \n",
       "1  https://anticiperlesjeux.gouv.fr/faq?page=3  \n",
       "2  https://anticiperlesjeux.gouv.fr/faq?page=3  \n",
       "3  https://anticiperlesjeux.gouv.fr/faq?page=3  \n",
       "4  https://anticiperlesjeux.gouv.fr/faq?page=3  \n",
       "5  https://anticiperlesjeux.gouv.fr/faq?page=3  \n",
       "6  https://anticiperlesjeux.gouv.fr/faq?page=3  \n",
       "7  https://anticiperlesjeux.gouv.fr/faq?page=3  \n",
       "8  https://anticiperlesjeux.gouv.fr/faq?page=3  \n",
       "9  https://anticiperlesjeux.gouv.fr/faq?page=3  "
      ]
     },
     "execution_count": 22,
     "metadata": {},
     "output_type": "execute_result"
    }
   ],
   "source": [
    "df4 = pd.DataFrame({'Question': questions, 'Réponse': réponses, 'URL':'https://anticiperlesjeux.gouv.fr/faq?page=3'})\n",
    "\n",
    "# Affichage du DataFrame\n",
    "df4"
   ]
  },
  {
   "cell_type": "markdown",
   "metadata": {},
   "source": [
    "### _____________________________________________________________________________________________________________"
   ]
  },
  {
   "cell_type": "markdown",
   "metadata": {},
   "source": [
    "# 5e page de question"
   ]
  },
  {
   "cell_type": "code",
   "execution_count": 23,
   "metadata": {},
   "outputs": [],
   "source": [
    "import requests as req #Pour éviter de devoir tout relancer, je re-import req\n",
    "req = req.get('https://anticiperlesjeux.gouv.fr/faq?page=4')"
   ]
  },
  {
   "cell_type": "markdown",
   "metadata": {},
   "source": [
    "## QUESTIONS"
   ]
  },
  {
   "cell_type": "code",
   "execution_count": 24,
   "metadata": {},
   "outputs": [
    {
     "data": {
      "text/plain": [
       "['La circulation autour et à Paris fonctionnera-t-elle différemment ?',\n",
       " 'En circulant avec un véhicule motorisé, quelles sont les restrictions liées aux périmètres de sécurité ?',\n",
       " 'Les zones ou axes routiers fermés seront-ils indiqués sur des applications GPS ?',\n",
       " 'Quels événements sportifs auront lieu sur les routes ? À quelles dates ?',\n",
       " 'Quelles seront les routes et les zones les plus fréquentées en Île-de-France ?',\n",
       " 'Les restrictions et les interdictions de circulation sont-elles appliquées la nuit ?',\n",
       " 'Des rues et des routes seront-elles fermées pendant les Jeux ?',\n",
       " 'Y aura-t-il des places de stationnement supplémentaires pendant les Jeux ?',\n",
       " 'Que sont les voies olympiques ?',\n",
       " 'Où sont situées les voies olympiques ?']"
      ]
     },
     "execution_count": 24,
     "metadata": {},
     "output_type": "execute_result"
    }
   ],
   "source": [
    "html = req.text\n",
    "soup= BeautifulSoup(html,'html.parser')\n",
    "\n",
    "#ON FAIT LES QUESTIONS\n",
    "noms = soup.findAll('button',{'class':'fr-accordion__btn'})\n",
    "question = [noms.get_text() for noms in noms]\n",
    "\n",
    "#ON ENLÈVE LE \"\\n\"\n",
    "for i in range(len(question)):\n",
    "    question[i] = question[i].strip(' \\n')\n",
    "\n",
    "#ON ENLÈVE LA PREMIÈRE LIGNE\n",
    "questions = question[1:]\n",
    "questions"
   ]
  },
  {
   "cell_type": "markdown",
   "metadata": {},
   "source": [
    "## RÉPONSES"
   ]
  },
  {
   "cell_type": "code",
   "execution_count": 25,
   "metadata": {},
   "outputs": [
    {
     "data": {
      "text/plain": [
       "['Pendant les Jeux Olympiques et Jeux Paralympiques, les routes seront plus fréquentées que d’habitude. Il est donc conseillé dans la mesure du possible de diminuer ses déplacements, de décaler ses horaires et de modifier ses moyens de transport en privilégiant le vélo ou la marche.Des règles spécifiques de circulation sont également prévues. Certaines routes seront impactées par des restrictions de circulation, du fait des voies olympiques réservées notamment aux véhicules accrédités, et du fait des périmètres de sécurité autour des sites de compétition.Retrouvez les informations détaillées, par jour et par heure, sur les périmètres de circulation.\\xa0Accédez à la carte interactive',\n",
       " \"La circulation de véhicule motorisé est interdite dans le périmètre rouge (interdiction de la circulation motorisée), sauf pour les personnes autorisées ayant une dérogation.La circulation de véhicule motorisé est restreinte dans le périmètre bleu (circulation motorisée réglementée) aux conducteurs ayant une situation qui nécessite un déplacement dans cette zone.Les modalités d'accès à ces périmètres seront précisées prochainement par la préfecture de Police de Paris.Des points d’entrée sont spécifiquement prévus dans le périmètre pour effectuer le contrôle des justificatifs.\\xa0Plus d’informations seront bientôt communiquées.Retrouvez la liste des personnes autoriséesRetrouvez des informations détaillées, par jour et par heure, sur les prévisions de circulation.Accédez à la carte interactive\",\n",
       " 'Il est prévu d’intégrer ces restrictions et modifications de circulation dans les applications de navigation.',\n",
       " 'À quelles dates',\n",
       " \"Les zones à proximité des sites de compétition, ainsi que les axes menant à ces derniers, seront sujets à une fréquentation accrue sur la période.Les sites de compétitionDans le 75 (Paris) :\\xa0Arena Porte de la ChapelleArena BercyHôtel de VilleStade Roland GarrosParc des PrincesArena Paris SudLa ConcordeGrand PalaisPont Alexandre III\\xa0InvalidesTrocadéroArena Champs de MarsTour EiffelDans le 92 :Paris La Défense ArenaStade Yves-du-ManoirDans le 93 :Stade de France\\xa0Centre Aquatique Olympique (CAO)Parc des expositions Paris Nord VillepinteParc sportif du BourgetDans le 78 :Colline d'Élancourt (VTT)\\xa0Golf national de GuyancourtStade BMX de Saint-Quentin-en-YvelinesVélodrome National de SQY (Montigny-le-Bretonneux)Château de VersaillesDans le 77 :Centre nautique de Vaires-sur-MarneLes sites d’entraînementA Paris :Stade Pierre de CoubertinCentre sportif des PoissonniersPiscine Georges-VallereyCentre sportif Max-RousiéCentre sportif Bertrand-Dauvin\\xa0Dans le 93 :\\xa0le complexe sportif et Palais des sports Auguste Delaunele gymnase Irène Popard\\xa0le gymnase Jean Lurçatle parc d'Expositions Paris Le Bourget\\xa0Dans le 92 :Stade Yves-du-ManoirPiscine olympique de ColombesLes sites olympiquesDans le 93 :le Village des athlètes, à La Plaine Saint-Denisle siège du Comité d’Organisation des Jeux olympiques et paralympiques, à La Plaine Saint-Denis, dans le bâtiment PulseLes sites de célébration\\xa0A Paris :Au Trocadéro, le Parc des ChampionsA La Villette, le Club France et le Parc des NationDevant l'Hôtel de Ville, le Cub Paris 2024Dans chaque arrondissement parisien, des lieux de célébrationLes axes routiers menant aux sites de compétitionA1\\xa0A4\\xa0A12\\xa0A13\\xa0Le boulevard périphérique, de la Porte de Vanves à la Porte de Bercy\\xa0Le boulevard circulaire (La Défense)Certains axes parisiensRetrouvez des informations détaillées, par jour et par heure, sur les prévisions de circulation.Accédez à la carte interactivePour vous déplacer sur les routes, l’impact sur la circulation sera intégré aux outils de navigation GPS.\",\n",
       " \"Certains dispositifs de restrictions/interdictions de circulation seront également mis en place la nuit :\\xa0Les voies olympiques seront activées pendant la période des Jeux Olympiques et Jeux Paralympiques. En savoir plus sur les voies olympiques, cliquez ici.Les périmètres rouges (interdiction de la circulation motorisée) et bleus (circulation motorisée réglementée) seront mis en place 2h30 avant la 1ʳᵉ épreuve de la journée et jusqu'à 1h après la dernière épreuve de la journée, ce qui limitera les circulations. Les modalités d'accès à ces périmètres seront précisées prochainement par la préfecture de Police de Paris.Les contraintes de circulation seront progressives à partir du mois de mars 2024, date de démarrage du montage pour les sites temporaires. Ces contraintes se prolongeront jusqu’à la fin du mois d’octobre 2024 pour prendre en compte la phase de démontage des sites.Retrouvez des informations détaillées, par jour et par heure, sur les prévisions de circulation.Accédez à la carte interactive\",\n",
       " 'Les périmètres de sécurité autour des sites olympiques et paralympiques ont été identifiés par la préfecture de Police et génèrent des fermetures de routes et rues.Retrouvez toutes les informations de restrictions selon votre rue sur la carte interactive.Accédez à la carte interactive',\n",
       " 'Le plan de circulation et de stationnement local aux abords des sites est en cours de définition. Des éléments plus précis seront disponibles prochainement.',\n",
       " 'Pendant la période olympique et paralympique, 185 km de voies autour de Paris seront rebaptisées “voies olympiques et paralympiques”.Il s’agit d’une voie réservée sur une portion d’autoroute, de routes et de boulevards périphériques. Dans Paris, les tracés s\\'appuient notamment sur des voies déjà réservées afin de limiter les impacts sur les autres voies de circulation. Les autres voies restent \"circulables\" pour tous les véhicules motorisés.Ces files seront réservées à la circulation des véhicules accrédités pour transporter les athlètes, les journalistes accrédités, ou encore les délégations officielles ainsi que les véhicules de secours et de sécurité, les taxis, les ambulances ou encore les transports en commun publics.Il sera interdit de circuler sur ces voies pour tous les autres véhicules.Ces voies olympiques permettent de desservir directement les sites de compétition afin de faciliter les trajets des personnes accréditées.\\xa0Les voies seront activées le 15 juillet et présentes sur les axes routiers suivants\\xa0:A1 entre Roissy Charles de Gaulle et la Porte de la Chapelle jusqu\\'au 11 septembreA4 entre Collégien et la porte de Bercy jusqu\\'au 13 août puis du 30 août au 8 septembreA12 entre Rocquencourt et Montigny le Bretonneux jusqu\\'au 13 août puis du 27 août au 8 septembreA13 entre la porte Maillot et Rocquencourt jusqu\\'au 13 août puis du 27 août au 8 septembreLe boulevard périphérique, de la Porte de Vanves à la Porte de Bercy, en passant par le nord jusqu\\'au 13 août puis du 22 août au 11 septembreLe boulevard circulaire (La Défense) jusqu\\'au 13 août puis du 22 août au 11 septembreCertains axes parisiensEn savoir plus sur les voies olympiques : cliquez ici.',\n",
       " \"Les voies olympiques sont présentes sur une portion d’autoroute, de routes et de boulevards périphériques d’Île-de-France. Dans Paris, les tracés s'appuient notamment sur des voies déjà réservées afin de limiter les impacts sur les autres voies de circulation. Les voies olympiques feront l’objet d’une signalisation particulière pendant la période des Jeux. Les autres voies restent « circulables » pour tous les véhicules motorisés.Les voies seront activées le 15 juillet et présentes sur les axes routiers suivants\\xa0:A1 entre Roissy Charles de Gaulle et la Porte de la Chapelle jusqu'au 11 septembreA4 entre Collégien et la porte de Bercy jusqu'au 13 août puis du 30 août au 8 septembreA12 entre Rocquencourt et Montigny le Bretonneux jusqu'au 13 août puis du 27 août au 8 septembreA13 entre la porte Maillot et Rocquencourt jusqu'au 13 août puis du 27 août au 8 septembreLe boulevard périphérique, de la Porte de Vanves à la Porte de Bercy, en passant par le nord jusqu'au 13 août puis du 22 août au 11 septembreLe boulevard circulaire (La Défense) jusqu'au 13 août puis du 22 août au 11 septembreCertains axes parisiensEn savoir plus sur les voies olympiques : cliquez ici.Retrouvez des informations détaillées, par jour et par heure, sur les voies olympiques et les prévisions de circulation.Accédez à la carte interactive\"]"
      ]
     },
     "execution_count": 25,
     "metadata": {},
     "output_type": "execute_result"
    }
   ],
   "source": [
    "#ON FAIT LES RÉPONSES\n",
    "rep = soup.findAll('section')\n",
    "réponse = [rep.get_text() for rep in rep]\n",
    "\n",
    "#ON ENLÈVE LE \"\\n\"\n",
    "for i in range(len(réponse)):\n",
    "    réponse[i] = réponse[i].strip(' \\n')\n",
    "\n",
    "#ON ENLÈVE LA PREMIÈRE LIGNE\n",
    "réponse = réponse[1:]\n",
    "\n",
    "#ON GARDE UNIQUEMENT LA RÉPONSE\n",
    "réponses = [element.split('?')[1].strip() for element in réponse]\n",
    "réponses"
   ]
  },
  {
   "cell_type": "markdown",
   "metadata": {},
   "source": [
    "## DATAFRAME"
   ]
  },
  {
   "cell_type": "code",
   "execution_count": 26,
   "metadata": {},
   "outputs": [
    {
     "data": {
      "text/html": [
       "<div>\n",
       "<style scoped>\n",
       "    .dataframe tbody tr th:only-of-type {\n",
       "        vertical-align: middle;\n",
       "    }\n",
       "\n",
       "    .dataframe tbody tr th {\n",
       "        vertical-align: top;\n",
       "    }\n",
       "\n",
       "    .dataframe thead th {\n",
       "        text-align: right;\n",
       "    }\n",
       "</style>\n",
       "<table border=\"1\" class=\"dataframe\">\n",
       "  <thead>\n",
       "    <tr style=\"text-align: right;\">\n",
       "      <th></th>\n",
       "      <th>Question</th>\n",
       "      <th>Réponse</th>\n",
       "      <th>URL</th>\n",
       "    </tr>\n",
       "  </thead>\n",
       "  <tbody>\n",
       "    <tr>\n",
       "      <th>0</th>\n",
       "      <td>La circulation autour et à Paris fonctionnera-...</td>\n",
       "      <td>Pendant les Jeux Olympiques et Jeux Paralympiq...</td>\n",
       "      <td>https://anticiperlesjeux.gouv.fr/faq?page=4</td>\n",
       "    </tr>\n",
       "    <tr>\n",
       "      <th>1</th>\n",
       "      <td>En circulant avec un véhicule motorisé, quelle...</td>\n",
       "      <td>La circulation de véhicule motorisé est interd...</td>\n",
       "      <td>https://anticiperlesjeux.gouv.fr/faq?page=4</td>\n",
       "    </tr>\n",
       "    <tr>\n",
       "      <th>2</th>\n",
       "      <td>Les zones ou axes routiers fermés seront-ils i...</td>\n",
       "      <td>Il est prévu d’intégrer ces restrictions et mo...</td>\n",
       "      <td>https://anticiperlesjeux.gouv.fr/faq?page=4</td>\n",
       "    </tr>\n",
       "    <tr>\n",
       "      <th>3</th>\n",
       "      <td>Quels événements sportifs auront lieu sur les ...</td>\n",
       "      <td>À quelles dates</td>\n",
       "      <td>https://anticiperlesjeux.gouv.fr/faq?page=4</td>\n",
       "    </tr>\n",
       "    <tr>\n",
       "      <th>4</th>\n",
       "      <td>Quelles seront les routes et les zones les plu...</td>\n",
       "      <td>Les zones à proximité des sites de compétition...</td>\n",
       "      <td>https://anticiperlesjeux.gouv.fr/faq?page=4</td>\n",
       "    </tr>\n",
       "    <tr>\n",
       "      <th>5</th>\n",
       "      <td>Les restrictions et les interdictions de circu...</td>\n",
       "      <td>Certains dispositifs de restrictions/interdict...</td>\n",
       "      <td>https://anticiperlesjeux.gouv.fr/faq?page=4</td>\n",
       "    </tr>\n",
       "    <tr>\n",
       "      <th>6</th>\n",
       "      <td>Des rues et des routes seront-elles fermées pe...</td>\n",
       "      <td>Les périmètres de sécurité autour des sites ol...</td>\n",
       "      <td>https://anticiperlesjeux.gouv.fr/faq?page=4</td>\n",
       "    </tr>\n",
       "    <tr>\n",
       "      <th>7</th>\n",
       "      <td>Y aura-t-il des places de stationnement supplé...</td>\n",
       "      <td>Le plan de circulation et de stationnement loc...</td>\n",
       "      <td>https://anticiperlesjeux.gouv.fr/faq?page=4</td>\n",
       "    </tr>\n",
       "    <tr>\n",
       "      <th>8</th>\n",
       "      <td>Que sont les voies olympiques ?</td>\n",
       "      <td>Pendant la période olympique et paralympique, ...</td>\n",
       "      <td>https://anticiperlesjeux.gouv.fr/faq?page=4</td>\n",
       "    </tr>\n",
       "    <tr>\n",
       "      <th>9</th>\n",
       "      <td>Où sont situées les voies olympiques ?</td>\n",
       "      <td>Les voies olympiques sont présentes sur une po...</td>\n",
       "      <td>https://anticiperlesjeux.gouv.fr/faq?page=4</td>\n",
       "    </tr>\n",
       "  </tbody>\n",
       "</table>\n",
       "</div>"
      ],
      "text/plain": [
       "                                            Question  \\\n",
       "0  La circulation autour et à Paris fonctionnera-...   \n",
       "1  En circulant avec un véhicule motorisé, quelle...   \n",
       "2  Les zones ou axes routiers fermés seront-ils i...   \n",
       "3  Quels événements sportifs auront lieu sur les ...   \n",
       "4  Quelles seront les routes et les zones les plu...   \n",
       "5  Les restrictions et les interdictions de circu...   \n",
       "6  Des rues et des routes seront-elles fermées pe...   \n",
       "7  Y aura-t-il des places de stationnement supplé...   \n",
       "8                    Que sont les voies olympiques ?   \n",
       "9             Où sont situées les voies olympiques ?   \n",
       "\n",
       "                                             Réponse  \\\n",
       "0  Pendant les Jeux Olympiques et Jeux Paralympiq...   \n",
       "1  La circulation de véhicule motorisé est interd...   \n",
       "2  Il est prévu d’intégrer ces restrictions et mo...   \n",
       "3                                    À quelles dates   \n",
       "4  Les zones à proximité des sites de compétition...   \n",
       "5  Certains dispositifs de restrictions/interdict...   \n",
       "6  Les périmètres de sécurité autour des sites ol...   \n",
       "7  Le plan de circulation et de stationnement loc...   \n",
       "8  Pendant la période olympique et paralympique, ...   \n",
       "9  Les voies olympiques sont présentes sur une po...   \n",
       "\n",
       "                                           URL  \n",
       "0  https://anticiperlesjeux.gouv.fr/faq?page=4  \n",
       "1  https://anticiperlesjeux.gouv.fr/faq?page=4  \n",
       "2  https://anticiperlesjeux.gouv.fr/faq?page=4  \n",
       "3  https://anticiperlesjeux.gouv.fr/faq?page=4  \n",
       "4  https://anticiperlesjeux.gouv.fr/faq?page=4  \n",
       "5  https://anticiperlesjeux.gouv.fr/faq?page=4  \n",
       "6  https://anticiperlesjeux.gouv.fr/faq?page=4  \n",
       "7  https://anticiperlesjeux.gouv.fr/faq?page=4  \n",
       "8  https://anticiperlesjeux.gouv.fr/faq?page=4  \n",
       "9  https://anticiperlesjeux.gouv.fr/faq?page=4  "
      ]
     },
     "execution_count": 26,
     "metadata": {},
     "output_type": "execute_result"
    }
   ],
   "source": [
    "df5 = pd.DataFrame({'Question': questions, 'Réponse': réponses, 'URL': 'https://anticiperlesjeux.gouv.fr/faq?page=4'})\n",
    "\n",
    "# Affichage du DataFrame\n",
    "df5"
   ]
  },
  {
   "cell_type": "markdown",
   "metadata": {},
   "source": [
    "### _____________________________________________________________________________________________________________"
   ]
  },
  {
   "cell_type": "markdown",
   "metadata": {},
   "source": [
    "# 6e page de question"
   ]
  },
  {
   "cell_type": "code",
   "execution_count": 27,
   "metadata": {},
   "outputs": [],
   "source": [
    "import requests as req #Pour éviter de devoir tout relancer, je re-import req\n",
    "req = req.get('https://anticiperlesjeux.gouv.fr/faq?page=5')"
   ]
  },
  {
   "cell_type": "markdown",
   "metadata": {},
   "source": [
    "## QUESTIONS"
   ]
  },
  {
   "cell_type": "code",
   "execution_count": 28,
   "metadata": {},
   "outputs": [
    {
     "data": {
      "text/plain": [
       "['Qui peut emprunter les axes routiers concernés par les voies olympiques ?',\n",
       " 'Comment savoir quelles sont les voies olympiques ?',\n",
       " 'Comment ont été sécurisés les sites de compétitions ?',\n",
       " 'La navigation sur la Seine en Île-de-France sera-t-elle affectée ?',\n",
       " 'Quelles sont les stations et les gares fermées pendant les Jeux olympiques et les Jeux paralympiques 2024 ?',\n",
       " 'Les métros et les RER franciliens fonctionneront-ils la nuit pendant les Jeux ?',\n",
       " 'Les transports en commun seront-ils renforcés pendant les Jeux ?',\n",
       " 'Où trouver les informations sur les modifications de trajet ou de fermeture de stations de transports en commun ?',\n",
       " 'Quand seront activés les périmètres rouges et bleus de sécurisation des compétitions ?',\n",
       " 'Comment s’enregistrer pour accéder à ma destination à l’intérieure d’un périmètre de sécurité ?']"
      ]
     },
     "execution_count": 28,
     "metadata": {},
     "output_type": "execute_result"
    }
   ],
   "source": [
    "html = req.text\n",
    "soup= BeautifulSoup(html,'html.parser')\n",
    "\n",
    "#ON FAIT LES QUESTIONS\n",
    "noms = soup.findAll('button',{'class':'fr-accordion__btn'})\n",
    "question = [noms.get_text() for noms in noms]\n",
    "\n",
    "#ON ENLÈVE LE \"\\n\"\n",
    "for i in range(len(question)):\n",
    "    question[i] = question[i].strip(' \\n')\n",
    "\n",
    "#ON ENLÈVE LA PREMIÈRE LIGNE\n",
    "questions = question[1:]\n",
    "questions"
   ]
  },
  {
   "cell_type": "markdown",
   "metadata": {},
   "source": [
    "## RÉPONSES"
   ]
  },
  {
   "cell_type": "code",
   "execution_count": 29,
   "metadata": {},
   "outputs": [
    {
     "data": {
      "text/plain": [
       "[\"Les personnes autorisées à la circulation sur ces voies sont celles accréditées par le comité d'organisation des Jeux Olympiques et des Jeux Paralympiques 2024.\\xa0Elles comprennent\\xa0:\\xa0les véhicules des personnes accréditées\\xa0;\\xa0les taxis\\xa0;\\xa0les véhicules de transport en commun\\xa0;\\xa0les véhicules destinés à favoriser le transport des personnes à mobilité réduite\\xa0;\\xa0et les véhicules de secours et de sécurité.\\xa0Il sera interdit de circuler sur ces voies pour tous les autres véhicules. Tout véhicule circulant sur une voie olympique sans avoir reçu une autorisation préalable est passible de 135 euros d’amende et de poursuites judiciaires.\\xa0Lire l'ordonnance du 20 mars 2019 : cliquez ici.\\xa0Lire le décret du 16 février 2022 : cliquez ici.En savoir plus sur les voies olympiques : cliquez ici.\",\n",
       " 'Les voies olympiques feront l’objet d’une signalisation particulière pendant la période des Jeux.Cette nouvelle signalisation routière sera mise en place pendant la période des Jeux Olympiques et des Jeux Paralympiques.Signalisation statique\\n\\n\\nImage\\n\\n\\n\\n\\n    Transcription\\n\\n\\n\\n\\n\\n\\n\\n\\n                  Fermer\\n                \\n\\n\\n\\n                  Transcription\\n                \\nTranscription textuelle\\n  Ligne 1, colonne 1 :\\nTexte : Signalisation d\\'information en approche de la voie réservée\\nLigne 1, colonne 2 : \\nIllustration : présence sur un fond jaune, les uns en dessous des autres, des éléments suivants. 1) Texte en lettres capitales noires \"Voie de gauche réservée de ...h à ...h\" ; 2) \"Paris 2024\" inscrit en lettres capitales blanches sur un aplat carré bleu ; 3) \"Véhicules autorisés\" inscrit en lettres capitales noire sur un aplat rectangulaire blanc ; 4) Logo olympique Paris 2024 et logo paralympique Paris 2024 présenté l\\'un à côté de l\\'autre dans une cartouche blanche. Sous l\\'illustration, une légende précise \"Exemple pour une voie réservée à plages horaires fixes. Les dates peuvent être ajoutées\". \\n\\nLigne 2, colonne 1 : \\nTexte : Pré-signalisation\\nLigne 2, colonne 2 :\\nIllustration : Panneau carré de fond bleu présentant les unes à côté des autres 3 flèches blanches. La flèche la plus à gauche porte la mention \"Paris 2024\" en lettres capitales blanches dans un carré bleu délimité par des bordures blanches. Sous ce panneau, présence les uns en dessous des autres de trois panonceaux rectangulaires blancs. Le premier porte la mention \"Véhicules autorisés\", le deuxième porte la mention \"De ...h à ...h\" et le dernier porte la mention \"150 m\" en lettres noires. Sous l\\'illustration, une légende précise \"Exemple pour une voie réservée à plages horaires fixes. Les dates peuvent être ajoutées\". \\n\\nLigne 3, colonne 1 : \\nTexte : Signalisation de position en début de voie réservée et en section courante\\nLigne 3, colonne 2 :\\nDeux illustrations similaires figurent dans la colonne. La première est composée d\\'un panneau carré de fond bleu portant la mention \"Paris 2024\" en lettres capitales blanches. Sous ce panneau, présence les uns en dessous des autres de trois panonceaux rectangulaires blancs. Le premier porte la mention \"Véhicules autorisés\", le deuxième porte la mention \"De ...h à ...h\" et le dernier contient une flèche pointant vers bas gauche. Sous l\\'illustration, une légende précise \"Exemple pour une voie réservée à gauche. Les dates peuvent être ajoutées\". La deuxième est composée d\\'un panneau carré de fond bleu portant la mention \"Paris 2024\" en lettres capitales blanches. Sous ce panneau, présence les uns en dessous des autres de trois panonceaux rectangulaires blancs. Le premier porte la mention \"Véhicules autorisés\", le deuxième porte la mention \"De ...h à ...h\" et le dernier contient une flèche pointant vers bas droite. Sous l\\'illustration, une légende précise \"Exemple pour une voie réservée à droite. Les dates peuvent être ajoutées\". \\n\\n\\nLigne 4, colonne 1 : \\nTexte : Signalisation de fin de voie réservée\\nLigne 4, colonne 2 :\\nIllustration : Panneau carré de fond bleu portant la mention \"Paris 2024\" en lettres capitales blanches barré d\\'une diagonale rouge.\\n\\nLigne 5, colonne 1 : \\nTexte : Signalisation de jalonnement en cas de changement d\\'affectation de voie de la voie réservée\\nLigne 5, colonne 2 :\\nDeux illustrations similaires figurent dans la colonne. La première est composée d\\'un rectangle gris portant la mention \"Voie réservée Paris 2024 Champs sur Marne\" en lettres capitales blanches, suivi en dessous d\\'un rectangle jaune portant la mention \"Suivre : Paris - Pte de la Chapelle\" en lettres noires. Sous l\\'illustration, une légende précise \"Exemple\". La deuxième est composée d\\'un rectangle gris portant la mention \"Voie réservée Paris 2024\" en lettres capitales blanches, suivi en dessous d\\'un rectangle jaune portant la mention \"Suivre : Paris - Pte de la Chapelle\" en lettres noires. Sous l\\'illustration, une légende précise \"Exemple\".\\n\\n              \\n\\n\\n\\n                    Enlarge\\n                  \\n\\n\\n\\n\\n\\n\\n\\n\\n\\n\\nSignalisation dynamique\\n\\n\\nImage\\n\\n\\n\\n\\n    Transcription\\n\\n\\n\\n\\n\\n\\n\\n\\n                  Fermer\\n                \\n\\n\\n\\n                  Transcription\\n                \\nTranscription textuelle\\n  Ligne 1, colonne 1 :\\nTexte : Signalisation d\\'information en approche de la voie réservée\\nLigne 1, colonne 2 : \\nIllustration : présence sur un fond jaune, les uns en dessous des autres, des éléments suivants. 1) Texte en lettres capitales noires \"Voie de gauche réservée de ...h à ...h\" ; 2) \"Paris 2024\" inscrit en lettres capitales blanches sur un aplat carré bleu ; 3) \"Véhicules autorisés\" inscrit en lettres capitales noire sur un aplat rectangulaire blanc ; 4) Logo olympique Paris 2024 et logo paralympique Paris 2024 présenté l\\'un à côté de l\\'autre dans une cartouche blanche. Sous l\\'illustration, une légende précise \"Exemple pour une voie réservée à plages horaires fixes. Les dates peuvent être ajoutées\". \\n\\nLigne 2, colonne 1 : \\nTexte : Pré-signalisation\\nLigne 2, colonne 2 :\\nIllustration : Panneau carré de fond bleu présentant les unes à côté des autres 3 flèches blanches. La flèche la plus à gauche porte la mention \"Paris 2024\" en lettres capitales blanches dans un carré bleu délimité par des bordures blanches. Sous ce panneau, présence les uns en dessous des autres de trois panonceaux rectangulaires blancs. Le premier porte la mention \"Véhicules autorisés\", le deuxième porte la mention \"De ...h à ...h\" et le dernier porte la mention \"150 m\" en lettres noires. Sous l\\'illustration, une légende précise \"Exemple pour une voie réservée à plages horaires fixes. Les dates peuvent être ajoutées\". \\n\\nLigne 3, colonne 1 : \\nTexte : Signalisation de position en début de voie réservée et en section courante\\nLigne 3, colonne 2 :\\nDeux illustrations similaires figurent dans la colonne. La première est composée d\\'un panneau carré de fond bleu portant la mention \"Paris 2024\" en lettres capitales blanches. Sous ce panneau, présence les uns en dessous des autres de trois panonceaux rectangulaires blancs. Le premier porte la mention \"Véhicules autorisés\", le deuxième porte la mention \"De ...h à ...h\" et le dernier contient une flèche pointant vers bas gauche. Sous l\\'illustration, une légende précise \"Exemple pour une voie réservée à gauche. Les dates peuvent être ajoutées\". La deuxième est composée d\\'un panneau carré de fond bleu portant la mention \"Paris 2024\" en lettres capitales blanches. Sous ce panneau, présence les uns en dessous des autres de trois panonceaux rectangulaires blancs. Le premier porte la mention \"Véhicules autorisés\", le deuxième porte la mention \"De ...h à ...h\" et le dernier contient une flèche pointant vers bas droite. Sous l\\'illustration, une légende précise \"Exemple pour une voie réservée à droite. Les dates peuvent être ajoutées\". \\n\\n\\nLigne 4, colonne 1 : \\nTexte : Signalisation de fin de voie réservée\\nLigne 4, colonne 2 :\\nIllustration : Panneau carré de fond bleu portant la mention \"Paris 2024\" en lettres capitales blanches barré d\\'une diagonale rouge.\\n\\nLigne 5, colonne 1 : \\nTexte : Signalisation de jalonnement en cas de changement d\\'affectation de voie de la voie réservée\\nLigne 5, colonne 2 :\\nDeux illustrations similaires figurent dans la colonne. La première est composée d\\'un rectangle gris portant la mention \"Voie réservée Paris 2024 Champs sur Marne\" en lettres capitales blanches, suivi en dessous d\\'un rectangle jaune portant la mention \"Suivre : Paris - Pte de la Chapelle\" en lettres noires. Sous l\\'illustration, une légende précise \"Exemple\". La deuxième est composée d\\'un rectangle gris portant la mention \"Voie réservée Paris 2024\" en lettres capitales blanches, suivi en dessous d\\'un rectangle jaune portant la mention \"Suivre : Paris - Pte de la Chapelle\" en lettres noires. Sous l\\'illustration, une légende précise \"Exemple\".\\n\\n              \\n\\n\\n\\n                    Enlarge\\n                  \\n\\n\\n\\n\\n\\n\\n\\n\\n\\n\\nSignalisation horizontale (au sol)\\n\\n\\nImage\\n\\n\\n\\n\\n    Transcription\\n\\n\\n\\n\\n\\n\\n\\n\\n                  Fermer\\n                \\n\\n\\n\\n                  Transcription\\n                \\nTranscription textuelle\\n  Ligne 1, colonne 1 :\\nTexte : Signalisation d\\'information en approche de la voie réservée\\nLigne 1, colonne 2 : \\nIllustration : présence sur un fond jaune, les uns en dessous des autres, des éléments suivants. 1) Texte en lettres capitales noires \"Panneau allumé = voie de gauche réservée\" ; 2) \"Paris 2024\" inscrit en lettres capitales blanches sur un aplat carré noir ; 3) \"Véhicules autorisés\" inscrit en lettres capitales blanches sur un aplat rectangulaire noir ; 4) Logo olympique Paris 2024 et logo paralympique Paris 2024 présenté l\\'un à côté de l\\'autre dans une cartouche blanche. Sous l\\'illustration, une légende précise \"Exemple pour une voie réservée à gauche, à plages horaires fixes ou variables. Les dates peuvent être ajoutées\". \\n\\nLigne 2, colonne 1 : \\nTexte : Pré-signalisation\\nLigne 2, colonne 2 :\\nIllustration : Panneau carré de fond noir présentant les unes à côté des autres 3 flèches blanches. La flèche la plus à gauche porte la mention \"Paris 2024\" en lettres capitales blanches dans un carré noir délimité par des bordures blanches. Sous ce panneau, un panonceau rectangulaire noir porte la mention \"150 m\" en lettre blanche. Sous l\\'illustration, une légende précise \"Exemple pour une voie réservée à gauche, à plages horaires fixes ou variables.\"\\n\\nLigne 3, colonne 1 : \\nTexte : Signalisation de position en début de voie réservée et en section courante\\nLigne 3, colonne 2 :\\nIllustration : Panneau carré de fond noir portant la mention \"Paris 2024\" en lettres capitales blanches. Sous ce panneau, un panonceau rectangulaire noir porte la mention \"Véhicules autorisés\" en lettres capitales blanches. Sous ce panonceau, présence d\\'une flèche blanche sur fond noir pointant vers le bas. Sous l\\'illustration, une légende précise \"Exemple pour un positionnement au-dessus de la voie réservée\"\\n\\nLigne 4, colonne 1 : \\nTexte : Signalisation de fin de voie réservée\\nLigne 4, colonne 2 :\\nIllustration : Panneau carré de fond noir portant la mention \"Paris 2024\" en lettres capitales blanches barré d\\'une diagonale rouge.\\n\\nLigne 5, colonne 1 : \\nTexte : Signalisation de jalonnement en cas de changement d\\'affectation de voie de la voie réservée\\nLigne 5, colonne 2 :\\nDeux illustrations similaires figurent dans la colonne. La première est composée d\\'un rectangle gris portant la mention \"Voie réservée Paris 2024 Champs sur Marne\" en lettres capitales blanches, suivi en dessous d\\'un rectangle jaune portant la mention \"Suivre : Paris - Pte de la Chapelle\" en lettres noires. Sous l\\'illustration, une légende précise \"Exemple\". La deuxième est composée d\\'un rectangle gris portant la mention \"Voie réservée Paris 2024\" en lettres capitales blanches, suivi en dessous d\\'un rectangle jaune portant la mention \"Suivre : Paris - Pte de la Chapelle\" en lettres noires. Sous l\\'illustration, une légende précise \"Exemple\".\\n\\n              \\n\\n\\n\\n                    Enlarge\\n                  \\n\\n\\n\\n\\n\\n\\n\\n\\n\\n\\n\\xa0En savoir plus sur le site du Ministère de l’Intérieur et des Outre-mer',\n",
       " 'Afin d’assurer la sécurité de tous durant les Jeux, les sites de compétition seront protégés par des périmètres sécurisés et des périmètres d’interdiction et de réglementation de la circulation motorisée. Pour une meilleure gestion de l’affluence, ces périmètres viseront à réguler les déplacements aux abords des sites de compétitions.En Île-de-France, les zones sécurisées ont été identifiées par la préfecture de police de Paris sur l’ensemble des sites olympiques (à Paris et dans les départements des Hauts-de-Seine, de la Seine-et-Marne, de la Seine-Saint-Denis et des Yvelines).',\n",
       " 'La navigation de la Seine sera affectée notamment pour la cérémonie d’ouverture et pour les épreuves de triathlon.',\n",
       " \"Les stations de métro fermées (correspondances incluses) :Métro 1 :« Champs-Elysées – Clémenceau » – du 01/07 au 21/09« Concorde » et « Tuileries » – du 17/06 au 21/09Métro 8 : « Concorde » – du 17/06 au 21/09Métro 12 : « Concorde » – du 17/05 au 21/09Métro 13 : « Champs-Elysées – Clémenceau » – du 01/07 au 21/09Les stations de tram non-desserviesTramway T2 : « Porte d'Issy » et « Porte de Versailles » – du 25/07 au 11/08 et du 29/08 au 07/09Tramway T3a : « Porte de Versailles » – du 25/07 au 11/08 et du 29/08 au 07/09Tramway T3b : « Colette Besson » – du 27/07 au 10/08 et du 29/08 au 08/09A noter : la cérémonie d'ouverture des Jeux Olympiques aura lieu le 26 juillet, les routes et les transports en commun seront très impactés plusieurs jours avant et le Jour J. Toutes les informations concernant cet événement seront prochainement disponibles sur notre site internet, restez informé en vous inscrivant à nos alertes infos : cliquez ici.Retrouvez des informations détaillées, par jour et par heure, sur les prévisions de circulation.Accédez à la carte interactivePour vous déplacer en transports en commun, calculez votre itinéraire sur l’application Île-de-France Mobilités. Celle-ci tiendra compte des modifications d'offre et des fermetures de stations pour vous proposer des itinéraires alternatifs.\",\n",
       " \"Les métros et les RER circuleront aux horaires habituels en Île-de-France pendant les Jeux Olympiques et Jeux Paralympiques de Paris 2024 sauf la nuit du 10 au 11 août lors du « Marathon pour tous » où une offre de transport en commun est prévue durant la nuit.Pour vous déplacer en transports en commun, calculez votre itinéraire sur l’application Île-de-France Mobilités. Celle-ci tiendra compte des modifications d'offre et des fermetures de stations pour vous proposer des itinéraires alternatifs.\",\n",
       " \"L’offre de transport en commun en Île-de-France est renforcée de 15% dans le cœur d’agglomération durant l’été 2024 par rapport à un été classique.Pour vous déplacer en transports en commun, calculez votre itinéraire sur l’application Île-de-France Mobilités. Celle-ci tiendra compte des modifications d'offre et des fermetures de stations.\",\n",
       " \"Le ministère chargé des Transports a développé une carte interactive basée sur les informations fournies par Île-de-France Mobilités, et répertoriant les impacts des Jeux de Paris 2024 sur les transports en commun. Elle vous permet d'anticiper vos déplacements pendant la période des Jeux olympiques et des Jeux paralympiques de Paris 2024.Vous y trouverez les prévisions de fréquentation par ligne et par gare (métro, RER, train et tram), pour chaque jour et à chaque heure, sur toute l’Île-de-France. Elle vous aidera ensuite à optimiser et calculer vos itinéraires.Elle vous indique également les stations fermées.Retrouvez des informations détaillées, par jour et par heure, sur les prévisions de circulation.Accédez à la carte interactiveLes stations de métro ferméesMétro 1 :« Champs-Elysées – Clémenceau » – du 01/07 au 21/09« Concorde » et « Tuileries » – du 17/06 au 21/09Métro 8 : « Concorde » – du 17/06 au 21/09Métro 12 : « Concorde » – du 17/05 au 21/09Métro 13 : « Champs-Elysées – Clémenceau » – du 01/07 au 21/09Les stations de tram non-desserviesTramway T2 : « Porte d'Issy » et « Porte de Versailles » – du 25/07 au 11/08 et du 29/08 au 07/09Tramway T3a : « Porte de Versailles » – du 25/07 au 11/08 et du 29/08 au 07/09Tramway T3b : « Colette Besson » – du 27/07 au 10/08 et du 29/08 au 08/09Pour vous déplacer en transports en commun, calculez votre itinéraire sur l’application Île-de-France Mobilités. Celle-ci tiendra compte des impacts sur les transports en commun liés aux Jeux pour vous proposer des itinéraires alternatifs.\",\n",
       " \"Les périmètres rouges (interdiction de la circulation motorisée) et bleus (circulation motorisée réglementée) seront mis en place 2h30 avant la 1ʳᵉ épreuve de la journée et jusqu'à 1h après la dernière épreuve de la journée.En dehors des périodes d’épreuves, tous les déplacements seront autorisés.Les contraintes de circulation seront progressives à partir du mois de mars 2024, date de démarrage du montage pour certains sites temporaires. Ces contraintes se prolongeront jusqu’à la fin du mois d’octobre 2024.Retrouvez des informations détaillées, par jour et par heure, sur les prévisions de circulation.Accédez à la carte interactive\",\n",
       " \"Les modalités d'accès à ces périmètres seront précisées prochainement par la préfecture de Police de Paris.\"]"
      ]
     },
     "execution_count": 29,
     "metadata": {},
     "output_type": "execute_result"
    }
   ],
   "source": [
    "#ON FAIT LES RÉPONSES\n",
    "rep = soup.findAll('section')\n",
    "réponse = [rep.get_text() for rep in rep]\n",
    "\n",
    "#ON ENLÈVE LE \"\\n\"\n",
    "for i in range(len(réponse)):\n",
    "    réponse[i] = réponse[i].strip(' \\n')\n",
    "\n",
    "#ON ENLÈVE LA PREMIÈRE LIGNE\n",
    "réponse = réponse[1:]\n",
    "\n",
    "#ON GARDE UNIQUEMENT LA RÉPONSE\n",
    "réponses = [element.split('?')[1].strip() for element in réponse]\n",
    "réponses"
   ]
  },
  {
   "cell_type": "markdown",
   "metadata": {},
   "source": [
    "## DATAFRAME"
   ]
  },
  {
   "cell_type": "code",
   "execution_count": 30,
   "metadata": {},
   "outputs": [
    {
     "data": {
      "text/html": [
       "<div>\n",
       "<style scoped>\n",
       "    .dataframe tbody tr th:only-of-type {\n",
       "        vertical-align: middle;\n",
       "    }\n",
       "\n",
       "    .dataframe tbody tr th {\n",
       "        vertical-align: top;\n",
       "    }\n",
       "\n",
       "    .dataframe thead th {\n",
       "        text-align: right;\n",
       "    }\n",
       "</style>\n",
       "<table border=\"1\" class=\"dataframe\">\n",
       "  <thead>\n",
       "    <tr style=\"text-align: right;\">\n",
       "      <th></th>\n",
       "      <th>Question</th>\n",
       "      <th>Réponse</th>\n",
       "      <th>URL</th>\n",
       "    </tr>\n",
       "  </thead>\n",
       "  <tbody>\n",
       "    <tr>\n",
       "      <th>0</th>\n",
       "      <td>Qui peut emprunter les axes routiers concernés...</td>\n",
       "      <td>Les personnes autorisées à la circulation sur ...</td>\n",
       "      <td>https://anticiperlesjeux.gouv.fr/faq?page=5</td>\n",
       "    </tr>\n",
       "    <tr>\n",
       "      <th>1</th>\n",
       "      <td>Comment savoir quelles sont les voies olympiqu...</td>\n",
       "      <td>Les voies olympiques feront l’objet d’une sign...</td>\n",
       "      <td>https://anticiperlesjeux.gouv.fr/faq?page=5</td>\n",
       "    </tr>\n",
       "    <tr>\n",
       "      <th>2</th>\n",
       "      <td>Comment ont été sécurisés les sites de compéti...</td>\n",
       "      <td>Afin d’assurer la sécurité de tous durant les ...</td>\n",
       "      <td>https://anticiperlesjeux.gouv.fr/faq?page=5</td>\n",
       "    </tr>\n",
       "    <tr>\n",
       "      <th>3</th>\n",
       "      <td>La navigation sur la Seine en Île-de-France se...</td>\n",
       "      <td>La navigation de la Seine sera affectée notamm...</td>\n",
       "      <td>https://anticiperlesjeux.gouv.fr/faq?page=5</td>\n",
       "    </tr>\n",
       "    <tr>\n",
       "      <th>4</th>\n",
       "      <td>Quelles sont les stations et les gares fermées...</td>\n",
       "      <td>Les stations de métro fermées (correspondances...</td>\n",
       "      <td>https://anticiperlesjeux.gouv.fr/faq?page=5</td>\n",
       "    </tr>\n",
       "    <tr>\n",
       "      <th>5</th>\n",
       "      <td>Les métros et les RER franciliens fonctionnero...</td>\n",
       "      <td>Les métros et les RER circuleront aux horaires...</td>\n",
       "      <td>https://anticiperlesjeux.gouv.fr/faq?page=5</td>\n",
       "    </tr>\n",
       "    <tr>\n",
       "      <th>6</th>\n",
       "      <td>Les transports en commun seront-ils renforcés ...</td>\n",
       "      <td>L’offre de transport en commun en Île-de-Franc...</td>\n",
       "      <td>https://anticiperlesjeux.gouv.fr/faq?page=5</td>\n",
       "    </tr>\n",
       "    <tr>\n",
       "      <th>7</th>\n",
       "      <td>Où trouver les informations sur les modificati...</td>\n",
       "      <td>Le ministère chargé des Transports a développé...</td>\n",
       "      <td>https://anticiperlesjeux.gouv.fr/faq?page=5</td>\n",
       "    </tr>\n",
       "    <tr>\n",
       "      <th>8</th>\n",
       "      <td>Quand seront activés les périmètres rouges et ...</td>\n",
       "      <td>Les périmètres rouges (interdiction de la circ...</td>\n",
       "      <td>https://anticiperlesjeux.gouv.fr/faq?page=5</td>\n",
       "    </tr>\n",
       "    <tr>\n",
       "      <th>9</th>\n",
       "      <td>Comment s’enregistrer pour accéder à ma destin...</td>\n",
       "      <td>Les modalités d'accès à ces périmètres seront ...</td>\n",
       "      <td>https://anticiperlesjeux.gouv.fr/faq?page=5</td>\n",
       "    </tr>\n",
       "  </tbody>\n",
       "</table>\n",
       "</div>"
      ],
      "text/plain": [
       "                                            Question  \\\n",
       "0  Qui peut emprunter les axes routiers concernés...   \n",
       "1  Comment savoir quelles sont les voies olympiqu...   \n",
       "2  Comment ont été sécurisés les sites de compéti...   \n",
       "3  La navigation sur la Seine en Île-de-France se...   \n",
       "4  Quelles sont les stations et les gares fermées...   \n",
       "5  Les métros et les RER franciliens fonctionnero...   \n",
       "6  Les transports en commun seront-ils renforcés ...   \n",
       "7  Où trouver les informations sur les modificati...   \n",
       "8  Quand seront activés les périmètres rouges et ...   \n",
       "9  Comment s’enregistrer pour accéder à ma destin...   \n",
       "\n",
       "                                             Réponse  \\\n",
       "0  Les personnes autorisées à la circulation sur ...   \n",
       "1  Les voies olympiques feront l’objet d’une sign...   \n",
       "2  Afin d’assurer la sécurité de tous durant les ...   \n",
       "3  La navigation de la Seine sera affectée notamm...   \n",
       "4  Les stations de métro fermées (correspondances...   \n",
       "5  Les métros et les RER circuleront aux horaires...   \n",
       "6  L’offre de transport en commun en Île-de-Franc...   \n",
       "7  Le ministère chargé des Transports a développé...   \n",
       "8  Les périmètres rouges (interdiction de la circ...   \n",
       "9  Les modalités d'accès à ces périmètres seront ...   \n",
       "\n",
       "                                           URL  \n",
       "0  https://anticiperlesjeux.gouv.fr/faq?page=5  \n",
       "1  https://anticiperlesjeux.gouv.fr/faq?page=5  \n",
       "2  https://anticiperlesjeux.gouv.fr/faq?page=5  \n",
       "3  https://anticiperlesjeux.gouv.fr/faq?page=5  \n",
       "4  https://anticiperlesjeux.gouv.fr/faq?page=5  \n",
       "5  https://anticiperlesjeux.gouv.fr/faq?page=5  \n",
       "6  https://anticiperlesjeux.gouv.fr/faq?page=5  \n",
       "7  https://anticiperlesjeux.gouv.fr/faq?page=5  \n",
       "8  https://anticiperlesjeux.gouv.fr/faq?page=5  \n",
       "9  https://anticiperlesjeux.gouv.fr/faq?page=5  "
      ]
     },
     "execution_count": 30,
     "metadata": {},
     "output_type": "execute_result"
    }
   ],
   "source": [
    "df6 = pd.DataFrame({'Question': questions, 'Réponse': réponses, 'URL': 'https://anticiperlesjeux.gouv.fr/faq?page=5'})\n",
    "\n",
    "# Affichage du DataFrame\n",
    "df6"
   ]
  },
  {
   "cell_type": "markdown",
   "metadata": {},
   "source": [
    "### _____________________________________________________________________________________________________________"
   ]
  },
  {
   "cell_type": "markdown",
   "metadata": {},
   "source": [
    "# 7e page de question"
   ]
  },
  {
   "cell_type": "code",
   "execution_count": 31,
   "metadata": {},
   "outputs": [],
   "source": [
    "import requests as req #Pour éviter de devoir tout relancer, je re-import req\n",
    "req = req.get('https://anticiperlesjeux.gouv.fr/faq?page=6')"
   ]
  },
  {
   "cell_type": "markdown",
   "metadata": {},
   "source": [
    "## QUESTIONS"
   ]
  },
  {
   "cell_type": "code",
   "execution_count": 32,
   "metadata": {},
   "outputs": [
    {
     "data": {
      "text/plain": [
       "['En circulant à pied, à vélo ou en véhicule motorisé, quelles sont les restrictions liées aux périmètres de sécurité ?',\n",
       " 'Quels sont les sites de compétitions temporaires ?',\n",
       " 'Quels sont les sites de compétitions ?',\n",
       " 'Comment rester alerté des éventuels changements concernant les restrictions et interdictions de circulation ?',\n",
       " 'Où et quand auront lieu les épreuves des Jeux ?',\n",
       " 'Quels sont les périmètres de sécurisation des compétitions ?']"
      ]
     },
     "execution_count": 32,
     "metadata": {},
     "output_type": "execute_result"
    }
   ],
   "source": [
    "html = req.text\n",
    "soup= BeautifulSoup(html,'html.parser')\n",
    "\n",
    "#ON FAIT LES QUESTIONS\n",
    "noms = soup.findAll('button',{'class':'fr-accordion__btn'})\n",
    "question = [noms.get_text() for noms in noms]\n",
    "\n",
    "#ON ENLÈVE LE \"\\n\"\n",
    "for i in range(len(question)):\n",
    "    question[i] = question[i].strip(' \\n')\n",
    "\n",
    "#ON ENLÈVE LA PREMIÈRE LIGNE\n",
    "questions = question[1:]\n",
    "questions"
   ]
  },
  {
   "cell_type": "markdown",
   "metadata": {},
   "source": [
    "## RÉPONSES"
   ]
  },
  {
   "cell_type": "code",
   "execution_count": 33,
   "metadata": {},
   "outputs": [
    {
     "data": {
      "text/plain": [
       "[\"Selon votre moyen de déplacement (véhicule motorisé, vélo ou à pied), les restrictions et interdictions aux périmètres de sécurisation des compétitions ne sont pas les mêmes.Les piétons :Tous les périmètres de sécurité établis sont accessibles aux piétons, et cela sans justificatif. Seuls un contrôle est prévu pour accéder aux périmètres SILT qui renforcent la sécurité des sites de compétitions (soit les périmètres organisateurs). Pour accéder aux sites, il est nécessaire de présenter un justificatif (un billet d’entrée au site).Les cyclistes :La circulation est autorisée aux vélos dans les périmètres rouges (interdiction de la circulation motorisée) et bleus (circulation motorisée réglementée), et cela sans justificatif. Les vélos ne sont pas autorisés au sein des périmètres organisateurs et SILT (soit les sites de compétition).Les livraisons par vélo-cargo au sein du périmètre rouge devront faire l’objet d’un filtrage. Un point d’accès spécifique sera bientôt précisé sur le site.Les véhicules :La circulation de véhicule motorisé est interdite dans les périmètres organisateurs et SILT.La circulation de véhicule motorisé est interdite dans le périmètre rouge (interdiction de la circulation motorisée), sauf pour les personnes autorisées ayant une dérogation.La circulation de véhicule motorisé est restreinte dans le périmètre bleu (circulation motorisée réglementée) aux conducteurs ayant une situation qui nécessite un déplacement dans cette zone.Les modalités d'accès à ces périmètres seront précisées prochainement par la préfecture de Police de Paris (plateforme d'enregistrement à venir).\\xa0Tous les cas de circulation sont spécifiés par la Préfecture de Police de Paris.Retrouvez la liste des personnes autorisées à accéder aux périmètres sécurisés\",\n",
       " 'Certains sites de compétitions seront temporaires à Paris. Ils demandent donc un temps en amont de montage (à partir de mars 2024) et un temps en aval de démontage du site (jusque fin octobre 2024).Pendant les Jeux olympiques de Paris 2024 (du 26 juillet au 11 août) :Hôtel de VilleLa ConcordePont Alexandre IIIInvalidesTrocadéroArena Champ-de-MarsStade Tour EiffelPendant les Jeux paralympiques de Paris 2024 (du 28 août au 8 septembre) :La ConcordePont Alexandre IIIInvalidesArena Champ-de-MarsStade Tour EiffelRetrouvez des informations détaillées, par jour et par heure, sur les prévisions de circulation.Accédez à la carte interactive',\n",
       " \"Il existe plus de 30 sites de compétition, répartis partout en France.En Île-de-France :Dans le 75 (Paris) :\\xa0Arena Porte de la ChapelleArena BercyHôtel de VilleStade Roland GarrosParc des PrincesArena Paris SudLa ConcordeGrand PalaisPont Alexandre III\\xa0InvalidesTrocadéroArena Champ-de-MarsStade Tour EiffelDans le 92 :Paris La Défense ArenaStade Yves-du-ManoirDans le 93 :Stade de France\\xa0Centre aquatiqueArena Paris Nord (Parc des expositions Paris Nord Villepinte)Site d’escalade du BourgetClichy-sous-BoisLa Courneuve (Parc Georges Valbon)Dans le 78 :Colline d'Élancourt (VTT)\\xa0Le Golf NationalStade BMX de Saint-Quentin-en-YvelinesVélodrome National de Saint-Quentin-en-YvelinesChâteau de VersaillesDans le 77 :Stade nautique de Vaires-sur-MarneEt partout en France :\\xa0A Bordeaux :Stade de BordeauxA Lille :Stade Pierre MauroyA Lyon :Stade de Lyon – Groupama StadiumA Marseille :Stade de MarseilleMarina de MarseilleA Nantes :Stade de La BeaujoireA Nice :Stade de l’Allianz RivieraA Saint-Etienne :Stade Geoffroy-GuichardA Châteauroux :Centre National de ChâteaurouxA Tahiti :Spot de surf de Teahupo’oPour en savoir plus sur l’organisation des Jeux sur ces sites et l’impact concernant les transports, rendez-vous sur nos pages correspondantes.Paris \\xa0En Île-de-France \\xa0Partout en France\",\n",
       " 'Inscrivez-vous à l’alerte info pour rester informé des dernières actualités pour anticiper vos déplacements avant et pendant les Jeux : https://anticiperlesjeux.gouv.fr/inscriptions-alertes-infos',\n",
       " 'Les Jeux Olympiques et Paralympiques de Paris 2024 se déroulent du 26 juillet au 8 septembre 2024 :\\xa0Jeux Olympiques, du 26 juillet au 11 aoûtJeux Paralympiques, du 28 août au 8 septembreAu total, ce sont 35 sites de compétitions :\\xa013 situés à Paris12 en Île-de-France8 en France métropolitaine hors Île-de-France (Châteauroux, Lille, Lyon, Marseille, Nantes, Nice, Saint-Etienne)1 en Outre-mer (Tahiti)Pour plus d’informations sur les épreuves, rendez-vous sur le site de Paris 2024.',\n",
       " 'Quels sont les différents périmètres de sécurisation des compétitions en Île-de-France']"
      ]
     },
     "execution_count": 33,
     "metadata": {},
     "output_type": "execute_result"
    }
   ],
   "source": [
    "#ON FAIT LES RÉPONSES\n",
    "rep = soup.findAll('section')\n",
    "réponse = [rep.get_text() for rep in rep]\n",
    "\n",
    "#ON ENLÈVE LE \"\\n\"\n",
    "for i in range(len(réponse)):\n",
    "    réponse[i] = réponse[i].strip(' \\n')\n",
    "\n",
    "#ON ENLÈVE LA PREMIÈRE LIGNE\n",
    "réponse = réponse[1:]\n",
    "\n",
    "#ON GARDE UNIQUEMENT LA RÉPONSE\n",
    "réponses = [element.split('?')[1].strip() for element in réponse]\n",
    "réponses"
   ]
  },
  {
   "cell_type": "markdown",
   "metadata": {},
   "source": [
    "## DATAFRAME"
   ]
  },
  {
   "cell_type": "code",
   "execution_count": 34,
   "metadata": {},
   "outputs": [
    {
     "data": {
      "text/html": [
       "<div>\n",
       "<style scoped>\n",
       "    .dataframe tbody tr th:only-of-type {\n",
       "        vertical-align: middle;\n",
       "    }\n",
       "\n",
       "    .dataframe tbody tr th {\n",
       "        vertical-align: top;\n",
       "    }\n",
       "\n",
       "    .dataframe thead th {\n",
       "        text-align: right;\n",
       "    }\n",
       "</style>\n",
       "<table border=\"1\" class=\"dataframe\">\n",
       "  <thead>\n",
       "    <tr style=\"text-align: right;\">\n",
       "      <th></th>\n",
       "      <th>Question</th>\n",
       "      <th>Réponse</th>\n",
       "      <th>URL</th>\n",
       "    </tr>\n",
       "  </thead>\n",
       "  <tbody>\n",
       "    <tr>\n",
       "      <th>0</th>\n",
       "      <td>En circulant à pied, à vélo ou en véhicule mot...</td>\n",
       "      <td>Selon votre moyen de déplacement (véhicule mot...</td>\n",
       "      <td>https://anticiperlesjeux.gouv.fr/faq?page=6</td>\n",
       "    </tr>\n",
       "    <tr>\n",
       "      <th>1</th>\n",
       "      <td>Quels sont les sites de compétitions temporair...</td>\n",
       "      <td>Certains sites de compétitions seront temporai...</td>\n",
       "      <td>https://anticiperlesjeux.gouv.fr/faq?page=6</td>\n",
       "    </tr>\n",
       "    <tr>\n",
       "      <th>2</th>\n",
       "      <td>Quels sont les sites de compétitions ?</td>\n",
       "      <td>Il existe plus de 30 sites de compétition, rép...</td>\n",
       "      <td>https://anticiperlesjeux.gouv.fr/faq?page=6</td>\n",
       "    </tr>\n",
       "    <tr>\n",
       "      <th>3</th>\n",
       "      <td>Comment rester alerté des éventuels changement...</td>\n",
       "      <td>Inscrivez-vous à l’alerte info pour rester inf...</td>\n",
       "      <td>https://anticiperlesjeux.gouv.fr/faq?page=6</td>\n",
       "    </tr>\n",
       "    <tr>\n",
       "      <th>4</th>\n",
       "      <td>Où et quand auront lieu les épreuves des Jeux ?</td>\n",
       "      <td>Les Jeux Olympiques et Paralympiques de Paris ...</td>\n",
       "      <td>https://anticiperlesjeux.gouv.fr/faq?page=6</td>\n",
       "    </tr>\n",
       "    <tr>\n",
       "      <th>5</th>\n",
       "      <td>Quels sont les périmètres de sécurisation des ...</td>\n",
       "      <td>Quels sont les différents périmètres de sécuri...</td>\n",
       "      <td>https://anticiperlesjeux.gouv.fr/faq?page=6</td>\n",
       "    </tr>\n",
       "  </tbody>\n",
       "</table>\n",
       "</div>"
      ],
      "text/plain": [
       "                                            Question  \\\n",
       "0  En circulant à pied, à vélo ou en véhicule mot...   \n",
       "1  Quels sont les sites de compétitions temporair...   \n",
       "2             Quels sont les sites de compétitions ?   \n",
       "3  Comment rester alerté des éventuels changement...   \n",
       "4    Où et quand auront lieu les épreuves des Jeux ?   \n",
       "5  Quels sont les périmètres de sécurisation des ...   \n",
       "\n",
       "                                             Réponse  \\\n",
       "0  Selon votre moyen de déplacement (véhicule mot...   \n",
       "1  Certains sites de compétitions seront temporai...   \n",
       "2  Il existe plus de 30 sites de compétition, rép...   \n",
       "3  Inscrivez-vous à l’alerte info pour rester inf...   \n",
       "4  Les Jeux Olympiques et Paralympiques de Paris ...   \n",
       "5  Quels sont les différents périmètres de sécuri...   \n",
       "\n",
       "                                           URL  \n",
       "0  https://anticiperlesjeux.gouv.fr/faq?page=6  \n",
       "1  https://anticiperlesjeux.gouv.fr/faq?page=6  \n",
       "2  https://anticiperlesjeux.gouv.fr/faq?page=6  \n",
       "3  https://anticiperlesjeux.gouv.fr/faq?page=6  \n",
       "4  https://anticiperlesjeux.gouv.fr/faq?page=6  \n",
       "5  https://anticiperlesjeux.gouv.fr/faq?page=6  "
      ]
     },
     "execution_count": 34,
     "metadata": {},
     "output_type": "execute_result"
    }
   ],
   "source": [
    "df7 = pd.DataFrame({'Question': questions, 'Réponse': réponses, 'URL': 'https://anticiperlesjeux.gouv.fr/faq?page=6'})\n",
    "\n",
    "# Affichage du DataFrame\n",
    "df7"
   ]
  },
  {
   "cell_type": "code",
   "execution_count": 37,
   "metadata": {},
   "outputs": [],
   "source": [
    "#concaténation des data frames\n",
    "df = pd.concat([df1, df2, df3, df4, df5, df6, df7], ignore_index=True)\n",
    "df.to_csv('JO.csv', index=False)\n"
   ]
  }
 ],
 "metadata": {
  "kernelspec": {
   "display_name": "base",
   "language": "python",
   "name": "python3"
  },
  "language_info": {
   "codemirror_mode": {
    "name": "ipython",
    "version": 3
   },
   "file_extension": ".py",
   "mimetype": "text/x-python",
   "name": "python",
   "nbconvert_exporter": "python",
   "pygments_lexer": "ipython3",
   "version": "3.12.1"
  }
 },
 "nbformat": 4,
 "nbformat_minor": 2
}
