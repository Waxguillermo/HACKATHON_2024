{
 "cells": [
  {
   "cell_type": "code",
   "execution_count": 19,
   "metadata": {},
   "outputs": [
    {
     "name": "stdout",
     "output_type": "stream",
     "text": [
      "Requirement already satisfied: selenium in c:\\users\\ravor\\anaconda3\\lib\\site-packages (4.18.1)\n",
      "Requirement already satisfied: urllib3[socks]<3,>=1.26 in c:\\users\\ravor\\anaconda3\\lib\\site-packages (from selenium) (1.26.16)\n",
      "Requirement already satisfied: trio~=0.17 in c:\\users\\ravor\\anaconda3\\lib\\site-packages (from selenium) (0.25.0)\n",
      "Requirement already satisfied: trio-websocket~=0.9 in c:\\users\\ravor\\anaconda3\\lib\\site-packages (from selenium) (0.11.1)\n",
      "Requirement already satisfied: certifi>=2021.10.8 in c:\\users\\ravor\\anaconda3\\lib\\site-packages (from selenium) (2023.7.22)\n",
      "Requirement already satisfied: typing_extensions>=4.9.0 in c:\\users\\ravor\\anaconda3\\lib\\site-packages (from selenium) (4.10.0)\n",
      "Requirement already satisfied: attrs>=23.2.0 in c:\\users\\ravor\\anaconda3\\lib\\site-packages (from trio~=0.17->selenium) (23.2.0)\n",
      "Requirement already satisfied: sortedcontainers in c:\\users\\ravor\\anaconda3\\lib\\site-packages (from trio~=0.17->selenium) (2.4.0)\n",
      "Requirement already satisfied: idna in c:\\users\\ravor\\anaconda3\\lib\\site-packages (from trio~=0.17->selenium) (3.4)\n",
      "Requirement already satisfied: outcome in c:\\users\\ravor\\anaconda3\\lib\\site-packages (from trio~=0.17->selenium) (1.3.0.post0)\n",
      "Requirement already satisfied: sniffio>=1.3.0 in c:\\users\\ravor\\anaconda3\\lib\\site-packages (from trio~=0.17->selenium) (1.3.1)\n",
      "Requirement already satisfied: cffi>=1.14 in c:\\users\\ravor\\anaconda3\\lib\\site-packages (from trio~=0.17->selenium) (1.15.1)\n",
      "Requirement already satisfied: wsproto>=0.14 in c:\\users\\ravor\\anaconda3\\lib\\site-packages (from trio-websocket~=0.9->selenium) (1.2.0)\n",
      "Requirement already satisfied: PySocks!=1.5.7,<2.0,>=1.5.6 in c:\\users\\ravor\\anaconda3\\lib\\site-packages (from urllib3[socks]<3,>=1.26->selenium) (1.7.1)\n",
      "Requirement already satisfied: pycparser in c:\\users\\ravor\\anaconda3\\lib\\site-packages (from cffi>=1.14->trio~=0.17->selenium) (2.21)\n",
      "Requirement already satisfied: h11<1,>=0.9.0 in c:\\users\\ravor\\anaconda3\\lib\\site-packages (from wsproto>=0.14->trio-websocket~=0.9->selenium) (0.14.0)\n"
     ]
    }
   ],
   "source": [
    "#installation selenium\n",
    "!pip3 install selenium"
   ]
  },
  {
   "cell_type": "code",
   "execution_count": 20,
   "metadata": {},
   "outputs": [],
   "source": [
    "import pandas as pd"
   ]
  },
  {
   "cell_type": "code",
   "execution_count": 21,
   "metadata": {},
   "outputs": [],
   "source": [
    "#ouverture d'une page web\n",
    "from selenium import webdriver\n",
    "from selenium.webdriver.common.by import By\n",
    "driver = webdriver.Chrome()"
   ]
  },
  {
   "cell_type": "code",
   "execution_count": 22,
   "metadata": {},
   "outputs": [],
   "source": [
    "#ouverture du site\n",
    "driver.get('https://www.vie-publique.fr/questions-reponses/272880-strategie-energetique-quoi-servent-la-ppe-et-la-snbc')"
   ]
  },
  {
   "cell_type": "markdown",
   "metadata": {},
   "source": [
    "PASSER LES COOKIES"
   ]
  },
  {
   "cell_type": "code",
   "execution_count": 23,
   "metadata": {},
   "outputs": [],
   "source": [
    "#création du bouton pour passer les cookies\n",
    "cookie_button = driver.find_element(By.XPATH,'/html/body/div[1]/div[1]/div/div/div/ul/li[2]/button')"
   ]
  },
  {
   "cell_type": "code",
   "execution_count": 24,
   "metadata": {},
   "outputs": [],
   "source": [
    "#cliquer sur Refuser\n",
    "cookie_button.click()"
   ]
  },
  {
   "cell_type": "code",
   "execution_count": 25,
   "metadata": {},
   "outputs": [],
   "source": [
    "#création du bouton pour passer les cookies\n",
    "abonnement_button = driver.find_element(By.XPATH,'/html/body/div[5]/div[2]/button')\n",
    "abonnement_button.click()"
   ]
  },
  {
   "cell_type": "code",
   "execution_count": 26,
   "metadata": {},
   "outputs": [],
   "source": [
    "#création du bouton pour passer les cookies\n",
    "deplier_button = driver.find_element(By.XPATH,'/html/body/div[3]/div/div/main/div[2]/div[1]/div[1]/div/div[2]/div[4]/div[1]/button')\n",
    "deplier_button.click()"
   ]
  },
  {
   "cell_type": "code",
   "execution_count": 31,
   "metadata": {},
   "outputs": [
    {
     "data": {
      "text/plain": [
       "(38,\n",
       " [<selenium.webdriver.remote.webelement.WebElement (session=\"c0ceb8967c9efcca5b3d14d1746dd222\", element=\"f.A134BDD842E879E55E7FB8F0DC649814.d.EE7FE9CAF6669374352D4BA9846009FA.e.457\")>,\n",
       "  <selenium.webdriver.remote.webelement.WebElement (session=\"c0ceb8967c9efcca5b3d14d1746dd222\", element=\"f.A134BDD842E879E55E7FB8F0DC649814.d.EE7FE9CAF6669374352D4BA9846009FA.e.460\")>,\n",
       "  <selenium.webdriver.remote.webelement.WebElement (session=\"c0ceb8967c9efcca5b3d14d1746dd222\", element=\"f.A134BDD842E879E55E7FB8F0DC649814.d.EE7FE9CAF6669374352D4BA9846009FA.e.948\")>,\n",
       "  <selenium.webdriver.remote.webelement.WebElement (session=\"c0ceb8967c9efcca5b3d14d1746dd222\", element=\"f.A134BDD842E879E55E7FB8F0DC649814.d.EE7FE9CAF6669374352D4BA9846009FA.e.949\")>,\n",
       "  <selenium.webdriver.remote.webelement.WebElement (session=\"c0ceb8967c9efcca5b3d14d1746dd222\", element=\"f.A134BDD842E879E55E7FB8F0DC649814.d.EE7FE9CAF6669374352D4BA9846009FA.e.542\")>,\n",
       "  <selenium.webdriver.remote.webelement.WebElement (session=\"c0ceb8967c9efcca5b3d14d1746dd222\", element=\"f.A134BDD842E879E55E7FB8F0DC649814.d.EE7FE9CAF6669374352D4BA9846009FA.e.393\")>,\n",
       "  <selenium.webdriver.remote.webelement.WebElement (session=\"c0ceb8967c9efcca5b3d14d1746dd222\", element=\"f.A134BDD842E879E55E7FB8F0DC649814.d.EE7FE9CAF6669374352D4BA9846009FA.e.955\")>,\n",
       "  <selenium.webdriver.remote.webelement.WebElement (session=\"c0ceb8967c9efcca5b3d14d1746dd222\", element=\"f.A134BDD842E879E55E7FB8F0DC649814.d.EE7FE9CAF6669374352D4BA9846009FA.e.974\")>,\n",
       "  <selenium.webdriver.remote.webelement.WebElement (session=\"c0ceb8967c9efcca5b3d14d1746dd222\", element=\"f.A134BDD842E879E55E7FB8F0DC649814.d.EE7FE9CAF6669374352D4BA9846009FA.e.975\")>,\n",
       "  <selenium.webdriver.remote.webelement.WebElement (session=\"c0ceb8967c9efcca5b3d14d1746dd222\", element=\"f.A134BDD842E879E55E7FB8F0DC649814.d.EE7FE9CAF6669374352D4BA9846009FA.e.576\")>,\n",
       "  <selenium.webdriver.remote.webelement.WebElement (session=\"c0ceb8967c9efcca5b3d14d1746dd222\", element=\"f.A134BDD842E879E55E7FB8F0DC649814.d.EE7FE9CAF6669374352D4BA9846009FA.e.579\")>,\n",
       "  <selenium.webdriver.remote.webelement.WebElement (session=\"c0ceb8967c9efcca5b3d14d1746dd222\", element=\"f.A134BDD842E879E55E7FB8F0DC649814.d.EE7FE9CAF6669374352D4BA9846009FA.e.590\")>,\n",
       "  <selenium.webdriver.remote.webelement.WebElement (session=\"c0ceb8967c9efcca5b3d14d1746dd222\", element=\"f.A134BDD842E879E55E7FB8F0DC649814.d.EE7FE9CAF6669374352D4BA9846009FA.e.956\")>,\n",
       "  <selenium.webdriver.remote.webelement.WebElement (session=\"c0ceb8967c9efcca5b3d14d1746dd222\", element=\"f.A134BDD842E879E55E7FB8F0DC649814.d.EE7FE9CAF6669374352D4BA9846009FA.e.977\")>,\n",
       "  <selenium.webdriver.remote.webelement.WebElement (session=\"c0ceb8967c9efcca5b3d14d1746dd222\", element=\"f.A134BDD842E879E55E7FB8F0DC649814.d.EE7FE9CAF6669374352D4BA9846009FA.e.978\")>,\n",
       "  <selenium.webdriver.remote.webelement.WebElement (session=\"c0ceb8967c9efcca5b3d14d1746dd222\", element=\"f.A134BDD842E879E55E7FB8F0DC649814.d.EE7FE9CAF6669374352D4BA9846009FA.e.622\")>,\n",
       "  <selenium.webdriver.remote.webelement.WebElement (session=\"c0ceb8967c9efcca5b3d14d1746dd222\", element=\"f.A134BDD842E879E55E7FB8F0DC649814.d.EE7FE9CAF6669374352D4BA9846009FA.e.625\")>,\n",
       "  <selenium.webdriver.remote.webelement.WebElement (session=\"c0ceb8967c9efcca5b3d14d1746dd222\", element=\"f.A134BDD842E879E55E7FB8F0DC649814.d.EE7FE9CAF6669374352D4BA9846009FA.e.629\")>,\n",
       "  <selenium.webdriver.remote.webelement.WebElement (session=\"c0ceb8967c9efcca5b3d14d1746dd222\", element=\"f.A134BDD842E879E55E7FB8F0DC649814.d.EE7FE9CAF6669374352D4BA9846009FA.e.632\")>,\n",
       "  <selenium.webdriver.remote.webelement.WebElement (session=\"c0ceb8967c9efcca5b3d14d1746dd222\", element=\"f.A134BDD842E879E55E7FB8F0DC649814.d.EE7FE9CAF6669374352D4BA9846009FA.e.654\")>,\n",
       "  <selenium.webdriver.remote.webelement.WebElement (session=\"c0ceb8967c9efcca5b3d14d1746dd222\", element=\"f.A134BDD842E879E55E7FB8F0DC649814.d.EE7FE9CAF6669374352D4BA9846009FA.e.957\")>,\n",
       "  <selenium.webdriver.remote.webelement.WebElement (session=\"c0ceb8967c9efcca5b3d14d1746dd222\", element=\"f.A134BDD842E879E55E7FB8F0DC649814.d.EE7FE9CAF6669374352D4BA9846009FA.e.980\")>,\n",
       "  <selenium.webdriver.remote.webelement.WebElement (session=\"c0ceb8967c9efcca5b3d14d1746dd222\", element=\"f.A134BDD842E879E55E7FB8F0DC649814.d.EE7FE9CAF6669374352D4BA9846009FA.e.981\")>,\n",
       "  <selenium.webdriver.remote.webelement.WebElement (session=\"c0ceb8967c9efcca5b3d14d1746dd222\", element=\"f.A134BDD842E879E55E7FB8F0DC649814.d.EE7FE9CAF6669374352D4BA9846009FA.e.675\")>,\n",
       "  <selenium.webdriver.remote.webelement.WebElement (session=\"c0ceb8967c9efcca5b3d14d1746dd222\", element=\"f.A134BDD842E879E55E7FB8F0DC649814.d.EE7FE9CAF6669374352D4BA9846009FA.e.678\")>,\n",
       "  <selenium.webdriver.remote.webelement.WebElement (session=\"c0ceb8967c9efcca5b3d14d1746dd222\", element=\"f.A134BDD842E879E55E7FB8F0DC649814.d.EE7FE9CAF6669374352D4BA9846009FA.e.689\")>,\n",
       "  <selenium.webdriver.remote.webelement.WebElement (session=\"c0ceb8967c9efcca5b3d14d1746dd222\", element=\"f.A134BDD842E879E55E7FB8F0DC649814.d.EE7FE9CAF6669374352D4BA9846009FA.e.692\")>,\n",
       "  <selenium.webdriver.remote.webelement.WebElement (session=\"c0ceb8967c9efcca5b3d14d1746dd222\", element=\"f.A134BDD842E879E55E7FB8F0DC649814.d.EE7FE9CAF6669374352D4BA9846009FA.e.958\")>,\n",
       "  <selenium.webdriver.remote.webelement.WebElement (session=\"c0ceb8967c9efcca5b3d14d1746dd222\", element=\"f.A134BDD842E879E55E7FB8F0DC649814.d.EE7FE9CAF6669374352D4BA9846009FA.e.983\")>,\n",
       "  <selenium.webdriver.remote.webelement.WebElement (session=\"c0ceb8967c9efcca5b3d14d1746dd222\", element=\"f.A134BDD842E879E55E7FB8F0DC649814.d.EE7FE9CAF6669374352D4BA9846009FA.e.984\")>,\n",
       "  <selenium.webdriver.remote.webelement.WebElement (session=\"c0ceb8967c9efcca5b3d14d1746dd222\", element=\"f.A134BDD842E879E55E7FB8F0DC649814.d.EE7FE9CAF6669374352D4BA9846009FA.e.746\")>,\n",
       "  <selenium.webdriver.remote.webelement.WebElement (session=\"c0ceb8967c9efcca5b3d14d1746dd222\", element=\"f.A134BDD842E879E55E7FB8F0DC649814.d.EE7FE9CAF6669374352D4BA9846009FA.e.749\")>,\n",
       "  <selenium.webdriver.remote.webelement.WebElement (session=\"c0ceb8967c9efcca5b3d14d1746dd222\", element=\"f.A134BDD842E879E55E7FB8F0DC649814.d.EE7FE9CAF6669374352D4BA9846009FA.e.778\")>,\n",
       "  <selenium.webdriver.remote.webelement.WebElement (session=\"c0ceb8967c9efcca5b3d14d1746dd222\", element=\"f.A134BDD842E879E55E7FB8F0DC649814.d.EE7FE9CAF6669374352D4BA9846009FA.e.959\")>,\n",
       "  <selenium.webdriver.remote.webelement.WebElement (session=\"c0ceb8967c9efcca5b3d14d1746dd222\", element=\"f.A134BDD842E879E55E7FB8F0DC649814.d.EE7FE9CAF6669374352D4BA9846009FA.e.986\")>,\n",
       "  <selenium.webdriver.remote.webelement.WebElement (session=\"c0ceb8967c9efcca5b3d14d1746dd222\", element=\"f.A134BDD842E879E55E7FB8F0DC649814.d.EE7FE9CAF6669374352D4BA9846009FA.e.987\")>,\n",
       "  <selenium.webdriver.remote.webelement.WebElement (session=\"c0ceb8967c9efcca5b3d14d1746dd222\", element=\"f.A134BDD842E879E55E7FB8F0DC649814.d.EE7FE9CAF6669374352D4BA9846009FA.e.1054\")>,\n",
       "  <selenium.webdriver.remote.webelement.WebElement (session=\"c0ceb8967c9efcca5b3d14d1746dd222\", element=\"f.A134BDD842E879E55E7FB8F0DC649814.d.EE7FE9CAF6669374352D4BA9846009FA.e.1057\")>])"
      ]
     },
     "execution_count": 31,
     "metadata": {},
     "output_type": "execute_result"
    }
   ],
   "source": [
    "spans = driver.find_elements(By.TAG_NAME,\"span\")\n",
    "len(spans),spans"
   ]
  },
  {
   "cell_type": "code",
   "execution_count": 40,
   "metadata": {},
   "outputs": [
    {
     "data": {
      "text/plain": [
       "(38,\n",
       " ['',\n",
       "  'Image principale 1',\n",
       "  'Imprimer',\n",
       "  'Télécharger au format pdf',\n",
       "  'Temps de lecture ',\n",
       "  \"En mars 2024, le Premier ministre a annoncé une prochaine consultation publique sur la stratégie énergie et climat de la France. La Commission nationale du débat public sera en charge d'organiser la concertation. Programmation pluriannuelle de l'énergie, stratégie nationale bas-carbone... Quels sont les outils pour atteindre la neutralité carbone ?\",\n",
       "  \"1\\nProgrammation pluriannuelle de l’énergie (PPE), stratégie nationale bas-carbone (SNBC) : de quoi s'agit-il ?\",\n",
       "  '1',\n",
       "  \"Programmation pluriannuelle de l’énergie (PPE), stratégie nationale bas-carbone (SNBC) : de quoi s'agit-il ?\",\n",
       "  '\" (ZNI), à savoir la Corse, la Réunion, la Guyane, la Martinique, la Guadeloupe, Wallis-et-Futuna et Saint-Pierre-et-Miquelon. La PPE de métropole continentale est élaborée par le gouvernement tandis que les PPE des ZNI sont co-élaborées avec les collectivités territoriales.',\n",
       "  '',\n",
       "  '',\n",
       "  '2\\nPourquoi viser la neutralité carbone à l’horizon 2050 ?',\n",
       "  '2',\n",
       "  'Pourquoi viser la neutralité carbone à l’horizon 2050 ?',\n",
       "  'Le Plan climat, adopté par le gouvernement en juillet 2017, intègre des objectifs plus ambitieux :',\n",
       "  '',\n",
       "  'l’atteinte de la neutralité carbone à l’horizon 2050. Selon le ministère de la transition écologique, la',\n",
       "  '',\n",
       "  '',\n",
       "  \"3\\nQuels sont les objectifs de la stratégie sur l'énergie et le climat ?\",\n",
       "  '3',\n",
       "  \"Quels sont les objectifs de la stratégie sur l'énergie et le climat ?\",\n",
       "  \"publié par le ministère de la transition écologique rappelle les trois grands défis de la prochaine programmation pluriannuelle de l'énergie (PPE) pour la période 2024-2035 :\",\n",
       "  '',\n",
       "  \"Cette troisième édition de la PPE n'envisage plus de fermeture de réacteurs nucléaires, contrairement à la précédente PPE. La nouvelle PPE prévoit une poursuite de l’exploitation des centrales nucléaires existantes au-delà de 50 ou 60 ans, dans l'objectif de produire 400 térawattheures (TWh) par an d'ici à 2030. Le gouvernement propose également de construire six nouveaux réacteurs (EPR2) avec une mise en service entre 2035 et 2042.\",\n",
       "  '',\n",
       "  '4\\nQuelles mesures contient la PPE pour accompagner la transition énergétique des ménages ?',\n",
       "  '4',\n",
       "  'Quelles mesures contient la PPE pour accompagner la transition énergétique des ménages ?',\n",
       "  'publié par le ministère de la transition écologique mentionne notamment que :',\n",
       "  '',\n",
       "  '',\n",
       "  '5\\nQuels sont les objectifs de la dernière SNBC adoptée en 2020 ?',\n",
       "  '5',\n",
       "  'Quels sont les objectifs de la dernière SNBC adoptée en 2020 ?',\n",
       "  'Questions internationales -',\n",
       "  '124'])"
      ]
     },
     "execution_count": 40,
     "metadata": {},
     "output_type": "execute_result"
    }
   ],
   "source": [
    "questions = [span.text for span in spans]\n",
    "len(questions),questions"
   ]
  },
  {
   "cell_type": "code",
   "execution_count": 47,
   "metadata": {},
   "outputs": [
    {
     "data": {
      "text/plain": [
       "[\"Programmation pluriannuelle de l’énergie (PPE), stratégie nationale bas-carbone (SNBC) : de quoi s'agit-il ?\",\n",
       " 'Pourquoi viser la neutralité carbone à l’horizon 2050 ?',\n",
       " \"Quels sont les objectifs de la stratégie sur l'énergie et le climat ?\",\n",
       " 'Quelles mesures contient la PPE pour accompagner la transition énergétique des ménages ?',\n",
       " 'Quels sont les objectifs de la dernière SNBC adoptée en 2020 ?']"
      ]
     },
     "execution_count": 47,
     "metadata": {},
     "output_type": "execute_result"
    }
   ],
   "source": [
    "questions_finales = []\n",
    "for n in range(len(questions)) :\n",
    "    if questions[n-1] in ['1','2','3','4','5'] :\n",
    "        questions_finales.append(questions[n])\n",
    "    \n",
    "questions_finales"
   ]
  },
  {
   "cell_type": "code",
   "execution_count": 63,
   "metadata": {},
   "outputs": [
    {
     "data": {
      "text/plain": [
       "(54,\n",
       " [<selenium.webdriver.remote.webelement.WebElement (session=\"c0ceb8967c9efcca5b3d14d1746dd222\", element=\"f.A134BDD842E879E55E7FB8F0DC649814.d.EE7FE9CAF6669374352D4BA9846009FA.e.2\")>,\n",
       "  <selenium.webdriver.remote.webelement.WebElement (session=\"c0ceb8967c9efcca5b3d14d1746dd222\", element=\"f.A134BDD842E879E55E7FB8F0DC649814.d.EE7FE9CAF6669374352D4BA9846009FA.e.531\")>,\n",
       "  <selenium.webdriver.remote.webelement.WebElement (session=\"c0ceb8967c9efcca5b3d14d1746dd222\", element=\"f.A134BDD842E879E55E7FB8F0DC649814.d.EE7FE9CAF6669374352D4BA9846009FA.e.465\")>,\n",
       "  <selenium.webdriver.remote.webelement.WebElement (session=\"c0ceb8967c9efcca5b3d14d1746dd222\", element=\"f.A134BDD842E879E55E7FB8F0DC649814.d.EE7FE9CAF6669374352D4BA9846009FA.e.466\")>,\n",
       "  <selenium.webdriver.remote.webelement.WebElement (session=\"c0ceb8967c9efcca5b3d14d1746dd222\", element=\"f.A134BDD842E879E55E7FB8F0DC649814.d.EE7FE9CAF6669374352D4BA9846009FA.e.467\")>,\n",
       "  <selenium.webdriver.remote.webelement.WebElement (session=\"c0ceb8967c9efcca5b3d14d1746dd222\", element=\"f.A134BDD842E879E55E7FB8F0DC649814.d.EE7FE9CAF6669374352D4BA9846009FA.e.292\")>,\n",
       "  <selenium.webdriver.remote.webelement.WebElement (session=\"c0ceb8967c9efcca5b3d14d1746dd222\", element=\"f.A134BDD842E879E55E7FB8F0DC649814.d.EE7FE9CAF6669374352D4BA9846009FA.e.550\")>,\n",
       "  <selenium.webdriver.remote.webelement.WebElement (session=\"c0ceb8967c9efcca5b3d14d1746dd222\", element=\"f.A134BDD842E879E55E7FB8F0DC649814.d.EE7FE9CAF6669374352D4BA9846009FA.e.567\")>,\n",
       "  <selenium.webdriver.remote.webelement.WebElement (session=\"c0ceb8967c9efcca5b3d14d1746dd222\", element=\"f.A134BDD842E879E55E7FB8F0DC649814.d.EE7FE9CAF6669374352D4BA9846009FA.e.569\")>,\n",
       "  <selenium.webdriver.remote.webelement.WebElement (session=\"c0ceb8967c9efcca5b3d14d1746dd222\", element=\"f.A134BDD842E879E55E7FB8F0DC649814.d.EE7FE9CAF6669374352D4BA9846009FA.e.589\")>,\n",
       "  <selenium.webdriver.remote.webelement.WebElement (session=\"c0ceb8967c9efcca5b3d14d1746dd222\", element=\"f.A134BDD842E879E55E7FB8F0DC649814.d.EE7FE9CAF6669374352D4BA9846009FA.e.593\")>,\n",
       "  <selenium.webdriver.remote.webelement.WebElement (session=\"c0ceb8967c9efcca5b3d14d1746dd222\", element=\"f.A134BDD842E879E55E7FB8F0DC649814.d.EE7FE9CAF6669374352D4BA9846009FA.e.596\")>,\n",
       "  <selenium.webdriver.remote.webelement.WebElement (session=\"c0ceb8967c9efcca5b3d14d1746dd222\", element=\"f.A134BDD842E879E55E7FB8F0DC649814.d.EE7FE9CAF6669374352D4BA9846009FA.e.604\")>,\n",
       "  <selenium.webdriver.remote.webelement.WebElement (session=\"c0ceb8967c9efcca5b3d14d1746dd222\", element=\"f.A134BDD842E879E55E7FB8F0DC649814.d.EE7FE9CAF6669374352D4BA9846009FA.e.611\")>,\n",
       "  <selenium.webdriver.remote.webelement.WebElement (session=\"c0ceb8967c9efcca5b3d14d1746dd222\", element=\"f.A134BDD842E879E55E7FB8F0DC649814.d.EE7FE9CAF6669374352D4BA9846009FA.e.619\")>,\n",
       "  <selenium.webdriver.remote.webelement.WebElement (session=\"c0ceb8967c9efcca5b3d14d1746dd222\", element=\"f.A134BDD842E879E55E7FB8F0DC649814.d.EE7FE9CAF6669374352D4BA9846009FA.e.621\")>,\n",
       "  <selenium.webdriver.remote.webelement.WebElement (session=\"c0ceb8967c9efcca5b3d14d1746dd222\", element=\"f.A134BDD842E879E55E7FB8F0DC649814.d.EE7FE9CAF6669374352D4BA9846009FA.e.640\")>,\n",
       "  <selenium.webdriver.remote.webelement.WebElement (session=\"c0ceb8967c9efcca5b3d14d1746dd222\", element=\"f.A134BDD842E879E55E7FB8F0DC649814.d.EE7FE9CAF6669374352D4BA9846009FA.e.653\")>,\n",
       "  <selenium.webdriver.remote.webelement.WebElement (session=\"c0ceb8967c9efcca5b3d14d1746dd222\", element=\"f.A134BDD842E879E55E7FB8F0DC649814.d.EE7FE9CAF6669374352D4BA9846009FA.e.657\")>,\n",
       "  <selenium.webdriver.remote.webelement.WebElement (session=\"c0ceb8967c9efcca5b3d14d1746dd222\", element=\"f.A134BDD842E879E55E7FB8F0DC649814.d.EE7FE9CAF6669374352D4BA9846009FA.e.660\")>,\n",
       "  <selenium.webdriver.remote.webelement.WebElement (session=\"c0ceb8967c9efcca5b3d14d1746dd222\", element=\"f.A134BDD842E879E55E7FB8F0DC649814.d.EE7FE9CAF6669374352D4BA9846009FA.e.668\")>,\n",
       "  <selenium.webdriver.remote.webelement.WebElement (session=\"c0ceb8967c9efcca5b3d14d1746dd222\", element=\"f.A134BDD842E879E55E7FB8F0DC649814.d.EE7FE9CAF6669374352D4BA9846009FA.e.688\")>,\n",
       "  <selenium.webdriver.remote.webelement.WebElement (session=\"c0ceb8967c9efcca5b3d14d1746dd222\", element=\"f.A134BDD842E879E55E7FB8F0DC649814.d.EE7FE9CAF6669374352D4BA9846009FA.e.695\")>,\n",
       "  <selenium.webdriver.remote.webelement.WebElement (session=\"c0ceb8967c9efcca5b3d14d1746dd222\", element=\"f.A134BDD842E879E55E7FB8F0DC649814.d.EE7FE9CAF6669374352D4BA9846009FA.e.697\")>,\n",
       "  <selenium.webdriver.remote.webelement.WebElement (session=\"c0ceb8967c9efcca5b3d14d1746dd222\", element=\"f.A134BDD842E879E55E7FB8F0DC649814.d.EE7FE9CAF6669374352D4BA9846009FA.e.703\")>,\n",
       "  <selenium.webdriver.remote.webelement.WebElement (session=\"c0ceb8967c9efcca5b3d14d1746dd222\", element=\"f.A134BDD842E879E55E7FB8F0DC649814.d.EE7FE9CAF6669374352D4BA9846009FA.e.725\")>,\n",
       "  <selenium.webdriver.remote.webelement.WebElement (session=\"c0ceb8967c9efcca5b3d14d1746dd222\", element=\"f.A134BDD842E879E55E7FB8F0DC649814.d.EE7FE9CAF6669374352D4BA9846009FA.e.728\")>,\n",
       "  <selenium.webdriver.remote.webelement.WebElement (session=\"c0ceb8967c9efcca5b3d14d1746dd222\", element=\"f.A134BDD842E879E55E7FB8F0DC649814.d.EE7FE9CAF6669374352D4BA9846009FA.e.736\")>,\n",
       "  <selenium.webdriver.remote.webelement.WebElement (session=\"c0ceb8967c9efcca5b3d14d1746dd222\", element=\"f.A134BDD842E879E55E7FB8F0DC649814.d.EE7FE9CAF6669374352D4BA9846009FA.e.777\")>,\n",
       "  <selenium.webdriver.remote.webelement.WebElement (session=\"c0ceb8967c9efcca5b3d14d1746dd222\", element=\"f.A134BDD842E879E55E7FB8F0DC649814.d.EE7FE9CAF6669374352D4BA9846009FA.e.781\")>,\n",
       "  <selenium.webdriver.remote.webelement.WebElement (session=\"c0ceb8967c9efcca5b3d14d1746dd222\", element=\"f.A134BDD842E879E55E7FB8F0DC649814.d.EE7FE9CAF6669374352D4BA9846009FA.e.784\")>,\n",
       "  <selenium.webdriver.remote.webelement.WebElement (session=\"c0ceb8967c9efcca5b3d14d1746dd222\", element=\"f.A134BDD842E879E55E7FB8F0DC649814.d.EE7FE9CAF6669374352D4BA9846009FA.e.792\")>,\n",
       "  <selenium.webdriver.remote.webelement.WebElement (session=\"c0ceb8967c9efcca5b3d14d1746dd222\", element=\"f.A134BDD842E879E55E7FB8F0DC649814.d.EE7FE9CAF6669374352D4BA9846009FA.e.800\")>,\n",
       "  <selenium.webdriver.remote.webelement.WebElement (session=\"c0ceb8967c9efcca5b3d14d1746dd222\", element=\"f.A134BDD842E879E55E7FB8F0DC649814.d.EE7FE9CAF6669374352D4BA9846009FA.e.817\")>,\n",
       "  <selenium.webdriver.remote.webelement.WebElement (session=\"c0ceb8967c9efcca5b3d14d1746dd222\", element=\"f.A134BDD842E879E55E7FB8F0DC649814.d.EE7FE9CAF6669374352D4BA9846009FA.e.835\")>,\n",
       "  <selenium.webdriver.remote.webelement.WebElement (session=\"c0ceb8967c9efcca5b3d14d1746dd222\", element=\"f.A134BDD842E879E55E7FB8F0DC649814.d.EE7FE9CAF6669374352D4BA9846009FA.e.846\")>,\n",
       "  <selenium.webdriver.remote.webelement.WebElement (session=\"c0ceb8967c9efcca5b3d14d1746dd222\", element=\"f.A134BDD842E879E55E7FB8F0DC649814.d.EE7FE9CAF6669374352D4BA9846009FA.e.849\")>,\n",
       "  <selenium.webdriver.remote.webelement.WebElement (session=\"c0ceb8967c9efcca5b3d14d1746dd222\", element=\"f.A134BDD842E879E55E7FB8F0DC649814.d.EE7FE9CAF6669374352D4BA9846009FA.e.990\")>,\n",
       "  <selenium.webdriver.remote.webelement.WebElement (session=\"c0ceb8967c9efcca5b3d14d1746dd222\", element=\"f.A134BDD842E879E55E7FB8F0DC649814.d.EE7FE9CAF6669374352D4BA9846009FA.e.1031\")>,\n",
       "  <selenium.webdriver.remote.webelement.WebElement (session=\"c0ceb8967c9efcca5b3d14d1746dd222\", element=\"f.A134BDD842E879E55E7FB8F0DC649814.d.EE7FE9CAF6669374352D4BA9846009FA.e.994\")>,\n",
       "  <selenium.webdriver.remote.webelement.WebElement (session=\"c0ceb8967c9efcca5b3d14d1746dd222\", element=\"f.A134BDD842E879E55E7FB8F0DC649814.d.EE7FE9CAF6669374352D4BA9846009FA.e.1035\")>,\n",
       "  <selenium.webdriver.remote.webelement.WebElement (session=\"c0ceb8967c9efcca5b3d14d1746dd222\", element=\"f.A134BDD842E879E55E7FB8F0DC649814.d.EE7FE9CAF6669374352D4BA9846009FA.e.998\")>,\n",
       "  <selenium.webdriver.remote.webelement.WebElement (session=\"c0ceb8967c9efcca5b3d14d1746dd222\", element=\"f.A134BDD842E879E55E7FB8F0DC649814.d.EE7FE9CAF6669374352D4BA9846009FA.e.1039\")>,\n",
       "  <selenium.webdriver.remote.webelement.WebElement (session=\"c0ceb8967c9efcca5b3d14d1746dd222\", element=\"f.A134BDD842E879E55E7FB8F0DC649814.d.EE7FE9CAF6669374352D4BA9846009FA.e.1002\")>,\n",
       "  <selenium.webdriver.remote.webelement.WebElement (session=\"c0ceb8967c9efcca5b3d14d1746dd222\", element=\"f.A134BDD842E879E55E7FB8F0DC649814.d.EE7FE9CAF6669374352D4BA9846009FA.e.1043\")>,\n",
       "  <selenium.webdriver.remote.webelement.WebElement (session=\"c0ceb8967c9efcca5b3d14d1746dd222\", element=\"f.A134BDD842E879E55E7FB8F0DC649814.d.EE7FE9CAF6669374352D4BA9846009FA.e.1006\")>,\n",
       "  <selenium.webdriver.remote.webelement.WebElement (session=\"c0ceb8967c9efcca5b3d14d1746dd222\", element=\"f.A134BDD842E879E55E7FB8F0DC649814.d.EE7FE9CAF6669374352D4BA9846009FA.e.1047\")>,\n",
       "  <selenium.webdriver.remote.webelement.WebElement (session=\"c0ceb8967c9efcca5b3d14d1746dd222\", element=\"f.A134BDD842E879E55E7FB8F0DC649814.d.EE7FE9CAF6669374352D4BA9846009FA.e.1010\")>,\n",
       "  <selenium.webdriver.remote.webelement.WebElement (session=\"c0ceb8967c9efcca5b3d14d1746dd222\", element=\"f.A134BDD842E879E55E7FB8F0DC649814.d.EE7FE9CAF6669374352D4BA9846009FA.e.1051\")>,\n",
       "  <selenium.webdriver.remote.webelement.WebElement (session=\"c0ceb8967c9efcca5b3d14d1746dd222\", element=\"f.A134BDD842E879E55E7FB8F0DC649814.d.EE7FE9CAF6669374352D4BA9846009FA.e.402\")>,\n",
       "  <selenium.webdriver.remote.webelement.WebElement (session=\"c0ceb8967c9efcca5b3d14d1746dd222\", element=\"f.A134BDD842E879E55E7FB8F0DC649814.d.EE7FE9CAF6669374352D4BA9846009FA.e.420\")>,\n",
       "  <selenium.webdriver.remote.webelement.WebElement (session=\"c0ceb8967c9efcca5b3d14d1746dd222\", element=\"f.A134BDD842E879E55E7FB8F0DC649814.d.EE7FE9CAF6669374352D4BA9846009FA.e.422\")>,\n",
       "  <selenium.webdriver.remote.webelement.WebElement (session=\"c0ceb8967c9efcca5b3d14d1746dd222\", element=\"f.A134BDD842E879E55E7FB8F0DC649814.d.EE7FE9CAF6669374352D4BA9846009FA.e.423\")>,\n",
       "  <selenium.webdriver.remote.webelement.WebElement (session=\"c0ceb8967c9efcca5b3d14d1746dd222\", element=\"f.A134BDD842E879E55E7FB8F0DC649814.d.EE7FE9CAF6669374352D4BA9846009FA.e.313\")>])"
      ]
     },
     "execution_count": 63,
     "metadata": {},
     "output_type": "execute_result"
    }
   ],
   "source": [
    "ps = driver.find_elements(By.TAG_NAME,\"p\")\n",
    "len(ps),ps"
   ]
  },
  {
   "cell_type": "code",
   "execution_count": 60,
   "metadata": {},
   "outputs": [
    {
     "data": {
      "text/plain": [
       "(54,\n",
       " ['RÉPUBLIQUE\\nFRANÇAISE',\n",
       "  'Partager la page',\n",
       "  'Dernière modification : 24 avril 2024',\n",
       "  'Temps de lecture \\n8 minutes',\n",
       "  'Par : La Rédaction',\n",
       "  \"En mars 2024, le Premier ministre a annoncé une prochaine consultation publique sur la stratégie énergie et climat de la France. La Commission nationale du débat public sera en charge d'organiser la concertation. Programmation pluriannuelle de l'énergie, stratégie nationale bas-carbone... Quels sont les outils pour atteindre la neutralité carbone ?\",\n",
       "  'La loi de transition énergétique pour la croissance verte (LTECV) du 17 août 2015 a créé deux outils pour encadrer à moyen et long terme la politique de la France en matière d’énergie et de climat :',\n",
       "  \"Ces textes doivent permettre à la France de respecter ses objectifs en termes d'émissions de GES et de consommation d'énergie.\",\n",
       "  'Les PPE concernent la métropole continentale et les zones dites \"non interconnectées\" (ZNI), à savoir la Corse, la Réunion, la Guyane, la Martinique, la Guadeloupe, Wallis-et-Futuna et Saint-Pierre-et-Miquelon. La PPE de métropole continentale est élaborée par le gouvernement tandis que les PPE des ZNI sont co-élaborées avec les collectivités territoriales.',\n",
       "  '',\n",
       "  'Eclairage',\n",
       "  '22 février 2024',\n",
       "  \"L’objectif de la neutralité carbone est de lutter contre le changement climatique. Il s'agit de trouver un équilibre entre les émissions de carbone liées aux activités humaines et la capacité des écosystèmes à absorber ce carbone par des puits naturels (forêts, sols agricoles...) ou par certains procédés industriels. \",\n",
       "  \"En signant l'accord de Paris lors de la COP21 de 2015, de nombreux pays, dont la France, se sont engagés à limiter la hausse de la température moyenne de la planète à 2°C et à atteindre la neutralité carbone d’ici la fin du XXIe siècle. \",\n",
       "  \"Avec la première Stratégie nationale bas-carbone, la France prévoyait de diviser par quatre ses émissions de gaz à effet de serre à l'horizon 2050 par rapport à 1990.\",\n",
       "  'Le Plan climat, adopté par le gouvernement en juillet 2017, intègre des objectifs plus ambitieux : l’atteinte de la neutralité carbone à l’horizon 2050. Selon le ministère de la transition écologique, la neutralité carbone implique une division par six des émissions de gaz à effet de serre. Depuis la loi énergie-climat du 8 novembre 2019, cet objectif est inscrit dans la loi.',\n",
       "  \"L'action climatique française s’inscrit dans le cadre plus large de l’Union européenne, qui a adopté une feuille de route, le Pacte vert, pour atteindre la neutralité carbone en 2050 et la réduction de 55% de ses émissions de gaz à effet de serre d'ici à 2030.\",\n",
       "  '',\n",
       "  'Eclairage',\n",
       "  '26 août 2021',\n",
       "  \"Dans le cadre de la consultation publique qui a été déjà organisée du 22 novembre au 22 décembre 2023 sur la stratégie française concernant l'énergie et le climat, le document publié par le ministère de la transition écologique rappelle les trois grands défis de la prochaine programmation pluriannuelle de l'énergie (PPE) pour la période 2024-2035 :\",\n",
       "  \"Cette troisième édition de la PPE n'envisage plus de fermeture de réacteurs nucléaires, contrairement à la précédente PPE. La nouvelle PPE prévoit une poursuite de l’exploitation des centrales nucléaires existantes au-delà de 50 ou 60 ans, dans l'objectif de produire 400 térawattheures (TWh) par an d'ici à 2030. Le gouvernement propose également de construire six nouveaux réacteurs (EPR2) avec une mise en service entre 2035 et 2042.\",\n",
       "  'Cette PPE accélère aussi le développement des énergies renouvelables, notamment en multipliant par deux le rythme de déploiement du photovoltaïque, du biogaz et des réseaux de chaleur d’ici 2030.',\n",
       "  'La consommation finale énergétique de la France a diminué entre 2012 et 2019 d’environ 5%, puis plus rapidement depuis 2022. La PPE renouvelle la volonté gouvernementale d’accélérer le rythme global de réduction de consommation pour atteindre l’objectif du paquet législatif européen Fit for 55, décliné à travers une nouvelle directive relative à l’efficacité énergétique publiée le 20 septembre 2023. L’objectif est estimé pour la France à 1 209 TWh en 2030, ce qui correspond à une réduction de la consommation en énergie finale d’environ 30% par rapport à 2012.',\n",
       "  'Parmi les autres objectifs, la PPE propose en particulier :',\n",
       "  'Consultation',\n",
       "  '28 novembre 2023',\n",
       "  'La nouvelle PPE vise à réduire la consommation d’énergies fossiles mais aussi à assurer une transition juste et durable. Parmi les mesures pour accompagner la transition énergétique des ménages, le document publié par le ministère de la transition écologique mentionne notamment que :',\n",
       "  '',\n",
       "  'Questions-réponses',\n",
       "  '29 mars 2024',\n",
       "  'Adoptée par décret en 2015, la Stratégie nationale bas-carbone définit les trois budgets carbone pour les périodes 2015-2018, 2019-2023 et 2024-2028.  ',\n",
       "  'La version révisée a été publiée en 2020. Cette version présente le quatrième budget carbone pour la période 2029-2033, mais revoit surtout à la hausse le deuxième budget 2019-2023 et le troisième budget 2024-2028.',\n",
       "  'La SNBC actualisée pose les objectifs de réduction des émissions de gaz à effet de serre pour 2050 :',\n",
       "  \"La SNBC prévoit en outre l'augmentation des puits de carbone et fixe 45 orientations couvrant la gouvernance aux échelles nationale et territoriale, tous les secteurs d’activité et des sujets transversaux (empreinte carbone, investissements, aménagement du territoire, recherche et développement, éducation et formation).\",\n",
       "  'Consultation',\n",
       "  '20 janvier 2020',\n",
       "  'Revue',\n",
       "  'Questions internationales - n° 124 - Avril-mai 2024',\n",
       "  'En bref',\n",
       "  '23 avril 2024',\n",
       "  'Eclairage',\n",
       "  '23 avril 2024',\n",
       "  'Droit européen - Code',\n",
       "  '23 avril 2024',\n",
       "  'Exploitation agricole - Politique agricole - Produit agroalimentaire - Alimentation - Formation',\n",
       "  '23 avril 2024',\n",
       "  'Podcast',\n",
       "  '23 avril 2024',\n",
       "  'Suivez nos actualités : Vie-publique.fr, Bibliothèque des rapports publics, publications de La Documentation française.',\n",
       "  'RÉPUBLIQUE\\nFRANÇAISE',\n",
       "  \"Vie-publique.fr est un site gratuit d'information qui donne des clés pour comprendre les politiques publiques et les grands débats qui animent la société.\",\n",
       "  \"Il est édité par la Direction de l'information légale et administrative.\",\n",
       "  'Sauf mention contraire, tous les textes de ce site sont sous licence etalab-2.0'])"
      ]
     },
     "execution_count": 60,
     "metadata": {},
     "output_type": "execute_result"
    }
   ],
   "source": [
    "responses = [p.text for p in ps]\n",
    "len(responses),responses"
   ]
  },
  {
   "cell_type": "code",
   "execution_count": 76,
   "metadata": {},
   "outputs": [
    {
     "data": {
      "text/plain": [
       "\"L’objectif de la neutralité carbone est de lutter contre le changement climatique. Il s'agit de trouver un équilibre entre les émissions de carbone liées aux activités humaines et la capacité des écosystèmes à absorber ce carbone par des puits naturels (forêts, sols agricoles...) ou par certains procédés industriels. \\nEn signant l'accord de Paris lors de la COP21 de 2015, de nombreux pays, dont la France, se sont engagés à limiter la hausse de la température moyenne de la planète à 2°C et à atteindre la neutralité carbone d’ici la fin du XXIe siècle. \\nAvec la première Stratégie nationale bas-carbone, la France prévoyait de diviser par quatre ses émissions de gaz à effet de serre à l'horizon 2050 par rapport à 1990.\\nLe Plan climat, adopté par le gouvernement en juillet 2017, intègre des objectifs plus ambitieux : l’atteinte de la neutralité carbone à l’horizon 2050. Selon le ministère de la transition écologique, la neutralité carbone implique une division par six des émissions de gaz à effet de serre. Depuis la loi énergie-climat du 8 novembre 2019, cet objectif est inscrit dans la loi.\\nL'action climatique française s’inscrit dans le cadre plus large de l’Union européenne, qui a adopté une feuille de route, le Pacte vert, pour atteindre la neutralité carbone en 2050 et la réduction de 55% de ses émissions de gaz à effet de serre d'ici à 2030.\\nPacte vert et paquet climat : l'UE vise la neutralité climatique dès 2050\\nEclairage\\n26 août 2021\""
      ]
     },
     "execution_count": 76,
     "metadata": {},
     "output_type": "execute_result"
    }
   ],
   "source": [
    "responses = driver.find_elements(By.CLASS_NAME,\"vp-accordeon-content\")\n",
    "responses_text = [response.text for response in responses]\n",
    "responses_text[1]"
   ]
  },
  {
   "cell_type": "code",
   "execution_count": null,
   "metadata": {},
   "outputs": [],
   "source": [
    "'\\nEclairage\\n'"
   ]
  },
  {
   "cell_type": "code",
   "execution_count": 89,
   "metadata": {},
   "outputs": [],
   "source": [
    "responses_final = []\n",
    "for response in responses_text :\n",
    "    response_split = response.split('\\n')\n",
    "    response_split.remove(response_split[-1])\n",
    "    response_split.remove(response_split[-2])\n",
    "    response_split.remove(response_split[-3])\n",
    "    response_split.remove(response_split[-4])\n",
    "    response_desplit = ' '.join(response_split)\n",
    "    responses_final.append(response_desplit)"
   ]
  },
  {
   "cell_type": "code",
   "execution_count": 90,
   "metadata": {},
   "outputs": [
    {
     "data": {
      "text/plain": [
       "['La loi de transition énergétique pour la croissance verte (LTECV) du 17 août 2015 a créé deux outils pour encadrer à moyen et long terme la politique de la France en matière d’énergie et de climat : la stratégie nationale bas-carbone (SNBC) qui définit la trajectoire de la France pour réduire ses émissions de gaz à effet de serre à l’horizon 2050. Elle donne des orientations pour mettre en œuvre la transition bas-carbone dans les grands secteurs d’activité (transport, logement, industrie, agriculture, énergie, déchets) et fixe des \"budgets carbone\", des plafonds d’émissions de gaz à effet de serre (GES) à ne pas dépasser par période de cinq ans.  Les PPE concernent la métropole continentale et les zones dites \"non interconnectées\" (ZNI), à savoir la Corse, la Réunion, la Guyane, la Martinique, la Guadeloupe, Wallis-et-Futuna et Saint-Pierre-et-Miquelon. La PPE de métropole continentale est élaborée par le gouvernement tandis que les PPE des ZNI sont co-élaborées avec les collectivités territoriales. Eclairage',\n",
       " \"L’objectif de la neutralité carbone est de lutter contre le changement climatique. Il s'agit de trouver un équilibre entre les émissions de carbone liées aux activités humaines et la capacité des écosystèmes à absorber ce carbone par des puits naturels (forêts, sols agricoles...) ou par certains procédés industriels.  Avec la première Stratégie nationale bas-carbone, la France prévoyait de diviser par quatre ses émissions de gaz à effet de serre à l'horizon 2050 par rapport à 1990. L'action climatique française s’inscrit dans le cadre plus large de l’Union européenne, qui a adopté une feuille de route, le Pacte vert, pour atteindre la neutralité carbone en 2050 et la réduction de 55% de ses émissions de gaz à effet de serre d'ici à 2030. Eclairage\",\n",
       " \"Dans le cadre de la consultation publique qui a été déjà organisée du 22 novembre au 22 décembre 2023 sur la stratégie française concernant l'énergie et le climat, le document publié par le ministère de la transition écologique rappelle les trois grands défis de la prochaine programmation pluriannuelle de l'énergie (PPE) pour la période 2024-2035 : réduire de 30% la consommation d’énergie en 2030 par rapport à 2012 et de 40% à 50% la consommation d'énergie en 2050 par rapport à 2021 ; sortir du charbon en 2027 (et des énergies fossiles en 2050) ; augmenter la production d’électricité bas-carbone de 10% en 2030 et de 55% en 2050 et doubler la production de chaleur bas-carbone d’ici 2035 par rapport à 2021. Cette troisième édition de la PPE n'envisage plus de fermeture de réacteurs nucléaires, contrairement à la précédente PPE. La nouvelle PPE prévoit une poursuite de l’exploitation des centrales nucléaires existantes au-delà de 50 ou 60 ans, dans l'objectif de produire 400 térawattheures (TWh) par an d'ici à 2030. Le gouvernement propose également de construire six nouveaux réacteurs (EPR2) avec une mise en service entre 2035 et 2042. Cette PPE accélère aussi le développement des énergies renouvelables, notamment en multipliant par deux le rythme de déploiement du photovoltaïque, du biogaz et des réseaux de chaleur d’ici 2030. La consommation finale énergétique de la France a diminué entre 2012 et 2019 d’environ 5%, puis plus rapidement depuis 2022. La PPE renouvelle la volonté gouvernementale d’accélérer le rythme global de réduction de consommation pour atteindre l’objectif du paquet législatif européen Fit for 55, décliné à travers une nouvelle directive relative à l’efficacité énergétique publiée le 20 septembre 2023. L’objectif est estimé pour la France à 1 209 TWh en 2030, ce qui correspond à une réduction de la consommation en énergie finale d’environ 30% par rapport à 2012. Parmi les autres objectifs, la PPE propose en particulier : l'accélération de la sortie des énergies fossiles par l’électrification des usages, conduisant à un niveau de production d’électricité décarbonée (révisé à la hausse) d'au moins 640 TWh en 2035, soit une augmentation de 22% par rapport à la production totale en 2021 ; le développement de la chaleur renouvelable (plus de 250 TWh en 2030, contre un objectif compris entre 219 et 247 TWh en 2028 dans la précédente PPE) et de récupération (20 TWh en 2030 contre un objectif compris entre 7,6 et 9,9 TWh dans les réseaux en 2028 dans la précédente PPE), correspondant à une multiplication par plus de deux du rythme de déploiement par rapport à aujourd’hui ; la mise en service de sept parcs éoliens en mer d'ici 2030. Consultation\",\n",
       " 'La nouvelle PPE vise à réduire la consommation d’énergies fossiles mais aussi à assurer une transition juste et durable. Parmi les mesures pour accompagner la transition énergétique des ménages, le document publié par le ministère de la transition écologique mentionne notamment que : en 2022, 5,8 millions de ménages étaient bénéficiaires du chèque énergie, pour un montant compris entre 48 et 277 euros. Plus de 82% l’ont utilisé. Les modalités d’évolution du chèque énergie après la suppression de la taxe d’habitation sont en cours d’étude ; le plan pour la rénovation énergétique des bâtiments. En 2022, 67% des projets financés par MaPrimeRénov’ (subvention à destination des particuliers pour financer les travaux de rénovation énergétique) concernent les ménages modestes et très modestes, sur un budget total de 3,1 milliards d\\'euros. Le gouvernement prévoit le renforcement du réseau de conseil France Rénov’ et le développement des \"accompagnateurs Rénov\\'’\" ; deux réflexions sont à mener sur : la manière d\\'inciter les fournisseurs à une pratique d’approvisionnement prudente et de long terme, pour renforcer leur résilience à un choc de marché et contribuer au rapprochement des prix payés par les consommateurs avec les coûts de production. Questions-réponses',\n",
       " \"Adoptée par décret en 2015, la Stratégie nationale bas-carbone définit les trois budgets carbone pour les périodes 2015-2018, 2019-2023 et 2024-2028.   La version révisée a été publiée en 2020. Cette version présente le quatrième budget carbone pour la période 2029-2033, mais revoit surtout à la hausse le deuxième budget 2019-2023 et le troisième budget 2024-2028. La SNBC actualisée pose les objectifs de réduction des émissions de gaz à effet de serre pour 2050 : transports : zéro émission (à l’exception du transport aérien domestique) ; bâtiment : zéro émission ; agriculture : réduction de 46% des émissions de GES par rapport à 2015 ; production d’énergie : zéro émission ; La SNBC prévoit en outre l'augmentation des puits de carbone et fixe 45 orientations couvrant la gouvernance aux échelles nationale et territoriale, tous les secteurs d’activité et des sujets transversaux (empreinte carbone, investissements, aménagement du territoire, recherche et développement, éducation et formation). Consultation\"]"
      ]
     },
     "execution_count": 90,
     "metadata": {},
     "output_type": "execute_result"
    }
   ],
   "source": [
    "responses_final"
   ]
  },
  {
   "cell_type": "code",
   "execution_count": null,
   "metadata": {},
   "outputs": [],
   "source": []
  },
  {
   "cell_type": "markdown",
   "metadata": {},
   "source": []
  },
  {
   "cell_type": "code",
   "execution_count": 94,
   "metadata": {},
   "outputs": [
    {
     "ename": "TypeError",
     "evalue": "Field elements must be 2- or 3-tuples, got ''La loi de transition énergétique pour la croissance verte (LTECV) du 17 août 2015 a créé deux outils pour encadrer à moyen et long terme la politique de la France en matière d’énergie et de climat : la stratégie nationale bas-carbone (SNBC) qui définit la trajectoire de la France pour réduire ses émissions de gaz à effet de serre à l’horizon 2050. Elle donne des orientations pour mettre en œuvre la transition bas-carbone dans les grands secteurs d’activité (transport, logement, industrie, agriculture, énergie, déchets) et fixe des \"budgets carbone\", des plafonds d’émissions de gaz à effet de serre (GES) à ne pas dépasser par période de cinq ans.  Les PPE concernent la métropole continentale et les zones dites \"non interconnectées\" (ZNI), à savoir la Corse, la Réunion, la Guyane, la Martinique, la Guadeloupe, Wallis-et-Futuna et Saint-Pierre-et-Miquelon. La PPE de métropole continentale est élaborée par le gouvernement tandis que les PPE des ZNI sont co-élaborées avec les collectivités territoriales. Eclairage''",
     "output_type": "error",
     "traceback": [
      "\u001b[1;31m---------------------------------------------------------------------------\u001b[0m",
      "\u001b[1;31mTypeError\u001b[0m                                 Traceback (most recent call last)",
      "Cell \u001b[1;32mIn[94], line 2\u001b[0m\n\u001b[0;32m      1\u001b[0m \u001b[38;5;28;01mimport\u001b[39;00m \u001b[38;5;21;01mnumpy\u001b[39;00m \u001b[38;5;28;01mas\u001b[39;00m \u001b[38;5;21;01mnp\u001b[39;00m\n\u001b[1;32m----> 2\u001b[0m df \u001b[38;5;241m=\u001b[39m pd\u001b[38;5;241m.\u001b[39mDataFrame(np\u001b[38;5;241m.\u001b[39marray(questions, responses_final), columns\u001b[38;5;241m=\u001b[39m[\u001b[38;5;124m'\u001b[39m\u001b[38;5;124mquestions\u001b[39m\u001b[38;5;124m'\u001b[39m,\u001b[38;5;124m'\u001b[39m\u001b[38;5;124mreponses\u001b[39m\u001b[38;5;124m'\u001b[39m])\n",
      "\u001b[1;31mTypeError\u001b[0m: Field elements must be 2- or 3-tuples, got ''La loi de transition énergétique pour la croissance verte (LTECV) du 17 août 2015 a créé deux outils pour encadrer à moyen et long terme la politique de la France en matière d’énergie et de climat : la stratégie nationale bas-carbone (SNBC) qui définit la trajectoire de la France pour réduire ses émissions de gaz à effet de serre à l’horizon 2050. Elle donne des orientations pour mettre en œuvre la transition bas-carbone dans les grands secteurs d’activité (transport, logement, industrie, agriculture, énergie, déchets) et fixe des \"budgets carbone\", des plafonds d’émissions de gaz à effet de serre (GES) à ne pas dépasser par période de cinq ans.  Les PPE concernent la métropole continentale et les zones dites \"non interconnectées\" (ZNI), à savoir la Corse, la Réunion, la Guyane, la Martinique, la Guadeloupe, Wallis-et-Futuna et Saint-Pierre-et-Miquelon. La PPE de métropole continentale est élaborée par le gouvernement tandis que les PPE des ZNI sont co-élaborées avec les collectivités territoriales. Eclairage''"
     ]
    }
   ],
   "source": [
    "import numpy as np\n",
    "df = pd.DataFrame(np.array(questions, responses_final), columns=['questions','reponses'])"
   ]
  },
  {
   "cell_type": "code",
   "execution_count": 99,
   "metadata": {},
   "outputs": [
    {
     "data": {
      "text/html": [
       "<div>\n",
       "<style scoped>\n",
       "    .dataframe tbody tr th:only-of-type {\n",
       "        vertical-align: middle;\n",
       "    }\n",
       "\n",
       "    .dataframe tbody tr th {\n",
       "        vertical-align: top;\n",
       "    }\n",
       "\n",
       "    .dataframe thead th {\n",
       "        text-align: right;\n",
       "    }\n",
       "</style>\n",
       "<table border=\"1\" class=\"dataframe\">\n",
       "  <thead>\n",
       "    <tr style=\"text-align: right;\">\n",
       "      <th></th>\n",
       "      <th>Question</th>\n",
       "      <th>Réponse</th>\n",
       "    </tr>\n",
       "  </thead>\n",
       "  <tbody>\n",
       "    <tr>\n",
       "      <th>0</th>\n",
       "      <td>Programmation pluriannuelle de l’énergie (PPE)...</td>\n",
       "      <td>La loi de transition énergétique pour la crois...</td>\n",
       "    </tr>\n",
       "    <tr>\n",
       "      <th>1</th>\n",
       "      <td>Pourquoi viser la neutralité carbone à l’horiz...</td>\n",
       "      <td>La loi de transition énergétique pour la crois...</td>\n",
       "    </tr>\n",
       "    <tr>\n",
       "      <th>2</th>\n",
       "      <td>Quels sont les objectifs de la stratégie sur l...</td>\n",
       "      <td>La loi de transition énergétique pour la crois...</td>\n",
       "    </tr>\n",
       "    <tr>\n",
       "      <th>3</th>\n",
       "      <td>Quelles mesures contient la PPE pour accompagn...</td>\n",
       "      <td>La loi de transition énergétique pour la crois...</td>\n",
       "    </tr>\n",
       "    <tr>\n",
       "      <th>4</th>\n",
       "      <td>Quels sont les objectifs de la dernière SNBC a...</td>\n",
       "      <td>La loi de transition énergétique pour la crois...</td>\n",
       "    </tr>\n",
       "    <tr>\n",
       "      <th>5</th>\n",
       "      <td>Programmation pluriannuelle de l’énergie (PPE)...</td>\n",
       "      <td>L’objectif de la neutralité carbone est de lut...</td>\n",
       "    </tr>\n",
       "    <tr>\n",
       "      <th>6</th>\n",
       "      <td>Pourquoi viser la neutralité carbone à l’horiz...</td>\n",
       "      <td>L’objectif de la neutralité carbone est de lut...</td>\n",
       "    </tr>\n",
       "    <tr>\n",
       "      <th>7</th>\n",
       "      <td>Quels sont les objectifs de la stratégie sur l...</td>\n",
       "      <td>L’objectif de la neutralité carbone est de lut...</td>\n",
       "    </tr>\n",
       "    <tr>\n",
       "      <th>8</th>\n",
       "      <td>Quelles mesures contient la PPE pour accompagn...</td>\n",
       "      <td>L’objectif de la neutralité carbone est de lut...</td>\n",
       "    </tr>\n",
       "    <tr>\n",
       "      <th>9</th>\n",
       "      <td>Quels sont les objectifs de la dernière SNBC a...</td>\n",
       "      <td>L’objectif de la neutralité carbone est de lut...</td>\n",
       "    </tr>\n",
       "    <tr>\n",
       "      <th>10</th>\n",
       "      <td>Programmation pluriannuelle de l’énergie (PPE)...</td>\n",
       "      <td>Dans le cadre de la consultation publique qui ...</td>\n",
       "    </tr>\n",
       "    <tr>\n",
       "      <th>11</th>\n",
       "      <td>Pourquoi viser la neutralité carbone à l’horiz...</td>\n",
       "      <td>Dans le cadre de la consultation publique qui ...</td>\n",
       "    </tr>\n",
       "    <tr>\n",
       "      <th>12</th>\n",
       "      <td>Quels sont les objectifs de la stratégie sur l...</td>\n",
       "      <td>Dans le cadre de la consultation publique qui ...</td>\n",
       "    </tr>\n",
       "    <tr>\n",
       "      <th>13</th>\n",
       "      <td>Quelles mesures contient la PPE pour accompagn...</td>\n",
       "      <td>Dans le cadre de la consultation publique qui ...</td>\n",
       "    </tr>\n",
       "    <tr>\n",
       "      <th>14</th>\n",
       "      <td>Quels sont les objectifs de la dernière SNBC a...</td>\n",
       "      <td>Dans le cadre de la consultation publique qui ...</td>\n",
       "    </tr>\n",
       "    <tr>\n",
       "      <th>15</th>\n",
       "      <td>Programmation pluriannuelle de l’énergie (PPE)...</td>\n",
       "      <td>La nouvelle PPE vise à réduire la consommation...</td>\n",
       "    </tr>\n",
       "    <tr>\n",
       "      <th>16</th>\n",
       "      <td>Pourquoi viser la neutralité carbone à l’horiz...</td>\n",
       "      <td>La nouvelle PPE vise à réduire la consommation...</td>\n",
       "    </tr>\n",
       "    <tr>\n",
       "      <th>17</th>\n",
       "      <td>Quels sont les objectifs de la stratégie sur l...</td>\n",
       "      <td>La nouvelle PPE vise à réduire la consommation...</td>\n",
       "    </tr>\n",
       "    <tr>\n",
       "      <th>18</th>\n",
       "      <td>Quelles mesures contient la PPE pour accompagn...</td>\n",
       "      <td>La nouvelle PPE vise à réduire la consommation...</td>\n",
       "    </tr>\n",
       "    <tr>\n",
       "      <th>19</th>\n",
       "      <td>Quels sont les objectifs de la dernière SNBC a...</td>\n",
       "      <td>La nouvelle PPE vise à réduire la consommation...</td>\n",
       "    </tr>\n",
       "    <tr>\n",
       "      <th>20</th>\n",
       "      <td>Programmation pluriannuelle de l’énergie (PPE)...</td>\n",
       "      <td>Adoptée par décret en 2015, la Stratégie natio...</td>\n",
       "    </tr>\n",
       "    <tr>\n",
       "      <th>21</th>\n",
       "      <td>Pourquoi viser la neutralité carbone à l’horiz...</td>\n",
       "      <td>Adoptée par décret en 2015, la Stratégie natio...</td>\n",
       "    </tr>\n",
       "    <tr>\n",
       "      <th>22</th>\n",
       "      <td>Quels sont les objectifs de la stratégie sur l...</td>\n",
       "      <td>Adoptée par décret en 2015, la Stratégie natio...</td>\n",
       "    </tr>\n",
       "    <tr>\n",
       "      <th>23</th>\n",
       "      <td>Quelles mesures contient la PPE pour accompagn...</td>\n",
       "      <td>Adoptée par décret en 2015, la Stratégie natio...</td>\n",
       "    </tr>\n",
       "    <tr>\n",
       "      <th>24</th>\n",
       "      <td>Quels sont les objectifs de la dernière SNBC a...</td>\n",
       "      <td>Adoptée par décret en 2015, la Stratégie natio...</td>\n",
       "    </tr>\n",
       "  </tbody>\n",
       "</table>\n",
       "</div>"
      ],
      "text/plain": [
       "                                             Question  \\\n",
       "0   Programmation pluriannuelle de l’énergie (PPE)...   \n",
       "1   Pourquoi viser la neutralité carbone à l’horiz...   \n",
       "2   Quels sont les objectifs de la stratégie sur l...   \n",
       "3   Quelles mesures contient la PPE pour accompagn...   \n",
       "4   Quels sont les objectifs de la dernière SNBC a...   \n",
       "5   Programmation pluriannuelle de l’énergie (PPE)...   \n",
       "6   Pourquoi viser la neutralité carbone à l’horiz...   \n",
       "7   Quels sont les objectifs de la stratégie sur l...   \n",
       "8   Quelles mesures contient la PPE pour accompagn...   \n",
       "9   Quels sont les objectifs de la dernière SNBC a...   \n",
       "10  Programmation pluriannuelle de l’énergie (PPE)...   \n",
       "11  Pourquoi viser la neutralité carbone à l’horiz...   \n",
       "12  Quels sont les objectifs de la stratégie sur l...   \n",
       "13  Quelles mesures contient la PPE pour accompagn...   \n",
       "14  Quels sont les objectifs de la dernière SNBC a...   \n",
       "15  Programmation pluriannuelle de l’énergie (PPE)...   \n",
       "16  Pourquoi viser la neutralité carbone à l’horiz...   \n",
       "17  Quels sont les objectifs de la stratégie sur l...   \n",
       "18  Quelles mesures contient la PPE pour accompagn...   \n",
       "19  Quels sont les objectifs de la dernière SNBC a...   \n",
       "20  Programmation pluriannuelle de l’énergie (PPE)...   \n",
       "21  Pourquoi viser la neutralité carbone à l’horiz...   \n",
       "22  Quels sont les objectifs de la stratégie sur l...   \n",
       "23  Quelles mesures contient la PPE pour accompagn...   \n",
       "24  Quels sont les objectifs de la dernière SNBC a...   \n",
       "\n",
       "                                              Réponse  \n",
       "0   La loi de transition énergétique pour la crois...  \n",
       "1   La loi de transition énergétique pour la crois...  \n",
       "2   La loi de transition énergétique pour la crois...  \n",
       "3   La loi de transition énergétique pour la crois...  \n",
       "4   La loi de transition énergétique pour la crois...  \n",
       "5   L’objectif de la neutralité carbone est de lut...  \n",
       "6   L’objectif de la neutralité carbone est de lut...  \n",
       "7   L’objectif de la neutralité carbone est de lut...  \n",
       "8   L’objectif de la neutralité carbone est de lut...  \n",
       "9   L’objectif de la neutralité carbone est de lut...  \n",
       "10  Dans le cadre de la consultation publique qui ...  \n",
       "11  Dans le cadre de la consultation publique qui ...  \n",
       "12  Dans le cadre de la consultation publique qui ...  \n",
       "13  Dans le cadre de la consultation publique qui ...  \n",
       "14  Dans le cadre de la consultation publique qui ...  \n",
       "15  La nouvelle PPE vise à réduire la consommation...  \n",
       "16  La nouvelle PPE vise à réduire la consommation...  \n",
       "17  La nouvelle PPE vise à réduire la consommation...  \n",
       "18  La nouvelle PPE vise à réduire la consommation...  \n",
       "19  La nouvelle PPE vise à réduire la consommation...  \n",
       "20  Adoptée par décret en 2015, la Stratégie natio...  \n",
       "21  Adoptée par décret en 2015, la Stratégie natio...  \n",
       "22  Adoptée par décret en 2015, la Stratégie natio...  \n",
       "23  Adoptée par décret en 2015, la Stratégie natio...  \n",
       "24  Adoptée par décret en 2015, la Stratégie natio...  "
      ]
     },
     "execution_count": 99,
     "metadata": {},
     "output_type": "execute_result"
    }
   ],
   "source": [
    "dataframes = []\n",
    "for answer in responses_final:\n",
    "        for question in questions_finales:\n",
    "            df = pd.DataFrame({'Question': [question], 'Réponse': [answer]})\n",
    "            dataframes.append(df)\n",
    "\n",
    "df = pd.concat(dataframes, ignore_index=True)\n",
    "df"
   ]
  },
  {
   "cell_type": "code",
   "execution_count": 103,
   "metadata": {},
   "outputs": [
    {
     "data": {
      "text/plain": [
       "(5, 5)"
      ]
     },
     "execution_count": 103,
     "metadata": {},
     "output_type": "execute_result"
    }
   ],
   "source": [
    "len(questions_finales),len(responses_final)"
   ]
  },
  {
   "cell_type": "code",
   "execution_count": 105,
   "metadata": {},
   "outputs": [
    {
     "ename": "ValueError",
     "evalue": "If using all scalar values, you must pass an index",
     "output_type": "error",
     "traceback": [
      "\u001b[1;31m---------------------------------------------------------------------------\u001b[0m",
      "\u001b[1;31mValueError\u001b[0m                                Traceback (most recent call last)",
      "Cell \u001b[1;32mIn[105], line 5\u001b[0m\n\u001b[0;32m      3\u001b[0m     dict_qr [questions_finales[n]] \u001b[38;5;241m=\u001b[39m responses_final[n]\n\u001b[0;32m      4\u001b[0m dict_qr\n\u001b[1;32m----> 5\u001b[0m df_QR \u001b[38;5;241m=\u001b[39m pd\u001b[38;5;241m.\u001b[39mDataFrame(dict_qr)\n",
      "File \u001b[1;32mc:\\Users\\ravor\\anaconda3\\Lib\\site-packages\\pandas\\core\\frame.py:664\u001b[0m, in \u001b[0;36mDataFrame.__init__\u001b[1;34m(self, data, index, columns, dtype, copy)\u001b[0m\n\u001b[0;32m    658\u001b[0m     mgr \u001b[38;5;241m=\u001b[39m \u001b[38;5;28mself\u001b[39m\u001b[38;5;241m.\u001b[39m_init_mgr(\n\u001b[0;32m    659\u001b[0m         data, axes\u001b[38;5;241m=\u001b[39m{\u001b[38;5;124m\"\u001b[39m\u001b[38;5;124mindex\u001b[39m\u001b[38;5;124m\"\u001b[39m: index, \u001b[38;5;124m\"\u001b[39m\u001b[38;5;124mcolumns\u001b[39m\u001b[38;5;124m\"\u001b[39m: columns}, dtype\u001b[38;5;241m=\u001b[39mdtype, copy\u001b[38;5;241m=\u001b[39mcopy\n\u001b[0;32m    660\u001b[0m     )\n\u001b[0;32m    662\u001b[0m \u001b[38;5;28;01melif\u001b[39;00m \u001b[38;5;28misinstance\u001b[39m(data, \u001b[38;5;28mdict\u001b[39m):\n\u001b[0;32m    663\u001b[0m     \u001b[38;5;66;03m# GH#38939 de facto copy defaults to False only in non-dict cases\u001b[39;00m\n\u001b[1;32m--> 664\u001b[0m     mgr \u001b[38;5;241m=\u001b[39m dict_to_mgr(data, index, columns, dtype\u001b[38;5;241m=\u001b[39mdtype, copy\u001b[38;5;241m=\u001b[39mcopy, typ\u001b[38;5;241m=\u001b[39mmanager)\n\u001b[0;32m    665\u001b[0m \u001b[38;5;28;01melif\u001b[39;00m \u001b[38;5;28misinstance\u001b[39m(data, ma\u001b[38;5;241m.\u001b[39mMaskedArray):\n\u001b[0;32m    666\u001b[0m     \u001b[38;5;28;01mimport\u001b[39;00m \u001b[38;5;21;01mnumpy\u001b[39;00m\u001b[38;5;21;01m.\u001b[39;00m\u001b[38;5;21;01mma\u001b[39;00m\u001b[38;5;21;01m.\u001b[39;00m\u001b[38;5;21;01mmrecords\u001b[39;00m \u001b[38;5;28;01mas\u001b[39;00m \u001b[38;5;21;01mmrecords\u001b[39;00m\n",
      "File \u001b[1;32mc:\\Users\\ravor\\anaconda3\\Lib\\site-packages\\pandas\\core\\internals\\construction.py:493\u001b[0m, in \u001b[0;36mdict_to_mgr\u001b[1;34m(data, index, columns, dtype, typ, copy)\u001b[0m\n\u001b[0;32m    489\u001b[0m     \u001b[38;5;28;01melse\u001b[39;00m:\n\u001b[0;32m    490\u001b[0m         \u001b[38;5;66;03m# dtype check to exclude e.g. range objects, scalars\u001b[39;00m\n\u001b[0;32m    491\u001b[0m         arrays \u001b[38;5;241m=\u001b[39m [x\u001b[38;5;241m.\u001b[39mcopy() \u001b[38;5;28;01mif\u001b[39;00m \u001b[38;5;28mhasattr\u001b[39m(x, \u001b[38;5;124m\"\u001b[39m\u001b[38;5;124mdtype\u001b[39m\u001b[38;5;124m\"\u001b[39m) \u001b[38;5;28;01melse\u001b[39;00m x \u001b[38;5;28;01mfor\u001b[39;00m x \u001b[38;5;129;01min\u001b[39;00m arrays]\n\u001b[1;32m--> 493\u001b[0m \u001b[38;5;28;01mreturn\u001b[39;00m arrays_to_mgr(arrays, columns, index, dtype\u001b[38;5;241m=\u001b[39mdtype, typ\u001b[38;5;241m=\u001b[39mtyp, consolidate\u001b[38;5;241m=\u001b[39mcopy)\n",
      "File \u001b[1;32mc:\\Users\\ravor\\anaconda3\\Lib\\site-packages\\pandas\\core\\internals\\construction.py:118\u001b[0m, in \u001b[0;36marrays_to_mgr\u001b[1;34m(arrays, columns, index, dtype, verify_integrity, typ, consolidate)\u001b[0m\n\u001b[0;32m    115\u001b[0m \u001b[38;5;28;01mif\u001b[39;00m verify_integrity:\n\u001b[0;32m    116\u001b[0m     \u001b[38;5;66;03m# figure out the index, if necessary\u001b[39;00m\n\u001b[0;32m    117\u001b[0m     \u001b[38;5;28;01mif\u001b[39;00m index \u001b[38;5;129;01mis\u001b[39;00m \u001b[38;5;28;01mNone\u001b[39;00m:\n\u001b[1;32m--> 118\u001b[0m         index \u001b[38;5;241m=\u001b[39m _extract_index(arrays)\n\u001b[0;32m    119\u001b[0m     \u001b[38;5;28;01melse\u001b[39;00m:\n\u001b[0;32m    120\u001b[0m         index \u001b[38;5;241m=\u001b[39m ensure_index(index)\n",
      "File \u001b[1;32mc:\\Users\\ravor\\anaconda3\\Lib\\site-packages\\pandas\\core\\internals\\construction.py:656\u001b[0m, in \u001b[0;36m_extract_index\u001b[1;34m(data)\u001b[0m\n\u001b[0;32m    653\u001b[0m         \u001b[38;5;28;01mraise\u001b[39;00m \u001b[38;5;167;01mValueError\u001b[39;00m(\u001b[38;5;124m\"\u001b[39m\u001b[38;5;124mPer-column arrays must each be 1-dimensional\u001b[39m\u001b[38;5;124m\"\u001b[39m)\n\u001b[0;32m    655\u001b[0m \u001b[38;5;28;01mif\u001b[39;00m \u001b[38;5;129;01mnot\u001b[39;00m indexes \u001b[38;5;129;01mand\u001b[39;00m \u001b[38;5;129;01mnot\u001b[39;00m raw_lengths:\n\u001b[1;32m--> 656\u001b[0m     \u001b[38;5;28;01mraise\u001b[39;00m \u001b[38;5;167;01mValueError\u001b[39;00m(\u001b[38;5;124m\"\u001b[39m\u001b[38;5;124mIf using all scalar values, you must pass an index\u001b[39m\u001b[38;5;124m\"\u001b[39m)\n\u001b[0;32m    658\u001b[0m \u001b[38;5;28;01melif\u001b[39;00m have_series:\n\u001b[0;32m    659\u001b[0m     index \u001b[38;5;241m=\u001b[39m union_indexes(indexes)\n",
      "\u001b[1;31mValueError\u001b[0m: If using all scalar values, you must pass an index"
     ]
    }
   ],
   "source": [
    "dict_qr = {}\n",
    "for n in range(5) : \n",
    "    dict_qr [questions_finales[n]] = responses_final[n]\n",
    "dict_qr\n",
    "df_QR = pd.DataFrame(dict_qr)"
   ]
  },
  {
   "cell_type": "code",
   "execution_count": null,
   "metadata": {},
   "outputs": [],
   "source": [
    "dataframes = []\n",
    "for answer in responses_final:\n",
    "        for question in questions_finales:\n",
    "            df = pd.DataFrame({'Question': [question], 'Réponse': [answer]})\n",
    "            dataframes.append(df)\n",
    "\n",
    "df = pd.concat(dataframes, ignore_index=True)\n",
    "df"
   ]
  },
  {
   "cell_type": "code",
   "execution_count": 106,
   "metadata": {},
   "outputs": [
    {
     "data": {
      "text/html": [
       "<div>\n",
       "<style scoped>\n",
       "    .dataframe tbody tr th:only-of-type {\n",
       "        vertical-align: middle;\n",
       "    }\n",
       "\n",
       "    .dataframe tbody tr th {\n",
       "        vertical-align: top;\n",
       "    }\n",
       "\n",
       "    .dataframe thead th {\n",
       "        text-align: right;\n",
       "    }\n",
       "</style>\n",
       "<table border=\"1\" class=\"dataframe\">\n",
       "  <thead>\n",
       "    <tr style=\"text-align: right;\">\n",
       "      <th></th>\n",
       "      <th>Questions</th>\n",
       "      <th>Réponses</th>\n",
       "    </tr>\n",
       "  </thead>\n",
       "  <tbody>\n",
       "    <tr>\n",
       "      <th>0</th>\n",
       "      <td>Programmation pluriannuelle de l’énergie (PPE)...</td>\n",
       "      <td>La loi de transition énergétique pour la crois...</td>\n",
       "    </tr>\n",
       "    <tr>\n",
       "      <th>1</th>\n",
       "      <td>Pourquoi viser la neutralité carbone à l’horiz...</td>\n",
       "      <td>L’objectif de la neutralité carbone est de lut...</td>\n",
       "    </tr>\n",
       "    <tr>\n",
       "      <th>2</th>\n",
       "      <td>Quels sont les objectifs de la stratégie sur l...</td>\n",
       "      <td>Dans le cadre de la consultation publique qui ...</td>\n",
       "    </tr>\n",
       "    <tr>\n",
       "      <th>3</th>\n",
       "      <td>Quelles mesures contient la PPE pour accompagn...</td>\n",
       "      <td>La nouvelle PPE vise à réduire la consommation...</td>\n",
       "    </tr>\n",
       "    <tr>\n",
       "      <th>4</th>\n",
       "      <td>Quels sont les objectifs de la dernière SNBC a...</td>\n",
       "      <td>Adoptée par décret en 2015, la Stratégie natio...</td>\n",
       "    </tr>\n",
       "  </tbody>\n",
       "</table>\n",
       "</div>"
      ],
      "text/plain": [
       "                                           Questions  \\\n",
       "0  Programmation pluriannuelle de l’énergie (PPE)...   \n",
       "1  Pourquoi viser la neutralité carbone à l’horiz...   \n",
       "2  Quels sont les objectifs de la stratégie sur l...   \n",
       "3  Quelles mesures contient la PPE pour accompagn...   \n",
       "4  Quels sont les objectifs de la dernière SNBC a...   \n",
       "\n",
       "                                            Réponses  \n",
       "0  La loi de transition énergétique pour la crois...  \n",
       "1  L’objectif de la neutralité carbone est de lut...  \n",
       "2  Dans le cadre de la consultation publique qui ...  \n",
       "3  La nouvelle PPE vise à réduire la consommation...  \n",
       "4  Adoptée par décret en 2015, la Stratégie natio...  "
      ]
     },
     "execution_count": 106,
     "metadata": {},
     "output_type": "execute_result"
    }
   ],
   "source": [
    "df = pd.DataFrame ({'Questions' : questions_finales, 'Réponses' : responses_final})\n",
    "df"
   ]
  },
  {
   "cell_type": "code",
   "execution_count": null,
   "metadata": {},
   "outputs": [],
   "source": []
  }
 ],
 "metadata": {
  "kernelspec": {
   "display_name": "base",
   "language": "python",
   "name": "python3"
  },
  "language_info": {
   "codemirror_mode": {
    "name": "ipython",
    "version": 3
   },
   "file_extension": ".py",
   "mimetype": "text/x-python",
   "name": "python",
   "nbconvert_exporter": "python",
   "pygments_lexer": "ipython3",
   "version": "3.11.4"
  }
 },
 "nbformat": 4,
 "nbformat_minor": 2
}
