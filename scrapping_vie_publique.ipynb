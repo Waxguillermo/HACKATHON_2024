{
 "cells": [
  {
   "cell_type": "code",
   "execution_count": 1,
   "metadata": {},
   "outputs": [
    {
     "name": "stdout",
     "output_type": "stream",
     "text": [
      "Requirement already satisfied: selenium in c:\\users\\ravor\\anaconda3\\lib\\site-packages (4.18.1)\n",
      "Requirement already satisfied: urllib3[socks]<3,>=1.26 in c:\\users\\ravor\\anaconda3\\lib\\site-packages (from selenium) (1.26.16)\n",
      "Requirement already satisfied: trio~=0.17 in c:\\users\\ravor\\anaconda3\\lib\\site-packages (from selenium) (0.25.0)\n",
      "Requirement already satisfied: trio-websocket~=0.9 in c:\\users\\ravor\\anaconda3\\lib\\site-packages (from selenium) (0.11.1)\n",
      "Requirement already satisfied: certifi>=2021.10.8 in c:\\users\\ravor\\anaconda3\\lib\\site-packages (from selenium) (2023.7.22)\n",
      "Requirement already satisfied: typing_extensions>=4.9.0 in c:\\users\\ravor\\anaconda3\\lib\\site-packages (from selenium) (4.10.0)\n",
      "Requirement already satisfied: attrs>=23.2.0 in c:\\users\\ravor\\anaconda3\\lib\\site-packages (from trio~=0.17->selenium) (23.2.0)\n",
      "Requirement already satisfied: sortedcontainers in c:\\users\\ravor\\anaconda3\\lib\\site-packages (from trio~=0.17->selenium) (2.4.0)\n",
      "Requirement already satisfied: idna in c:\\users\\ravor\\anaconda3\\lib\\site-packages (from trio~=0.17->selenium) (3.4)\n",
      "Requirement already satisfied: outcome in c:\\users\\ravor\\anaconda3\\lib\\site-packages (from trio~=0.17->selenium) (1.3.0.post0)\n",
      "Requirement already satisfied: sniffio>=1.3.0 in c:\\users\\ravor\\anaconda3\\lib\\site-packages (from trio~=0.17->selenium) (1.3.1)\n",
      "Requirement already satisfied: cffi>=1.14 in c:\\users\\ravor\\anaconda3\\lib\\site-packages (from trio~=0.17->selenium) (1.15.1)\n",
      "Requirement already satisfied: wsproto>=0.14 in c:\\users\\ravor\\anaconda3\\lib\\site-packages (from trio-websocket~=0.9->selenium) (1.2.0)\n",
      "Requirement already satisfied: PySocks!=1.5.7,<2.0,>=1.5.6 in c:\\users\\ravor\\anaconda3\\lib\\site-packages (from urllib3[socks]<3,>=1.26->selenium) (1.7.1)\n",
      "Requirement already satisfied: pycparser in c:\\users\\ravor\\anaconda3\\lib\\site-packages (from cffi>=1.14->trio~=0.17->selenium) (2.21)\n",
      "Requirement already satisfied: h11<1,>=0.9.0 in c:\\users\\ravor\\anaconda3\\lib\\site-packages (from wsproto>=0.14->trio-websocket~=0.9->selenium) (0.14.0)\n"
     ]
    }
   ],
   "source": [
    "#importation librairie\n",
    "!pip3 install selenium\n",
    "import pandas as pd\n",
    "from selenium import webdriver\n",
    "from selenium.webdriver.common.by import By"
   ]
  },
  {
   "cell_type": "code",
   "execution_count": 4,
   "metadata": {},
   "outputs": [],
   "source": [
    "#ouverture de la 1ère page web\n",
    "driver = webdriver.Chrome()"
   ]
  },
  {
   "cell_type": "code",
   "execution_count": 5,
   "metadata": {},
   "outputs": [],
   "source": [
    "#ouverture du site\n",
    "driver.get('https://www.vie-publique.fr/questions-reponses/272880-strategie-energetique-quoi-servent-la-ppe-et-la-snbc')"
   ]
  },
  {
   "cell_type": "markdown",
   "metadata": {},
   "source": [
    "PASSER LES COOKIES (à faire après ignorer abonnement si nécéssaire)"
   ]
  },
  {
   "cell_type": "code",
   "execution_count": 6,
   "metadata": {},
   "outputs": [],
   "source": [
    "#création du bouton pour passer les cookies\n",
    "cookie_button = driver.find_element(By.XPATH,'/html/body/div[1]/div[1]/div/div/div/ul/li[2]/button')"
   ]
  },
  {
   "cell_type": "code",
   "execution_count": 10,
   "metadata": {},
   "outputs": [],
   "source": [
    "#cliquer sur Refuser\n",
    "cookie_button.click()"
   ]
  },
  {
   "cell_type": "markdown",
   "metadata": {},
   "source": [
    "IGNORER ABONNEMENT"
   ]
  },
  {
   "cell_type": "code",
   "execution_count": 9,
   "metadata": {},
   "outputs": [],
   "source": [
    "#création du bouton pour passer les cookies\n",
    "abonnement_button = driver.find_element(By.XPATH,'/html/body/div[5]/div[2]/button')\n",
    "abonnement_button.click()"
   ]
  },
  {
   "cell_type": "markdown",
   "metadata": {},
   "source": [
    "DEPLIER LA PAGE (à faire plusieurs fois si nécéssaire)"
   ]
  },
  {
   "cell_type": "code",
   "execution_count": 14,
   "metadata": {},
   "outputs": [],
   "source": [
    "#création du bouton pour déplier\n",
    "deplier_button = driver.find_element(By.XPATH,'/html/body/div[3]/div/div/main/div[2]/div[1]/div[1]/div/div[2]/div[4]/div[1]/button')\n",
    "deplier_button.click()"
   ]
  },
  {
   "cell_type": "code",
   "execution_count": 15,
   "metadata": {},
   "outputs": [
    {
     "data": {
      "text/plain": [
       "(38,\n",
       " [<selenium.webdriver.remote.webelement.WebElement (session=\"3ca4a57304b4fcfaefde620f7b71de99\", element=\"f.85CA1DE5F3FB1B3033AF6302F7BAF516.d.285D1FB3CADE10EAFCCBB618645DE7F0.e.441\")>,\n",
       "  <selenium.webdriver.remote.webelement.WebElement (session=\"3ca4a57304b4fcfaefde620f7b71de99\", element=\"f.85CA1DE5F3FB1B3033AF6302F7BAF516.d.285D1FB3CADE10EAFCCBB618645DE7F0.e.444\")>,\n",
       "  <selenium.webdriver.remote.webelement.WebElement (session=\"3ca4a57304b4fcfaefde620f7b71de99\", element=\"f.85CA1DE5F3FB1B3033AF6302F7BAF516.d.285D1FB3CADE10EAFCCBB618645DE7F0.e.942\")>,\n",
       "  <selenium.webdriver.remote.webelement.WebElement (session=\"3ca4a57304b4fcfaefde620f7b71de99\", element=\"f.85CA1DE5F3FB1B3033AF6302F7BAF516.d.285D1FB3CADE10EAFCCBB618645DE7F0.e.943\")>,\n",
       "  <selenium.webdriver.remote.webelement.WebElement (session=\"3ca4a57304b4fcfaefde620f7b71de99\", element=\"f.85CA1DE5F3FB1B3033AF6302F7BAF516.d.285D1FB3CADE10EAFCCBB618645DE7F0.e.526\")>,\n",
       "  <selenium.webdriver.remote.webelement.WebElement (session=\"3ca4a57304b4fcfaefde620f7b71de99\", element=\"f.85CA1DE5F3FB1B3033AF6302F7BAF516.d.285D1FB3CADE10EAFCCBB618645DE7F0.e.67\")>,\n",
       "  <selenium.webdriver.remote.webelement.WebElement (session=\"3ca4a57304b4fcfaefde620f7b71de99\", element=\"f.85CA1DE5F3FB1B3033AF6302F7BAF516.d.285D1FB3CADE10EAFCCBB618645DE7F0.e.949\")>,\n",
       "  <selenium.webdriver.remote.webelement.WebElement (session=\"3ca4a57304b4fcfaefde620f7b71de99\", element=\"f.85CA1DE5F3FB1B3033AF6302F7BAF516.d.285D1FB3CADE10EAFCCBB618645DE7F0.e.968\")>,\n",
       "  <selenium.webdriver.remote.webelement.WebElement (session=\"3ca4a57304b4fcfaefde620f7b71de99\", element=\"f.85CA1DE5F3FB1B3033AF6302F7BAF516.d.285D1FB3CADE10EAFCCBB618645DE7F0.e.969\")>,\n",
       "  <selenium.webdriver.remote.webelement.WebElement (session=\"3ca4a57304b4fcfaefde620f7b71de99\", element=\"f.85CA1DE5F3FB1B3033AF6302F7BAF516.d.285D1FB3CADE10EAFCCBB618645DE7F0.e.560\")>,\n",
       "  <selenium.webdriver.remote.webelement.WebElement (session=\"3ca4a57304b4fcfaefde620f7b71de99\", element=\"f.85CA1DE5F3FB1B3033AF6302F7BAF516.d.285D1FB3CADE10EAFCCBB618645DE7F0.e.563\")>,\n",
       "  <selenium.webdriver.remote.webelement.WebElement (session=\"3ca4a57304b4fcfaefde620f7b71de99\", element=\"f.85CA1DE5F3FB1B3033AF6302F7BAF516.d.285D1FB3CADE10EAFCCBB618645DE7F0.e.574\")>,\n",
       "  <selenium.webdriver.remote.webelement.WebElement (session=\"3ca4a57304b4fcfaefde620f7b71de99\", element=\"f.85CA1DE5F3FB1B3033AF6302F7BAF516.d.285D1FB3CADE10EAFCCBB618645DE7F0.e.950\")>,\n",
       "  <selenium.webdriver.remote.webelement.WebElement (session=\"3ca4a57304b4fcfaefde620f7b71de99\", element=\"f.85CA1DE5F3FB1B3033AF6302F7BAF516.d.285D1FB3CADE10EAFCCBB618645DE7F0.e.971\")>,\n",
       "  <selenium.webdriver.remote.webelement.WebElement (session=\"3ca4a57304b4fcfaefde620f7b71de99\", element=\"f.85CA1DE5F3FB1B3033AF6302F7BAF516.d.285D1FB3CADE10EAFCCBB618645DE7F0.e.972\")>,\n",
       "  <selenium.webdriver.remote.webelement.WebElement (session=\"3ca4a57304b4fcfaefde620f7b71de99\", element=\"f.85CA1DE5F3FB1B3033AF6302F7BAF516.d.285D1FB3CADE10EAFCCBB618645DE7F0.e.609\")>,\n",
       "  <selenium.webdriver.remote.webelement.WebElement (session=\"3ca4a57304b4fcfaefde620f7b71de99\", element=\"f.85CA1DE5F3FB1B3033AF6302F7BAF516.d.285D1FB3CADE10EAFCCBB618645DE7F0.e.612\")>,\n",
       "  <selenium.webdriver.remote.webelement.WebElement (session=\"3ca4a57304b4fcfaefde620f7b71de99\", element=\"f.85CA1DE5F3FB1B3033AF6302F7BAF516.d.285D1FB3CADE10EAFCCBB618645DE7F0.e.616\")>,\n",
       "  <selenium.webdriver.remote.webelement.WebElement (session=\"3ca4a57304b4fcfaefde620f7b71de99\", element=\"f.85CA1DE5F3FB1B3033AF6302F7BAF516.d.285D1FB3CADE10EAFCCBB618645DE7F0.e.619\")>,\n",
       "  <selenium.webdriver.remote.webelement.WebElement (session=\"3ca4a57304b4fcfaefde620f7b71de99\", element=\"f.85CA1DE5F3FB1B3033AF6302F7BAF516.d.285D1FB3CADE10EAFCCBB618645DE7F0.e.641\")>,\n",
       "  <selenium.webdriver.remote.webelement.WebElement (session=\"3ca4a57304b4fcfaefde620f7b71de99\", element=\"f.85CA1DE5F3FB1B3033AF6302F7BAF516.d.285D1FB3CADE10EAFCCBB618645DE7F0.e.951\")>,\n",
       "  <selenium.webdriver.remote.webelement.WebElement (session=\"3ca4a57304b4fcfaefde620f7b71de99\", element=\"f.85CA1DE5F3FB1B3033AF6302F7BAF516.d.285D1FB3CADE10EAFCCBB618645DE7F0.e.974\")>,\n",
       "  <selenium.webdriver.remote.webelement.WebElement (session=\"3ca4a57304b4fcfaefde620f7b71de99\", element=\"f.85CA1DE5F3FB1B3033AF6302F7BAF516.d.285D1FB3CADE10EAFCCBB618645DE7F0.e.975\")>,\n",
       "  <selenium.webdriver.remote.webelement.WebElement (session=\"3ca4a57304b4fcfaefde620f7b71de99\", element=\"f.85CA1DE5F3FB1B3033AF6302F7BAF516.d.285D1FB3CADE10EAFCCBB618645DE7F0.e.662\")>,\n",
       "  <selenium.webdriver.remote.webelement.WebElement (session=\"3ca4a57304b4fcfaefde620f7b71de99\", element=\"f.85CA1DE5F3FB1B3033AF6302F7BAF516.d.285D1FB3CADE10EAFCCBB618645DE7F0.e.665\")>,\n",
       "  <selenium.webdriver.remote.webelement.WebElement (session=\"3ca4a57304b4fcfaefde620f7b71de99\", element=\"f.85CA1DE5F3FB1B3033AF6302F7BAF516.d.285D1FB3CADE10EAFCCBB618645DE7F0.e.676\")>,\n",
       "  <selenium.webdriver.remote.webelement.WebElement (session=\"3ca4a57304b4fcfaefde620f7b71de99\", element=\"f.85CA1DE5F3FB1B3033AF6302F7BAF516.d.285D1FB3CADE10EAFCCBB618645DE7F0.e.679\")>,\n",
       "  <selenium.webdriver.remote.webelement.WebElement (session=\"3ca4a57304b4fcfaefde620f7b71de99\", element=\"f.85CA1DE5F3FB1B3033AF6302F7BAF516.d.285D1FB3CADE10EAFCCBB618645DE7F0.e.952\")>,\n",
       "  <selenium.webdriver.remote.webelement.WebElement (session=\"3ca4a57304b4fcfaefde620f7b71de99\", element=\"f.85CA1DE5F3FB1B3033AF6302F7BAF516.d.285D1FB3CADE10EAFCCBB618645DE7F0.e.977\")>,\n",
       "  <selenium.webdriver.remote.webelement.WebElement (session=\"3ca4a57304b4fcfaefde620f7b71de99\", element=\"f.85CA1DE5F3FB1B3033AF6302F7BAF516.d.285D1FB3CADE10EAFCCBB618645DE7F0.e.978\")>,\n",
       "  <selenium.webdriver.remote.webelement.WebElement (session=\"3ca4a57304b4fcfaefde620f7b71de99\", element=\"f.85CA1DE5F3FB1B3033AF6302F7BAF516.d.285D1FB3CADE10EAFCCBB618645DE7F0.e.733\")>,\n",
       "  <selenium.webdriver.remote.webelement.WebElement (session=\"3ca4a57304b4fcfaefde620f7b71de99\", element=\"f.85CA1DE5F3FB1B3033AF6302F7BAF516.d.285D1FB3CADE10EAFCCBB618645DE7F0.e.736\")>,\n",
       "  <selenium.webdriver.remote.webelement.WebElement (session=\"3ca4a57304b4fcfaefde620f7b71de99\", element=\"f.85CA1DE5F3FB1B3033AF6302F7BAF516.d.285D1FB3CADE10EAFCCBB618645DE7F0.e.765\")>,\n",
       "  <selenium.webdriver.remote.webelement.WebElement (session=\"3ca4a57304b4fcfaefde620f7b71de99\", element=\"f.85CA1DE5F3FB1B3033AF6302F7BAF516.d.285D1FB3CADE10EAFCCBB618645DE7F0.e.953\")>,\n",
       "  <selenium.webdriver.remote.webelement.WebElement (session=\"3ca4a57304b4fcfaefde620f7b71de99\", element=\"f.85CA1DE5F3FB1B3033AF6302F7BAF516.d.285D1FB3CADE10EAFCCBB618645DE7F0.e.980\")>,\n",
       "  <selenium.webdriver.remote.webelement.WebElement (session=\"3ca4a57304b4fcfaefde620f7b71de99\", element=\"f.85CA1DE5F3FB1B3033AF6302F7BAF516.d.285D1FB3CADE10EAFCCBB618645DE7F0.e.981\")>,\n",
       "  <selenium.webdriver.remote.webelement.WebElement (session=\"3ca4a57304b4fcfaefde620f7b71de99\", element=\"f.85CA1DE5F3FB1B3033AF6302F7BAF516.d.285D1FB3CADE10EAFCCBB618645DE7F0.e.1060\")>,\n",
       "  <selenium.webdriver.remote.webelement.WebElement (session=\"3ca4a57304b4fcfaefde620f7b71de99\", element=\"f.85CA1DE5F3FB1B3033AF6302F7BAF516.d.285D1FB3CADE10EAFCCBB618645DE7F0.e.1063\")>])"
      ]
     },
     "execution_count": 15,
     "metadata": {},
     "output_type": "execute_result"
    }
   ],
   "source": [
    "#on observe que les questions sont dans span\n",
    "#on sélectionne tous les éléments compris dans le tag span\n",
    "spans = driver.find_elements(By.TAG_NAME,\"span\")\n",
    "len(spans),spans"
   ]
  },
  {
   "cell_type": "code",
   "execution_count": 16,
   "metadata": {},
   "outputs": [
    {
     "data": {
      "text/plain": [
       "(38,\n",
       " ['Stratégie énergie et climat :  la PPE et la SNBC, des outils pour atteindre la neutralité carbone',\n",
       "  'Image principale 1',\n",
       "  'Imprimer',\n",
       "  'Télécharger au format pdf',\n",
       "  'Temps de lecture ',\n",
       "  \"En mars 2024, le Premier ministre a annoncé une prochaine consultation publique sur la stratégie énergie et climat de la France. La Commission nationale du débat public sera en charge d'organiser la concertation. Programmation pluriannuelle de l'énergie, stratégie nationale bas-carbone... Quels sont les outils pour atteindre la neutralité carbone ?\",\n",
       "  \"1\\nProgrammation pluriannuelle de l’énergie (PPE), stratégie nationale bas-carbone (SNBC) : de quoi s'agit-il ?\",\n",
       "  '1',\n",
       "  \"Programmation pluriannuelle de l’énergie (PPE), stratégie nationale bas-carbone (SNBC) : de quoi s'agit-il ?\",\n",
       "  '\" (ZNI), à savoir la Corse, la Réunion, la Guyane, la Martinique, la Guadeloupe, Wallis-et-Futuna et Saint-Pierre-et-Miquelon. La PPE de métropole continentale est élaborée par le gouvernement tandis que les PPE des ZNI sont co-élaborées avec les collectivités territoriales.',\n",
       "  '',\n",
       "  '',\n",
       "  '2\\nPourquoi viser la neutralité carbone à l’horizon 2050 ?',\n",
       "  '2',\n",
       "  'Pourquoi viser la neutralité carbone à l’horizon 2050 ?',\n",
       "  'Le Plan climat, adopté par le gouvernement en juillet 2017, intègre des objectifs plus ambitieux :',\n",
       "  '',\n",
       "  'l’atteinte de la neutralité carbone à l’horizon 2050. Selon le ministère de la transition écologique, la',\n",
       "  '',\n",
       "  '',\n",
       "  \"3\\nQuels sont les objectifs de la stratégie sur l'énergie et le climat ?\",\n",
       "  '3',\n",
       "  \"Quels sont les objectifs de la stratégie sur l'énergie et le climat ?\",\n",
       "  \"publié par le ministère de la transition écologique rappelle les trois grands défis de la prochaine programmation pluriannuelle de l'énergie (PPE) pour la période 2024-2035 :\",\n",
       "  '',\n",
       "  \"Cette troisième édition de la PPE n'envisage plus de fermeture de réacteurs nucléaires, contrairement à la précédente PPE. La nouvelle PPE prévoit une poursuite de l’exploitation des centrales nucléaires existantes au-delà de 50 ou 60 ans, dans l'objectif de produire 400 térawattheures (TWh) par an d'ici à 2030. Le gouvernement propose également de construire six nouveaux réacteurs (EPR2) avec une mise en service entre 2035 et 2042.\",\n",
       "  '',\n",
       "  '4\\nQuelles mesures contient la PPE pour accompagner la transition énergétique des ménages ?',\n",
       "  '4',\n",
       "  'Quelles mesures contient la PPE pour accompagner la transition énergétique des ménages ?',\n",
       "  'publié fin 2023 par le ministère de la transition écologique mentionne notamment que :',\n",
       "  '',\n",
       "  '',\n",
       "  '5\\nQuels sont les objectifs de la dernière SNBC adoptée en 2020 ?',\n",
       "  '5',\n",
       "  'Quels sont les objectifs de la dernière SNBC adoptée en 2020 ?',\n",
       "  'Questions internationales -',\n",
       "  '124'])"
      ]
     },
     "execution_count": 16,
     "metadata": {},
     "output_type": "execute_result"
    }
   ],
   "source": [
    "#on prend le texte uniquement\n",
    "questions = [span.text for span in spans]\n",
    "len(questions),questions"
   ]
  },
  {
   "cell_type": "code",
   "execution_count": 18,
   "metadata": {},
   "outputs": [
    {
     "data": {
      "text/plain": [
       "[\"Programmation pluriannuelle de l’énergie (PPE), stratégie nationale bas-carbone (SNBC) : de quoi s'agit-il ?\",\n",
       " 'Pourquoi viser la neutralité carbone à l’horizon 2050 ?',\n",
       " \"Quels sont les objectifs de la stratégie sur l'énergie et le climat ?\",\n",
       " 'Quelles mesures contient la PPE pour accompagner la transition énergétique des ménages ?',\n",
       " 'Quels sont les objectifs de la dernière SNBC adoptée en 2020 ?']"
      ]
     },
     "execution_count": 18,
     "metadata": {},
     "output_type": "execute_result"
    }
   ],
   "source": [
    "#toutes les questions sont précédées d'un chiffre en str, on les repère ainsi\n",
    "questions_finales = []\n",
    "for n in range(len(questions)) :\n",
    "    if questions[n-1] in ['1','2','3','4','5'] :\n",
    "        questions_finales.append(questions[n])\n",
    "    \n",
    "questions_finales"
   ]
  },
  {
   "cell_type": "code",
   "execution_count": 19,
   "metadata": {},
   "outputs": [
    {
     "data": {
      "text/plain": [
       "['La loi de transition énergétique pour la croissance verte (LTECV) du 17 août 2015 a créé deux outils pour encadrer à moyen et long terme la politique de la France en matière d’énergie et de climat :\\nla programmation pluriannuelle de l’énergie (PPE) qui établit les priorités d’action du gouvernement dans le domaine de l’énergie pour les dix années à venir, avec une actualisation prévue tous les cinq ans. Elle fixe le cap pour l\\'ensemble des filières énergétiques (renouvelables, fossiles, nucléaire...) ;\\nla stratégie nationale bas-carbone (SNBC) qui définit la trajectoire de la France pour réduire ses émissions de gaz à effet de serre à l’horizon 2050. Elle donne des orientations pour mettre en œuvre la transition bas-carbone dans les grands secteurs d’activité (transport, logement, industrie, agriculture, énergie, déchets) et fixe des \"budgets carbone\", des plafonds d’émissions de gaz à effet de serre (GES) à ne pas dépasser par période de cinq ans. \\nCes textes doivent permettre à la France de respecter ses objectifs en termes d\\'émissions de GES et de consommation d\\'énergie.\\nLes PPE concernent la métropole continentale et les zones dites \"non interconnectées\" (ZNI), à savoir la Corse, la Réunion, la Guyane, la Martinique, la Guadeloupe, Wallis-et-Futuna et Saint-Pierre-et-Miquelon. La PPE de métropole continentale est élaborée par le gouvernement tandis que les PPE des ZNI sont co-élaborées avec les collectivités territoriales.\\nNeutralité carbone, adaptation... La politique de la France face au changement climatique\\nEclairage\\n22 février 2024',\n",
       " \"L’objectif de la neutralité carbone est de lutter contre le changement climatique. Il s'agit de trouver un équilibre entre les émissions de carbone liées aux activités humaines et la capacité des écosystèmes à absorber ce carbone par des puits naturels (forêts, sols agricoles...) ou par certains procédés industriels. \\nEn signant l'accord de Paris lors de la COP21 de 2015, de nombreux pays, dont la France, se sont engagés à limiter la hausse de la température moyenne de la planète à 2°C et à atteindre la neutralité carbone d’ici la fin du XXIe siècle. \\nAvec la première Stratégie nationale bas-carbone, la France prévoyait de diviser par quatre ses émissions de gaz à effet de serre à l'horizon 2050 par rapport à 1990.\\nLe Plan climat, adopté par le gouvernement en juillet 2017, intègre des objectifs plus ambitieux : l’atteinte de la neutralité carbone à l’horizon 2050. Selon le ministère de la transition écologique, la neutralité carbone implique une division par six des émissions de gaz à effet de serre. Depuis la loi énergie-climat du 8 novembre 2019, cet objectif est inscrit dans la loi.\\nL'action climatique française s’inscrit dans le cadre plus large de l’Union européenne, qui a adopté une feuille de route, le Pacte vert, pour atteindre la neutralité carbone en 2050 et la réduction de 55% de ses émissions de gaz à effet de serre d'ici à 2030.\\nPacte vert et paquet climat : l'UE vise la neutralité climatique dès 2050\\nEclairage\\n26 août 2021\",\n",
       " \"Dans le cadre de la consultation publique qui a été déjà organisée du 22 novembre au 22 décembre 2023 sur la stratégie française concernant l'énergie et le climat, le document publié par le ministère de la transition écologique rappelle les trois grands défis de la prochaine programmation pluriannuelle de l'énergie (PPE) pour la période 2024-2035 :\\nréduire de 30% la consommation d’énergie en 2030 par rapport à 2012 et de 40% à 50% la consommation d'énergie en 2050 par rapport à 2021 ;\\nsortir du charbon en 2027 (et des énergies fossiles en 2050) ;\\naugmenter la production d’électricité bas-carbone de 10% en 2030 et de 55% en 2050 et doubler la production de chaleur bas-carbone d’ici 2035 par rapport à 2021.\\nCette troisième édition de la PPE n'envisage plus de fermeture de réacteurs nucléaires, contrairement à la précédente PPE. La nouvelle PPE prévoit une poursuite de l’exploitation des centrales nucléaires existantes au-delà de 50 ou 60 ans, dans l'objectif de produire 400 térawattheures (TWh) par an d'ici à 2030. Le gouvernement propose également de construire six nouveaux réacteurs (EPR2) avec une mise en service entre 2035 et 2042.\\nCette PPE accélère aussi le développement des énergies renouvelables, notamment en multipliant par deux le rythme de déploiement du photovoltaïque, du biogaz et des réseaux de chaleur d’ici 2030.\\nLa consommation finale énergétique de la France a diminué entre 2012 et 2019 d’environ 5%, puis plus rapidement depuis 2022. La PPE renouvelle la volonté gouvernementale d’accélérer le rythme global de réduction de consommation pour atteindre l’objectif du paquet législatif européen Fit for 55, décliné à travers une nouvelle directive relative à l’efficacité énergétique publiée le 20 septembre 2023. L’objectif est estimé pour la France à 1 209 TWh en 2030, ce qui correspond à une réduction de la consommation en énergie finale d’environ 30% par rapport à 2012.\\nParmi les autres objectifs, la PPE propose en particulier :\\nl'accélération de la sortie des énergies fossiles par l’électrification des usages, conduisant à un niveau de production d’électricité décarbonée (révisé à la hausse) d'au moins 640 TWh en 2035, soit une augmentation de 22% par rapport à la production totale en 2021 ;\\nla révision à la hausse du développement de l’électricité photovoltaïque (54 à 60 gigawatts (GW) en 2030), contre un objectif compris entre 35 et 44 GW en 2028 dans la précédente PPE, impliquant un doublement du rythme actuel de déploiement ;\\nle développement de la chaleur renouvelable (plus de 250 TWh en 2030, contre un objectif compris entre 219 et 247 TWh en 2028 dans la précédente PPE) et de récupération (20 TWh en 2030 contre un objectif compris entre 7,6 et 9,9 TWh dans les réseaux en 2028 dans la précédente PPE), correspondant à une multiplication par plus de deux du rythme de déploiement par rapport à aujourd’hui ;\\nle développement du froid renouvelable et de récupération livré par les réseaux (2 TWh en 2030 contre une production de 0,78 TWh en 2021) ;\\nla mise en service de sept parcs éoliens en mer d'ici 2030.\\nConsultation publique sur la Stratégie française énergie-climat\\nConsultation\\n28 novembre 2023\",\n",
       " 'La nouvelle PPE vise à réduire la consommation d’énergies fossiles mais aussi à assurer une transition juste et durable. Parmi les mesures pour accompagner la transition énergétique des ménages, le document publié fin 2023 par le ministère de la transition écologique mentionne notamment que :\\nen 2022, 5,8 millions de ménages étaient bénéficiaires du chèque énergie, pour un montant compris entre 48 et 277 euros. Plus de 82% l’ont utilisé. Les modalités d’évolution du chèque énergie après la suppression de la taxe d’habitation sont en cours d’étude ;\\nle plan pour la rénovation énergétique des bâtiments. En 2022, 67% des projets financés par MaPrimeRénov’ (subvention à destination des particuliers pour financer les travaux de rénovation énergétique) concernent les ménages modestes et très modestes, sur un budget total de 3,1 milliards d\\'euros. Le gouvernement prévoit le renforcement du réseau de conseil France Rénov’ et le développement des \"accompagnateurs Rénov\\'\" ;\\nl’information de tous et la transparence sur les coûts et les prix des énergies doivent être mieux assurées ;\\ndeux réflexions sont à mener sur :\\nla façon de mener à bien la réforme du marché de l’électricité français afin de protéger l’ensemble des consommateurs contre les évolutions des prix de marché dans le contexte de la réforme du marché européen en cours,\\nla manière d\\'inciter les fournisseurs à une pratique d’approvisionnement prudente et de long terme, pour renforcer leur résilience à un choc de marché et contribuer au rapprochement des prix payés par les consommateurs avec les coûts de production.\\nLe bilan environnemental 2023 de la France en 10 questions\\nQuestions-réponses\\n29 mars 2024',\n",
       " \"Adoptée par décret en 2015, la Stratégie nationale bas-carbone définit les trois budgets carbone pour les périodes 2015-2018, 2019-2023 et 2024-2028.  \\nLa version révisée a été publiée en 2020. Cette version présente le quatrième budget carbone pour la période 2029-2033, mais revoit surtout à la hausse le deuxième budget 2019-2023 et le troisième budget 2024-2028.\\nLa SNBC actualisée pose les objectifs de réduction des émissions de gaz à effet de serre pour 2050 :\\ntransports : zéro émission (à l’exception du transport aérien domestique) ;\\nbâtiment : zéro émission ;\\nproduction d’énergie : zéro émission ;\\nagriculture : réduction de 46% des émissions de GES par rapport à 2015 ;\\nindustrie : réduction de 81% des émissions de GES par rapport à 2015 ;\\ndéchets : réduction de 66% des émissions de GES par rapport à 2015.\\nLa SNBC prévoit en outre l'augmentation des puits de carbone et fixe 45 orientations couvrant la gouvernance aux échelles nationale et territoriale, tous les secteurs d’activité et des sujets transversaux (empreinte carbone, investissements, aménagement du territoire, recherche et développement, éducation et formation).\\nProjet de décret relatif à la stratégie bas-carbone et aux budgets carbone\\nConsultation\\n20 janvier 2020\"]"
      ]
     },
     "execution_count": 19,
     "metadata": {},
     "output_type": "execute_result"
    }
   ],
   "source": [
    "#on recherche les réponses en utilisant la méthode class name\n",
    "responses = driver.find_elements(By.CLASS_NAME,\"vp-accordeon-content\")\n",
    "responses_text = [response.text for response in responses]\n",
    "responses_text"
   ]
  },
  {
   "cell_type": "code",
   "execution_count": 20,
   "metadata": {},
   "outputs": [],
   "source": [
    "#on supprime les sauts de ligne\n",
    "responses_final = []\n",
    "for response in responses_text :\n",
    "    response_split = response.split('\\n')\n",
    "    response_desplit = ' '.join(response_split)\n",
    "    responses_final.append(response_desplit)"
   ]
  },
  {
   "cell_type": "code",
   "execution_count": 21,
   "metadata": {},
   "outputs": [
    {
     "data": {
      "text/plain": [
       "['La loi de transition énergétique pour la croissance verte (LTECV) du 17 août 2015 a créé deux outils pour encadrer à moyen et long terme la politique de la France en matière d’énergie et de climat : la programmation pluriannuelle de l’énergie (PPE) qui établit les priorités d’action du gouvernement dans le domaine de l’énergie pour les dix années à venir, avec une actualisation prévue tous les cinq ans. Elle fixe le cap pour l\\'ensemble des filières énergétiques (renouvelables, fossiles, nucléaire...) ; la stratégie nationale bas-carbone (SNBC) qui définit la trajectoire de la France pour réduire ses émissions de gaz à effet de serre à l’horizon 2050. Elle donne des orientations pour mettre en œuvre la transition bas-carbone dans les grands secteurs d’activité (transport, logement, industrie, agriculture, énergie, déchets) et fixe des \"budgets carbone\", des plafonds d’émissions de gaz à effet de serre (GES) à ne pas dépasser par période de cinq ans.  Ces textes doivent permettre à la France de respecter ses objectifs en termes d\\'émissions de GES et de consommation d\\'énergie. Les PPE concernent la métropole continentale et les zones dites \"non interconnectées\" (ZNI), à savoir la Corse, la Réunion, la Guyane, la Martinique, la Guadeloupe, Wallis-et-Futuna et Saint-Pierre-et-Miquelon. La PPE de métropole continentale est élaborée par le gouvernement tandis que les PPE des ZNI sont co-élaborées avec les collectivités territoriales. Neutralité carbone, adaptation... La politique de la France face au changement climatique Eclairage 22 février 2024',\n",
       " \"L’objectif de la neutralité carbone est de lutter contre le changement climatique. Il s'agit de trouver un équilibre entre les émissions de carbone liées aux activités humaines et la capacité des écosystèmes à absorber ce carbone par des puits naturels (forêts, sols agricoles...) ou par certains procédés industriels.  En signant l'accord de Paris lors de la COP21 de 2015, de nombreux pays, dont la France, se sont engagés à limiter la hausse de la température moyenne de la planète à 2°C et à atteindre la neutralité carbone d’ici la fin du XXIe siècle.  Avec la première Stratégie nationale bas-carbone, la France prévoyait de diviser par quatre ses émissions de gaz à effet de serre à l'horizon 2050 par rapport à 1990. Le Plan climat, adopté par le gouvernement en juillet 2017, intègre des objectifs plus ambitieux : l’atteinte de la neutralité carbone à l’horizon 2050. Selon le ministère de la transition écologique, la neutralité carbone implique une division par six des émissions de gaz à effet de serre. Depuis la loi énergie-climat du 8 novembre 2019, cet objectif est inscrit dans la loi. L'action climatique française s’inscrit dans le cadre plus large de l’Union européenne, qui a adopté une feuille de route, le Pacte vert, pour atteindre la neutralité carbone en 2050 et la réduction de 55% de ses émissions de gaz à effet de serre d'ici à 2030. Pacte vert et paquet climat : l'UE vise la neutralité climatique dès 2050 Eclairage 26 août 2021\",\n",
       " \"Dans le cadre de la consultation publique qui a été déjà organisée du 22 novembre au 22 décembre 2023 sur la stratégie française concernant l'énergie et le climat, le document publié par le ministère de la transition écologique rappelle les trois grands défis de la prochaine programmation pluriannuelle de l'énergie (PPE) pour la période 2024-2035 : réduire de 30% la consommation d’énergie en 2030 par rapport à 2012 et de 40% à 50% la consommation d'énergie en 2050 par rapport à 2021 ; sortir du charbon en 2027 (et des énergies fossiles en 2050) ; augmenter la production d’électricité bas-carbone de 10% en 2030 et de 55% en 2050 et doubler la production de chaleur bas-carbone d’ici 2035 par rapport à 2021. Cette troisième édition de la PPE n'envisage plus de fermeture de réacteurs nucléaires, contrairement à la précédente PPE. La nouvelle PPE prévoit une poursuite de l’exploitation des centrales nucléaires existantes au-delà de 50 ou 60 ans, dans l'objectif de produire 400 térawattheures (TWh) par an d'ici à 2030. Le gouvernement propose également de construire six nouveaux réacteurs (EPR2) avec une mise en service entre 2035 et 2042. Cette PPE accélère aussi le développement des énergies renouvelables, notamment en multipliant par deux le rythme de déploiement du photovoltaïque, du biogaz et des réseaux de chaleur d’ici 2030. La consommation finale énergétique de la France a diminué entre 2012 et 2019 d’environ 5%, puis plus rapidement depuis 2022. La PPE renouvelle la volonté gouvernementale d’accélérer le rythme global de réduction de consommation pour atteindre l’objectif du paquet législatif européen Fit for 55, décliné à travers une nouvelle directive relative à l’efficacité énergétique publiée le 20 septembre 2023. L’objectif est estimé pour la France à 1 209 TWh en 2030, ce qui correspond à une réduction de la consommation en énergie finale d’environ 30% par rapport à 2012. Parmi les autres objectifs, la PPE propose en particulier : l'accélération de la sortie des énergies fossiles par l’électrification des usages, conduisant à un niveau de production d’électricité décarbonée (révisé à la hausse) d'au moins 640 TWh en 2035, soit une augmentation de 22% par rapport à la production totale en 2021 ; la révision à la hausse du développement de l’électricité photovoltaïque (54 à 60 gigawatts (GW) en 2030), contre un objectif compris entre 35 et 44 GW en 2028 dans la précédente PPE, impliquant un doublement du rythme actuel de déploiement ; le développement de la chaleur renouvelable (plus de 250 TWh en 2030, contre un objectif compris entre 219 et 247 TWh en 2028 dans la précédente PPE) et de récupération (20 TWh en 2030 contre un objectif compris entre 7,6 et 9,9 TWh dans les réseaux en 2028 dans la précédente PPE), correspondant à une multiplication par plus de deux du rythme de déploiement par rapport à aujourd’hui ; le développement du froid renouvelable et de récupération livré par les réseaux (2 TWh en 2030 contre une production de 0,78 TWh en 2021) ; la mise en service de sept parcs éoliens en mer d'ici 2030. Consultation publique sur la Stratégie française énergie-climat Consultation 28 novembre 2023\",\n",
       " 'La nouvelle PPE vise à réduire la consommation d’énergies fossiles mais aussi à assurer une transition juste et durable. Parmi les mesures pour accompagner la transition énergétique des ménages, le document publié fin 2023 par le ministère de la transition écologique mentionne notamment que : en 2022, 5,8 millions de ménages étaient bénéficiaires du chèque énergie, pour un montant compris entre 48 et 277 euros. Plus de 82% l’ont utilisé. Les modalités d’évolution du chèque énergie après la suppression de la taxe d’habitation sont en cours d’étude ; le plan pour la rénovation énergétique des bâtiments. En 2022, 67% des projets financés par MaPrimeRénov’ (subvention à destination des particuliers pour financer les travaux de rénovation énergétique) concernent les ménages modestes et très modestes, sur un budget total de 3,1 milliards d\\'euros. Le gouvernement prévoit le renforcement du réseau de conseil France Rénov’ et le développement des \"accompagnateurs Rénov\\'\" ; l’information de tous et la transparence sur les coûts et les prix des énergies doivent être mieux assurées ; deux réflexions sont à mener sur : la façon de mener à bien la réforme du marché de l’électricité français afin de protéger l’ensemble des consommateurs contre les évolutions des prix de marché dans le contexte de la réforme du marché européen en cours, la manière d\\'inciter les fournisseurs à une pratique d’approvisionnement prudente et de long terme, pour renforcer leur résilience à un choc de marché et contribuer au rapprochement des prix payés par les consommateurs avec les coûts de production. Le bilan environnemental 2023 de la France en 10 questions Questions-réponses 29 mars 2024',\n",
       " \"Adoptée par décret en 2015, la Stratégie nationale bas-carbone définit les trois budgets carbone pour les périodes 2015-2018, 2019-2023 et 2024-2028.   La version révisée a été publiée en 2020. Cette version présente le quatrième budget carbone pour la période 2029-2033, mais revoit surtout à la hausse le deuxième budget 2019-2023 et le troisième budget 2024-2028. La SNBC actualisée pose les objectifs de réduction des émissions de gaz à effet de serre pour 2050 : transports : zéro émission (à l’exception du transport aérien domestique) ; bâtiment : zéro émission ; production d’énergie : zéro émission ; agriculture : réduction de 46% des émissions de GES par rapport à 2015 ; industrie : réduction de 81% des émissions de GES par rapport à 2015 ; déchets : réduction de 66% des émissions de GES par rapport à 2015. La SNBC prévoit en outre l'augmentation des puits de carbone et fixe 45 orientations couvrant la gouvernance aux échelles nationale et territoriale, tous les secteurs d’activité et des sujets transversaux (empreinte carbone, investissements, aménagement du territoire, recherche et développement, éducation et formation). Projet de décret relatif à la stratégie bas-carbone et aux budgets carbone Consultation 20 janvier 2020\"]"
      ]
     },
     "execution_count": 21,
     "metadata": {},
     "output_type": "execute_result"
    }
   ],
   "source": [
    "#on affiche nos réponses\n",
    "responses_final"
   ]
  },
  {
   "cell_type": "code",
   "execution_count": 22,
   "metadata": {},
   "outputs": [
    {
     "data": {
      "text/plain": [
       "(5, 5)"
      ]
     },
     "execution_count": 22,
     "metadata": {},
     "output_type": "execute_result"
    }
   ],
   "source": [
    "#on vérifie qu'on a autant de questions que de réponses\n",
    "len(questions_finales),len(responses_final)"
   ]
  },
  {
   "cell_type": "code",
   "execution_count": 24,
   "metadata": {},
   "outputs": [
    {
     "data": {
      "text/html": [
       "<div>\n",
       "<style scoped>\n",
       "    .dataframe tbody tr th:only-of-type {\n",
       "        vertical-align: middle;\n",
       "    }\n",
       "\n",
       "    .dataframe tbody tr th {\n",
       "        vertical-align: top;\n",
       "    }\n",
       "\n",
       "    .dataframe thead th {\n",
       "        text-align: right;\n",
       "    }\n",
       "</style>\n",
       "<table border=\"1\" class=\"dataframe\">\n",
       "  <thead>\n",
       "    <tr style=\"text-align: right;\">\n",
       "      <th></th>\n",
       "      <th>Questions</th>\n",
       "      <th>Réponses</th>\n",
       "    </tr>\n",
       "  </thead>\n",
       "  <tbody>\n",
       "    <tr>\n",
       "      <th>0</th>\n",
       "      <td>Programmation pluriannuelle de l’énergie (PPE)...</td>\n",
       "      <td>La loi de transition énergétique pour la crois...</td>\n",
       "    </tr>\n",
       "    <tr>\n",
       "      <th>1</th>\n",
       "      <td>Pourquoi viser la neutralité carbone à l’horiz...</td>\n",
       "      <td>L’objectif de la neutralité carbone est de lut...</td>\n",
       "    </tr>\n",
       "    <tr>\n",
       "      <th>2</th>\n",
       "      <td>Quels sont les objectifs de la stratégie sur l...</td>\n",
       "      <td>Dans le cadre de la consultation publique qui ...</td>\n",
       "    </tr>\n",
       "    <tr>\n",
       "      <th>3</th>\n",
       "      <td>Quelles mesures contient la PPE pour accompagn...</td>\n",
       "      <td>La nouvelle PPE vise à réduire la consommation...</td>\n",
       "    </tr>\n",
       "    <tr>\n",
       "      <th>4</th>\n",
       "      <td>Quels sont les objectifs de la dernière SNBC a...</td>\n",
       "      <td>Adoptée par décret en 2015, la Stratégie natio...</td>\n",
       "    </tr>\n",
       "  </tbody>\n",
       "</table>\n",
       "</div>"
      ],
      "text/plain": [
       "                                           Questions  \\\n",
       "0  Programmation pluriannuelle de l’énergie (PPE)...   \n",
       "1  Pourquoi viser la neutralité carbone à l’horiz...   \n",
       "2  Quels sont les objectifs de la stratégie sur l...   \n",
       "3  Quelles mesures contient la PPE pour accompagn...   \n",
       "4  Quels sont les objectifs de la dernière SNBC a...   \n",
       "\n",
       "                                            Réponses  \n",
       "0  La loi de transition énergétique pour la crois...  \n",
       "1  L’objectif de la neutralité carbone est de lut...  \n",
       "2  Dans le cadre de la consultation publique qui ...  \n",
       "3  La nouvelle PPE vise à réduire la consommation...  \n",
       "4  Adoptée par décret en 2015, la Stratégie natio...  "
      ]
     },
     "execution_count": 24,
     "metadata": {},
     "output_type": "execute_result"
    }
   ],
   "source": [
    "#affichage df\n",
    "df = pd.DataFrame ({'Questions' : questions_finales, 'Réponses' : responses_final})\n",
    "df"
   ]
  },
  {
   "cell_type": "code",
   "execution_count": 25,
   "metadata": {},
   "outputs": [],
   "source": [
    "#on ferme le driver\n",
    "driver.close()"
   ]
  },
  {
   "cell_type": "markdown",
   "metadata": {},
   "source": [
    "NOUVELLES PAGES (on refait plusieurs fois pour plusieurs pages)"
   ]
  },
  {
   "cell_type": "code",
   "execution_count": 26,
   "metadata": {},
   "outputs": [],
   "source": [
    "driver2 = webdriver.Chrome()\n",
    "driver2.get('https://www.vie-publique.fr/questions-reponses/269425-le-fonctionnement-du-bureau-de-vote-foire-aux-questions-faq')\n",
    "cookie_button = driver2.find_element(By.XPATH,'/html/body/div[1]/div[1]/div/div/div/ul/li[2]/button')\n",
    "cookie_button.click()"
   ]
  },
  {
   "cell_type": "code",
   "execution_count": 27,
   "metadata": {},
   "outputs": [],
   "source": [
    "abonnement_button = driver2.find_element(By.XPATH,'/html/body/div[5]/div[2]/button')\n",
    "abonnement_button.click()"
   ]
  },
  {
   "cell_type": "code",
   "execution_count": 29,
   "metadata": {},
   "outputs": [],
   "source": [
    "deplier_button = driver2.find_element(By.XPATH,'/html/body/div[3]/div/div/main/div[2]/div[1]/div[1]/div/div[2]/div[4]/div[1]/button')\n",
    "deplier_button.click()"
   ]
  },
  {
   "cell_type": "code",
   "execution_count": 30,
   "metadata": {},
   "outputs": [
    {
     "data": {
      "text/plain": [
       "(93,\n",
       " ['Tout savoir sur le fonctionnement du bureau de vote',\n",
       "  'Image principale 1',\n",
       "  'Imprimer',\n",
       "  'Télécharger au format pdf',\n",
       "  'Temps de lecture ',\n",
       "  'Le bureau de vote est le lieu d’exercice du droit de vote. Son organisation et son fonctionnement sont régis par le code électoral.',\n",
       "  '1\\nQu’appelle-t-on bureau de vote ?',\n",
       "  '1',\n",
       "  'Qu’appelle-t-on bureau de vote ?',\n",
       "  '2\\nComment est constitué le bureau de vote ?',\n",
       "  '2',\n",
       "  'Comment est constitué le bureau de vote ?',\n",
       "  '',\n",
       "  \"3\\nLe vote peut-il avoir lieu en l'absence d'assesseurs ?\",\n",
       "  '3',\n",
       "  \"Le vote peut-il avoir lieu en l'absence d'assesseurs ?\",\n",
       "  '4\\nCombien de bureaux de vote par commune ?',\n",
       "  '4',\n",
       "  'Combien de bureaux de vote par commune ?',\n",
       "  '5\\nL’électeur peut-il choisir son bureau de vote ?',\n",
       "  '5',\n",
       "  'L’électeur peut-il choisir son bureau de vote ?',\n",
       "  '6\\nQuelles sont les heures d’ouverture et de clôture du scrutin ?',\n",
       "  '6',\n",
       "  'Quelles sont les heures d’ouverture et de clôture du scrutin ?',\n",
       "  '7\\nComment est agencé un bureau de vote ?',\n",
       "  '7',\n",
       "  'Comment est agencé un bureau de vote ?',\n",
       "  '',\n",
       "  '8\\nComment sont vérifiés le droit à voter et l’identité des électeurs ?',\n",
       "  '8',\n",
       "  'Comment sont vérifiés le droit à voter et l’identité des électeurs ?',\n",
       "  '9\\nExiste-t-il des contraintes vestimentaires dans le bureau de vote ?',\n",
       "  '9',\n",
       "  'Existe-t-il des contraintes vestimentaires dans le bureau de vote ?',\n",
       "  '10\\nQuelles sont les mesures pour permettre le vote des personnes handicapées ?',\n",
       "  '10',\n",
       "  'Quelles sont les mesures pour permettre le vote des personnes handicapées ?',\n",
       "  '11\\nComment se déroule le vote d’un électeur ?',\n",
       "  '11',\n",
       "  'Comment se déroule le vote d’un électeur ?',\n",
       "  '',\n",
       "  '12\\nQue sont les délégués des candidats ?',\n",
       "  '12',\n",
       "  'Que sont les délégués des candidats ?',\n",
       "  '13\\nQue sont les scrutateurs ?',\n",
       "  '13',\n",
       "  'Que sont les scrutateurs ?',\n",
       "  '14\\nEn quoi consistent les opérations de dépouillement des votes ?',\n",
       "  '14',\n",
       "  'En quoi consistent les opérations de dépouillement des votes ?',\n",
       "  '',\n",
       "  '15\\nQu’est-ce que le vote blanc ?',\n",
       "  '15',\n",
       "  'Qu’est-ce que le vote blanc ?',\n",
       "  'Le vote blanc consiste, pour un électeur, à glisser un bulletin vierge ou pas de bulletin du tout dans l’enveloppe qu’il dépose ensuite dans l’urne.',\n",
       "  '',\n",
       "  'avril 2014, et conformément à la loi du 21 février 2014 visant à reconnaître le vote blanc aux élections, les votes blancs sont décomptés séparément des votes nuls, et annexés en tant que tels au procès-verbal. Le nombre de votes blancs est mentionné dans les résultats du scrutin. Néanmoins, les votes blancs continuent à ne pas être comptabilisés dans les suffrages exprimés.',\n",
       "  '',\n",
       "  'avril 2014, le code électoral n’établissait pas de distinction entre vote blanc et vote nul (bulletins ou enveloppes déchirés, annotés, etc.).',\n",
       "  '',\n",
       "  '16\\nQuels bulletins de vote sont déclarés nuls ?',\n",
       "  '16',\n",
       "  'Quels bulletins de vote sont déclarés nuls ?',\n",
       "  '17\\nComment est déterminé le nombre de suffrages exprimés ?',\n",
       "  '17',\n",
       "  'Comment est déterminé le nombre de suffrages exprimés ?',\n",
       "  'Le nombre de suffrages exprimés correspond au nombre de votants (les électeurs inscrits sur les listes électorales moins les abstentionnistes) qui n’ont fait ni un vote blanc (enveloppe vide ou bulletin vierge), ni un vote nul (bulletins ou enveloppes annotés, déchirés, etc.).',\n",
       "  '',\n",
       "  '',\n",
       "  '18\\nComment est établi le procès-verbal ?',\n",
       "  '18',\n",
       "  'Comment est établi le procès-verbal ?',\n",
       "  '19\\nQuand et comment sont proclamés les résultats ?',\n",
       "  '19',\n",
       "  'Quand et comment sont proclamés les résultats ?',\n",
       "  '20\\nÀ qui est transmis le procès-verbal ?',\n",
       "  '20',\n",
       "  'À qui est transmis le procès-verbal ?',\n",
       "  '21\\nQue doit faire le président du bureau en cas de fraude électorale ?',\n",
       "  '21',\n",
       "  'Que doit faire le président du bureau en cas de fraude électorale ?',\n",
       "  '',\n",
       "  '22\\nLes opérations de vote sont-elles contrôlées ?',\n",
       "  '22',\n",
       "  'Les opérations de vote sont-elles contrôlées ?',\n",
       "  'Elle n’intervient pas dans l’organisation et le déroulement du scrutin. Il lui revient de veiller au respect des dispositions du code électoral. Pour assurer ses missions, elle peut désigner un ou plusieurs délégués par bureau de vote afin de procéder à tout contrôle et vérification utiles. Le président de la commission peut à tout moment saisir le procureur de la République de toute infraction, irrégularité ou fraude constatée par les membres ou délégués des commissions.',\n",
       "  '',\n",
       "  '23\\nEst-il licite de consulter la liste d’émargement pour inciter les électeurs à venir voter, pendant le déroulement du scrutin ?',\n",
       "  '23',\n",
       "  'Est-il licite de consulter la liste d’émargement pour inciter les électeurs à venir voter, pendant le déroulement du scrutin ?',\n",
       "  'Questions internationales -',\n",
       "  '124'])"
      ]
     },
     "execution_count": 30,
     "metadata": {},
     "output_type": "execute_result"
    }
   ],
   "source": [
    "spans = driver2.find_elements(By.TAG_NAME,\"span\")\n",
    "len(spans),spans\n",
    "questions = [span.text for span in spans]\n",
    "len(questions),questions"
   ]
  },
  {
   "cell_type": "code",
   "execution_count": 32,
   "metadata": {},
   "outputs": [
    {
     "data": {
      "text/plain": [
       "['1',\n",
       " '2',\n",
       " '3',\n",
       " '4',\n",
       " '5',\n",
       " '6',\n",
       " '7',\n",
       " '8',\n",
       " '9',\n",
       " '10',\n",
       " '11',\n",
       " '12',\n",
       " '13',\n",
       " '14',\n",
       " '15',\n",
       " '16',\n",
       " '17',\n",
       " '18',\n",
       " '19',\n",
       " '20',\n",
       " '21',\n",
       " '22',\n",
       " '23',\n",
       " '24',\n",
       " '25',\n",
       " '26',\n",
       " '27',\n",
       " '28',\n",
       " '29',\n",
       " '30',\n",
       " '31',\n",
       " '32',\n",
       " '33',\n",
       " '34',\n",
       " '35',\n",
       " '36',\n",
       " '37',\n",
       " '38',\n",
       " '39',\n",
       " '40',\n",
       " '41',\n",
       " '42',\n",
       " '43',\n",
       " '44',\n",
       " '45',\n",
       " '46',\n",
       " '47',\n",
       " '48',\n",
       " '49']"
      ]
     },
     "execution_count": 32,
     "metadata": {},
     "output_type": "execute_result"
    }
   ],
   "source": [
    "#on crée une liste de chiffres sous forme de str\n",
    "liste50 = []\n",
    "for n in range (1,50) :\n",
    "    liste50.append(str(n))"
   ]
  },
  {
   "cell_type": "code",
   "execution_count": 34,
   "metadata": {},
   "outputs": [
    {
     "data": {
      "text/plain": [
       "['Qu’appelle-t-on bureau de vote ?',\n",
       " 'Comment est constitué le bureau de vote ?',\n",
       " \"Le vote peut-il avoir lieu en l'absence d'assesseurs ?\",\n",
       " 'Combien de bureaux de vote par commune ?',\n",
       " 'L’électeur peut-il choisir son bureau de vote ?',\n",
       " 'Quelles sont les heures d’ouverture et de clôture du scrutin ?',\n",
       " 'Comment est agencé un bureau de vote ?',\n",
       " 'Comment sont vérifiés le droit à voter et l’identité des électeurs ?',\n",
       " 'Existe-t-il des contraintes vestimentaires dans le bureau de vote ?',\n",
       " 'Quelles sont les mesures pour permettre le vote des personnes handicapées ?',\n",
       " 'Comment se déroule le vote d’un électeur ?',\n",
       " 'Que sont les délégués des candidats ?',\n",
       " 'Que sont les scrutateurs ?',\n",
       " 'En quoi consistent les opérations de dépouillement des votes ?',\n",
       " 'Qu’est-ce que le vote blanc ?',\n",
       " 'Quels bulletins de vote sont déclarés nuls ?',\n",
       " 'Comment est déterminé le nombre de suffrages exprimés ?',\n",
       " 'Comment est établi le procès-verbal ?',\n",
       " 'Quand et comment sont proclamés les résultats ?',\n",
       " 'À qui est transmis le procès-verbal ?',\n",
       " 'Que doit faire le président du bureau en cas de fraude électorale ?',\n",
       " 'Les opérations de vote sont-elles contrôlées ?',\n",
       " 'Est-il licite de consulter la liste d’émargement pour inciter les électeurs à venir voter, pendant le déroulement du scrutin ?']"
      ]
     },
     "execution_count": 34,
     "metadata": {},
     "output_type": "execute_result"
    }
   ],
   "source": [
    "questions_finales2 = []\n",
    "for n in range(len(questions)) :\n",
    "    if questions[n-1] in liste50:\n",
    "        questions_finales2.append(questions[n])\n",
    "    \n",
    "questions_finales2"
   ]
  },
  {
   "cell_type": "code",
   "execution_count": 38,
   "metadata": {},
   "outputs": [
    {
     "data": {
      "text/plain": [
       "['Le bureau de vote désigne à la fois le local où s’effectuent les opérations électorales et l’autorité collégiale responsable du fonctionnement des opérations de vote, de dépouillement des bulletins et de décompte des voix.',\n",
       " \"Chaque bureau est composé :\\nd’un président, qui peut être le maire, l’un de ses adjoints, l’un des conseillers municipaux ou un électeur de la commune désigné par le maire. Le président assure la police à l’intérieur du bureau de vote. Pour éviter tout incident ou manœuvre violente tendant à perturber le scrutin, il dispose des autorités civiles et militaires, qui sont tenues d’exécuter ses ordres ;\\nau moins deux assesseurs, désignés par les différents candidats parmi les électeurs du département. Ils sont chargés notamment de faire signer les électeurs sur la liste d’émargement et d'estampiller la carte électorale ;\\nd’un secrétaire, choisi parmi les électeurs de la commune. Il rédige le procès-verbal.\\nQuels sont les différents intervenants dans un bureau de vote ?\\nFiche thématique\\n17 mai 2019\",\n",
       " \"Si le jour du vote, le nombre d'assesseurs est inférieur à deux, des électeurs présents, sachant lire et écrire le français, sont désignés assesseurs selon l'ordre de priorité suivant : l'électeur le plus jeune, puis l'électeur le plus âgé (article R.44 du code électoral).\\nLa fonction d'assesseur peut être confiée à des membres du conseil municipal dans l'ordre du tableau. La fonction d'assesseur est l'une des missions des conseilleurs municipaux. En conséquence, un conseiller municipal ne peut pas refuser, sauf excuse valable, d'être assesseur sous peine d'être démis d'office de ses fonctions par le tribunal administratif.\\nDevenir assesseur\\nLe recrutement d'assesseurs pouvant s’avérer difficile, la plateforme publique du bénévolat JeVeuxAider.gouv.fr se mobilise. \\nPour les élections européennes de juin 2024 :\\nles mairies peuvent publier des missions pour trouver des assesseurs ; \\nles citoyens peuvent s'engager à devenir assesseur en candidatant aux missions publiées sur la plateforme.\",\n",
       " 'Les bureaux de vote sont institués par un arrêté préfectoral. Cet arrêté peut diviser chaque commune en autant de bureaux de vote que l’exigent les circonstances locales et le nombre d’électeurs. En pratique, à chaque bureau de vote est affecté un périmètre géographique. Pour assurer le bon déroulement des opérations électorales, il est généralement admis qu’un bureau de vote n’excède pas 800 à 1 000 électeurs.',\n",
       " 'Les électeurs n’ont pas le choix de leur bureau de vote. Le rattachement d’un électeur à un bureau de vote dépend de l’adresse au titre de laquelle il est inscrit sur la liste électorale. \\nL’inscription sur les listes électorales est, en effet, faite soit au titre du domicile ou du lieu de résidence, soit au titre de l’inscription au rôle d’une des contributions directes communales. Il est également possible de s’inscrire dans une commune en tant que gérant d’une société figurant au rôle des contributions de la commune depuis au moins deux ans. Les jeunes de moins de 26 ans peuvent s’inscrire sur les listes électorales de la commune où résident ou sont domiciliés leurs parents. Les listes électorales sont établies par commune. Un arrêté du préfet de département définit dans chaque commune le périmètre géographique et l’adresse des bureaux de vote. En application de cet arrêté, la commune affecte ses électeurs dans les bureaux de vote en fonction de leur adresse de rattachement.',\n",
       " \"Le scrutin est ouvert à 8 heures, il est clos à 18 heures (pour l'élection présidentielle, il est clos à 19 heures). L'heure d'ouverture peut être avancée et l'heure de clôture retardée (jusqu'à 20 heures) par arrêté préfectoral.\",\n",
       " \"On trouve dans le bureau de vote :\\nune table de décharge où sont déposés les bulletins de vote et les enveloppes ;\\nune table de vote à laquelle prennent place les personnes chargées d’assurer le bon déroulement du vote ;\\nun ou plusieurs isoloirs ;\\nles tables de dépouillement dont le nombre ne peut être supérieur au nombre d’isoloir ;\\nles affiches reproduisant les dispositions du code électoral.\\nSur la table de vote, sont notamment disposés :\\nl’urne, transparente, munie de deux serrures ou cadenas dissemblables ;\\nle procès-verbal des opérations électorales en double exemplaire du modèle fourni par la préfecture ;\\nla liste d'émargement qui est la copie de la liste électorale et qui sert à recueillir les émargements (signatures) des électeurs ;\\nle code électoral à jour, qui peut être numérique ;\\nl'arrêté ou le décret de convocation des électeurs ;\\nle cas échéant, l'arrêté du représentant de l'État ayant divisé la commune en plusieurs bureaux de vote ;\\nles cartes électorales qui n’ont pas été remises au domicile des électeurs ;\\nla circulaire ministérielle du 16 janvier 2020 relative au déroulement des opérations électorales lors des élections au suffrage universel direct ;\\nla circulaire ministérielle relative à l’organisation du scrutin du jour ;\\nl’extrait du registre des procurations ;\\nla liste des candidats ;\\nla liste des membres du bureau de vote.\\nPrésidentielle 2022 : le protocole sanitaire pour les opérations de vote\\nEn bref\\n1er avril 2022\",\n",
       " 'Le défaut de présentation de la carte électorale ne fait pas obstacle à l’exercice du droit de vote si l’électeur est inscrit sur la liste électorale d’émargement ou est porteur d’une décision de justice d’inscription et qu’il justifie de son identité.\\nEn application de l\\'article R60 du code électoral :\\nles électeurs des communes de moins de 1 000 habitants ne sont pas tenus de présenter un titre d’identité ;\\nles électeurs des communes de 1 000 habitants et plus doivent présenter un des titres d’identité dont la liste a été fixée par un arrêté du 16 novembre 2018.\\nListe des pièces permettant de justifier son identité au moment du vote\\nCarte nationale d\\'identité ;\\nPasseport ;\\nCarte d\\'identité de parlementaire avec photographie, délivrée par le président d\\'une assemblée parlementaire ;\\nCarte d\\'identité d\\'élu local avec photographie, délivrée par le représentant de l\\'État ;\\nCarte vitale avec photographie ;\\nCarte du combattant avec photographie, délivrée par l\\'Office national des anciens combattants et victimes de guerre ;\\nCarte d\\'invalidité ou carte de mobilité inclusion avec photographie ;\\nCarte d\\'identité de fonctionnaire de l\\'Etat avec photographie ;\\nCarte d\\'identité ou carte de circulation avec photographie, délivrée par les autorités militaires ;\\nPermis de conduire sécurisé conforme au format \"Union européenne\" (le permis de conduire cartonné reste accepté jusqu\\'en 2033) ;\\nPermis de chasser avec photographie, délivré par l\\'Office national de la chasse et de la faune sauvage ;\\nRécépissé valant justification de l\\'identité, délivré en échange des pièces d\\'identité en cas de contrôle judiciaire\\nTous ces titres doivent être en cours de validité sauf la CNI et le passeport qui peuvent être présentés en cours de validité ou périmés depuis moins de cinq ans.\\nPour les ressortissants de l\\'Union européenne qui peuvent voter aux élections municipales et aux élections européennes, s\\'ajoutent à la liste des titres admis la carte d\\'identité ou le passeport délivré par l\\'État d\\'origine et le titre de séjour.',\n",
       " 'Il n’existe pas de limite à la liberté vestimentaire des électeurs, dans le respect habituel des bonnes mœurs. La tenue portée ne doit toutefois pas faire obstacle au contrôle de l’identité de l’électeur.',\n",
       " 'La loi du 23 mars 2019 de programmation 2018-2022 et de réforme pour la justice a abrogé l’article L. 5 du code électoral. Les personnes en tutelle peuvent dorénavant exercer leur droit de vote de manière inconditionnelle.\\nLe code électoral autorise \"tout électeur atteint d\\'infirmité certaine et le mettant dans l\\'impossibilité d\\'introduire son bulletin dans l\\'enveloppe\" à se faire accompagner par un électeur de leur choix. L’électeur accompagnateur peut entrer dans l’isoloir. Il peut également introduire l’enveloppe dans l’urne. Si la personne ne peut pas signer, l’électeur accompagnateur signe la liste d’émargement avec la mention “l’électeur ne peut signer lui-même”.\\nPour rendre accessibles les techniques de vote à toutes les personnes handicapées, le président du bureau de vote prend toute mesure afin de faciliter le vote autonome des personnes handicapées. Il peut notamment autoriser l’abaissement de l’urne.',\n",
       " \"L’électeur se présente au bureau de vote indiqué sur sa carte électorale qu'il peut également retrouver en interrogeant sa situation électorale. Son inscription sur la liste électorale du bureau et son identité sont vérifiées.\\nL'électeur prend une enveloppe électorale. La circulaire du 16 janvier 2020 précise qu'il prend ensuite un bulletin de vote d’au moins deux candidats (ou listes de candidats) ou aucun dans le cas où il utilise ceux qui lui ont été envoyés à son domicile. Pour garantir le secret du vote, l'électeur se rend obligatoirement dans l'isoloir. Si un électeur refuse d'entrer dans l'isoloir, le président du bureau de vote lui signifie les sanctions encourues (jusqu'à 15 000 euros d'amende et un an d'emprisonnement) et peut refuser son vote. À la sortie de l’isoloir et sans quitter la salle du scrutin, l'électeur introduit lui-même l’enveloppe dans l’urne.\\nDans les bureaux de vote dotés d’une machine à voter, l’électeur fait enregistrer son suffrage par la machine à voter.\\nL’électeur signe ensuite la liste d’émargement. Sa carte électorale est estampillée, dans le cas où l’électeur l’a présentée (elle n’est pas obligatoire pour voter).\\nComment se déroulent les opérations de vote ?\\nFiche thématique\\n12 mars 2021\",\n",
       " 'Chaque candidat ou liste de candidats a le droit d’exiger la présence permanente dans chaque bureau de vote d’un délégué habilité à contrôler toutes les opérations de vote, de dépouillement des bulletins et de décompte des voix. Le délégué peut exiger l’inscription au procès-verbal de toute observation ou réclamation relative à ces opérations, avant ou après la proclamation des résultats du scrutin. Un même délégué peut être désigné pour plusieurs bureaux de votes.',\n",
       " 'Les scrutateurs effectuent le dépouillement des votes. Ils font partie des électeurs de la commune présents sachant lire et écrire. Ils peuvent être désignés par chacun des candidats ou des représentants de listes en présence ou chacun des délégués des candidats. Leur nom, prénom et date de naissance sont communiqués au président du bureau au moins une heure avant la clôture du scrutin.',\n",
       " \"Il s’agit de l’ensemble des opérations permettant d’établir les résultats du scrutin. Il est procédé au dépouillement des votes dès que le président du bureau de vote a prononcé la clôture du scrutin. Le dépouillement se fait en présence des délégués des candidats sans interruption jusqu'à son achèvement. Il est opéré par les scrutateurs sous la surveillance des membres du bureau de vote. Les électeurs peuvent y assister.\\nDans les bureaux de vote dotés d’une machine à voter, le président du bureau de vote, à la fin des opérations de vote, rend visibles les compteurs totalisant les suffrages obtenus par chaque liste ou chaque candidat ainsi que les votes blancs, de manière à en permettre la lecture par les membres du bureau, les délégués des candidats et les électeurs présents. Le président donne lecture à haute voix des résultats qui sont aussitôt enregistrés par le secrétaire.\\nEn quoi consiste le dépouillement des bulletins de vote ?\\nFiche thématique\\n17 mai 2019\",\n",
       " 'Le vote blanc consiste, pour un électeur, à glisser un bulletin vierge ou pas de bulletin du tout dans l’enveloppe qu’il dépose ensuite dans l’urne.\\nLa distribution de bulletins blancs dans les bureaux de vote n’est pas autorisée par le code électoral.\\nDepuis le 1er avril 2014, et conformément à la loi du 21 février 2014 visant à reconnaître le vote blanc aux élections, les votes blancs sont décomptés séparément des votes nuls, et annexés en tant que tels au procès-verbal. Le nombre de votes blancs est mentionné dans les résultats du scrutin. Néanmoins, les votes blancs continuent à ne pas être comptabilisés dans les suffrages exprimés.\\nAvant le 1er avril 2014, le code électoral n’établissait pas de distinction entre vote blanc et vote nul (bulletins ou enveloppes déchirés, annotés, etc.).',\n",
       " 'Les bulletins de vote tenus pour nuls ne sont pas comptés comme suffrages exprimés. Le bureau se prononce sur la validité des bulletins et des enveloppes contestés remis par les scrutateurs. Il lui appartient seul de décider si un bulletin ou une enveloppe doit être considéré comme nul.\\nSont déclarés nuls, pour toutes les élections :\\ndes bulletins trouvés dans l’urne sans enveloppe ou dans des enveloppes non réglementaires ;\\nles bulletins ne contenant pas une désignation suffisante ;\\nles bulletins écrits sur du papier de couleur ;\\nles bulletins et enveloppes sur lesquels les votants se sont fait connaître ;\\nles bulletins ou enveloppes portants des signes intérieurs ou extérieurs de reconnaissance ou des mentions injurieuses, etc.\\nSont aussi déclarés nuls pour toutes les élections, sauf pour les élections municipales dans les communes de moins de 1 000 habitants :\\nles bulletins ne répondant pas aux prescriptions légales ou réglementaires édictées pour chaque catégorie d’élections ;\\nles bulletins comportant un ou plusieurs noms autres que celui du ou des candidats ou de leurs remplaçants éventuels ;\\nles bulletins comportant une modification de l’ordre de présentation des candidats ou une mention manuscrite ;\\nles bulletins manuscrits lors des scrutins de liste ;\\nles bulletins établis au nom d’un candidat, d’un binôme de candidats ou d’une liste dont la candidature n’a pas été enregistrée ;\\nles circulaires utilisées comme bulletin ;\\nles bulletins imprimés d’un modèle différent de ceux qui ont été produits par les candidats ou qui comportent une mention manuscrite ;\\nles bulletins pour des listes ou candidats différents contenus dans une même enveloppe (en revanche, si une enveloppe contient deux bulletins pour le même candidat, le vote est comptabilisé mais il ne compte que pour un seul).\\nVote blanc ou vote nul, quelles différences ?\\nInfographie\\n16 mai 2019',\n",
       " 'Le nombre de suffrages exprimés correspond au nombre de votants (les électeurs inscrits sur les listes électorales moins les abstentionnistes) qui n’ont fait ni un vote blanc (enveloppe vide ou bulletin vierge), ni un vote nul (bulletins ou enveloppes annotés, déchirés, etc.).\\nVote blanc, vote nul : quelles différences ?\\nFiche thématique\\n20 juin 2022',\n",
       " 'Le procès-verbal des opérations électorales est rédigé par le secrétaire, en présence des électeurs, sur des imprimés fournis par la préfecture pour chaque élection. Il comporte notamment le nombre d’électeurs inscrits, le nombre des émargements, le nombre de votants, de suffrages exprimés, de suffrages recueillis par chaque candidat ou chaque liste, le nombre d’électeurs n’ayant pas retiré leur carte électorale au bureau de vote, toute réclamation des électeurs ou des délégués des candidats, ainsi que les décisions motivées prises par le bureau de vote sur les différents incidents qui se sont produits.\\nLe procès-verbal est établi en deux exemplaires signés par tous les membres du bureau.',\n",
       " \"Une fois le procès-verbal établi, le résultat est proclamé en public par le président du bureau et affiché par ses soins dans la salle de vote, avec les indications suivantes :\\nle nombre d’électeurs inscrits ;\\nle nombre de votants (enveloppes et bulletins sans enveloppe trouvés dans l'urne) ;\\nle nombre de bulletins et enveloppes déclarés nuls ;\\nle nombre de votes blancs ;\\nle nombre de suffrages exprimés ;\\nle nombre de suffrages recueillis par chacun des candidats ou listes.\",\n",
       " 'Un exemplaire est adressé au représentant de l’État, un autre exemplaire est déposé en mairie. S’agissant de ce second exemplaire, il doit être communiqué à tout électeur requérant jusqu’à l’expiration des délais prévus pour l’exercice des recours contre l’élection.',\n",
       " 'On peut distinguer deux cas de figures :\\nsi le président du bureau de vote a connaissance, pendant les opérations de vote, de tentatives de fraude électorale (exemple : essais de “bourrages” d’urne devant lui) ou de fraudes avérées, il dispose de moyens pour les faire cesser immédiatement. En effet, ayant en charge la police au sein du bureau de vote, il dispose des forces armées et de la police ;\\nsi des fraudes se déroulent à l’abri du regard du président du bureau de vote et lui sont rapportées par d’autres membres du bureau ou par des électeurs, il appartient au président du bureau de signaler ces faits dans le procès-verbal des opérations de vote afin qu’ils apparaissent de manière officielle. Cela permet à toute personne intéressée de saisir le juge et à ce dernier de vérifier les allégations des parties.\\nQue doit faire le président du bureau de vote s’il constate une fraude électorale ?\\nFiche thématique\\n17 mai 2019',\n",
       " \"Pour l'élection présidentielle, des délégués désignés par le Conseil constitutionnel ont pour mission de vérifier la régularité des opérations de vote, du dépouillement des bulletins et du dénombrement des suffrages. Pour exercer ce contrôle, les délégués ont accès à tout moment aux bureaux de vote.\\nPour les autres élections, une commission de contrôle des opérations de vote est instituée dans chaque commune de plus de 20 000 habitants, elle est présidée par un magistrat de l’ordre judiciaire. Elle est chargée de vérifier la régularité de la composition des bureaux de vote ainsi que celle des opérations de vote, de dépouillement des bulletins et de dénombrement des suffrages.\\nElle n’intervient pas dans l’organisation et le déroulement du scrutin. Il lui revient de veiller au respect des dispositions du code électoral. Pour assurer ses missions, elle peut désigner un ou plusieurs délégués par bureau de vote afin de procéder à tout contrôle et vérification utiles. Le président de la commission peut à tout moment saisir le procureur de la République de toute infraction, irrégularité ou fraude constatée par les membres ou délégués des commissions.\",\n",
       " 'La liste d’émargement (c’est-à-dire une copie de la liste électorale, certifiée par le maire, et comportant les nom et prénoms, date et lieu de naissance, domicile des électeurs, ainsi que le numéro d’ordre qui est attribué à chacun) reste déposée sur la table de vote pendant toute la durée des opérations électorales.\\nLa liste d’émargement est communiquée par la préfecture à tout électeur qui en fait la demande dans un délai de dix jours suivant l’élection.\\nAucune disposition législative n’interdit les initiatives de nature à inciter les électeurs à voter, jusque et y compris durant la journée du scrutin. De telles initiatives ne sont pas condamnables en soi, mais elles le deviennent dès lors que les renseignements nominatifs recueillis au cours du déroulement du scrutin sont utilisés de façon préférentielle et constituent alors une forme de pression susceptible d’affecter le résultat, comme l’a souligné la jurisprudence du Conseil d’État (CE, 2 février 1990, élections municipales de Clichy-sous-Bois ; CE, 9 mars 1990, élections municipales de Grand-Couronne), a fortiori en cas de faible écart de voix entre les listes ou les candidats concurrents (CE, 4 mai 2018, élections municipales de Lamorlaye).']"
      ]
     },
     "execution_count": 38,
     "metadata": {},
     "output_type": "execute_result"
    }
   ],
   "source": [
    "responses = driver2.find_elements(By.CLASS_NAME,\"vp-accordeon-content\")\n",
    "responses_text = [response.text for response in responses]\n",
    "responses_text"
   ]
  },
  {
   "cell_type": "code",
   "execution_count": 39,
   "metadata": {},
   "outputs": [
    {
     "data": {
      "text/plain": [
       "['Le bureau de vote désigne à la fois le local où s’effectuent les opérations électorales et l’autorité collégiale responsable du fonctionnement des opérations de vote, de dépouillement des bulletins et de décompte des voix.',\n",
       " \"Chaque bureau est composé :\\nd’un président, qui peut être le maire, l’un de ses adjoints, l’un des conseillers municipaux ou un électeur de la commune désigné par le maire. Le président assure la police à l’intérieur du bureau de vote. Pour éviter tout incident ou manœuvre violente tendant à perturber le scrutin, il dispose des autorités civiles et militaires, qui sont tenues d’exécuter ses ordres ;\\nau moins deux assesseurs, désignés par les différents candidats parmi les électeurs du département. Ils sont chargés notamment de faire signer les électeurs sur la liste d’émargement et d'estampiller la carte électorale ;\\nd’un secrétaire, choisi parmi les électeurs de la commune. Il rédige le procès-verbal.\\nQuels sont les différents intervenants dans un bureau de vote ?\\nFiche thématique\\n17 mai 2019\",\n",
       " \"Si le jour du vote, le nombre d'assesseurs est inférieur à deux, des électeurs présents, sachant lire et écrire le français, sont désignés assesseurs selon l'ordre de priorité suivant : l'électeur le plus jeune, puis l'électeur le plus âgé (article R.44 du code électoral).\\nLa fonction d'assesseur peut être confiée à des membres du conseil municipal dans l'ordre du tableau. La fonction d'assesseur est l'une des missions des conseilleurs municipaux. En conséquence, un conseiller municipal ne peut pas refuser, sauf excuse valable, d'être assesseur sous peine d'être démis d'office de ses fonctions par le tribunal administratif.\\nDevenir assesseur\\nLe recrutement d'assesseurs pouvant s’avérer difficile, la plateforme publique du bénévolat JeVeuxAider.gouv.fr se mobilise. \\nPour les élections européennes de juin 2024 :\\nles mairies peuvent publier des missions pour trouver des assesseurs ; \\nles citoyens peuvent s'engager à devenir assesseur en candidatant aux missions publiées sur la plateforme.\",\n",
       " 'Les bureaux de vote sont institués par un arrêté préfectoral. Cet arrêté peut diviser chaque commune en autant de bureaux de vote que l’exigent les circonstances locales et le nombre d’électeurs. En pratique, à chaque bureau de vote est affecté un périmètre géographique. Pour assurer le bon déroulement des opérations électorales, il est généralement admis qu’un bureau de vote n’excède pas 800 à 1 000 électeurs.',\n",
       " 'Les électeurs n’ont pas le choix de leur bureau de vote. Le rattachement d’un électeur à un bureau de vote dépend de l’adresse au titre de laquelle il est inscrit sur la liste électorale. \\nL’inscription sur les listes électorales est, en effet, faite soit au titre du domicile ou du lieu de résidence, soit au titre de l’inscription au rôle d’une des contributions directes communales. Il est également possible de s’inscrire dans une commune en tant que gérant d’une société figurant au rôle des contributions de la commune depuis au moins deux ans. Les jeunes de moins de 26 ans peuvent s’inscrire sur les listes électorales de la commune où résident ou sont domiciliés leurs parents. Les listes électorales sont établies par commune. Un arrêté du préfet de département définit dans chaque commune le périmètre géographique et l’adresse des bureaux de vote. En application de cet arrêté, la commune affecte ses électeurs dans les bureaux de vote en fonction de leur adresse de rattachement.',\n",
       " \"Le scrutin est ouvert à 8 heures, il est clos à 18 heures (pour l'élection présidentielle, il est clos à 19 heures). L'heure d'ouverture peut être avancée et l'heure de clôture retardée (jusqu'à 20 heures) par arrêté préfectoral.\",\n",
       " \"On trouve dans le bureau de vote :\\nune table de décharge où sont déposés les bulletins de vote et les enveloppes ;\\nune table de vote à laquelle prennent place les personnes chargées d’assurer le bon déroulement du vote ;\\nun ou plusieurs isoloirs ;\\nles tables de dépouillement dont le nombre ne peut être supérieur au nombre d’isoloir ;\\nles affiches reproduisant les dispositions du code électoral.\\nSur la table de vote, sont notamment disposés :\\nl’urne, transparente, munie de deux serrures ou cadenas dissemblables ;\\nle procès-verbal des opérations électorales en double exemplaire du modèle fourni par la préfecture ;\\nla liste d'émargement qui est la copie de la liste électorale et qui sert à recueillir les émargements (signatures) des électeurs ;\\nle code électoral à jour, qui peut être numérique ;\\nl'arrêté ou le décret de convocation des électeurs ;\\nle cas échéant, l'arrêté du représentant de l'État ayant divisé la commune en plusieurs bureaux de vote ;\\nles cartes électorales qui n’ont pas été remises au domicile des électeurs ;\\nla circulaire ministérielle du 16 janvier 2020 relative au déroulement des opérations électorales lors des élections au suffrage universel direct ;\\nla circulaire ministérielle relative à l’organisation du scrutin du jour ;\\nl’extrait du registre des procurations ;\\nla liste des candidats ;\\nla liste des membres du bureau de vote.\\nPrésidentielle 2022 : le protocole sanitaire pour les opérations de vote\\nEn bref\\n1er avril 2022\",\n",
       " 'Le défaut de présentation de la carte électorale ne fait pas obstacle à l’exercice du droit de vote si l’électeur est inscrit sur la liste électorale d’émargement ou est porteur d’une décision de justice d’inscription et qu’il justifie de son identité.\\nEn application de l\\'article R60 du code électoral :\\nles électeurs des communes de moins de 1 000 habitants ne sont pas tenus de présenter un titre d’identité ;\\nles électeurs des communes de 1 000 habitants et plus doivent présenter un des titres d’identité dont la liste a été fixée par un arrêté du 16 novembre 2018.\\nListe des pièces permettant de justifier son identité au moment du vote\\nCarte nationale d\\'identité ;\\nPasseport ;\\nCarte d\\'identité de parlementaire avec photographie, délivrée par le président d\\'une assemblée parlementaire ;\\nCarte d\\'identité d\\'élu local avec photographie, délivrée par le représentant de l\\'État ;\\nCarte vitale avec photographie ;\\nCarte du combattant avec photographie, délivrée par l\\'Office national des anciens combattants et victimes de guerre ;\\nCarte d\\'invalidité ou carte de mobilité inclusion avec photographie ;\\nCarte d\\'identité de fonctionnaire de l\\'Etat avec photographie ;\\nCarte d\\'identité ou carte de circulation avec photographie, délivrée par les autorités militaires ;\\nPermis de conduire sécurisé conforme au format \"Union européenne\" (le permis de conduire cartonné reste accepté jusqu\\'en 2033) ;\\nPermis de chasser avec photographie, délivré par l\\'Office national de la chasse et de la faune sauvage ;\\nRécépissé valant justification de l\\'identité, délivré en échange des pièces d\\'identité en cas de contrôle judiciaire\\nTous ces titres doivent être en cours de validité sauf la CNI et le passeport qui peuvent être présentés en cours de validité ou périmés depuis moins de cinq ans.\\nPour les ressortissants de l\\'Union européenne qui peuvent voter aux élections municipales et aux élections européennes, s\\'ajoutent à la liste des titres admis la carte d\\'identité ou le passeport délivré par l\\'État d\\'origine et le titre de séjour.',\n",
       " 'Il n’existe pas de limite à la liberté vestimentaire des électeurs, dans le respect habituel des bonnes mœurs. La tenue portée ne doit toutefois pas faire obstacle au contrôle de l’identité de l’électeur.',\n",
       " 'La loi du 23 mars 2019 de programmation 2018-2022 et de réforme pour la justice a abrogé l’article L. 5 du code électoral. Les personnes en tutelle peuvent dorénavant exercer leur droit de vote de manière inconditionnelle.\\nLe code électoral autorise \"tout électeur atteint d\\'infirmité certaine et le mettant dans l\\'impossibilité d\\'introduire son bulletin dans l\\'enveloppe\" à se faire accompagner par un électeur de leur choix. L’électeur accompagnateur peut entrer dans l’isoloir. Il peut également introduire l’enveloppe dans l’urne. Si la personne ne peut pas signer, l’électeur accompagnateur signe la liste d’émargement avec la mention “l’électeur ne peut signer lui-même”.\\nPour rendre accessibles les techniques de vote à toutes les personnes handicapées, le président du bureau de vote prend toute mesure afin de faciliter le vote autonome des personnes handicapées. Il peut notamment autoriser l’abaissement de l’urne.',\n",
       " \"L’électeur se présente au bureau de vote indiqué sur sa carte électorale qu'il peut également retrouver en interrogeant sa situation électorale. Son inscription sur la liste électorale du bureau et son identité sont vérifiées.\\nL'électeur prend une enveloppe électorale. La circulaire du 16 janvier 2020 précise qu'il prend ensuite un bulletin de vote d’au moins deux candidats (ou listes de candidats) ou aucun dans le cas où il utilise ceux qui lui ont été envoyés à son domicile. Pour garantir le secret du vote, l'électeur se rend obligatoirement dans l'isoloir. Si un électeur refuse d'entrer dans l'isoloir, le président du bureau de vote lui signifie les sanctions encourues (jusqu'à 15 000 euros d'amende et un an d'emprisonnement) et peut refuser son vote. À la sortie de l’isoloir et sans quitter la salle du scrutin, l'électeur introduit lui-même l’enveloppe dans l’urne.\\nDans les bureaux de vote dotés d’une machine à voter, l’électeur fait enregistrer son suffrage par la machine à voter.\\nL’électeur signe ensuite la liste d’émargement. Sa carte électorale est estampillée, dans le cas où l’électeur l’a présentée (elle n’est pas obligatoire pour voter).\\nComment se déroulent les opérations de vote ?\\nFiche thématique\\n12 mars 2021\",\n",
       " 'Chaque candidat ou liste de candidats a le droit d’exiger la présence permanente dans chaque bureau de vote d’un délégué habilité à contrôler toutes les opérations de vote, de dépouillement des bulletins et de décompte des voix. Le délégué peut exiger l’inscription au procès-verbal de toute observation ou réclamation relative à ces opérations, avant ou après la proclamation des résultats du scrutin. Un même délégué peut être désigné pour plusieurs bureaux de votes.',\n",
       " 'Les scrutateurs effectuent le dépouillement des votes. Ils font partie des électeurs de la commune présents sachant lire et écrire. Ils peuvent être désignés par chacun des candidats ou des représentants de listes en présence ou chacun des délégués des candidats. Leur nom, prénom et date de naissance sont communiqués au président du bureau au moins une heure avant la clôture du scrutin.',\n",
       " \"Il s’agit de l’ensemble des opérations permettant d’établir les résultats du scrutin. Il est procédé au dépouillement des votes dès que le président du bureau de vote a prononcé la clôture du scrutin. Le dépouillement se fait en présence des délégués des candidats sans interruption jusqu'à son achèvement. Il est opéré par les scrutateurs sous la surveillance des membres du bureau de vote. Les électeurs peuvent y assister.\\nDans les bureaux de vote dotés d’une machine à voter, le président du bureau de vote, à la fin des opérations de vote, rend visibles les compteurs totalisant les suffrages obtenus par chaque liste ou chaque candidat ainsi que les votes blancs, de manière à en permettre la lecture par les membres du bureau, les délégués des candidats et les électeurs présents. Le président donne lecture à haute voix des résultats qui sont aussitôt enregistrés par le secrétaire.\\nEn quoi consiste le dépouillement des bulletins de vote ?\\nFiche thématique\\n17 mai 2019\",\n",
       " 'Le vote blanc consiste, pour un électeur, à glisser un bulletin vierge ou pas de bulletin du tout dans l’enveloppe qu’il dépose ensuite dans l’urne.\\nLa distribution de bulletins blancs dans les bureaux de vote n’est pas autorisée par le code électoral.\\nDepuis le 1er avril 2014, et conformément à la loi du 21 février 2014 visant à reconnaître le vote blanc aux élections, les votes blancs sont décomptés séparément des votes nuls, et annexés en tant que tels au procès-verbal. Le nombre de votes blancs est mentionné dans les résultats du scrutin. Néanmoins, les votes blancs continuent à ne pas être comptabilisés dans les suffrages exprimés.\\nAvant le 1er avril 2014, le code électoral n’établissait pas de distinction entre vote blanc et vote nul (bulletins ou enveloppes déchirés, annotés, etc.).',\n",
       " 'Les bulletins de vote tenus pour nuls ne sont pas comptés comme suffrages exprimés. Le bureau se prononce sur la validité des bulletins et des enveloppes contestés remis par les scrutateurs. Il lui appartient seul de décider si un bulletin ou une enveloppe doit être considéré comme nul.\\nSont déclarés nuls, pour toutes les élections :\\ndes bulletins trouvés dans l’urne sans enveloppe ou dans des enveloppes non réglementaires ;\\nles bulletins ne contenant pas une désignation suffisante ;\\nles bulletins écrits sur du papier de couleur ;\\nles bulletins et enveloppes sur lesquels les votants se sont fait connaître ;\\nles bulletins ou enveloppes portants des signes intérieurs ou extérieurs de reconnaissance ou des mentions injurieuses, etc.\\nSont aussi déclarés nuls pour toutes les élections, sauf pour les élections municipales dans les communes de moins de 1 000 habitants :\\nles bulletins ne répondant pas aux prescriptions légales ou réglementaires édictées pour chaque catégorie d’élections ;\\nles bulletins comportant un ou plusieurs noms autres que celui du ou des candidats ou de leurs remplaçants éventuels ;\\nles bulletins comportant une modification de l’ordre de présentation des candidats ou une mention manuscrite ;\\nles bulletins manuscrits lors des scrutins de liste ;\\nles bulletins établis au nom d’un candidat, d’un binôme de candidats ou d’une liste dont la candidature n’a pas été enregistrée ;\\nles circulaires utilisées comme bulletin ;\\nles bulletins imprimés d’un modèle différent de ceux qui ont été produits par les candidats ou qui comportent une mention manuscrite ;\\nles bulletins pour des listes ou candidats différents contenus dans une même enveloppe (en revanche, si une enveloppe contient deux bulletins pour le même candidat, le vote est comptabilisé mais il ne compte que pour un seul).\\nVote blanc ou vote nul, quelles différences ?\\nInfographie\\n16 mai 2019',\n",
       " 'Le nombre de suffrages exprimés correspond au nombre de votants (les électeurs inscrits sur les listes électorales moins les abstentionnistes) qui n’ont fait ni un vote blanc (enveloppe vide ou bulletin vierge), ni un vote nul (bulletins ou enveloppes annotés, déchirés, etc.).\\nVote blanc, vote nul : quelles différences ?\\nFiche thématique\\n20 juin 2022',\n",
       " 'Le procès-verbal des opérations électorales est rédigé par le secrétaire, en présence des électeurs, sur des imprimés fournis par la préfecture pour chaque élection. Il comporte notamment le nombre d’électeurs inscrits, le nombre des émargements, le nombre de votants, de suffrages exprimés, de suffrages recueillis par chaque candidat ou chaque liste, le nombre d’électeurs n’ayant pas retiré leur carte électorale au bureau de vote, toute réclamation des électeurs ou des délégués des candidats, ainsi que les décisions motivées prises par le bureau de vote sur les différents incidents qui se sont produits.\\nLe procès-verbal est établi en deux exemplaires signés par tous les membres du bureau.',\n",
       " \"Une fois le procès-verbal établi, le résultat est proclamé en public par le président du bureau et affiché par ses soins dans la salle de vote, avec les indications suivantes :\\nle nombre d’électeurs inscrits ;\\nle nombre de votants (enveloppes et bulletins sans enveloppe trouvés dans l'urne) ;\\nle nombre de bulletins et enveloppes déclarés nuls ;\\nle nombre de votes blancs ;\\nle nombre de suffrages exprimés ;\\nle nombre de suffrages recueillis par chacun des candidats ou listes.\",\n",
       " 'Un exemplaire est adressé au représentant de l’État, un autre exemplaire est déposé en mairie. S’agissant de ce second exemplaire, il doit être communiqué à tout électeur requérant jusqu’à l’expiration des délais prévus pour l’exercice des recours contre l’élection.',\n",
       " 'On peut distinguer deux cas de figures :\\nsi le président du bureau de vote a connaissance, pendant les opérations de vote, de tentatives de fraude électorale (exemple : essais de “bourrages” d’urne devant lui) ou de fraudes avérées, il dispose de moyens pour les faire cesser immédiatement. En effet, ayant en charge la police au sein du bureau de vote, il dispose des forces armées et de la police ;\\nsi des fraudes se déroulent à l’abri du regard du président du bureau de vote et lui sont rapportées par d’autres membres du bureau ou par des électeurs, il appartient au président du bureau de signaler ces faits dans le procès-verbal des opérations de vote afin qu’ils apparaissent de manière officielle. Cela permet à toute personne intéressée de saisir le juge et à ce dernier de vérifier les allégations des parties.\\nQue doit faire le président du bureau de vote s’il constate une fraude électorale ?\\nFiche thématique\\n17 mai 2019',\n",
       " \"Pour l'élection présidentielle, des délégués désignés par le Conseil constitutionnel ont pour mission de vérifier la régularité des opérations de vote, du dépouillement des bulletins et du dénombrement des suffrages. Pour exercer ce contrôle, les délégués ont accès à tout moment aux bureaux de vote.\\nPour les autres élections, une commission de contrôle des opérations de vote est instituée dans chaque commune de plus de 20 000 habitants, elle est présidée par un magistrat de l’ordre judiciaire. Elle est chargée de vérifier la régularité de la composition des bureaux de vote ainsi que celle des opérations de vote, de dépouillement des bulletins et de dénombrement des suffrages.\\nElle n’intervient pas dans l’organisation et le déroulement du scrutin. Il lui revient de veiller au respect des dispositions du code électoral. Pour assurer ses missions, elle peut désigner un ou plusieurs délégués par bureau de vote afin de procéder à tout contrôle et vérification utiles. Le président de la commission peut à tout moment saisir le procureur de la République de toute infraction, irrégularité ou fraude constatée par les membres ou délégués des commissions.\",\n",
       " 'La liste d’émargement (c’est-à-dire une copie de la liste électorale, certifiée par le maire, et comportant les nom et prénoms, date et lieu de naissance, domicile des électeurs, ainsi que le numéro d’ordre qui est attribué à chacun) reste déposée sur la table de vote pendant toute la durée des opérations électorales.\\nLa liste d’émargement est communiquée par la préfecture à tout électeur qui en fait la demande dans un délai de dix jours suivant l’élection.\\nAucune disposition législative n’interdit les initiatives de nature à inciter les électeurs à voter, jusque et y compris durant la journée du scrutin. De telles initiatives ne sont pas condamnables en soi, mais elles le deviennent dès lors que les renseignements nominatifs recueillis au cours du déroulement du scrutin sont utilisés de façon préférentielle et constituent alors une forme de pression susceptible d’affecter le résultat, comme l’a souligné la jurisprudence du Conseil d’État (CE, 2 février 1990, élections municipales de Clichy-sous-Bois ; CE, 9 mars 1990, élections municipales de Grand-Couronne), a fortiori en cas de faible écart de voix entre les listes ou les candidats concurrents (CE, 4 mai 2018, élections municipales de Lamorlaye).']"
      ]
     },
     "execution_count": 39,
     "metadata": {},
     "output_type": "execute_result"
    }
   ],
   "source": [
    "responses_final2 = responses_text\n",
    "responses_final2"
   ]
  },
  {
   "cell_type": "code",
   "execution_count": 40,
   "metadata": {},
   "outputs": [
    {
     "data": {
      "text/plain": [
       "(23, 23)"
      ]
     },
     "execution_count": 40,
     "metadata": {},
     "output_type": "execute_result"
    }
   ],
   "source": [
    "len(questions_finales2),len(responses_final2)"
   ]
  },
  {
   "cell_type": "code",
   "execution_count": 41,
   "metadata": {},
   "outputs": [
    {
     "data": {
      "text/html": [
       "<div>\n",
       "<style scoped>\n",
       "    .dataframe tbody tr th:only-of-type {\n",
       "        vertical-align: middle;\n",
       "    }\n",
       "\n",
       "    .dataframe tbody tr th {\n",
       "        vertical-align: top;\n",
       "    }\n",
       "\n",
       "    .dataframe thead th {\n",
       "        text-align: right;\n",
       "    }\n",
       "</style>\n",
       "<table border=\"1\" class=\"dataframe\">\n",
       "  <thead>\n",
       "    <tr style=\"text-align: right;\">\n",
       "      <th></th>\n",
       "      <th>Questions</th>\n",
       "      <th>Réponses</th>\n",
       "    </tr>\n",
       "  </thead>\n",
       "  <tbody>\n",
       "    <tr>\n",
       "      <th>0</th>\n",
       "      <td>Qu’appelle-t-on bureau de vote ?</td>\n",
       "      <td>Le bureau de vote désigne à la fois le local o...</td>\n",
       "    </tr>\n",
       "    <tr>\n",
       "      <th>1</th>\n",
       "      <td>Comment est constitué le bureau de vote ?</td>\n",
       "      <td>Chaque bureau est composé :\\nd’un président, q...</td>\n",
       "    </tr>\n",
       "    <tr>\n",
       "      <th>2</th>\n",
       "      <td>Le vote peut-il avoir lieu en l'absence d'asse...</td>\n",
       "      <td>Si le jour du vote, le nombre d'assesseurs est...</td>\n",
       "    </tr>\n",
       "    <tr>\n",
       "      <th>3</th>\n",
       "      <td>Combien de bureaux de vote par commune ?</td>\n",
       "      <td>Les bureaux de vote sont institués par un arrê...</td>\n",
       "    </tr>\n",
       "    <tr>\n",
       "      <th>4</th>\n",
       "      <td>L’électeur peut-il choisir son bureau de vote ?</td>\n",
       "      <td>Les électeurs n’ont pas le choix de leur burea...</td>\n",
       "    </tr>\n",
       "    <tr>\n",
       "      <th>5</th>\n",
       "      <td>Quelles sont les heures d’ouverture et de clôt...</td>\n",
       "      <td>Le scrutin est ouvert à 8 heures, il est clos ...</td>\n",
       "    </tr>\n",
       "    <tr>\n",
       "      <th>6</th>\n",
       "      <td>Comment est agencé un bureau de vote ?</td>\n",
       "      <td>On trouve dans le bureau de vote :\\nune table ...</td>\n",
       "    </tr>\n",
       "    <tr>\n",
       "      <th>7</th>\n",
       "      <td>Comment sont vérifiés le droit à voter et l’id...</td>\n",
       "      <td>Le défaut de présentation de la carte électora...</td>\n",
       "    </tr>\n",
       "    <tr>\n",
       "      <th>8</th>\n",
       "      <td>Existe-t-il des contraintes vestimentaires dan...</td>\n",
       "      <td>Il n’existe pas de limite à la liberté vestime...</td>\n",
       "    </tr>\n",
       "    <tr>\n",
       "      <th>9</th>\n",
       "      <td>Quelles sont les mesures pour permettre le vot...</td>\n",
       "      <td>La loi du 23 mars 2019 de programmation 2018-2...</td>\n",
       "    </tr>\n",
       "    <tr>\n",
       "      <th>10</th>\n",
       "      <td>Comment se déroule le vote d’un électeur ?</td>\n",
       "      <td>L’électeur se présente au bureau de vote indiq...</td>\n",
       "    </tr>\n",
       "    <tr>\n",
       "      <th>11</th>\n",
       "      <td>Que sont les délégués des candidats ?</td>\n",
       "      <td>Chaque candidat ou liste de candidats a le dro...</td>\n",
       "    </tr>\n",
       "    <tr>\n",
       "      <th>12</th>\n",
       "      <td>Que sont les scrutateurs ?</td>\n",
       "      <td>Les scrutateurs effectuent le dépouillement de...</td>\n",
       "    </tr>\n",
       "    <tr>\n",
       "      <th>13</th>\n",
       "      <td>En quoi consistent les opérations de dépouille...</td>\n",
       "      <td>Il s’agit de l’ensemble des opérations permett...</td>\n",
       "    </tr>\n",
       "    <tr>\n",
       "      <th>14</th>\n",
       "      <td>Qu’est-ce que le vote blanc ?</td>\n",
       "      <td>Le vote blanc consiste, pour un électeur, à gl...</td>\n",
       "    </tr>\n",
       "    <tr>\n",
       "      <th>15</th>\n",
       "      <td>Quels bulletins de vote sont déclarés nuls ?</td>\n",
       "      <td>Les bulletins de vote tenus pour nuls ne sont ...</td>\n",
       "    </tr>\n",
       "    <tr>\n",
       "      <th>16</th>\n",
       "      <td>Comment est déterminé le nombre de suffrages e...</td>\n",
       "      <td>Le nombre de suffrages exprimés correspond au ...</td>\n",
       "    </tr>\n",
       "    <tr>\n",
       "      <th>17</th>\n",
       "      <td>Comment est établi le procès-verbal ?</td>\n",
       "      <td>Le procès-verbal des opérations électorales es...</td>\n",
       "    </tr>\n",
       "    <tr>\n",
       "      <th>18</th>\n",
       "      <td>Quand et comment sont proclamés les résultats ?</td>\n",
       "      <td>Une fois le procès-verbal établi, le résultat ...</td>\n",
       "    </tr>\n",
       "    <tr>\n",
       "      <th>19</th>\n",
       "      <td>À qui est transmis le procès-verbal ?</td>\n",
       "      <td>Un exemplaire est adressé au représentant de l...</td>\n",
       "    </tr>\n",
       "    <tr>\n",
       "      <th>20</th>\n",
       "      <td>Que doit faire le président du bureau en cas d...</td>\n",
       "      <td>On peut distinguer deux cas de figures :\\nsi l...</td>\n",
       "    </tr>\n",
       "    <tr>\n",
       "      <th>21</th>\n",
       "      <td>Les opérations de vote sont-elles contrôlées ?</td>\n",
       "      <td>Pour l'élection présidentielle, des délégués d...</td>\n",
       "    </tr>\n",
       "    <tr>\n",
       "      <th>22</th>\n",
       "      <td>Est-il licite de consulter la liste d’émargeme...</td>\n",
       "      <td>La liste d’émargement (c’est-à-dire une copie ...</td>\n",
       "    </tr>\n",
       "  </tbody>\n",
       "</table>\n",
       "</div>"
      ],
      "text/plain": [
       "                                            Questions  \\\n",
       "0                    Qu’appelle-t-on bureau de vote ?   \n",
       "1           Comment est constitué le bureau de vote ?   \n",
       "2   Le vote peut-il avoir lieu en l'absence d'asse...   \n",
       "3            Combien de bureaux de vote par commune ?   \n",
       "4     L’électeur peut-il choisir son bureau de vote ?   \n",
       "5   Quelles sont les heures d’ouverture et de clôt...   \n",
       "6              Comment est agencé un bureau de vote ?   \n",
       "7   Comment sont vérifiés le droit à voter et l’id...   \n",
       "8   Existe-t-il des contraintes vestimentaires dan...   \n",
       "9   Quelles sont les mesures pour permettre le vot...   \n",
       "10         Comment se déroule le vote d’un électeur ?   \n",
       "11              Que sont les délégués des candidats ?   \n",
       "12                         Que sont les scrutateurs ?   \n",
       "13  En quoi consistent les opérations de dépouille...   \n",
       "14                      Qu’est-ce que le vote blanc ?   \n",
       "15       Quels bulletins de vote sont déclarés nuls ?   \n",
       "16  Comment est déterminé le nombre de suffrages e...   \n",
       "17              Comment est établi le procès-verbal ?   \n",
       "18    Quand et comment sont proclamés les résultats ?   \n",
       "19              À qui est transmis le procès-verbal ?   \n",
       "20  Que doit faire le président du bureau en cas d...   \n",
       "21     Les opérations de vote sont-elles contrôlées ?   \n",
       "22  Est-il licite de consulter la liste d’émargeme...   \n",
       "\n",
       "                                             Réponses  \n",
       "0   Le bureau de vote désigne à la fois le local o...  \n",
       "1   Chaque bureau est composé :\\nd’un président, q...  \n",
       "2   Si le jour du vote, le nombre d'assesseurs est...  \n",
       "3   Les bureaux de vote sont institués par un arrê...  \n",
       "4   Les électeurs n’ont pas le choix de leur burea...  \n",
       "5   Le scrutin est ouvert à 8 heures, il est clos ...  \n",
       "6   On trouve dans le bureau de vote :\\nune table ...  \n",
       "7   Le défaut de présentation de la carte électora...  \n",
       "8   Il n’existe pas de limite à la liberté vestime...  \n",
       "9   La loi du 23 mars 2019 de programmation 2018-2...  \n",
       "10  L’électeur se présente au bureau de vote indiq...  \n",
       "11  Chaque candidat ou liste de candidats a le dro...  \n",
       "12  Les scrutateurs effectuent le dépouillement de...  \n",
       "13  Il s’agit de l’ensemble des opérations permett...  \n",
       "14  Le vote blanc consiste, pour un électeur, à gl...  \n",
       "15  Les bulletins de vote tenus pour nuls ne sont ...  \n",
       "16  Le nombre de suffrages exprimés correspond au ...  \n",
       "17  Le procès-verbal des opérations électorales es...  \n",
       "18  Une fois le procès-verbal établi, le résultat ...  \n",
       "19  Un exemplaire est adressé au représentant de l...  \n",
       "20  On peut distinguer deux cas de figures :\\nsi l...  \n",
       "21  Pour l'élection présidentielle, des délégués d...  \n",
       "22  La liste d’émargement (c’est-à-dire une copie ...  "
      ]
     },
     "execution_count": 41,
     "metadata": {},
     "output_type": "execute_result"
    }
   ],
   "source": [
    "df2 = pd.DataFrame ({'Questions' : questions_finales2, 'Réponses' : responses_final2})\n",
    "df2"
   ]
  },
  {
   "cell_type": "code",
   "execution_count": 42,
   "metadata": {},
   "outputs": [],
   "source": [
    "driver2.close()"
   ]
  },
  {
   "cell_type": "code",
   "execution_count": 43,
   "metadata": {},
   "outputs": [],
   "source": [
    "driver = webdriver.Chrome()\n",
    "driver.get('https://www.vie-publique.fr/questions-reponses/293096-politique-etrangere-de-lue-comment-sont-prises-les-decisions')\n",
    "cookie_button = driver.find_element(By.XPATH,'/html/body/div[1]/div[1]/div/div/div/ul/li[2]/button')\n",
    "cookie_button.click()"
   ]
  },
  {
   "cell_type": "code",
   "execution_count": 45,
   "metadata": {},
   "outputs": [],
   "source": [
    "#à exécuter plusieurs fois\n",
    "abonnement_button = driver.find_element(By.XPATH,'/html/body/div[5]/div[2]/button')\n",
    "abonnement_button.click()"
   ]
  },
  {
   "cell_type": "code",
   "execution_count": 47,
   "metadata": {},
   "outputs": [],
   "source": [
    "#à exécuter plusieurs fois\n",
    "deplier_button = driver.find_element(By.XPATH,'/html/body/div[3]/div/div/main/div[2]/div[1]/div[1]/div/div[2]/div[4]/div[1]/button')\n",
    "deplier_button.click()"
   ]
  },
  {
   "cell_type": "code",
   "execution_count": 48,
   "metadata": {},
   "outputs": [
    {
     "data": {
      "text/plain": [
       "(34,\n",
       " [<selenium.webdriver.remote.webelement.WebElement (session=\"b1ea76fca61a069d1b8503f742652f40\", element=\"f.A3D45CA303E3CB79C7902BC74D5B03A4.d.263A76325ABEA252468DC1B69BA5D959.e.79\")>,\n",
       "  <selenium.webdriver.remote.webelement.WebElement (session=\"b1ea76fca61a069d1b8503f742652f40\", element=\"f.A3D45CA303E3CB79C7902BC74D5B03A4.d.263A76325ABEA252468DC1B69BA5D959.e.80\")>,\n",
       "  <selenium.webdriver.remote.webelement.WebElement (session=\"b1ea76fca61a069d1b8503f742652f40\", element=\"f.A3D45CA303E3CB79C7902BC74D5B03A4.d.263A76325ABEA252468DC1B69BA5D959.e.81\")>,\n",
       "  <selenium.webdriver.remote.webelement.WebElement (session=\"b1ea76fca61a069d1b8503f742652f40\", element=\"f.A3D45CA303E3CB79C7902BC74D5B03A4.d.263A76325ABEA252468DC1B69BA5D959.e.82\")>,\n",
       "  <selenium.webdriver.remote.webelement.WebElement (session=\"b1ea76fca61a069d1b8503f742652f40\", element=\"f.A3D45CA303E3CB79C7902BC74D5B03A4.d.263A76325ABEA252468DC1B69BA5D959.e.83\")>,\n",
       "  <selenium.webdriver.remote.webelement.WebElement (session=\"b1ea76fca61a069d1b8503f742652f40\", element=\"f.A3D45CA303E3CB79C7902BC74D5B03A4.d.263A76325ABEA252468DC1B69BA5D959.e.84\")>,\n",
       "  <selenium.webdriver.remote.webelement.WebElement (session=\"b1ea76fca61a069d1b8503f742652f40\", element=\"f.A3D45CA303E3CB79C7902BC74D5B03A4.d.263A76325ABEA252468DC1B69BA5D959.e.85\")>,\n",
       "  <selenium.webdriver.remote.webelement.WebElement (session=\"b1ea76fca61a069d1b8503f742652f40\", element=\"f.A3D45CA303E3CB79C7902BC74D5B03A4.d.263A76325ABEA252468DC1B69BA5D959.e.86\")>,\n",
       "  <selenium.webdriver.remote.webelement.WebElement (session=\"b1ea76fca61a069d1b8503f742652f40\", element=\"f.A3D45CA303E3CB79C7902BC74D5B03A4.d.263A76325ABEA252468DC1B69BA5D959.e.87\")>,\n",
       "  <selenium.webdriver.remote.webelement.WebElement (session=\"b1ea76fca61a069d1b8503f742652f40\", element=\"f.A3D45CA303E3CB79C7902BC74D5B03A4.d.263A76325ABEA252468DC1B69BA5D959.e.88\")>,\n",
       "  <selenium.webdriver.remote.webelement.WebElement (session=\"b1ea76fca61a069d1b8503f742652f40\", element=\"f.A3D45CA303E3CB79C7902BC74D5B03A4.d.263A76325ABEA252468DC1B69BA5D959.e.89\")>,\n",
       "  <selenium.webdriver.remote.webelement.WebElement (session=\"b1ea76fca61a069d1b8503f742652f40\", element=\"f.A3D45CA303E3CB79C7902BC74D5B03A4.d.263A76325ABEA252468DC1B69BA5D959.e.90\")>,\n",
       "  <selenium.webdriver.remote.webelement.WebElement (session=\"b1ea76fca61a069d1b8503f742652f40\", element=\"f.A3D45CA303E3CB79C7902BC74D5B03A4.d.263A76325ABEA252468DC1B69BA5D959.e.91\")>,\n",
       "  <selenium.webdriver.remote.webelement.WebElement (session=\"b1ea76fca61a069d1b8503f742652f40\", element=\"f.A3D45CA303E3CB79C7902BC74D5B03A4.d.263A76325ABEA252468DC1B69BA5D959.e.92\")>,\n",
       "  <selenium.webdriver.remote.webelement.WebElement (session=\"b1ea76fca61a069d1b8503f742652f40\", element=\"f.A3D45CA303E3CB79C7902BC74D5B03A4.d.263A76325ABEA252468DC1B69BA5D959.e.93\")>,\n",
       "  <selenium.webdriver.remote.webelement.WebElement (session=\"b1ea76fca61a069d1b8503f742652f40\", element=\"f.A3D45CA303E3CB79C7902BC74D5B03A4.d.263A76325ABEA252468DC1B69BA5D959.e.94\")>,\n",
       "  <selenium.webdriver.remote.webelement.WebElement (session=\"b1ea76fca61a069d1b8503f742652f40\", element=\"f.A3D45CA303E3CB79C7902BC74D5B03A4.d.263A76325ABEA252468DC1B69BA5D959.e.95\")>,\n",
       "  <selenium.webdriver.remote.webelement.WebElement (session=\"b1ea76fca61a069d1b8503f742652f40\", element=\"f.A3D45CA303E3CB79C7902BC74D5B03A4.d.263A76325ABEA252468DC1B69BA5D959.e.96\")>,\n",
       "  <selenium.webdriver.remote.webelement.WebElement (session=\"b1ea76fca61a069d1b8503f742652f40\", element=\"f.A3D45CA303E3CB79C7902BC74D5B03A4.d.263A76325ABEA252468DC1B69BA5D959.e.97\")>,\n",
       "  <selenium.webdriver.remote.webelement.WebElement (session=\"b1ea76fca61a069d1b8503f742652f40\", element=\"f.A3D45CA303E3CB79C7902BC74D5B03A4.d.263A76325ABEA252468DC1B69BA5D959.e.98\")>,\n",
       "  <selenium.webdriver.remote.webelement.WebElement (session=\"b1ea76fca61a069d1b8503f742652f40\", element=\"f.A3D45CA303E3CB79C7902BC74D5B03A4.d.263A76325ABEA252468DC1B69BA5D959.e.99\")>,\n",
       "  <selenium.webdriver.remote.webelement.WebElement (session=\"b1ea76fca61a069d1b8503f742652f40\", element=\"f.A3D45CA303E3CB79C7902BC74D5B03A4.d.263A76325ABEA252468DC1B69BA5D959.e.100\")>,\n",
       "  <selenium.webdriver.remote.webelement.WebElement (session=\"b1ea76fca61a069d1b8503f742652f40\", element=\"f.A3D45CA303E3CB79C7902BC74D5B03A4.d.263A76325ABEA252468DC1B69BA5D959.e.101\")>,\n",
       "  <selenium.webdriver.remote.webelement.WebElement (session=\"b1ea76fca61a069d1b8503f742652f40\", element=\"f.A3D45CA303E3CB79C7902BC74D5B03A4.d.263A76325ABEA252468DC1B69BA5D959.e.102\")>,\n",
       "  <selenium.webdriver.remote.webelement.WebElement (session=\"b1ea76fca61a069d1b8503f742652f40\", element=\"f.A3D45CA303E3CB79C7902BC74D5B03A4.d.263A76325ABEA252468DC1B69BA5D959.e.103\")>,\n",
       "  <selenium.webdriver.remote.webelement.WebElement (session=\"b1ea76fca61a069d1b8503f742652f40\", element=\"f.A3D45CA303E3CB79C7902BC74D5B03A4.d.263A76325ABEA252468DC1B69BA5D959.e.104\")>,\n",
       "  <selenium.webdriver.remote.webelement.WebElement (session=\"b1ea76fca61a069d1b8503f742652f40\", element=\"f.A3D45CA303E3CB79C7902BC74D5B03A4.d.263A76325ABEA252468DC1B69BA5D959.e.105\")>,\n",
       "  <selenium.webdriver.remote.webelement.WebElement (session=\"b1ea76fca61a069d1b8503f742652f40\", element=\"f.A3D45CA303E3CB79C7902BC74D5B03A4.d.263A76325ABEA252468DC1B69BA5D959.e.106\")>,\n",
       "  <selenium.webdriver.remote.webelement.WebElement (session=\"b1ea76fca61a069d1b8503f742652f40\", element=\"f.A3D45CA303E3CB79C7902BC74D5B03A4.d.263A76325ABEA252468DC1B69BA5D959.e.107\")>,\n",
       "  <selenium.webdriver.remote.webelement.WebElement (session=\"b1ea76fca61a069d1b8503f742652f40\", element=\"f.A3D45CA303E3CB79C7902BC74D5B03A4.d.263A76325ABEA252468DC1B69BA5D959.e.108\")>,\n",
       "  <selenium.webdriver.remote.webelement.WebElement (session=\"b1ea76fca61a069d1b8503f742652f40\", element=\"f.A3D45CA303E3CB79C7902BC74D5B03A4.d.263A76325ABEA252468DC1B69BA5D959.e.109\")>,\n",
       "  <selenium.webdriver.remote.webelement.WebElement (session=\"b1ea76fca61a069d1b8503f742652f40\", element=\"f.A3D45CA303E3CB79C7902BC74D5B03A4.d.263A76325ABEA252468DC1B69BA5D959.e.110\")>,\n",
       "  <selenium.webdriver.remote.webelement.WebElement (session=\"b1ea76fca61a069d1b8503f742652f40\", element=\"f.A3D45CA303E3CB79C7902BC74D5B03A4.d.263A76325ABEA252468DC1B69BA5D959.e.111\")>,\n",
       "  <selenium.webdriver.remote.webelement.WebElement (session=\"b1ea76fca61a069d1b8503f742652f40\", element=\"f.A3D45CA303E3CB79C7902BC74D5B03A4.d.263A76325ABEA252468DC1B69BA5D959.e.112\")>])"
      ]
     },
     "execution_count": 48,
     "metadata": {},
     "output_type": "execute_result"
    }
   ],
   "source": [
    "spans = driver.find_elements(By.TAG_NAME,\"span\")\n",
    "len(spans),spans"
   ]
  },
  {
   "cell_type": "code",
   "execution_count": 49,
   "metadata": {},
   "outputs": [
    {
     "data": {
      "text/plain": [
       "(34,\n",
       " [\"Politique étrangère européenne : comment sont prises les décisions dans l'UE ?\",\n",
       "  'Image principale 1',\n",
       "  'Imprimer',\n",
       "  'Télécharger au format pdf',\n",
       "  'Temps de lecture ',\n",
       "  \"La guerre en Ukraine marque un tournant dans la politique étrangère et de sécurité commune (PESC) de l'Union européenne (UE). Les règles de la PESC prévoient une prise de décision à l’unanimité au sein du Conseil européen, ce qui peut parfois entraîner des blocages.\",\n",
       "  '1\\nQuels sont les objectifs et les moyens de la politique étrangère et de sécurité commune (PESC) ?',\n",
       "  '1',\n",
       "  'Quels sont les objectifs et les moyens de la politique étrangère et de sécurité commune (PESC) ?',\n",
       "  \". Elle se caractérise par une série de procédures spéciales excluant les prérogatives de la Cour de justice de l'UE (CJUE) comme le précise l'article 24 du TUE. Par ailleurs, malgré son rôle limité dans le processus décisionnel de la politique étrangère, le Parlement européen soutient le concept de la PESC et cherche à en étendre la portée.\",\n",
       "  '',\n",
       "  \"2\\nMéthode communautaire, méthode intergouvernementale, de quoi s'agit-il ?\",\n",
       "  '2',\n",
       "  \"Méthode communautaire, méthode intergouvernementale, de quoi s'agit-il ?\",\n",
       "  '',\n",
       "  \"3\\nQu'est-ce que la règle de l'unanimité au sein de l'UE ?\",\n",
       "  '3',\n",
       "  \"Qu'est-ce que la règle de l'unanimité au sein de l'UE ?\",\n",
       "  \"des chefs d’États et de gouvernements des 27 États membres. Dès lors, l’organe de décision suprême de l’UE est le Conseil européen, qui réunit les chefs d’État et de gouvernement des pays de l’UE. La règle de vote à l'unanimité, système qui régit la PESC, accorde de fait aux gouvernements un\",\n",
       "  '',\n",
       "  \"4\\nExiste-t-il des exceptions au vote à l'unanimité ?\",\n",
       "  '4',\n",
       "  \"Existe-t-il des exceptions au vote à l'unanimité ?\",\n",
       "  \"Le traité sur l'UE a ouvert la voie à l'approbation de certaines décisions à la majorité qualifiée. L\",\n",
       "  '',\n",
       "  'É',\n",
       "  \"à l'exception de la Hongrie qui s'est abstenue. \",\n",
       "  '5\\nVers la modification du mode de vote sur les questions de politique étrangère et de défense ?',\n",
       "  '5',\n",
       "  'Vers la modification du mode de vote sur les questions de politique étrangère et de défense ?',\n",
       "  \"Le débat unanimité contre majorité qualifiée n'est pas nouveau et son intensité a varié en fonction des contextes internationaux.\",\n",
       "  '',\n",
       "  'Questions internationales -',\n",
       "  '124'])"
      ]
     },
     "execution_count": 49,
     "metadata": {},
     "output_type": "execute_result"
    }
   ],
   "source": [
    "questions = [span.text for span in spans]\n",
    "len(questions),questions"
   ]
  },
  {
   "cell_type": "code",
   "execution_count": 50,
   "metadata": {},
   "outputs": [
    {
     "data": {
      "text/plain": [
       "['Quels sont les objectifs et les moyens de la politique étrangère et de sécurité commune (PESC) ?',\n",
       " \"Méthode communautaire, méthode intergouvernementale, de quoi s'agit-il ?\",\n",
       " \"Qu'est-ce que la règle de l'unanimité au sein de l'UE ?\",\n",
       " \"Existe-t-il des exceptions au vote à l'unanimité ?\",\n",
       " 'Vers la modification du mode de vote sur les questions de politique étrangère et de défense ?']"
      ]
     },
     "execution_count": 50,
     "metadata": {},
     "output_type": "execute_result"
    }
   ],
   "source": [
    "questions_finales3 = []\n",
    "for n in range(len(questions)) :\n",
    "    if questions[n-1] in ['1','2','3','4','5'] :\n",
    "        questions_finales3.append(questions[n])\n",
    "    \n",
    "questions_finales3"
   ]
  },
  {
   "cell_type": "code",
   "execution_count": 52,
   "metadata": {},
   "outputs": [
    {
     "data": {
      "text/plain": [
       "[\"Les objectifs de la PESC, tels que définis à l'article 21 du traité sur l’Union européenne (TUE), sont :\\nle maintien de la paix et le renforcement de la sécurité internationale ; \\nla promotion de la coopération internationale avec les États tiers ;\\nle développement et la consolidation de la démocratie et de l’État de droit ; \\nle respect des droits de l’homme et des libertés fondamentales.\\nLes actes adoptés dans le domaine de la PESC sont soumis à des règles qui prévoient une prise de décision à l’unanimité au sein du Conseil. La PESC est une politique intergouvernementale. Elle se caractérise par une série de procédures spéciales excluant les prérogatives de la Cour de justice de l'UE (CJUE) comme le précise l'article 24 du TUE. Par ailleurs, malgré son rôle limité dans le processus décisionnel de la politique étrangère, le Parlement européen soutient le concept de la PESC et cherche à en étendre la portée.\\nLe traité de Lisbonne, entré en vigueur le 1er décembre 2009, a créé de nouveaux acteurs de la PESC, notamment :\\nle Haut Représentant de l’Union pour les affaires étrangères et la politique de sécurité ;\\nle Service européen pour l’action extérieure (SEAE).\\nLe traité a également renforcé la politique de sécurité et de défense commune (PSDC), qui fait partie intégrante de la PESC. \",\n",
       " 'Les processus décisionnels de l’Union européenne (UE) varient selon les domaines politiques. En général, les décisions de l’UE sont prises au moyen de la \"méthode communautaire\", impliquant le recours à la procédure législative ordinaire, telle que définie dans l’article 294 du traité sur le fonctionnement de l’Union européenne (TFUE).\\nLa \"méthode communautaire\" se caractérise par la répartition suivante des rôles entre institutions supranationales de l’UE :\\nle droit de la Commission européenne à initier et à exécuter des lois, à quelques exceptions près ; \\nle Parlement européen et le Conseil de l’Union européenne en tant que colégislateurs adoptant la législation sur un pied d’égalité ; \\nle recours au vote à la majorité qualifiée au Conseil européen.\\nLa méthode intergouvernementale est utilisée dans le processus décisionnel, principalement en ce qui concerne la PESC et certains aspects de la coopération policière et judiciaire. Cette méthode se caractérise par les éléments suivants :\\n le droit d’initiative de la Commission est partagé avec les États membres de l’UE ou est limité à certains domaines spécifiques ;\\n le Conseil européen joue souvent un rôle clé ;\\n le Parlement européen est impliqué dans le processus de prise de décision à des degrés variables ;\\nle Conseil agit de façon unanime et adopte les textes de lois.\\nL’UE est à la fois un projet politique et une Forme d’organisation juridique supranationale fondée sur le traité de l’Union européenne (TUE) et le traité sur le fonctionnement de l’UE (TFUE). En adhérant à l’Union européenne, les États membres ont accepté de transférer certaines de leurs compétences dans une série de domaines aux institutions européennes. Les États membres transmettent ces compétences à l’UE en vue d’atteindre leurs objectifs communs. L\\'UE a des compétences de législateur et ses lois priment sur les lois nationales.',\n",
       " 'En matière de PESC, la méthode intergouvernementale est davantage de mise. \\nLes décisions concernant la politique étrangère requièrent ainsi l’unanimité des chefs d’États et de gouvernements des 27 États membres. Dès lors, l’organe de décision suprême de l’UE est le Conseil européen, qui réunit les chefs d’État et de gouvernement des pays de l’UE. La règle de vote à l\\'unanimité, système qui régit la PESC, accorde de fait aux gouvernements un \"droit de veto\".',\n",
       " 'Le traité sur l\\'UE a ouvert la voie à l\\'approbation de certaines décisions à la majorité qualifiée. L\\'article 31 TUE prévoit trois possibilités :\\nl\\'abstention constructive. Lorsqu\\'un État membre n\\'est pas d\\'accord avec une action commune, il choisit de s\\'abstenir plutôt que de mettre son veto. L\\'action est alors approuvée et l\\'État membre, dans un \"esprit de solidarité mutuelle\", s\\'engage à ne pas interférer ;\\nla dérogation spéciale. Les États membres peuvent voter à la majorité qualifiée pour adopter une décision qui définit une action ou une position commune, mais seulement si la décision découle d\\'un mandat donné par le Conseil européen ou d\\'une proposition présentée par le chef de la diplomatie de l’UE ;\\nla clause passerelle. Le Conseil européen adopte une décision qui permet aux États membres d\\'agir à la majorité qualifiée dans des cas spécifiques de politique étrangère.\\nBien que ces trois solutions représentent un ajout au mode de fonctionnement de l\\'UE, leur mise en œuvre est très limitée. Par exemple, lors du Conseil européen du 15 et 16 décembre 2023, les États ont voté en faveur de l\\'ouverture des négociations d\\'adhésion avec l\\'Ukraine, à l\\'exception de la Hongrie qui s\\'est abstenue. ',\n",
       " 'Les conflits armés en ex-Yougoslavie dans les années 1990 ont contribué à l’élaboration de la PESC dans le traité de Maastricht, entré en vigueur le 1er novembre 1993. La guerre déclenchée par la Russie le 24 février 2022 contre l\\'Ukraine peut également marquer une nouvelle ère pour cette politique. L\\'UE a, depuis lors, adopté des mesures en faveur de l\\'Ukraine qui auraient difficilement été envisageables auparavant.\\nPour donner une réelle capacité d\\'initiative à la PESC, il est nécessaire d\\'une part d\\'encourager la concertation entre les États membres le plus en amont possible, d\\'autre part, d\\'empêcher que la capacité d\\'action de l\\'UE ne soit systématiquement bloquée par l\\'opposition d\\'un État membre. \\nLes situations de blocage lors de votes clés ne sont pas nouvelles. Certains gouvernements ont utilisé le \"droit de veto\" comme moyen de pression dans le contexte de la guerre russe contre l\\'Ukraine. La capacité à agir rapidement est cependant déterminante dans le rôle que l\\'UE veut jouer en tant qu’acteur de la politique étrangère.\\nUnanimité ou majorité qualifiée ?\\nLe débat unanimité contre majorité qualifiée n\\'est pas nouveau et son intensité a varié en fonction des contextes internationaux.\\nUn groupe de neuf États membres de l’UE dont la France, a lancé le 4 mai 2023 une initiative pour réformer l’approche de l’UE. Au lieu de l’unanimité, le groupe préconise la mise en place du recours au vote à la majorité qualifiée sur les questions clés de politique étrangère et de défense. Cette modalité de vote nécessiterait l’accord de 15 des 27 États membres (55% des pays de l\\'UE), à condition qu’ils représentent plus de 65% des 450 millions de citoyens de l’UE (article 16 paragraphe 4 du TUE).\\nLes défenseurs de l\\'unanimité affirment toutefois que le vote à l\\'unanimité renforce la légitimité démocratique, consolide l\\'unité, améliore la mise en œuvre des décisions et offre aux petits États un bouclier contre les exigences des plus grands pays. Ses détracteurs soutiennent quant à eux que celle-ci entrave la prise de décision.']"
      ]
     },
     "execution_count": 52,
     "metadata": {},
     "output_type": "execute_result"
    }
   ],
   "source": [
    "responses = driver.find_elements(By.CLASS_NAME,\"vp-accordeon-content\")\n",
    "responses_final3 = [response.text for response in responses]\n",
    "responses_final3"
   ]
  },
  {
   "cell_type": "code",
   "execution_count": 53,
   "metadata": {},
   "outputs": [
    {
     "data": {
      "text/plain": [
       "(5, 5)"
      ]
     },
     "execution_count": 53,
     "metadata": {},
     "output_type": "execute_result"
    }
   ],
   "source": [
    "len(questions_finales3),len(responses_final3)"
   ]
  },
  {
   "cell_type": "code",
   "execution_count": 54,
   "metadata": {},
   "outputs": [
    {
     "data": {
      "text/html": [
       "<div>\n",
       "<style scoped>\n",
       "    .dataframe tbody tr th:only-of-type {\n",
       "        vertical-align: middle;\n",
       "    }\n",
       "\n",
       "    .dataframe tbody tr th {\n",
       "        vertical-align: top;\n",
       "    }\n",
       "\n",
       "    .dataframe thead th {\n",
       "        text-align: right;\n",
       "    }\n",
       "</style>\n",
       "<table border=\"1\" class=\"dataframe\">\n",
       "  <thead>\n",
       "    <tr style=\"text-align: right;\">\n",
       "      <th></th>\n",
       "      <th>Questions</th>\n",
       "      <th>Réponses</th>\n",
       "    </tr>\n",
       "  </thead>\n",
       "  <tbody>\n",
       "    <tr>\n",
       "      <th>0</th>\n",
       "      <td>Programmation pluriannuelle de l’énergie (PPE)...</td>\n",
       "      <td>La loi de transition énergétique pour la crois...</td>\n",
       "    </tr>\n",
       "    <tr>\n",
       "      <th>1</th>\n",
       "      <td>Pourquoi viser la neutralité carbone à l’horiz...</td>\n",
       "      <td>L’objectif de la neutralité carbone est de lut...</td>\n",
       "    </tr>\n",
       "    <tr>\n",
       "      <th>2</th>\n",
       "      <td>Quels sont les objectifs de la stratégie sur l...</td>\n",
       "      <td>Dans le cadre de la consultation publique qui ...</td>\n",
       "    </tr>\n",
       "    <tr>\n",
       "      <th>3</th>\n",
       "      <td>Quelles mesures contient la PPE pour accompagn...</td>\n",
       "      <td>La nouvelle PPE vise à réduire la consommation...</td>\n",
       "    </tr>\n",
       "    <tr>\n",
       "      <th>4</th>\n",
       "      <td>Quels sont les objectifs de la dernière SNBC a...</td>\n",
       "      <td>Adoptée par décret en 2015, la Stratégie natio...</td>\n",
       "    </tr>\n",
       "    <tr>\n",
       "      <th>5</th>\n",
       "      <td>Qu’appelle-t-on bureau de vote ?</td>\n",
       "      <td>Le bureau de vote désigne à la fois le local o...</td>\n",
       "    </tr>\n",
       "    <tr>\n",
       "      <th>6</th>\n",
       "      <td>Comment est constitué le bureau de vote ?</td>\n",
       "      <td>Chaque bureau est composé :\\nd’un président, q...</td>\n",
       "    </tr>\n",
       "    <tr>\n",
       "      <th>7</th>\n",
       "      <td>Le vote peut-il avoir lieu en l'absence d'asse...</td>\n",
       "      <td>Si le jour du vote, le nombre d'assesseurs est...</td>\n",
       "    </tr>\n",
       "    <tr>\n",
       "      <th>8</th>\n",
       "      <td>Combien de bureaux de vote par commune ?</td>\n",
       "      <td>Les bureaux de vote sont institués par un arrê...</td>\n",
       "    </tr>\n",
       "    <tr>\n",
       "      <th>9</th>\n",
       "      <td>L’électeur peut-il choisir son bureau de vote ?</td>\n",
       "      <td>Les électeurs n’ont pas le choix de leur burea...</td>\n",
       "    </tr>\n",
       "    <tr>\n",
       "      <th>10</th>\n",
       "      <td>Quelles sont les heures d’ouverture et de clôt...</td>\n",
       "      <td>Le scrutin est ouvert à 8 heures, il est clos ...</td>\n",
       "    </tr>\n",
       "    <tr>\n",
       "      <th>11</th>\n",
       "      <td>Comment est agencé un bureau de vote ?</td>\n",
       "      <td>On trouve dans le bureau de vote :\\nune table ...</td>\n",
       "    </tr>\n",
       "    <tr>\n",
       "      <th>12</th>\n",
       "      <td>Comment sont vérifiés le droit à voter et l’id...</td>\n",
       "      <td>Le défaut de présentation de la carte électora...</td>\n",
       "    </tr>\n",
       "    <tr>\n",
       "      <th>13</th>\n",
       "      <td>Existe-t-il des contraintes vestimentaires dan...</td>\n",
       "      <td>Il n’existe pas de limite à la liberté vestime...</td>\n",
       "    </tr>\n",
       "    <tr>\n",
       "      <th>14</th>\n",
       "      <td>Quelles sont les mesures pour permettre le vot...</td>\n",
       "      <td>La loi du 23 mars 2019 de programmation 2018-2...</td>\n",
       "    </tr>\n",
       "    <tr>\n",
       "      <th>15</th>\n",
       "      <td>Comment se déroule le vote d’un électeur ?</td>\n",
       "      <td>L’électeur se présente au bureau de vote indiq...</td>\n",
       "    </tr>\n",
       "    <tr>\n",
       "      <th>16</th>\n",
       "      <td>Que sont les délégués des candidats ?</td>\n",
       "      <td>Chaque candidat ou liste de candidats a le dro...</td>\n",
       "    </tr>\n",
       "    <tr>\n",
       "      <th>17</th>\n",
       "      <td>Que sont les scrutateurs ?</td>\n",
       "      <td>Les scrutateurs effectuent le dépouillement de...</td>\n",
       "    </tr>\n",
       "    <tr>\n",
       "      <th>18</th>\n",
       "      <td>En quoi consistent les opérations de dépouille...</td>\n",
       "      <td>Il s’agit de l’ensemble des opérations permett...</td>\n",
       "    </tr>\n",
       "    <tr>\n",
       "      <th>19</th>\n",
       "      <td>Qu’est-ce que le vote blanc ?</td>\n",
       "      <td>Le vote blanc consiste, pour un électeur, à gl...</td>\n",
       "    </tr>\n",
       "    <tr>\n",
       "      <th>20</th>\n",
       "      <td>Quels bulletins de vote sont déclarés nuls ?</td>\n",
       "      <td>Les bulletins de vote tenus pour nuls ne sont ...</td>\n",
       "    </tr>\n",
       "    <tr>\n",
       "      <th>21</th>\n",
       "      <td>Comment est déterminé le nombre de suffrages e...</td>\n",
       "      <td>Le nombre de suffrages exprimés correspond au ...</td>\n",
       "    </tr>\n",
       "    <tr>\n",
       "      <th>22</th>\n",
       "      <td>Comment est établi le procès-verbal ?</td>\n",
       "      <td>Le procès-verbal des opérations électorales es...</td>\n",
       "    </tr>\n",
       "    <tr>\n",
       "      <th>23</th>\n",
       "      <td>Quand et comment sont proclamés les résultats ?</td>\n",
       "      <td>Une fois le procès-verbal établi, le résultat ...</td>\n",
       "    </tr>\n",
       "    <tr>\n",
       "      <th>24</th>\n",
       "      <td>À qui est transmis le procès-verbal ?</td>\n",
       "      <td>Un exemplaire est adressé au représentant de l...</td>\n",
       "    </tr>\n",
       "    <tr>\n",
       "      <th>25</th>\n",
       "      <td>Que doit faire le président du bureau en cas d...</td>\n",
       "      <td>On peut distinguer deux cas de figures :\\nsi l...</td>\n",
       "    </tr>\n",
       "    <tr>\n",
       "      <th>26</th>\n",
       "      <td>Les opérations de vote sont-elles contrôlées ?</td>\n",
       "      <td>Pour l'élection présidentielle, des délégués d...</td>\n",
       "    </tr>\n",
       "    <tr>\n",
       "      <th>27</th>\n",
       "      <td>Est-il licite de consulter la liste d’émargeme...</td>\n",
       "      <td>La liste d’émargement (c’est-à-dire une copie ...</td>\n",
       "    </tr>\n",
       "    <tr>\n",
       "      <th>28</th>\n",
       "      <td>Quels sont les objectifs et les moyens de la p...</td>\n",
       "      <td>Les objectifs de la PESC, tels que définis à l...</td>\n",
       "    </tr>\n",
       "    <tr>\n",
       "      <th>29</th>\n",
       "      <td>Méthode communautaire, méthode intergouverneme...</td>\n",
       "      <td>Les processus décisionnels de l’Union européen...</td>\n",
       "    </tr>\n",
       "    <tr>\n",
       "      <th>30</th>\n",
       "      <td>Qu'est-ce que la règle de l'unanimité au sein ...</td>\n",
       "      <td>En matière de PESC, la méthode intergouverneme...</td>\n",
       "    </tr>\n",
       "    <tr>\n",
       "      <th>31</th>\n",
       "      <td>Existe-t-il des exceptions au vote à l'unanimi...</td>\n",
       "      <td>Le traité sur l'UE a ouvert la voie à l'approb...</td>\n",
       "    </tr>\n",
       "    <tr>\n",
       "      <th>32</th>\n",
       "      <td>Vers la modification du mode de vote sur les q...</td>\n",
       "      <td>Les conflits armés en ex-Yougoslavie dans les ...</td>\n",
       "    </tr>\n",
       "  </tbody>\n",
       "</table>\n",
       "</div>"
      ],
      "text/plain": [
       "                                            Questions  \\\n",
       "0   Programmation pluriannuelle de l’énergie (PPE)...   \n",
       "1   Pourquoi viser la neutralité carbone à l’horiz...   \n",
       "2   Quels sont les objectifs de la stratégie sur l...   \n",
       "3   Quelles mesures contient la PPE pour accompagn...   \n",
       "4   Quels sont les objectifs de la dernière SNBC a...   \n",
       "5                    Qu’appelle-t-on bureau de vote ?   \n",
       "6           Comment est constitué le bureau de vote ?   \n",
       "7   Le vote peut-il avoir lieu en l'absence d'asse...   \n",
       "8            Combien de bureaux de vote par commune ?   \n",
       "9     L’électeur peut-il choisir son bureau de vote ?   \n",
       "10  Quelles sont les heures d’ouverture et de clôt...   \n",
       "11             Comment est agencé un bureau de vote ?   \n",
       "12  Comment sont vérifiés le droit à voter et l’id...   \n",
       "13  Existe-t-il des contraintes vestimentaires dan...   \n",
       "14  Quelles sont les mesures pour permettre le vot...   \n",
       "15         Comment se déroule le vote d’un électeur ?   \n",
       "16              Que sont les délégués des candidats ?   \n",
       "17                         Que sont les scrutateurs ?   \n",
       "18  En quoi consistent les opérations de dépouille...   \n",
       "19                      Qu’est-ce que le vote blanc ?   \n",
       "20       Quels bulletins de vote sont déclarés nuls ?   \n",
       "21  Comment est déterminé le nombre de suffrages e...   \n",
       "22              Comment est établi le procès-verbal ?   \n",
       "23    Quand et comment sont proclamés les résultats ?   \n",
       "24              À qui est transmis le procès-verbal ?   \n",
       "25  Que doit faire le président du bureau en cas d...   \n",
       "26     Les opérations de vote sont-elles contrôlées ?   \n",
       "27  Est-il licite de consulter la liste d’émargeme...   \n",
       "28  Quels sont les objectifs et les moyens de la p...   \n",
       "29  Méthode communautaire, méthode intergouverneme...   \n",
       "30  Qu'est-ce que la règle de l'unanimité au sein ...   \n",
       "31  Existe-t-il des exceptions au vote à l'unanimi...   \n",
       "32  Vers la modification du mode de vote sur les q...   \n",
       "\n",
       "                                             Réponses  \n",
       "0   La loi de transition énergétique pour la crois...  \n",
       "1   L’objectif de la neutralité carbone est de lut...  \n",
       "2   Dans le cadre de la consultation publique qui ...  \n",
       "3   La nouvelle PPE vise à réduire la consommation...  \n",
       "4   Adoptée par décret en 2015, la Stratégie natio...  \n",
       "5   Le bureau de vote désigne à la fois le local o...  \n",
       "6   Chaque bureau est composé :\\nd’un président, q...  \n",
       "7   Si le jour du vote, le nombre d'assesseurs est...  \n",
       "8   Les bureaux de vote sont institués par un arrê...  \n",
       "9   Les électeurs n’ont pas le choix de leur burea...  \n",
       "10  Le scrutin est ouvert à 8 heures, il est clos ...  \n",
       "11  On trouve dans le bureau de vote :\\nune table ...  \n",
       "12  Le défaut de présentation de la carte électora...  \n",
       "13  Il n’existe pas de limite à la liberté vestime...  \n",
       "14  La loi du 23 mars 2019 de programmation 2018-2...  \n",
       "15  L’électeur se présente au bureau de vote indiq...  \n",
       "16  Chaque candidat ou liste de candidats a le dro...  \n",
       "17  Les scrutateurs effectuent le dépouillement de...  \n",
       "18  Il s’agit de l’ensemble des opérations permett...  \n",
       "19  Le vote blanc consiste, pour un électeur, à gl...  \n",
       "20  Les bulletins de vote tenus pour nuls ne sont ...  \n",
       "21  Le nombre de suffrages exprimés correspond au ...  \n",
       "22  Le procès-verbal des opérations électorales es...  \n",
       "23  Une fois le procès-verbal établi, le résultat ...  \n",
       "24  Un exemplaire est adressé au représentant de l...  \n",
       "25  On peut distinguer deux cas de figures :\\nsi l...  \n",
       "26  Pour l'élection présidentielle, des délégués d...  \n",
       "27  La liste d’émargement (c’est-à-dire une copie ...  \n",
       "28  Les objectifs de la PESC, tels que définis à l...  \n",
       "29  Les processus décisionnels de l’Union européen...  \n",
       "30  En matière de PESC, la méthode intergouverneme...  \n",
       "31  Le traité sur l'UE a ouvert la voie à l'approb...  \n",
       "32  Les conflits armés en ex-Yougoslavie dans les ...  "
      ]
     },
     "execution_count": 54,
     "metadata": {},
     "output_type": "execute_result"
    }
   ],
   "source": [
    "df_final = pd.DataFrame({'Questions': questions_finales+questions_finales2+questions_finales3, 'Réponses': responses_final+responses_final2+responses_final3})\n",
    "df_final"
   ]
  },
  {
   "cell_type": "code",
   "execution_count": null,
   "metadata": {},
   "outputs": [],
   "source": [
    "driver.close()"
   ]
  },
  {
   "cell_type": "code",
   "execution_count": 58,
   "metadata": {},
   "outputs": [],
   "source": [
    "driver = webdriver.Chrome()\n",
    "driver.get('https://www.vie-publique.fr/questions-reponses/293354-le-bilan-environnemental-2023-de-la-france-en-10-questions')\n",
    "cookie_button = driver.find_element(By.XPATH,'/html/body/div[1]/div[1]/div/div/div/ul/li[2]/button')\n",
    "cookie_button.click()"
   ]
  },
  {
   "cell_type": "code",
   "execution_count": 62,
   "metadata": {},
   "outputs": [],
   "source": [
    "#à exécuter plusieurs fois si nécéssaire\n",
    "abonnement_button = driver.find_element(By.XPATH,'/html/body/div[5]/div[2]/button')\n",
    "abonnement_button.click()"
   ]
  },
  {
   "cell_type": "code",
   "execution_count": 64,
   "metadata": {},
   "outputs": [],
   "source": [
    "#à exécuter plusieurs fois si nécéssaire\n",
    "deplier_button = driver.find_element(By.XPATH,'/html/body/div[3]/div/div/main/div[2]/div[1]/div[1]/div/div[2]/div[4]/div[1]/button')\n",
    "deplier_button.click()"
   ]
  },
  {
   "cell_type": "code",
   "execution_count": 65,
   "metadata": {},
   "outputs": [
    {
     "data": {
      "text/plain": [
       "(48,\n",
       " [<selenium.webdriver.remote.webelement.WebElement (session=\"040c97a554e98a70b15a48365b797749\", element=\"f.007E02AB92F9B79BB241030324023AF2.d.CDD256E253225A72805DB5792FCABAB6.e.79\")>,\n",
       "  <selenium.webdriver.remote.webelement.WebElement (session=\"040c97a554e98a70b15a48365b797749\", element=\"f.007E02AB92F9B79BB241030324023AF2.d.CDD256E253225A72805DB5792FCABAB6.e.80\")>,\n",
       "  <selenium.webdriver.remote.webelement.WebElement (session=\"040c97a554e98a70b15a48365b797749\", element=\"f.007E02AB92F9B79BB241030324023AF2.d.CDD256E253225A72805DB5792FCABAB6.e.81\")>,\n",
       "  <selenium.webdriver.remote.webelement.WebElement (session=\"040c97a554e98a70b15a48365b797749\", element=\"f.007E02AB92F9B79BB241030324023AF2.d.CDD256E253225A72805DB5792FCABAB6.e.82\")>,\n",
       "  <selenium.webdriver.remote.webelement.WebElement (session=\"040c97a554e98a70b15a48365b797749\", element=\"f.007E02AB92F9B79BB241030324023AF2.d.CDD256E253225A72805DB5792FCABAB6.e.83\")>,\n",
       "  <selenium.webdriver.remote.webelement.WebElement (session=\"040c97a554e98a70b15a48365b797749\", element=\"f.007E02AB92F9B79BB241030324023AF2.d.CDD256E253225A72805DB5792FCABAB6.e.75\")>,\n",
       "  <selenium.webdriver.remote.webelement.WebElement (session=\"040c97a554e98a70b15a48365b797749\", element=\"f.007E02AB92F9B79BB241030324023AF2.d.CDD256E253225A72805DB5792FCABAB6.e.84\")>,\n",
       "  <selenium.webdriver.remote.webelement.WebElement (session=\"040c97a554e98a70b15a48365b797749\", element=\"f.007E02AB92F9B79BB241030324023AF2.d.CDD256E253225A72805DB5792FCABAB6.e.85\")>,\n",
       "  <selenium.webdriver.remote.webelement.WebElement (session=\"040c97a554e98a70b15a48365b797749\", element=\"f.007E02AB92F9B79BB241030324023AF2.d.CDD256E253225A72805DB5792FCABAB6.e.86\")>,\n",
       "  <selenium.webdriver.remote.webelement.WebElement (session=\"040c97a554e98a70b15a48365b797749\", element=\"f.007E02AB92F9B79BB241030324023AF2.d.CDD256E253225A72805DB5792FCABAB6.e.87\")>,\n",
       "  <selenium.webdriver.remote.webelement.WebElement (session=\"040c97a554e98a70b15a48365b797749\", element=\"f.007E02AB92F9B79BB241030324023AF2.d.CDD256E253225A72805DB5792FCABAB6.e.88\")>,\n",
       "  <selenium.webdriver.remote.webelement.WebElement (session=\"040c97a554e98a70b15a48365b797749\", element=\"f.007E02AB92F9B79BB241030324023AF2.d.CDD256E253225A72805DB5792FCABAB6.e.89\")>,\n",
       "  <selenium.webdriver.remote.webelement.WebElement (session=\"040c97a554e98a70b15a48365b797749\", element=\"f.007E02AB92F9B79BB241030324023AF2.d.CDD256E253225A72805DB5792FCABAB6.e.90\")>,\n",
       "  <selenium.webdriver.remote.webelement.WebElement (session=\"040c97a554e98a70b15a48365b797749\", element=\"f.007E02AB92F9B79BB241030324023AF2.d.CDD256E253225A72805DB5792FCABAB6.e.91\")>,\n",
       "  <selenium.webdriver.remote.webelement.WebElement (session=\"040c97a554e98a70b15a48365b797749\", element=\"f.007E02AB92F9B79BB241030324023AF2.d.CDD256E253225A72805DB5792FCABAB6.e.92\")>,\n",
       "  <selenium.webdriver.remote.webelement.WebElement (session=\"040c97a554e98a70b15a48365b797749\", element=\"f.007E02AB92F9B79BB241030324023AF2.d.CDD256E253225A72805DB5792FCABAB6.e.93\")>,\n",
       "  <selenium.webdriver.remote.webelement.WebElement (session=\"040c97a554e98a70b15a48365b797749\", element=\"f.007E02AB92F9B79BB241030324023AF2.d.CDD256E253225A72805DB5792FCABAB6.e.94\")>,\n",
       "  <selenium.webdriver.remote.webelement.WebElement (session=\"040c97a554e98a70b15a48365b797749\", element=\"f.007E02AB92F9B79BB241030324023AF2.d.CDD256E253225A72805DB5792FCABAB6.e.95\")>,\n",
       "  <selenium.webdriver.remote.webelement.WebElement (session=\"040c97a554e98a70b15a48365b797749\", element=\"f.007E02AB92F9B79BB241030324023AF2.d.CDD256E253225A72805DB5792FCABAB6.e.96\")>,\n",
       "  <selenium.webdriver.remote.webelement.WebElement (session=\"040c97a554e98a70b15a48365b797749\", element=\"f.007E02AB92F9B79BB241030324023AF2.d.CDD256E253225A72805DB5792FCABAB6.e.97\")>,\n",
       "  <selenium.webdriver.remote.webelement.WebElement (session=\"040c97a554e98a70b15a48365b797749\", element=\"f.007E02AB92F9B79BB241030324023AF2.d.CDD256E253225A72805DB5792FCABAB6.e.98\")>,\n",
       "  <selenium.webdriver.remote.webelement.WebElement (session=\"040c97a554e98a70b15a48365b797749\", element=\"f.007E02AB92F9B79BB241030324023AF2.d.CDD256E253225A72805DB5792FCABAB6.e.99\")>,\n",
       "  <selenium.webdriver.remote.webelement.WebElement (session=\"040c97a554e98a70b15a48365b797749\", element=\"f.007E02AB92F9B79BB241030324023AF2.d.CDD256E253225A72805DB5792FCABAB6.e.100\")>,\n",
       "  <selenium.webdriver.remote.webelement.WebElement (session=\"040c97a554e98a70b15a48365b797749\", element=\"f.007E02AB92F9B79BB241030324023AF2.d.CDD256E253225A72805DB5792FCABAB6.e.101\")>,\n",
       "  <selenium.webdriver.remote.webelement.WebElement (session=\"040c97a554e98a70b15a48365b797749\", element=\"f.007E02AB92F9B79BB241030324023AF2.d.CDD256E253225A72805DB5792FCABAB6.e.102\")>,\n",
       "  <selenium.webdriver.remote.webelement.WebElement (session=\"040c97a554e98a70b15a48365b797749\", element=\"f.007E02AB92F9B79BB241030324023AF2.d.CDD256E253225A72805DB5792FCABAB6.e.103\")>,\n",
       "  <selenium.webdriver.remote.webelement.WebElement (session=\"040c97a554e98a70b15a48365b797749\", element=\"f.007E02AB92F9B79BB241030324023AF2.d.CDD256E253225A72805DB5792FCABAB6.e.104\")>,\n",
       "  <selenium.webdriver.remote.webelement.WebElement (session=\"040c97a554e98a70b15a48365b797749\", element=\"f.007E02AB92F9B79BB241030324023AF2.d.CDD256E253225A72805DB5792FCABAB6.e.105\")>,\n",
       "  <selenium.webdriver.remote.webelement.WebElement (session=\"040c97a554e98a70b15a48365b797749\", element=\"f.007E02AB92F9B79BB241030324023AF2.d.CDD256E253225A72805DB5792FCABAB6.e.106\")>,\n",
       "  <selenium.webdriver.remote.webelement.WebElement (session=\"040c97a554e98a70b15a48365b797749\", element=\"f.007E02AB92F9B79BB241030324023AF2.d.CDD256E253225A72805DB5792FCABAB6.e.107\")>,\n",
       "  <selenium.webdriver.remote.webelement.WebElement (session=\"040c97a554e98a70b15a48365b797749\", element=\"f.007E02AB92F9B79BB241030324023AF2.d.CDD256E253225A72805DB5792FCABAB6.e.108\")>,\n",
       "  <selenium.webdriver.remote.webelement.WebElement (session=\"040c97a554e98a70b15a48365b797749\", element=\"f.007E02AB92F9B79BB241030324023AF2.d.CDD256E253225A72805DB5792FCABAB6.e.109\")>,\n",
       "  <selenium.webdriver.remote.webelement.WebElement (session=\"040c97a554e98a70b15a48365b797749\", element=\"f.007E02AB92F9B79BB241030324023AF2.d.CDD256E253225A72805DB5792FCABAB6.e.110\")>,\n",
       "  <selenium.webdriver.remote.webelement.WebElement (session=\"040c97a554e98a70b15a48365b797749\", element=\"f.007E02AB92F9B79BB241030324023AF2.d.CDD256E253225A72805DB5792FCABAB6.e.111\")>,\n",
       "  <selenium.webdriver.remote.webelement.WebElement (session=\"040c97a554e98a70b15a48365b797749\", element=\"f.007E02AB92F9B79BB241030324023AF2.d.CDD256E253225A72805DB5792FCABAB6.e.112\")>,\n",
       "  <selenium.webdriver.remote.webelement.WebElement (session=\"040c97a554e98a70b15a48365b797749\", element=\"f.007E02AB92F9B79BB241030324023AF2.d.CDD256E253225A72805DB5792FCABAB6.e.113\")>,\n",
       "  <selenium.webdriver.remote.webelement.WebElement (session=\"040c97a554e98a70b15a48365b797749\", element=\"f.007E02AB92F9B79BB241030324023AF2.d.CDD256E253225A72805DB5792FCABAB6.e.114\")>,\n",
       "  <selenium.webdriver.remote.webelement.WebElement (session=\"040c97a554e98a70b15a48365b797749\", element=\"f.007E02AB92F9B79BB241030324023AF2.d.CDD256E253225A72805DB5792FCABAB6.e.115\")>,\n",
       "  <selenium.webdriver.remote.webelement.WebElement (session=\"040c97a554e98a70b15a48365b797749\", element=\"f.007E02AB92F9B79BB241030324023AF2.d.CDD256E253225A72805DB5792FCABAB6.e.116\")>,\n",
       "  <selenium.webdriver.remote.webelement.WebElement (session=\"040c97a554e98a70b15a48365b797749\", element=\"f.007E02AB92F9B79BB241030324023AF2.d.CDD256E253225A72805DB5792FCABAB6.e.117\")>,\n",
       "  <selenium.webdriver.remote.webelement.WebElement (session=\"040c97a554e98a70b15a48365b797749\", element=\"f.007E02AB92F9B79BB241030324023AF2.d.CDD256E253225A72805DB5792FCABAB6.e.118\")>,\n",
       "  <selenium.webdriver.remote.webelement.WebElement (session=\"040c97a554e98a70b15a48365b797749\", element=\"f.007E02AB92F9B79BB241030324023AF2.d.CDD256E253225A72805DB5792FCABAB6.e.119\")>,\n",
       "  <selenium.webdriver.remote.webelement.WebElement (session=\"040c97a554e98a70b15a48365b797749\", element=\"f.007E02AB92F9B79BB241030324023AF2.d.CDD256E253225A72805DB5792FCABAB6.e.120\")>,\n",
       "  <selenium.webdriver.remote.webelement.WebElement (session=\"040c97a554e98a70b15a48365b797749\", element=\"f.007E02AB92F9B79BB241030324023AF2.d.CDD256E253225A72805DB5792FCABAB6.e.121\")>,\n",
       "  <selenium.webdriver.remote.webelement.WebElement (session=\"040c97a554e98a70b15a48365b797749\", element=\"f.007E02AB92F9B79BB241030324023AF2.d.CDD256E253225A72805DB5792FCABAB6.e.122\")>,\n",
       "  <selenium.webdriver.remote.webelement.WebElement (session=\"040c97a554e98a70b15a48365b797749\", element=\"f.007E02AB92F9B79BB241030324023AF2.d.CDD256E253225A72805DB5792FCABAB6.e.123\")>,\n",
       "  <selenium.webdriver.remote.webelement.WebElement (session=\"040c97a554e98a70b15a48365b797749\", element=\"f.007E02AB92F9B79BB241030324023AF2.d.CDD256E253225A72805DB5792FCABAB6.e.124\")>,\n",
       "  <selenium.webdriver.remote.webelement.WebElement (session=\"040c97a554e98a70b15a48365b797749\", element=\"f.007E02AB92F9B79BB241030324023AF2.d.CDD256E253225A72805DB5792FCABAB6.e.125\")>])"
      ]
     },
     "execution_count": 65,
     "metadata": {},
     "output_type": "execute_result"
    }
   ],
   "source": [
    "spans = driver.find_elements(By.TAG_NAME,\"span\")\n",
    "len(spans),spans"
   ]
  },
  {
   "cell_type": "code",
   "execution_count": 66,
   "metadata": {},
   "outputs": [
    {
     "data": {
      "text/plain": [
       "(48,\n",
       " ['Le bilan environnemental 2023 de la France en 10 questions',\n",
       "  'Image principale 1',\n",
       "  'Imprimer',\n",
       "  'Télécharger au format pdf',\n",
       "  'Temps de lecture ',\n",
       "  'Le ministère de la transition écologique et de la cohésion des territoires établit chaque année le bilan environnemental de la France. Ce bilan, publié le 1er mars 2024, retrace notamment les efforts engagés en matière de protection de l’environnement. Toutes dépenses confondues, 60 milliards d’euros ont été dépensés en 2021.',\n",
       "  '1\\nQui finance la protection de l’environnement ?',\n",
       "  '1',\n",
       "  'Qui finance la protection de l’environnement ?',\n",
       "  '2\\nQuelle est la part des dépenses environnementales dans le PIB et dans quels domaines sont concentrées les dépenses ?',\n",
       "  '2',\n",
       "  'Quelle est la part des dépenses environnementales dans le PIB et dans quels domaines sont concentrées les dépenses ?',\n",
       "  \"3\\nQu'en est-il de la ressource en eau en France ?\",\n",
       "  '3',\n",
       "  \"Qu'en est-il de la ressource en eau en France ?\",\n",
       "  '',\n",
       "  \"4\\nQuelle est la qualité de l'air en France ?\",\n",
       "  '4',\n",
       "  \"Quelle est la qualité de l'air en France ?\",\n",
       "  '',\n",
       "  \"5\\nQuel est l'état des sols ?\",\n",
       "  '5',\n",
       "  \"Quel est l'état des sols ?\",\n",
       "  '',\n",
       "  \"6\\nQu'en est-il de l'érosion côtière ?\",\n",
       "  '6',\n",
       "  \"Qu'en est-il de l'érosion côtière ?\",\n",
       "  '',\n",
       "  '7\\nComment la biodiversité a-t-elle évolué ?',\n",
       "  '7',\n",
       "  'Comment la biodiversité a-t-elle évolué ?',\n",
       "  '',\n",
       "  '8\\nLa France est-elle particulièrement touchée par les catastrophes naturelles ?',\n",
       "  '8',\n",
       "  'La France est-elle particulièrement touchée par les catastrophes naturelles ?',\n",
       "  \"Selon le bilan établit par le ministère, la France est le pays d'Europe qui a connu les plus de catastrophe naturelles depuis 1900, soit 188 catastrophes, contre 171 pour l'Italie, 109 pour l'Espagne et 106 pour l'Allemagne.\",\n",
       "  '',\n",
       "  '',\n",
       "  \"9\\nQuelle est l'efficacité énergétique de la France ?\",\n",
       "  '9',\n",
       "  \"Quelle est l'efficacité énergétique de la France ?\",\n",
       "  '',\n",
       "  '10\\nOù en est-on sur le développement des énergies renouvelables ?',\n",
       "  '10',\n",
       "  'Où en est-on sur le développement des énergies renouvelables ?',\n",
       "  '',\n",
       "  'Questions internationales -',\n",
       "  '124'])"
      ]
     },
     "execution_count": 66,
     "metadata": {},
     "output_type": "execute_result"
    }
   ],
   "source": [
    "questions = [span.text for span in spans]\n",
    "len(questions),questions"
   ]
  },
  {
   "cell_type": "code",
   "execution_count": 67,
   "metadata": {},
   "outputs": [
    {
     "data": {
      "text/plain": [
       "['1',\n",
       " '2',\n",
       " '3',\n",
       " '4',\n",
       " '5',\n",
       " '6',\n",
       " '7',\n",
       " '8',\n",
       " '9',\n",
       " '10',\n",
       " '11',\n",
       " '12',\n",
       " '13',\n",
       " '14',\n",
       " '15',\n",
       " '16',\n",
       " '17',\n",
       " '18',\n",
       " '19',\n",
       " '20',\n",
       " '21',\n",
       " '22',\n",
       " '23',\n",
       " '24',\n",
       " '25',\n",
       " '26',\n",
       " '27',\n",
       " '28',\n",
       " '29',\n",
       " '30',\n",
       " '31',\n",
       " '32',\n",
       " '33',\n",
       " '34',\n",
       " '35',\n",
       " '36',\n",
       " '37',\n",
       " '38',\n",
       " '39',\n",
       " '40',\n",
       " '41',\n",
       " '42',\n",
       " '43',\n",
       " '44',\n",
       " '45',\n",
       " '46',\n",
       " '47',\n",
       " '48',\n",
       " '49']"
      ]
     },
     "execution_count": 67,
     "metadata": {},
     "output_type": "execute_result"
    }
   ],
   "source": [
    "liste50 = []\n",
    "for n in range (1,50) :\n",
    "    liste50.append(str(n))\n",
    "liste50"
   ]
  },
  {
   "cell_type": "code",
   "execution_count": 68,
   "metadata": {},
   "outputs": [
    {
     "data": {
      "text/plain": [
       "['Qui finance la protection de l’environnement ?',\n",
       " 'Quelle est la part des dépenses environnementales dans le PIB et dans quels domaines sont concentrées les dépenses ?',\n",
       " \"Qu'en est-il de la ressource en eau en France ?\",\n",
       " \"Quelle est la qualité de l'air en France ?\",\n",
       " \"Quel est l'état des sols ?\",\n",
       " \"Qu'en est-il de l'érosion côtière ?\",\n",
       " 'Comment la biodiversité a-t-elle évolué ?',\n",
       " 'La France est-elle particulièrement touchée par les catastrophes naturelles ?',\n",
       " \"Quelle est l'efficacité énergétique de la France ?\",\n",
       " 'Où en est-on sur le développement des énergies renouvelables ?']"
      ]
     },
     "execution_count": 68,
     "metadata": {},
     "output_type": "execute_result"
    }
   ],
   "source": [
    "questions_finales4 = []\n",
    "for n in range(len(questions)) :\n",
    "    if questions[n-1] in liste50 :\n",
    "        questions_finales4.append(questions[n])\n",
    "    \n",
    "questions_finales4"
   ]
  },
  {
   "cell_type": "code",
   "execution_count": 69,
   "metadata": {},
   "outputs": [
    {
     "data": {
      "text/plain": [
       "['Selon le bilan environnemental de la France pour 2023, le financement de la protection de l’environnement repose principalement sur trois acteurs :\\nles administrations publiques à hauteur de 36%, soit 21,6 milliards d’euros (Md€) ;\\nles entreprises à hauteur de 34%, soit 20,3 Md€ ;\\nles ménages à hauteur de 29% soit 17,2 Md€.\\nL’Europe fournit le 1% restant. ',\n",
       " 'La part des dépenses de protection de l’environnement dans le produit intérieur brut (PIB) progresse légèrement entre 2000 et 2020 (2,3% du PIB en 2020 contre 2,0% en 2000). Elle continue de progresser depuis 2020 mais à un rythme moins soutenu, de l’ordre de 1,6% du PIB. La France se classe au 12erang européen en matière de dépenses environnementales rapportées au PIB.\\nLes domaines de la gestion des déchets (19,6 Md€) et des eaux usées (14,1 Md€) concentrent à eux seuls 56% des financements. Les autres dépenses concernent :\\nles actions de protection de l’air extérieur (7,8 Md€) ;\\nles dépenses de recherche et développement pour l’environnement (4,2 Md€) ;\\nla protection de la biodiversité et des paysages (3,3 Md€) ;\\nla protection et dépollution des sols et des eaux (2,4 Md€) ;\\nla lutte contre le bruit (2,4 Md€) ;\\nla gestion des déchets radioactifs (0,7 Md€) ;\\nenfin 5,5 Md€ sont consacrés aux activités transversales de protection de l’environnement (frais de fonctionnement de l’administration publique et des opérateurs chargés des questions environnementales notamment).',\n",
       " \"Les prélèvements d’eau douce diminuent depuis une vingtaine d’années, hormis ceux pour l’agriculture qui restent stables en moyenne. L’agriculture est la première activité consommatrice d’eau avec 58% du total, devant l’eau potable (26 %), le refroidissement des centrales électriques (12%), et les usages industriels (4%).\\nContrastant avec l’année 2019, l’année 2020 se situe au 4e rang des années les mieux pourvues en eau sur la période 1990-2020, au même niveau que les années pluvieuses 2013 et 2014. Si des pénuries ponctuelles et géographiquement ciblées existent sur les périodes estivales, la France ne connaît pas actuellement de déficit chronique à l’échelle nationale.\\nConcernant la pollution des eaux, en 2022, 43,6% (contre 41,4% en 2010) des masses d’eau superficielle françaises affichaient un bon ou très bon état écologique. 67,9% des masses d’eau superficielle et souterraine présentaient un bon état chimique (contre respectivement 51,2% et 58,9% en 2010).\\nLes nitrates et les pesticides restent les produits les plus détectés dans les eaux souterraines. Entre 2000 et 2020, les teneurs en nitrates sont en légère augmentation (8%) dans les eaux de surface. De fortes disparités territoriales existent : la moitié nord (bassins Loire-Bretagne, Rhin-Meuse, Artois-Picardie et Seine-Normandie) de l’hexagone est plus exposée que la moitié sud.  \\nQualité de l'eau potable : comment est-elle assurée ?\\nParole d'expert\\nPar Julie Mendret et Thierry Pichard\\n5 février 2024\",\n",
       " \"La qualité de l'air s'améliore sur le territoire. La qualité de l’air est suivie en différents points du territoire français, majoritairement dans les villes où s’observent les plus fortes concentrations de polluants. Elle s'améliore depuis quelques années. Les concentrations moyennes annuelles en dioxyde de soufre, dioxyde d’azote, PM10 et PM2,5 ont baissé. Seul l'ozone est en hausse.\\nL’exposition aux particules fines de diamètre inférieur ou égal à 2,5 µm (microgramme) (PM2,5) serait responsable de 7% de la mortalité totale de la population soit près de 40 000 décès par an. En 2021, les moyens financiers mobilisés pour la protection de la qualité de l’air extérieur sont évalués à 7,8 milliards d’euros. Les entreprises sont les premières contributrices. Elles prennent en charge 54% de la dépense globale, contre 26% pour l’Etat et 20% pour les ménages.\\nRestrictions de circulation : Marseille, Rouen et Strasbourg en territoires de vigilance sur la qualité de l'air en 2025\\nEn bref\\n21 mars 2024\",\n",
       " 'En octobre 2023, 10 440 sites et sols pollués (ou potentiellement pollués) appelant une action des pouvoirs publics sont recensés en France. \\nEn France hexagonale, le sol des zones de culture ou d’élevage intensifs renferme des taux élevés de lindane (insecticide ou antiparasitaire), alors que cette substance est interdite depuis 1998. La pollution chronique du sol des bananeraies et la contamination des écosystèmes naturels par la chlordécone, insecticide interdit de vente depuis 1993 dans les Antilles françaises, affectent encore 25% de la surface agricole utilisée (SAU) en Guadeloupe et 40% en Martinique, en raison de sa persistance dans le sol, exposant la population par l’ingestion d’eau ou d’aliments contaminés.  \\nLes pesticides en huit questions\\nQuestions-réponses\\n21 février 2024',\n",
       " 'Le littoral est exposé, à l’érosion côtière. Sur les 50 dernières années, environ 30 km² de terres ont été perdus. Les départements de Charente-Maritime, de la Gironde et des Bouches-du-Rhône (Camargue) représentent, à eux seuls, plus de la moitié des surfaces perdues.\\nEn 2022, les 841 communes littorales (hors estuaire) regroupent près de 6,4 millions d’habitants et couvrent 4% du territoire métropolitain. Avec 281 habitants par km², la densité moyenne de la population y est 2,4 fois plus importante que la moyenne métropolitaine. Toutefois, le bilan fait état d’un report progressif de la population dans l’arrière-pays, du fait, entre autres, du coût élevé de l’immobilier en bord de mer. Les communes littorales disposent de plus de 8,4 millions de lits touristiques.\\nLittoraux : une adaptation nécessaire au changement climatique\\nEclairage\\n8 avril 2024',\n",
       " \"Globalement, en 2023, 16% des espèces évaluées dans la liste rouge nationale sont éteintes ou menacées. Le bilan attribue cette perte de biodiversité à la dégradation des milieux naturels. Par exemple, entre 1989 et 2021, les populations d’oiseaux communs spécialistes des milieux agricoles ont baissé de 36%, celles des milieux bâtis de 33% et des milieux forestiers de 2%. La population des chauves-souris les plus communes a diminué de 43% entre 2006 et 2021. \\nL’acidification des océans produit des effets néfastes sur les coraux. les territoires des Antilles françaises (Guadeloupe, Martinique, Saint-Barthélemy, Saint-Martin) et de l’océan Indien (Mayotte, La Réunion), aux superficies plus réduites, abritaient des coraux considérés dans un état dégradé dans 62% des stations en 2020. Les récifs des territoires du Pacifique (Nouvelle-Calédonie, Wallis et Futuna, Polynésie française et Clipperton) et les îles Éparses sont dégradés à 30%.\\nEn mars 2023, la France hexagonale compte 6 043 espaces protégés articulés autour de 17 outils de protections terrestres (tels que les parcs nationaux). En 2023, ces dispositifs couvrent 8 743 km².\\nCOP15 biodiversité : l'accord de Montréal pour protéger 30% de la planète d'ici à 2030\\n\\nEn bref\\n20 décembre 2022\",\n",
       " \"Entre 1982 et 2022, chaque année, près de 6 000 communes en moyenne font l’objet d’une reconnaissance d’état de catastrophe naturelle, pour un coût d'indemnisation global de près de 50 milliards d'euros sur la période. Les inondations (49%) et la sécheresse (42%) représentent 91% du nombre de ces catastrophes. \\nSelon le bilan établit par le ministère, la France est le pays d'Europe qui a connu les plus de catastrophe naturelles depuis 1900, soit 188 catastrophes, contre 171 pour l'Italie, 109 pour l'Espagne et 106 pour l'Allemagne.\\nLe risque retrait-gonflement des argiles, concerne quant à lui un nombre important de communes et d'habitations individuelles, particulièrement touchées du fait de leurs fondations superficielles. Ce problème touche un peu plus de 9 700 communes (soit 27% des communes françaises). Les maisons individuelles y sont particulièrement vulnérables en raison de leurs fondations superficielles : 10,4 millions de maisons individuelles sont construites dans ces zones d’exposition forte ou moyenne (soit 54% de l’habitat individuel), dont 44% ont été bâties après 1976.\\nS'agissant des tsunamis, 9,5% de la population antillaise est exposée, soit 39 700 personnes vivant à moins de 500 mètres de la mer dans les secteurs les plus exposés en Guadeloupe et 36 600 en Martinique. \\nRisques environnementaux : comment sont-ils perçus en France ?\\nEn bref\\n11 janvier 2024\",\n",
       " \"L’intensité énergétique, qui mesure le rapport de la consommation énergétique finale au produit intérieur brut, diminue de manière quasiment continue depuis 20 ans, à un rythme annuel moyen de 1,6%. La France améliore donc globalement son efficacité énergétique. La consommation finale énergétique, diminue de 0,7% en 2022, après un rebond post-crise sanitaire (+4% en 2021), alors que l’activité poursuit sa croissance (+6,4% en 2021, +2,5% en 2022).\\nBilan électrique 2023 : la France première exportatrice d'électricité en Europe\\nEn bref\\n15 février 2024\",\n",
       " \"La part des énergies renouvelables dans la consommation finale d’électricité augmente depuis dix ans. En 2022, ces énergies représentent 20,7% de la consommation finale, soit 7% de plus qu’en 2011. Cela s’explique à la fois par les incitations publiques au développement mais aussi par la baisse de la consommation finale brute d’énergie. Globalement, 350 Térawatts/heure (TWh) d’énergies renouvelables ont été consommées (importations comprises) au total en France en 2022, soit 14% de la consommation primaire totale.\\nLes investissements en faveur des énergies renouvelables et de récupération ont enregistré une croissance en 2021, augmentant de 21% par rapport à 2020 pour atteindre un total de 14,4 milliards d’euros (Md€). 45% de ces investissements est concentré dans le secteur des pompes à chaleur.\\nL'éolien en France : des objectifs ambitieux mais non atteints\\nEn bref\\n25 octobre 2023\"]"
      ]
     },
     "execution_count": 69,
     "metadata": {},
     "output_type": "execute_result"
    }
   ],
   "source": [
    "responses = driver.find_elements(By.CLASS_NAME,\"vp-accordeon-content\")\n",
    "responses_final4 = [response.text for response in responses]\n",
    "responses_final4"
   ]
  },
  {
   "cell_type": "code",
   "execution_count": 70,
   "metadata": {},
   "outputs": [
    {
     "data": {
      "text/plain": [
       "(10, 10)"
      ]
     },
     "execution_count": 70,
     "metadata": {},
     "output_type": "execute_result"
    }
   ],
   "source": [
    "len(questions_finales4),len(responses_final4)"
   ]
  },
  {
   "cell_type": "code",
   "execution_count": 71,
   "metadata": {},
   "outputs": [
    {
     "data": {
      "text/plain": [
       "(43, 43)"
      ]
     },
     "execution_count": 71,
     "metadata": {},
     "output_type": "execute_result"
    }
   ],
   "source": [
    "#concaténation des différentes questions et différentes réponses\n",
    "Questions = questions_finales + questions_finales2 + questions_finales3 + questions_finales4\n",
    "Reponses = responses_final + responses_final2 + responses_final3 + responses_final4\n",
    "len(Questions),len(Reponses)"
   ]
  },
  {
   "cell_type": "code",
   "execution_count": 75,
   "metadata": {},
   "outputs": [
    {
     "data": {
      "text/html": [
       "<div>\n",
       "<style scoped>\n",
       "    .dataframe tbody tr th:only-of-type {\n",
       "        vertical-align: middle;\n",
       "    }\n",
       "\n",
       "    .dataframe tbody tr th {\n",
       "        vertical-align: top;\n",
       "    }\n",
       "\n",
       "    .dataframe thead th {\n",
       "        text-align: right;\n",
       "    }\n",
       "</style>\n",
       "<table border=\"1\" class=\"dataframe\">\n",
       "  <thead>\n",
       "    <tr style=\"text-align: right;\">\n",
       "      <th></th>\n",
       "      <th>Question</th>\n",
       "      <th>Réponse</th>\n",
       "    </tr>\n",
       "  </thead>\n",
       "  <tbody>\n",
       "    <tr>\n",
       "      <th>0</th>\n",
       "      <td>Programmation pluriannuelle de l’énergie (PPE)...</td>\n",
       "      <td>La loi de transition énergétique pour la crois...</td>\n",
       "    </tr>\n",
       "    <tr>\n",
       "      <th>1</th>\n",
       "      <td>Pourquoi viser la neutralité carbone à l’horiz...</td>\n",
       "      <td>L’objectif de la neutralité carbone est de lut...</td>\n",
       "    </tr>\n",
       "    <tr>\n",
       "      <th>2</th>\n",
       "      <td>Quels sont les objectifs de la stratégie sur l...</td>\n",
       "      <td>Dans le cadre de la consultation publique qui ...</td>\n",
       "    </tr>\n",
       "    <tr>\n",
       "      <th>3</th>\n",
       "      <td>Quelles mesures contient la PPE pour accompagn...</td>\n",
       "      <td>La nouvelle PPE vise à réduire la consommation...</td>\n",
       "    </tr>\n",
       "    <tr>\n",
       "      <th>4</th>\n",
       "      <td>Quels sont les objectifs de la dernière SNBC a...</td>\n",
       "      <td>Adoptée par décret en 2015, la Stratégie natio...</td>\n",
       "    </tr>\n",
       "    <tr>\n",
       "      <th>5</th>\n",
       "      <td>Qu’appelle-t-on bureau de vote ?</td>\n",
       "      <td>Le bureau de vote désigne à la fois le local o...</td>\n",
       "    </tr>\n",
       "    <tr>\n",
       "      <th>6</th>\n",
       "      <td>Comment est constitué le bureau de vote ?</td>\n",
       "      <td>Chaque bureau est composé :\\nd’un président, q...</td>\n",
       "    </tr>\n",
       "    <tr>\n",
       "      <th>7</th>\n",
       "      <td>Le vote peut-il avoir lieu en l'absence d'asse...</td>\n",
       "      <td>Si le jour du vote, le nombre d'assesseurs est...</td>\n",
       "    </tr>\n",
       "    <tr>\n",
       "      <th>8</th>\n",
       "      <td>Combien de bureaux de vote par commune ?</td>\n",
       "      <td>Les bureaux de vote sont institués par un arrê...</td>\n",
       "    </tr>\n",
       "    <tr>\n",
       "      <th>9</th>\n",
       "      <td>L’électeur peut-il choisir son bureau de vote ?</td>\n",
       "      <td>Les électeurs n’ont pas le choix de leur burea...</td>\n",
       "    </tr>\n",
       "    <tr>\n",
       "      <th>10</th>\n",
       "      <td>Quelles sont les heures d’ouverture et de clôt...</td>\n",
       "      <td>Le scrutin est ouvert à 8 heures, il est clos ...</td>\n",
       "    </tr>\n",
       "    <tr>\n",
       "      <th>11</th>\n",
       "      <td>Comment est agencé un bureau de vote ?</td>\n",
       "      <td>On trouve dans le bureau de vote :\\nune table ...</td>\n",
       "    </tr>\n",
       "    <tr>\n",
       "      <th>12</th>\n",
       "      <td>Comment sont vérifiés le droit à voter et l’id...</td>\n",
       "      <td>Le défaut de présentation de la carte électora...</td>\n",
       "    </tr>\n",
       "    <tr>\n",
       "      <th>13</th>\n",
       "      <td>Existe-t-il des contraintes vestimentaires dan...</td>\n",
       "      <td>Il n’existe pas de limite à la liberté vestime...</td>\n",
       "    </tr>\n",
       "    <tr>\n",
       "      <th>14</th>\n",
       "      <td>Quelles sont les mesures pour permettre le vot...</td>\n",
       "      <td>La loi du 23 mars 2019 de programmation 2018-2...</td>\n",
       "    </tr>\n",
       "    <tr>\n",
       "      <th>15</th>\n",
       "      <td>Comment se déroule le vote d’un électeur ?</td>\n",
       "      <td>L’électeur se présente au bureau de vote indiq...</td>\n",
       "    </tr>\n",
       "    <tr>\n",
       "      <th>16</th>\n",
       "      <td>Que sont les délégués des candidats ?</td>\n",
       "      <td>Chaque candidat ou liste de candidats a le dro...</td>\n",
       "    </tr>\n",
       "    <tr>\n",
       "      <th>17</th>\n",
       "      <td>Que sont les scrutateurs ?</td>\n",
       "      <td>Les scrutateurs effectuent le dépouillement de...</td>\n",
       "    </tr>\n",
       "    <tr>\n",
       "      <th>18</th>\n",
       "      <td>En quoi consistent les opérations de dépouille...</td>\n",
       "      <td>Il s’agit de l’ensemble des opérations permett...</td>\n",
       "    </tr>\n",
       "    <tr>\n",
       "      <th>19</th>\n",
       "      <td>Qu’est-ce que le vote blanc ?</td>\n",
       "      <td>Le vote blanc consiste, pour un électeur, à gl...</td>\n",
       "    </tr>\n",
       "    <tr>\n",
       "      <th>20</th>\n",
       "      <td>Quels bulletins de vote sont déclarés nuls ?</td>\n",
       "      <td>Les bulletins de vote tenus pour nuls ne sont ...</td>\n",
       "    </tr>\n",
       "    <tr>\n",
       "      <th>21</th>\n",
       "      <td>Comment est déterminé le nombre de suffrages e...</td>\n",
       "      <td>Le nombre de suffrages exprimés correspond au ...</td>\n",
       "    </tr>\n",
       "    <tr>\n",
       "      <th>22</th>\n",
       "      <td>Comment est établi le procès-verbal ?</td>\n",
       "      <td>Le procès-verbal des opérations électorales es...</td>\n",
       "    </tr>\n",
       "    <tr>\n",
       "      <th>23</th>\n",
       "      <td>Quand et comment sont proclamés les résultats ?</td>\n",
       "      <td>Une fois le procès-verbal établi, le résultat ...</td>\n",
       "    </tr>\n",
       "    <tr>\n",
       "      <th>24</th>\n",
       "      <td>À qui est transmis le procès-verbal ?</td>\n",
       "      <td>Un exemplaire est adressé au représentant de l...</td>\n",
       "    </tr>\n",
       "    <tr>\n",
       "      <th>25</th>\n",
       "      <td>Que doit faire le président du bureau en cas d...</td>\n",
       "      <td>On peut distinguer deux cas de figures :\\nsi l...</td>\n",
       "    </tr>\n",
       "    <tr>\n",
       "      <th>26</th>\n",
       "      <td>Les opérations de vote sont-elles contrôlées ?</td>\n",
       "      <td>Pour l'élection présidentielle, des délégués d...</td>\n",
       "    </tr>\n",
       "    <tr>\n",
       "      <th>27</th>\n",
       "      <td>Est-il licite de consulter la liste d’émargeme...</td>\n",
       "      <td>La liste d’émargement (c’est-à-dire une copie ...</td>\n",
       "    </tr>\n",
       "    <tr>\n",
       "      <th>28</th>\n",
       "      <td>Quels sont les objectifs et les moyens de la p...</td>\n",
       "      <td>Les objectifs de la PESC, tels que définis à l...</td>\n",
       "    </tr>\n",
       "    <tr>\n",
       "      <th>29</th>\n",
       "      <td>Méthode communautaire, méthode intergouverneme...</td>\n",
       "      <td>Les processus décisionnels de l’Union européen...</td>\n",
       "    </tr>\n",
       "    <tr>\n",
       "      <th>30</th>\n",
       "      <td>Qu'est-ce que la règle de l'unanimité au sein ...</td>\n",
       "      <td>En matière de PESC, la méthode intergouverneme...</td>\n",
       "    </tr>\n",
       "    <tr>\n",
       "      <th>31</th>\n",
       "      <td>Existe-t-il des exceptions au vote à l'unanimi...</td>\n",
       "      <td>Le traité sur l'UE a ouvert la voie à l'approb...</td>\n",
       "    </tr>\n",
       "    <tr>\n",
       "      <th>32</th>\n",
       "      <td>Vers la modification du mode de vote sur les q...</td>\n",
       "      <td>Les conflits armés en ex-Yougoslavie dans les ...</td>\n",
       "    </tr>\n",
       "    <tr>\n",
       "      <th>33</th>\n",
       "      <td>Qui finance la protection de l’environnement ?</td>\n",
       "      <td>Selon le bilan environnemental de la France po...</td>\n",
       "    </tr>\n",
       "    <tr>\n",
       "      <th>34</th>\n",
       "      <td>Quelle est la part des dépenses environnementa...</td>\n",
       "      <td>La part des dépenses de protection de l’enviro...</td>\n",
       "    </tr>\n",
       "    <tr>\n",
       "      <th>35</th>\n",
       "      <td>Qu'en est-il de la ressource en eau en France ?</td>\n",
       "      <td>Les prélèvements d’eau douce diminuent depuis ...</td>\n",
       "    </tr>\n",
       "    <tr>\n",
       "      <th>36</th>\n",
       "      <td>Quelle est la qualité de l'air en France ?</td>\n",
       "      <td>La qualité de l'air s'améliore sur le territoi...</td>\n",
       "    </tr>\n",
       "    <tr>\n",
       "      <th>37</th>\n",
       "      <td>Quel est l'état des sols ?</td>\n",
       "      <td>En octobre 2023, 10 440 sites et sols pollués ...</td>\n",
       "    </tr>\n",
       "    <tr>\n",
       "      <th>38</th>\n",
       "      <td>Qu'en est-il de l'érosion côtière ?</td>\n",
       "      <td>Le littoral est exposé, à l’érosion côtière. S...</td>\n",
       "    </tr>\n",
       "    <tr>\n",
       "      <th>39</th>\n",
       "      <td>Comment la biodiversité a-t-elle évolué ?</td>\n",
       "      <td>Globalement, en 2023, 16% des espèces évaluées...</td>\n",
       "    </tr>\n",
       "    <tr>\n",
       "      <th>40</th>\n",
       "      <td>La France est-elle particulièrement touchée pa...</td>\n",
       "      <td>Entre 1982 et 2022, chaque année, près de 6 00...</td>\n",
       "    </tr>\n",
       "    <tr>\n",
       "      <th>41</th>\n",
       "      <td>Quelle est l'efficacité énergétique de la Fran...</td>\n",
       "      <td>L’intensité énergétique, qui mesure le rapport...</td>\n",
       "    </tr>\n",
       "    <tr>\n",
       "      <th>42</th>\n",
       "      <td>Où en est-on sur le développement des énergies...</td>\n",
       "      <td>La part des énergies renouvelables dans la con...</td>\n",
       "    </tr>\n",
       "  </tbody>\n",
       "</table>\n",
       "</div>"
      ],
      "text/plain": [
       "                                             Question  \\\n",
       "0   Programmation pluriannuelle de l’énergie (PPE)...   \n",
       "1   Pourquoi viser la neutralité carbone à l’horiz...   \n",
       "2   Quels sont les objectifs de la stratégie sur l...   \n",
       "3   Quelles mesures contient la PPE pour accompagn...   \n",
       "4   Quels sont les objectifs de la dernière SNBC a...   \n",
       "5                    Qu’appelle-t-on bureau de vote ?   \n",
       "6           Comment est constitué le bureau de vote ?   \n",
       "7   Le vote peut-il avoir lieu en l'absence d'asse...   \n",
       "8            Combien de bureaux de vote par commune ?   \n",
       "9     L’électeur peut-il choisir son bureau de vote ?   \n",
       "10  Quelles sont les heures d’ouverture et de clôt...   \n",
       "11             Comment est agencé un bureau de vote ?   \n",
       "12  Comment sont vérifiés le droit à voter et l’id...   \n",
       "13  Existe-t-il des contraintes vestimentaires dan...   \n",
       "14  Quelles sont les mesures pour permettre le vot...   \n",
       "15         Comment se déroule le vote d’un électeur ?   \n",
       "16              Que sont les délégués des candidats ?   \n",
       "17                         Que sont les scrutateurs ?   \n",
       "18  En quoi consistent les opérations de dépouille...   \n",
       "19                      Qu’est-ce que le vote blanc ?   \n",
       "20       Quels bulletins de vote sont déclarés nuls ?   \n",
       "21  Comment est déterminé le nombre de suffrages e...   \n",
       "22              Comment est établi le procès-verbal ?   \n",
       "23    Quand et comment sont proclamés les résultats ?   \n",
       "24              À qui est transmis le procès-verbal ?   \n",
       "25  Que doit faire le président du bureau en cas d...   \n",
       "26     Les opérations de vote sont-elles contrôlées ?   \n",
       "27  Est-il licite de consulter la liste d’émargeme...   \n",
       "28  Quels sont les objectifs et les moyens de la p...   \n",
       "29  Méthode communautaire, méthode intergouverneme...   \n",
       "30  Qu'est-ce que la règle de l'unanimité au sein ...   \n",
       "31  Existe-t-il des exceptions au vote à l'unanimi...   \n",
       "32  Vers la modification du mode de vote sur les q...   \n",
       "33     Qui finance la protection de l’environnement ?   \n",
       "34  Quelle est la part des dépenses environnementa...   \n",
       "35    Qu'en est-il de la ressource en eau en France ?   \n",
       "36         Quelle est la qualité de l'air en France ?   \n",
       "37                         Quel est l'état des sols ?   \n",
       "38                Qu'en est-il de l'érosion côtière ?   \n",
       "39          Comment la biodiversité a-t-elle évolué ?   \n",
       "40  La France est-elle particulièrement touchée pa...   \n",
       "41  Quelle est l'efficacité énergétique de la Fran...   \n",
       "42  Où en est-on sur le développement des énergies...   \n",
       "\n",
       "                                              Réponse  \n",
       "0   La loi de transition énergétique pour la crois...  \n",
       "1   L’objectif de la neutralité carbone est de lut...  \n",
       "2   Dans le cadre de la consultation publique qui ...  \n",
       "3   La nouvelle PPE vise à réduire la consommation...  \n",
       "4   Adoptée par décret en 2015, la Stratégie natio...  \n",
       "5   Le bureau de vote désigne à la fois le local o...  \n",
       "6   Chaque bureau est composé :\\nd’un président, q...  \n",
       "7   Si le jour du vote, le nombre d'assesseurs est...  \n",
       "8   Les bureaux de vote sont institués par un arrê...  \n",
       "9   Les électeurs n’ont pas le choix de leur burea...  \n",
       "10  Le scrutin est ouvert à 8 heures, il est clos ...  \n",
       "11  On trouve dans le bureau de vote :\\nune table ...  \n",
       "12  Le défaut de présentation de la carte électora...  \n",
       "13  Il n’existe pas de limite à la liberté vestime...  \n",
       "14  La loi du 23 mars 2019 de programmation 2018-2...  \n",
       "15  L’électeur se présente au bureau de vote indiq...  \n",
       "16  Chaque candidat ou liste de candidats a le dro...  \n",
       "17  Les scrutateurs effectuent le dépouillement de...  \n",
       "18  Il s’agit de l’ensemble des opérations permett...  \n",
       "19  Le vote blanc consiste, pour un électeur, à gl...  \n",
       "20  Les bulletins de vote tenus pour nuls ne sont ...  \n",
       "21  Le nombre de suffrages exprimés correspond au ...  \n",
       "22  Le procès-verbal des opérations électorales es...  \n",
       "23  Une fois le procès-verbal établi, le résultat ...  \n",
       "24  Un exemplaire est adressé au représentant de l...  \n",
       "25  On peut distinguer deux cas de figures :\\nsi l...  \n",
       "26  Pour l'élection présidentielle, des délégués d...  \n",
       "27  La liste d’émargement (c’est-à-dire une copie ...  \n",
       "28  Les objectifs de la PESC, tels que définis à l...  \n",
       "29  Les processus décisionnels de l’Union européen...  \n",
       "30  En matière de PESC, la méthode intergouverneme...  \n",
       "31  Le traité sur l'UE a ouvert la voie à l'approb...  \n",
       "32  Les conflits armés en ex-Yougoslavie dans les ...  \n",
       "33  Selon le bilan environnemental de la France po...  \n",
       "34  La part des dépenses de protection de l’enviro...  \n",
       "35  Les prélèvements d’eau douce diminuent depuis ...  \n",
       "36  La qualité de l'air s'améliore sur le territoi...  \n",
       "37  En octobre 2023, 10 440 sites et sols pollués ...  \n",
       "38  Le littoral est exposé, à l’érosion côtière. S...  \n",
       "39  Globalement, en 2023, 16% des espèces évaluées...  \n",
       "40  Entre 1982 et 2022, chaque année, près de 6 00...  \n",
       "41  L’intensité énergétique, qui mesure le rapport...  \n",
       "42  La part des énergies renouvelables dans la con...  "
      ]
     },
     "execution_count": 75,
     "metadata": {},
     "output_type": "execute_result"
    }
   ],
   "source": [
    "#création du dataframe final\n",
    "df_final = pd.DataFrame({'Question': Questions, \n",
    "                         'Réponse': Reponses})\n",
    "df_final"
   ]
  },
  {
   "cell_type": "code",
   "execution_count": 76,
   "metadata": {},
   "outputs": [],
   "source": [
    "#création et sauvegarde du df final sous csv\n",
    "df_final.to_csv('out.csv', index=False)"
   ]
  }
 ],
 "metadata": {
  "kernelspec": {
   "display_name": "base",
   "language": "python",
   "name": "python3"
  },
  "language_info": {
   "codemirror_mode": {
    "name": "ipython",
    "version": 3
   },
   "file_extension": ".py",
   "mimetype": "text/x-python",
   "name": "python",
   "nbconvert_exporter": "python",
   "pygments_lexer": "ipython3",
   "version": "3.11.4"
  }
 },
 "nbformat": 4,
 "nbformat_minor": 2
}
